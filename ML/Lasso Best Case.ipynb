{
 "cells": [
  {
   "cell_type": "markdown",
   "id": "c480c5ef",
   "metadata": {},
   "source": [
    "# Aim: To Run Lasso Regression on the Dataset"
   ]
  },
  {
   "cell_type": "code",
   "execution_count": 53,
   "id": "83acb26e",
   "metadata": {},
   "outputs": [],
   "source": [
    "import pandas as pd\n",
    "import numpy as np\n",
    "import matplotlib.pyplot as plt\n",
    "import matplotlib.patches as patches\n",
    "import scipy"
   ]
  },
  {
   "cell_type": "code",
   "execution_count": 54,
   "id": "d7fb63e4",
   "metadata": {},
   "outputs": [],
   "source": [
    "import statsmodels.api as sm\n",
    "import statsmodels.formula.api as smf"
   ]
  },
  {
   "cell_type": "code",
   "execution_count": 55,
   "id": "77a9e72e",
   "metadata": {},
   "outputs": [],
   "source": [
    "import sklearn\n",
    "from sklearn.compose import ColumnTransformer\n",
    "from sklearn.preprocessing import StandardScaler\n",
    "from sklearn.datasets import make_classification\n",
    "from sklearn.model_selection import train_test_split, ParameterGrid\n",
    "from sklearn.pipeline import Pipeline\n",
    "from sklearn.linear_model import LogisticRegression"
   ]
  },
  {
   "cell_type": "code",
   "execution_count": 56,
   "id": "e9ca629d",
   "metadata": {},
   "outputs": [],
   "source": [
    "import sys\n",
    "import os\n",
    "import math\n",
    "import csv\n",
    "import json"
   ]
  },
  {
   "cell_type": "markdown",
   "id": "b12ba473",
   "metadata": {},
   "source": []
  },
  {
   "cell_type": "markdown",
   "id": "9a80baef",
   "metadata": {},
   "source": [
    "## Helper Methods and Variables"
   ]
  },
  {
   "cell_type": "code",
   "execution_count": 83,
   "id": "1df163a2",
   "metadata": {},
   "outputs": [],
   "source": [
    "def sentence_to_snake_case(sentence):\n",
    "    # Split the sentence into words, convert to lowercase, and join with underscores\n",
    "    snake_case = '_'.join(word.lower() for word in sentence.split())\n",
    "    return snake_case"
   ]
  },
  {
   "cell_type": "code",
   "execution_count": 84,
   "id": "94baaa5a",
   "metadata": {},
   "outputs": [],
   "source": [
    "useless_cols = ['CustomerID', 'Count', 'Country', 'State', 'City', \\\n",
    "                'Zip Code', 'Lat Long', 'Churn Score', 'Churn Label', 'CLTV', 'Churn Reason', 'Total Charges']"
   ]
  },
  {
   "cell_type": "code",
   "execution_count": 85,
   "id": "d15c6996",
   "metadata": {},
   "outputs": [],
   "source": [
    "y_cols = ['Churn Value', 'Tenure Months']"
   ]
  },
  {
   "cell_type": "markdown",
   "id": "5a3027ce",
   "metadata": {},
   "source": [
    "## Prepare the Data"
   ]
  },
  {
   "cell_type": "code",
   "execution_count": null,
   "id": "fb5359a7",
   "metadata": {},
   "outputs": [],
   "source": []
  },
  {
   "cell_type": "code",
   "execution_count": 86,
   "id": "05f4540f",
   "metadata": {},
   "outputs": [
    {
     "data": {
      "text/plain": [
       "'C:\\\\D Drive\\\\University of Washington\\\\Study\\\\Quarter 2\\\\DATA 557\\\\Project\\\\ML'"
      ]
     },
     "execution_count": 86,
     "metadata": {},
     "output_type": "execute_result"
    }
   ],
   "source": [
    "os.getcwd()"
   ]
  },
  {
   "cell_type": "code",
   "execution_count": 87,
   "id": "5270816a",
   "metadata": {},
   "outputs": [],
   "source": [
    "data = pd.read_csv('../data/Telco_customer_churn_cleaned.csv')"
   ]
  },
  {
   "cell_type": "code",
   "execution_count": 88,
   "id": "09267840",
   "metadata": {},
   "outputs": [
    {
     "data": {
      "text/html": [
       "<div>\n",
       "<style scoped>\n",
       "    .dataframe tbody tr th:only-of-type {\n",
       "        vertical-align: middle;\n",
       "    }\n",
       "\n",
       "    .dataframe tbody tr th {\n",
       "        vertical-align: top;\n",
       "    }\n",
       "\n",
       "    .dataframe thead th {\n",
       "        text-align: right;\n",
       "    }\n",
       "</style>\n",
       "<table border=\"1\" class=\"dataframe\">\n",
       "  <thead>\n",
       "    <tr style=\"text-align: right;\">\n",
       "      <th></th>\n",
       "      <th>Unnamed: 0</th>\n",
       "      <th>CustomerID</th>\n",
       "      <th>Count</th>\n",
       "      <th>Country</th>\n",
       "      <th>State</th>\n",
       "      <th>City</th>\n",
       "      <th>Zip Code</th>\n",
       "      <th>Lat Long</th>\n",
       "      <th>Latitude</th>\n",
       "      <th>Longitude</th>\n",
       "      <th>...</th>\n",
       "      <th>Contract</th>\n",
       "      <th>Paperless Billing</th>\n",
       "      <th>Payment Method</th>\n",
       "      <th>Monthly Charges</th>\n",
       "      <th>Total Charges</th>\n",
       "      <th>Churn Label</th>\n",
       "      <th>Churn Value</th>\n",
       "      <th>Churn Score</th>\n",
       "      <th>CLTV</th>\n",
       "      <th>Churn Reason</th>\n",
       "    </tr>\n",
       "  </thead>\n",
       "  <tbody>\n",
       "    <tr>\n",
       "      <th>0</th>\n",
       "      <td>0</td>\n",
       "      <td>3668-QPYBK</td>\n",
       "      <td>1</td>\n",
       "      <td>United States</td>\n",
       "      <td>California</td>\n",
       "      <td>Los Angeles</td>\n",
       "      <td>90003</td>\n",
       "      <td>33.964131, -118.272783</td>\n",
       "      <td>33.964131</td>\n",
       "      <td>-118.272783</td>\n",
       "      <td>...</td>\n",
       "      <td>Month-to-month</td>\n",
       "      <td>Yes</td>\n",
       "      <td>Mailed check</td>\n",
       "      <td>53.85</td>\n",
       "      <td>108.15</td>\n",
       "      <td>Yes</td>\n",
       "      <td>1</td>\n",
       "      <td>86</td>\n",
       "      <td>3239</td>\n",
       "      <td>Competitor made better offer</td>\n",
       "    </tr>\n",
       "    <tr>\n",
       "      <th>1</th>\n",
       "      <td>1</td>\n",
       "      <td>9237-HQITU</td>\n",
       "      <td>1</td>\n",
       "      <td>United States</td>\n",
       "      <td>California</td>\n",
       "      <td>Los Angeles</td>\n",
       "      <td>90005</td>\n",
       "      <td>34.059281, -118.30742</td>\n",
       "      <td>34.059281</td>\n",
       "      <td>-118.307420</td>\n",
       "      <td>...</td>\n",
       "      <td>Month-to-month</td>\n",
       "      <td>Yes</td>\n",
       "      <td>Electronic check</td>\n",
       "      <td>70.70</td>\n",
       "      <td>151.65</td>\n",
       "      <td>Yes</td>\n",
       "      <td>1</td>\n",
       "      <td>67</td>\n",
       "      <td>2701</td>\n",
       "      <td>Moved</td>\n",
       "    </tr>\n",
       "    <tr>\n",
       "      <th>2</th>\n",
       "      <td>2</td>\n",
       "      <td>9305-CDSKC</td>\n",
       "      <td>1</td>\n",
       "      <td>United States</td>\n",
       "      <td>California</td>\n",
       "      <td>Los Angeles</td>\n",
       "      <td>90006</td>\n",
       "      <td>34.048013, -118.293953</td>\n",
       "      <td>34.048013</td>\n",
       "      <td>-118.293953</td>\n",
       "      <td>...</td>\n",
       "      <td>Month-to-month</td>\n",
       "      <td>Yes</td>\n",
       "      <td>Electronic check</td>\n",
       "      <td>99.65</td>\n",
       "      <td>820.50</td>\n",
       "      <td>Yes</td>\n",
       "      <td>1</td>\n",
       "      <td>86</td>\n",
       "      <td>5372</td>\n",
       "      <td>Moved</td>\n",
       "    </tr>\n",
       "    <tr>\n",
       "      <th>3</th>\n",
       "      <td>3</td>\n",
       "      <td>7892-POOKP</td>\n",
       "      <td>1</td>\n",
       "      <td>United States</td>\n",
       "      <td>California</td>\n",
       "      <td>Los Angeles</td>\n",
       "      <td>90010</td>\n",
       "      <td>34.062125, -118.315709</td>\n",
       "      <td>34.062125</td>\n",
       "      <td>-118.315709</td>\n",
       "      <td>...</td>\n",
       "      <td>Month-to-month</td>\n",
       "      <td>Yes</td>\n",
       "      <td>Electronic check</td>\n",
       "      <td>104.80</td>\n",
       "      <td>3046.05</td>\n",
       "      <td>Yes</td>\n",
       "      <td>1</td>\n",
       "      <td>84</td>\n",
       "      <td>5003</td>\n",
       "      <td>Moved</td>\n",
       "    </tr>\n",
       "    <tr>\n",
       "      <th>4</th>\n",
       "      <td>4</td>\n",
       "      <td>0280-XJGEX</td>\n",
       "      <td>1</td>\n",
       "      <td>United States</td>\n",
       "      <td>California</td>\n",
       "      <td>Los Angeles</td>\n",
       "      <td>90015</td>\n",
       "      <td>34.039224, -118.266293</td>\n",
       "      <td>34.039224</td>\n",
       "      <td>-118.266293</td>\n",
       "      <td>...</td>\n",
       "      <td>Month-to-month</td>\n",
       "      <td>Yes</td>\n",
       "      <td>Bank transfer (automatic)</td>\n",
       "      <td>103.70</td>\n",
       "      <td>5036.30</td>\n",
       "      <td>Yes</td>\n",
       "      <td>1</td>\n",
       "      <td>89</td>\n",
       "      <td>5340</td>\n",
       "      <td>Competitor had better devices</td>\n",
       "    </tr>\n",
       "  </tbody>\n",
       "</table>\n",
       "<p>5 rows × 34 columns</p>\n",
       "</div>"
      ],
      "text/plain": [
       "   Unnamed: 0  CustomerID  Count        Country       State         City  \\\n",
       "0           0  3668-QPYBK      1  United States  California  Los Angeles   \n",
       "1           1  9237-HQITU      1  United States  California  Los Angeles   \n",
       "2           2  9305-CDSKC      1  United States  California  Los Angeles   \n",
       "3           3  7892-POOKP      1  United States  California  Los Angeles   \n",
       "4           4  0280-XJGEX      1  United States  California  Los Angeles   \n",
       "\n",
       "   Zip Code                Lat Long   Latitude   Longitude  ...  \\\n",
       "0     90003  33.964131, -118.272783  33.964131 -118.272783  ...   \n",
       "1     90005   34.059281, -118.30742  34.059281 -118.307420  ...   \n",
       "2     90006  34.048013, -118.293953  34.048013 -118.293953  ...   \n",
       "3     90010  34.062125, -118.315709  34.062125 -118.315709  ...   \n",
       "4     90015  34.039224, -118.266293  34.039224 -118.266293  ...   \n",
       "\n",
       "         Contract Paperless Billing             Payment Method  \\\n",
       "0  Month-to-month               Yes               Mailed check   \n",
       "1  Month-to-month               Yes           Electronic check   \n",
       "2  Month-to-month               Yes           Electronic check   \n",
       "3  Month-to-month               Yes           Electronic check   \n",
       "4  Month-to-month               Yes  Bank transfer (automatic)   \n",
       "\n",
       "  Monthly Charges  Total Charges Churn Label Churn Value Churn Score  CLTV  \\\n",
       "0           53.85         108.15         Yes           1          86  3239   \n",
       "1           70.70         151.65         Yes           1          67  2701   \n",
       "2           99.65         820.50         Yes           1          86  5372   \n",
       "3          104.80        3046.05         Yes           1          84  5003   \n",
       "4          103.70        5036.30         Yes           1          89  5340   \n",
       "\n",
       "                    Churn Reason  \n",
       "0   Competitor made better offer  \n",
       "1                          Moved  \n",
       "2                          Moved  \n",
       "3                          Moved  \n",
       "4  Competitor had better devices  \n",
       "\n",
       "[5 rows x 34 columns]"
      ]
     },
     "execution_count": 88,
     "metadata": {},
     "output_type": "execute_result"
    }
   ],
   "source": [
    "data.head()"
   ]
  },
  {
   "cell_type": "code",
   "execution_count": 90,
   "id": "03879270",
   "metadata": {},
   "outputs": [],
   "source": [
    "# data.columns"
   ]
  },
  {
   "cell_type": "code",
   "execution_count": null,
   "id": "62cd61e3",
   "metadata": {},
   "outputs": [],
   "source": []
  },
  {
   "cell_type": "code",
   "execution_count": 92,
   "id": "3b127b8a",
   "metadata": {},
   "outputs": [],
   "source": [
    "# data.head()"
   ]
  },
  {
   "cell_type": "code",
   "execution_count": 93,
   "id": "70a56735",
   "metadata": {},
   "outputs": [
    {
     "data": {
      "text/plain": [
       "(7043, 34)"
      ]
     },
     "execution_count": 93,
     "metadata": {},
     "output_type": "execute_result"
    }
   ],
   "source": [
    "data.shape"
   ]
  },
  {
   "cell_type": "code",
   "execution_count": 94,
   "id": "8eb5c098",
   "metadata": {},
   "outputs": [],
   "source": [
    "data = data.rename(columns = lambda column: sentence_to_snake_case(column))"
   ]
  },
  {
   "cell_type": "code",
   "execution_count": 95,
   "id": "cf6f0163",
   "metadata": {},
   "outputs": [
    {
     "data": {
      "text/html": [
       "<div>\n",
       "<style scoped>\n",
       "    .dataframe tbody tr th:only-of-type {\n",
       "        vertical-align: middle;\n",
       "    }\n",
       "\n",
       "    .dataframe tbody tr th {\n",
       "        vertical-align: top;\n",
       "    }\n",
       "\n",
       "    .dataframe thead th {\n",
       "        text-align: right;\n",
       "    }\n",
       "</style>\n",
       "<table border=\"1\" class=\"dataframe\">\n",
       "  <thead>\n",
       "    <tr style=\"text-align: right;\">\n",
       "      <th></th>\n",
       "      <th>unnamed:_0</th>\n",
       "      <th>customerid</th>\n",
       "      <th>count</th>\n",
       "      <th>country</th>\n",
       "      <th>state</th>\n",
       "      <th>city</th>\n",
       "      <th>zip_code</th>\n",
       "      <th>lat_long</th>\n",
       "      <th>latitude</th>\n",
       "      <th>longitude</th>\n",
       "      <th>...</th>\n",
       "      <th>contract</th>\n",
       "      <th>paperless_billing</th>\n",
       "      <th>payment_method</th>\n",
       "      <th>monthly_charges</th>\n",
       "      <th>total_charges</th>\n",
       "      <th>churn_label</th>\n",
       "      <th>churn_value</th>\n",
       "      <th>churn_score</th>\n",
       "      <th>cltv</th>\n",
       "      <th>churn_reason</th>\n",
       "    </tr>\n",
       "  </thead>\n",
       "  <tbody>\n",
       "    <tr>\n",
       "      <th>0</th>\n",
       "      <td>0</td>\n",
       "      <td>3668-QPYBK</td>\n",
       "      <td>1</td>\n",
       "      <td>United States</td>\n",
       "      <td>California</td>\n",
       "      <td>Los Angeles</td>\n",
       "      <td>90003</td>\n",
       "      <td>33.964131, -118.272783</td>\n",
       "      <td>33.964131</td>\n",
       "      <td>-118.272783</td>\n",
       "      <td>...</td>\n",
       "      <td>Month-to-month</td>\n",
       "      <td>Yes</td>\n",
       "      <td>Mailed check</td>\n",
       "      <td>53.85</td>\n",
       "      <td>108.15</td>\n",
       "      <td>Yes</td>\n",
       "      <td>1</td>\n",
       "      <td>86</td>\n",
       "      <td>3239</td>\n",
       "      <td>Competitor made better offer</td>\n",
       "    </tr>\n",
       "    <tr>\n",
       "      <th>1</th>\n",
       "      <td>1</td>\n",
       "      <td>9237-HQITU</td>\n",
       "      <td>1</td>\n",
       "      <td>United States</td>\n",
       "      <td>California</td>\n",
       "      <td>Los Angeles</td>\n",
       "      <td>90005</td>\n",
       "      <td>34.059281, -118.30742</td>\n",
       "      <td>34.059281</td>\n",
       "      <td>-118.307420</td>\n",
       "      <td>...</td>\n",
       "      <td>Month-to-month</td>\n",
       "      <td>Yes</td>\n",
       "      <td>Electronic check</td>\n",
       "      <td>70.70</td>\n",
       "      <td>151.65</td>\n",
       "      <td>Yes</td>\n",
       "      <td>1</td>\n",
       "      <td>67</td>\n",
       "      <td>2701</td>\n",
       "      <td>Moved</td>\n",
       "    </tr>\n",
       "    <tr>\n",
       "      <th>2</th>\n",
       "      <td>2</td>\n",
       "      <td>9305-CDSKC</td>\n",
       "      <td>1</td>\n",
       "      <td>United States</td>\n",
       "      <td>California</td>\n",
       "      <td>Los Angeles</td>\n",
       "      <td>90006</td>\n",
       "      <td>34.048013, -118.293953</td>\n",
       "      <td>34.048013</td>\n",
       "      <td>-118.293953</td>\n",
       "      <td>...</td>\n",
       "      <td>Month-to-month</td>\n",
       "      <td>Yes</td>\n",
       "      <td>Electronic check</td>\n",
       "      <td>99.65</td>\n",
       "      <td>820.50</td>\n",
       "      <td>Yes</td>\n",
       "      <td>1</td>\n",
       "      <td>86</td>\n",
       "      <td>5372</td>\n",
       "      <td>Moved</td>\n",
       "    </tr>\n",
       "    <tr>\n",
       "      <th>3</th>\n",
       "      <td>3</td>\n",
       "      <td>7892-POOKP</td>\n",
       "      <td>1</td>\n",
       "      <td>United States</td>\n",
       "      <td>California</td>\n",
       "      <td>Los Angeles</td>\n",
       "      <td>90010</td>\n",
       "      <td>34.062125, -118.315709</td>\n",
       "      <td>34.062125</td>\n",
       "      <td>-118.315709</td>\n",
       "      <td>...</td>\n",
       "      <td>Month-to-month</td>\n",
       "      <td>Yes</td>\n",
       "      <td>Electronic check</td>\n",
       "      <td>104.80</td>\n",
       "      <td>3046.05</td>\n",
       "      <td>Yes</td>\n",
       "      <td>1</td>\n",
       "      <td>84</td>\n",
       "      <td>5003</td>\n",
       "      <td>Moved</td>\n",
       "    </tr>\n",
       "    <tr>\n",
       "      <th>4</th>\n",
       "      <td>4</td>\n",
       "      <td>0280-XJGEX</td>\n",
       "      <td>1</td>\n",
       "      <td>United States</td>\n",
       "      <td>California</td>\n",
       "      <td>Los Angeles</td>\n",
       "      <td>90015</td>\n",
       "      <td>34.039224, -118.266293</td>\n",
       "      <td>34.039224</td>\n",
       "      <td>-118.266293</td>\n",
       "      <td>...</td>\n",
       "      <td>Month-to-month</td>\n",
       "      <td>Yes</td>\n",
       "      <td>Bank transfer (automatic)</td>\n",
       "      <td>103.70</td>\n",
       "      <td>5036.30</td>\n",
       "      <td>Yes</td>\n",
       "      <td>1</td>\n",
       "      <td>89</td>\n",
       "      <td>5340</td>\n",
       "      <td>Competitor had better devices</td>\n",
       "    </tr>\n",
       "  </tbody>\n",
       "</table>\n",
       "<p>5 rows × 34 columns</p>\n",
       "</div>"
      ],
      "text/plain": [
       "   unnamed:_0  customerid  count        country       state         city  \\\n",
       "0           0  3668-QPYBK      1  United States  California  Los Angeles   \n",
       "1           1  9237-HQITU      1  United States  California  Los Angeles   \n",
       "2           2  9305-CDSKC      1  United States  California  Los Angeles   \n",
       "3           3  7892-POOKP      1  United States  California  Los Angeles   \n",
       "4           4  0280-XJGEX      1  United States  California  Los Angeles   \n",
       "\n",
       "   zip_code                lat_long   latitude   longitude  ...  \\\n",
       "0     90003  33.964131, -118.272783  33.964131 -118.272783  ...   \n",
       "1     90005   34.059281, -118.30742  34.059281 -118.307420  ...   \n",
       "2     90006  34.048013, -118.293953  34.048013 -118.293953  ...   \n",
       "3     90010  34.062125, -118.315709  34.062125 -118.315709  ...   \n",
       "4     90015  34.039224, -118.266293  34.039224 -118.266293  ...   \n",
       "\n",
       "         contract paperless_billing             payment_method  \\\n",
       "0  Month-to-month               Yes               Mailed check   \n",
       "1  Month-to-month               Yes           Electronic check   \n",
       "2  Month-to-month               Yes           Electronic check   \n",
       "3  Month-to-month               Yes           Electronic check   \n",
       "4  Month-to-month               Yes  Bank transfer (automatic)   \n",
       "\n",
       "  monthly_charges  total_charges churn_label churn_value churn_score  cltv  \\\n",
       "0           53.85         108.15         Yes           1          86  3239   \n",
       "1           70.70         151.65         Yes           1          67  2701   \n",
       "2           99.65         820.50         Yes           1          86  5372   \n",
       "3          104.80        3046.05         Yes           1          84  5003   \n",
       "4          103.70        5036.30         Yes           1          89  5340   \n",
       "\n",
       "                    churn_reason  \n",
       "0   Competitor made better offer  \n",
       "1                          Moved  \n",
       "2                          Moved  \n",
       "3                          Moved  \n",
       "4  Competitor had better devices  \n",
       "\n",
       "[5 rows x 34 columns]"
      ]
     },
     "execution_count": 95,
     "metadata": {},
     "output_type": "execute_result"
    }
   ],
   "source": [
    "data.head()"
   ]
  },
  {
   "cell_type": "code",
   "execution_count": null,
   "id": "320f9c8e",
   "metadata": {},
   "outputs": [],
   "source": []
  },
  {
   "cell_type": "code",
   "execution_count": 96,
   "id": "b7e8fea5",
   "metadata": {},
   "outputs": [],
   "source": [
    "# Leaving in Customer ID just in case\n",
    "useless_cols = [sentence_to_snake_case(column) for column in useless_cols]"
   ]
  },
  {
   "cell_type": "code",
   "execution_count": 97,
   "id": "4923efb8",
   "metadata": {},
   "outputs": [],
   "source": [
    "y_cols = [sentence_to_snake_case(column) for column in y_cols]"
   ]
  },
  {
   "cell_type": "code",
   "execution_count": 98,
   "id": "c24cc39f",
   "metadata": {},
   "outputs": [
    {
     "data": {
      "text/plain": [
       "['churn_value', 'tenure_months']"
      ]
     },
     "execution_count": 98,
     "metadata": {},
     "output_type": "execute_result"
    }
   ],
   "source": [
    "y_cols"
   ]
  },
  {
   "cell_type": "code",
   "execution_count": 99,
   "id": "5b574c5a",
   "metadata": {},
   "outputs": [],
   "source": [
    "# Drop the first column \"Unnamed\" and the useless columns\n",
    "data = data.drop([data.columns[0]] + useless_cols, axis=1)"
   ]
  },
  {
   "cell_type": "code",
   "execution_count": 100,
   "id": "7e54dea8",
   "metadata": {},
   "outputs": [
    {
     "data": {
      "text/html": [
       "<div>\n",
       "<style scoped>\n",
       "    .dataframe tbody tr th:only-of-type {\n",
       "        vertical-align: middle;\n",
       "    }\n",
       "\n",
       "    .dataframe tbody tr th {\n",
       "        vertical-align: top;\n",
       "    }\n",
       "\n",
       "    .dataframe thead th {\n",
       "        text-align: right;\n",
       "    }\n",
       "</style>\n",
       "<table border=\"1\" class=\"dataframe\">\n",
       "  <thead>\n",
       "    <tr style=\"text-align: right;\">\n",
       "      <th></th>\n",
       "      <th>latitude</th>\n",
       "      <th>longitude</th>\n",
       "      <th>gender</th>\n",
       "      <th>senior_citizen</th>\n",
       "      <th>partner</th>\n",
       "      <th>dependents</th>\n",
       "      <th>tenure_months</th>\n",
       "      <th>phone_service</th>\n",
       "      <th>multiple_lines</th>\n",
       "      <th>internet_service</th>\n",
       "      <th>...</th>\n",
       "      <th>online_backup</th>\n",
       "      <th>device_protection</th>\n",
       "      <th>tech_support</th>\n",
       "      <th>streaming_tv</th>\n",
       "      <th>streaming_movies</th>\n",
       "      <th>contract</th>\n",
       "      <th>paperless_billing</th>\n",
       "      <th>payment_method</th>\n",
       "      <th>monthly_charges</th>\n",
       "      <th>churn_value</th>\n",
       "    </tr>\n",
       "  </thead>\n",
       "  <tbody>\n",
       "    <tr>\n",
       "      <th>0</th>\n",
       "      <td>33.964131</td>\n",
       "      <td>-118.272783</td>\n",
       "      <td>Male</td>\n",
       "      <td>No</td>\n",
       "      <td>No</td>\n",
       "      <td>No</td>\n",
       "      <td>2</td>\n",
       "      <td>Yes</td>\n",
       "      <td>No</td>\n",
       "      <td>DSL</td>\n",
       "      <td>...</td>\n",
       "      <td>Yes</td>\n",
       "      <td>No</td>\n",
       "      <td>No</td>\n",
       "      <td>No</td>\n",
       "      <td>No</td>\n",
       "      <td>Month-to-month</td>\n",
       "      <td>Yes</td>\n",
       "      <td>Mailed check</td>\n",
       "      <td>53.85</td>\n",
       "      <td>1</td>\n",
       "    </tr>\n",
       "    <tr>\n",
       "      <th>1</th>\n",
       "      <td>34.059281</td>\n",
       "      <td>-118.307420</td>\n",
       "      <td>Female</td>\n",
       "      <td>No</td>\n",
       "      <td>No</td>\n",
       "      <td>Yes</td>\n",
       "      <td>2</td>\n",
       "      <td>Yes</td>\n",
       "      <td>No</td>\n",
       "      <td>Fiber optic</td>\n",
       "      <td>...</td>\n",
       "      <td>No</td>\n",
       "      <td>No</td>\n",
       "      <td>No</td>\n",
       "      <td>No</td>\n",
       "      <td>No</td>\n",
       "      <td>Month-to-month</td>\n",
       "      <td>Yes</td>\n",
       "      <td>Electronic check</td>\n",
       "      <td>70.70</td>\n",
       "      <td>1</td>\n",
       "    </tr>\n",
       "    <tr>\n",
       "      <th>2</th>\n",
       "      <td>34.048013</td>\n",
       "      <td>-118.293953</td>\n",
       "      <td>Female</td>\n",
       "      <td>No</td>\n",
       "      <td>No</td>\n",
       "      <td>Yes</td>\n",
       "      <td>8</td>\n",
       "      <td>Yes</td>\n",
       "      <td>Yes</td>\n",
       "      <td>Fiber optic</td>\n",
       "      <td>...</td>\n",
       "      <td>No</td>\n",
       "      <td>Yes</td>\n",
       "      <td>No</td>\n",
       "      <td>Yes</td>\n",
       "      <td>Yes</td>\n",
       "      <td>Month-to-month</td>\n",
       "      <td>Yes</td>\n",
       "      <td>Electronic check</td>\n",
       "      <td>99.65</td>\n",
       "      <td>1</td>\n",
       "    </tr>\n",
       "    <tr>\n",
       "      <th>3</th>\n",
       "      <td>34.062125</td>\n",
       "      <td>-118.315709</td>\n",
       "      <td>Female</td>\n",
       "      <td>No</td>\n",
       "      <td>Yes</td>\n",
       "      <td>Yes</td>\n",
       "      <td>28</td>\n",
       "      <td>Yes</td>\n",
       "      <td>Yes</td>\n",
       "      <td>Fiber optic</td>\n",
       "      <td>...</td>\n",
       "      <td>No</td>\n",
       "      <td>Yes</td>\n",
       "      <td>Yes</td>\n",
       "      <td>Yes</td>\n",
       "      <td>Yes</td>\n",
       "      <td>Month-to-month</td>\n",
       "      <td>Yes</td>\n",
       "      <td>Electronic check</td>\n",
       "      <td>104.80</td>\n",
       "      <td>1</td>\n",
       "    </tr>\n",
       "    <tr>\n",
       "      <th>4</th>\n",
       "      <td>34.039224</td>\n",
       "      <td>-118.266293</td>\n",
       "      <td>Male</td>\n",
       "      <td>No</td>\n",
       "      <td>No</td>\n",
       "      <td>Yes</td>\n",
       "      <td>49</td>\n",
       "      <td>Yes</td>\n",
       "      <td>Yes</td>\n",
       "      <td>Fiber optic</td>\n",
       "      <td>...</td>\n",
       "      <td>Yes</td>\n",
       "      <td>Yes</td>\n",
       "      <td>No</td>\n",
       "      <td>Yes</td>\n",
       "      <td>Yes</td>\n",
       "      <td>Month-to-month</td>\n",
       "      <td>Yes</td>\n",
       "      <td>Bank transfer (automatic)</td>\n",
       "      <td>103.70</td>\n",
       "      <td>1</td>\n",
       "    </tr>\n",
       "  </tbody>\n",
       "</table>\n",
       "<p>5 rows × 21 columns</p>\n",
       "</div>"
      ],
      "text/plain": [
       "    latitude   longitude  gender senior_citizen partner dependents  \\\n",
       "0  33.964131 -118.272783    Male             No      No         No   \n",
       "1  34.059281 -118.307420  Female             No      No        Yes   \n",
       "2  34.048013 -118.293953  Female             No      No        Yes   \n",
       "3  34.062125 -118.315709  Female             No     Yes        Yes   \n",
       "4  34.039224 -118.266293    Male             No      No        Yes   \n",
       "\n",
       "   tenure_months phone_service multiple_lines internet_service  ...  \\\n",
       "0              2           Yes             No              DSL  ...   \n",
       "1              2           Yes             No      Fiber optic  ...   \n",
       "2              8           Yes            Yes      Fiber optic  ...   \n",
       "3             28           Yes            Yes      Fiber optic  ...   \n",
       "4             49           Yes            Yes      Fiber optic  ...   \n",
       "\n",
       "  online_backup device_protection tech_support streaming_tv streaming_movies  \\\n",
       "0           Yes                No           No           No               No   \n",
       "1            No                No           No           No               No   \n",
       "2            No               Yes           No          Yes              Yes   \n",
       "3            No               Yes          Yes          Yes              Yes   \n",
       "4           Yes               Yes           No          Yes              Yes   \n",
       "\n",
       "         contract paperless_billing             payment_method  \\\n",
       "0  Month-to-month               Yes               Mailed check   \n",
       "1  Month-to-month               Yes           Electronic check   \n",
       "2  Month-to-month               Yes           Electronic check   \n",
       "3  Month-to-month               Yes           Electronic check   \n",
       "4  Month-to-month               Yes  Bank transfer (automatic)   \n",
       "\n",
       "  monthly_charges  churn_value  \n",
       "0           53.85            1  \n",
       "1           70.70            1  \n",
       "2           99.65            1  \n",
       "3          104.80            1  \n",
       "4          103.70            1  \n",
       "\n",
       "[5 rows x 21 columns]"
      ]
     },
     "execution_count": 100,
     "metadata": {},
     "output_type": "execute_result"
    }
   ],
   "source": [
    "data.head()"
   ]
  },
  {
   "cell_type": "code",
   "execution_count": 115,
   "id": "ffdfc115",
   "metadata": {},
   "outputs": [],
   "source": [
    "# data.dtypes"
   ]
  },
  {
   "cell_type": "markdown",
   "id": "45d7c0c2",
   "metadata": {},
   "source": [
    "## Get either the best case or worst case scenario\n",
    "\n",
    "### The data being set from here will decide how the model will treat its unknown churn customers"
   ]
  },
  {
   "cell_type": "markdown",
   "id": "cd8286d1",
   "metadata": {},
   "source": [
    "**Our y is a check on whether the user will churn within 12 months or not**"
   ]
  },
  {
   "cell_type": "code",
   "execution_count": 101,
   "id": "de243609",
   "metadata": {},
   "outputs": [],
   "source": [
    "def best_case_churn(row):\n",
    "    # User has definitely not churned within the 12 months\n",
    "    if row['tenure_months'] >= 12: return 0\n",
    "    # User has definitely churned within the 12 months\n",
    "    if row['tenure_months'] < 12 and row['churn_value'] == 1: return 1\n",
    "    # Best case assumption\n",
    "    return 0"
   ]
  },
  {
   "cell_type": "code",
   "execution_count": 102,
   "id": "738cbcf8",
   "metadata": {},
   "outputs": [],
   "source": [
    "def worst_case_churn(row):\n",
    "    # User has definitely not churned within the 12 months\n",
    "    if row['tenure_months'] >= 12: return 0\n",
    "    # User has definitely churned within the 12 months\n",
    "    if row['tenure_months'] < 12 and row['churn_value'] == 1: return 1\n",
    "    # Best case assumption\n",
    "    return 1"
   ]
  },
  {
   "cell_type": "markdown",
   "id": "a97812f5",
   "metadata": {},
   "source": [
    "### Switch the following line to switch between best case and worst case"
   ]
  },
  {
   "cell_type": "code",
   "execution_count": 103,
   "id": "e44874ff",
   "metadata": {},
   "outputs": [],
   "source": [
    "main_y_col = 'churn'"
   ]
  },
  {
   "cell_type": "code",
   "execution_count": 104,
   "id": "665f3683",
   "metadata": {},
   "outputs": [],
   "source": [
    "data[main_y_col] = data.apply(best_case_churn, axis=1)"
   ]
  },
  {
   "cell_type": "code",
   "execution_count": 105,
   "id": "1c7f1b39",
   "metadata": {},
   "outputs": [
    {
     "data": {
      "text/plain": [
       "array([ 2,  8, 28, 49, 10,  1, 47, 17,  5, 34, 11, 15, 18,  9,  7, 12, 25,\n",
       "       68, 55, 37,  3, 27, 20,  4, 58, 53, 13,  6, 19, 59, 16, 52, 24, 32,\n",
       "       38, 54, 43, 63, 21, 69, 22, 61, 60, 48, 40, 23, 39, 35, 56, 65, 33,\n",
       "       30, 45, 46, 62, 70, 50, 44, 71, 26, 14, 41, 66, 64, 29, 42, 67, 51,\n",
       "       31, 57, 36, 72,  0], dtype=int64)"
      ]
     },
     "execution_count": 105,
     "metadata": {},
     "output_type": "execute_result"
    }
   ],
   "source": [
    "data['tenure_months'].unique()"
   ]
  },
  {
   "cell_type": "code",
   "execution_count": 106,
   "id": "747f55f2",
   "metadata": {},
   "outputs": [
    {
     "data": {
      "text/html": [
       "<div>\n",
       "<style scoped>\n",
       "    .dataframe tbody tr th:only-of-type {\n",
       "        vertical-align: middle;\n",
       "    }\n",
       "\n",
       "    .dataframe tbody tr th {\n",
       "        vertical-align: top;\n",
       "    }\n",
       "\n",
       "    .dataframe thead th {\n",
       "        text-align: right;\n",
       "    }\n",
       "</style>\n",
       "<table border=\"1\" class=\"dataframe\">\n",
       "  <thead>\n",
       "    <tr style=\"text-align: right;\">\n",
       "      <th></th>\n",
       "      <th>churn_value</th>\n",
       "      <th>tenure_months</th>\n",
       "      <th>churn</th>\n",
       "    </tr>\n",
       "  </thead>\n",
       "  <tbody>\n",
       "    <tr>\n",
       "      <th>0</th>\n",
       "      <td>1</td>\n",
       "      <td>2</td>\n",
       "      <td>1</td>\n",
       "    </tr>\n",
       "    <tr>\n",
       "      <th>1</th>\n",
       "      <td>1</td>\n",
       "      <td>2</td>\n",
       "      <td>1</td>\n",
       "    </tr>\n",
       "    <tr>\n",
       "      <th>2</th>\n",
       "      <td>1</td>\n",
       "      <td>8</td>\n",
       "      <td>1</td>\n",
       "    </tr>\n",
       "    <tr>\n",
       "      <th>3</th>\n",
       "      <td>1</td>\n",
       "      <td>28</td>\n",
       "      <td>0</td>\n",
       "    </tr>\n",
       "    <tr>\n",
       "      <th>4</th>\n",
       "      <td>1</td>\n",
       "      <td>49</td>\n",
       "      <td>0</td>\n",
       "    </tr>\n",
       "    <tr>\n",
       "      <th>...</th>\n",
       "      <td>...</td>\n",
       "      <td>...</td>\n",
       "      <td>...</td>\n",
       "    </tr>\n",
       "    <tr>\n",
       "      <th>7038</th>\n",
       "      <td>0</td>\n",
       "      <td>72</td>\n",
       "      <td>0</td>\n",
       "    </tr>\n",
       "    <tr>\n",
       "      <th>7039</th>\n",
       "      <td>0</td>\n",
       "      <td>24</td>\n",
       "      <td>0</td>\n",
       "    </tr>\n",
       "    <tr>\n",
       "      <th>7040</th>\n",
       "      <td>0</td>\n",
       "      <td>72</td>\n",
       "      <td>0</td>\n",
       "    </tr>\n",
       "    <tr>\n",
       "      <th>7041</th>\n",
       "      <td>0</td>\n",
       "      <td>11</td>\n",
       "      <td>0</td>\n",
       "    </tr>\n",
       "    <tr>\n",
       "      <th>7042</th>\n",
       "      <td>0</td>\n",
       "      <td>66</td>\n",
       "      <td>0</td>\n",
       "    </tr>\n",
       "  </tbody>\n",
       "</table>\n",
       "<p>7043 rows × 3 columns</p>\n",
       "</div>"
      ],
      "text/plain": [
       "      churn_value  tenure_months  churn\n",
       "0               1              2      1\n",
       "1               1              2      1\n",
       "2               1              8      1\n",
       "3               1             28      0\n",
       "4               1             49      0\n",
       "...           ...            ...    ...\n",
       "7038            0             72      0\n",
       "7039            0             24      0\n",
       "7040            0             72      0\n",
       "7041            0             11      0\n",
       "7042            0             66      0\n",
       "\n",
       "[7043 rows x 3 columns]"
      ]
     },
     "execution_count": 106,
     "metadata": {},
     "output_type": "execute_result"
    }
   ],
   "source": [
    "y_cols.extend([main_y_col])\n",
    "data[y_cols]"
   ]
  },
  {
   "cell_type": "code",
   "execution_count": 107,
   "id": "d75e5ddb",
   "metadata": {},
   "outputs": [
    {
     "data": {
      "text/plain": [
       "['churn_value', 'tenure_months', 'churn']"
      ]
     },
     "execution_count": 107,
     "metadata": {},
     "output_type": "execute_result"
    }
   ],
   "source": [
    "y_cols"
   ]
  },
  {
   "cell_type": "code",
   "execution_count": null,
   "id": "1e2a51ea",
   "metadata": {},
   "outputs": [],
   "source": []
  },
  {
   "cell_type": "markdown",
   "id": "e6e4987a",
   "metadata": {},
   "source": [
    "## Divide the dataset into train and test test"
   ]
  },
  {
   "cell_type": "code",
   "execution_count": 108,
   "id": "8f7b6484",
   "metadata": {},
   "outputs": [],
   "source": [
    "RNG = np.random.RandomState(seed=420)"
   ]
  },
  {
   "cell_type": "code",
   "execution_count": 109,
   "id": "77dda259",
   "metadata": {},
   "outputs": [],
   "source": [
    "train, test = train_test_split(data, test_size=0.1, shuffle=True, random_state=RNG)"
   ]
  },
  {
   "cell_type": "code",
   "execution_count": 110,
   "id": "b8225ad8",
   "metadata": {},
   "outputs": [
    {
     "data": {
      "text/plain": [
       "(6338, 22)"
      ]
     },
     "execution_count": 110,
     "metadata": {},
     "output_type": "execute_result"
    }
   ],
   "source": [
    "train.shape"
   ]
  },
  {
   "cell_type": "code",
   "execution_count": 111,
   "id": "500f554e",
   "metadata": {},
   "outputs": [
    {
     "data": {
      "text/plain": [
       "(705, 22)"
      ]
     },
     "execution_count": 111,
     "metadata": {},
     "output_type": "execute_result"
    }
   ],
   "source": [
    "test.shape"
   ]
  },
  {
   "cell_type": "code",
   "execution_count": null,
   "id": "b2f4c389",
   "metadata": {},
   "outputs": [],
   "source": []
  },
  {
   "cell_type": "markdown",
   "id": "00f29fdb",
   "metadata": {},
   "source": [
    "## Pre-process the data"
   ]
  },
  {
   "cell_type": "markdown",
   "id": "f6ddf102",
   "metadata": {},
   "source": [
    "### Normalize\n",
    "\n",
    "**Remember to save normalization details of train data, to apply to test data**\n",
    "\n",
    "Pipeline transforms automatically do so for us."
   ]
  },
  {
   "cell_type": "code",
   "execution_count": 112,
   "id": "3e91ce37",
   "metadata": {},
   "outputs": [],
   "source": [
    "dtypes = data.dtypes"
   ]
  },
  {
   "cell_type": "code",
   "execution_count": 116,
   "id": "f1b38f66",
   "metadata": {},
   "outputs": [
    {
     "data": {
      "text/plain": [
       "['latitude', 'longitude', 'monthly_charges']"
      ]
     },
     "execution_count": 116,
     "metadata": {},
     "output_type": "execute_result"
    }
   ],
   "source": [
    "# Prepare to Standardize all numeric columns except Churn Value\n",
    "numeric_cols = list(data.select_dtypes(include=['int64', 'float64']))\n",
    "numeric_cols = [column for column in numeric_cols if column not in y_cols]\n",
    "numeric_cols"
   ]
  },
  {
   "cell_type": "code",
   "execution_count": 117,
   "id": "caf4a387",
   "metadata": {},
   "outputs": [],
   "source": [
    "# Pipeline is to maintain consistency\n",
    "standardization_transformer = Pipeline(steps=[('scaler', StandardScaler())])"
   ]
  },
  {
   "cell_type": "code",
   "execution_count": 118,
   "id": "dacf10f6",
   "metadata": {},
   "outputs": [],
   "source": [
    "# ColumnTransformer helps standardize only selected columns\n",
    "preprocessor = ColumnTransformer(\n",
    "    transformers=[('num', standardization_transformer, numeric_cols)],\n",
    "    remainder='passthrough'  # This leaves the rest of the columns in the dataset unchanged\n",
    ")"
   ]
  },
  {
   "cell_type": "code",
   "execution_count": 119,
   "id": "f270af88",
   "metadata": {},
   "outputs": [],
   "source": [
    "preprocessed_train_array = preprocessor.fit(train).transform(train)"
   ]
  },
  {
   "cell_type": "code",
   "execution_count": 120,
   "id": "0eab5810",
   "metadata": {},
   "outputs": [],
   "source": [
    "# train"
   ]
  },
  {
   "cell_type": "markdown",
   "id": "0f58f67a",
   "metadata": {},
   "source": [
    "Convert the preprocessed arrays into pandas dataframe, by taking into account the correct column names, and the correct column types."
   ]
  },
  {
   "cell_type": "code",
   "execution_count": 121,
   "id": "39176cbb",
   "metadata": {},
   "outputs": [],
   "source": [
    "preprocessed_columns = [col.split('__')[1] for col in preprocessor.get_feature_names_out()]\n",
    "# preprocessed_columns"
   ]
  },
  {
   "cell_type": "markdown",
   "id": "a70b6a51",
   "metadata": {},
   "source": [
    "## Warning!! Bad Coding Practice Alert"
   ]
  },
  {
   "cell_type": "code",
   "execution_count": 122,
   "id": "d050be94",
   "metadata": {},
   "outputs": [],
   "source": [
    "# Instead of mapping preprocessed_columns with the old data.columns and getting the dtypes\n",
    "# for now we will proceed with hard-coding logic\n",
    "# Because columns that have prefix num are obviously float\n",
    "# While other columns are either object or can be treated as object (except Churn Value which will separately be made int64)\n",
    "preprocessed_column_types = ['float64' if col.split('__')[0]=='num' else 'object' for col in preprocessor.get_feature_names_out()]"
   ]
  },
  {
   "cell_type": "code",
   "execution_count": 123,
   "id": "b747532c",
   "metadata": {},
   "outputs": [],
   "source": [
    "preprocessed_column_types[-1] = 'int64'"
   ]
  },
  {
   "cell_type": "code",
   "execution_count": 124,
   "id": "f8c63530",
   "metadata": {},
   "outputs": [],
   "source": [
    "preprocessed_column_dtypes = {preprocessed_columns[i]: preprocessed_column_types[i] for i in range(len(preprocessed_columns))}"
   ]
  },
  {
   "cell_type": "code",
   "execution_count": 125,
   "id": "7dff576e",
   "metadata": {},
   "outputs": [],
   "source": [
    "preprocessed_train = pd.DataFrame(data=preprocessed_train_array, columns=preprocessed_columns)\n",
    "preprocessed_train = preprocessed_train.astype(preprocessed_column_dtypes)"
   ]
  },
  {
   "cell_type": "code",
   "execution_count": 126,
   "id": "45a4d57d",
   "metadata": {},
   "outputs": [
    {
     "data": {
      "text/html": [
       "<div>\n",
       "<style scoped>\n",
       "    .dataframe tbody tr th:only-of-type {\n",
       "        vertical-align: middle;\n",
       "    }\n",
       "\n",
       "    .dataframe tbody tr th {\n",
       "        vertical-align: top;\n",
       "    }\n",
       "\n",
       "    .dataframe thead th {\n",
       "        text-align: right;\n",
       "    }\n",
       "</style>\n",
       "<table border=\"1\" class=\"dataframe\">\n",
       "  <thead>\n",
       "    <tr style=\"text-align: right;\">\n",
       "      <th></th>\n",
       "      <th>latitude</th>\n",
       "      <th>longitude</th>\n",
       "      <th>monthly_charges</th>\n",
       "      <th>gender</th>\n",
       "      <th>senior_citizen</th>\n",
       "      <th>partner</th>\n",
       "      <th>dependents</th>\n",
       "      <th>tenure_months</th>\n",
       "      <th>phone_service</th>\n",
       "      <th>multiple_lines</th>\n",
       "      <th>...</th>\n",
       "      <th>online_backup</th>\n",
       "      <th>device_protection</th>\n",
       "      <th>tech_support</th>\n",
       "      <th>streaming_tv</th>\n",
       "      <th>streaming_movies</th>\n",
       "      <th>contract</th>\n",
       "      <th>paperless_billing</th>\n",
       "      <th>payment_method</th>\n",
       "      <th>churn_value</th>\n",
       "      <th>churn</th>\n",
       "    </tr>\n",
       "  </thead>\n",
       "  <tbody>\n",
       "    <tr>\n",
       "      <th>0</th>\n",
       "      <td>-0.498158</td>\n",
       "      <td>-0.371946</td>\n",
       "      <td>1.295086</td>\n",
       "      <td>Male</td>\n",
       "      <td>No</td>\n",
       "      <td>Yes</td>\n",
       "      <td>Yes</td>\n",
       "      <td>60</td>\n",
       "      <td>Yes</td>\n",
       "      <td>Yes</td>\n",
       "      <td>...</td>\n",
       "      <td>Yes</td>\n",
       "      <td>No</td>\n",
       "      <td>Yes</td>\n",
       "      <td>Yes</td>\n",
       "      <td>Yes</td>\n",
       "      <td>Month-to-month</td>\n",
       "      <td>Yes</td>\n",
       "      <td>Bank transfer (automatic)</td>\n",
       "      <td>0</td>\n",
       "      <td>0</td>\n",
       "    </tr>\n",
       "    <tr>\n",
       "      <th>1</th>\n",
       "      <td>-1.423199</td>\n",
       "      <td>1.358143</td>\n",
       "      <td>-1.516232</td>\n",
       "      <td>Female</td>\n",
       "      <td>No</td>\n",
       "      <td>No</td>\n",
       "      <td>No</td>\n",
       "      <td>20</td>\n",
       "      <td>Yes</td>\n",
       "      <td>No</td>\n",
       "      <td>...</td>\n",
       "      <td>No internet service</td>\n",
       "      <td>No internet service</td>\n",
       "      <td>No internet service</td>\n",
       "      <td>No internet service</td>\n",
       "      <td>No internet service</td>\n",
       "      <td>One year</td>\n",
       "      <td>Yes</td>\n",
       "      <td>Credit card (automatic)</td>\n",
       "      <td>0</td>\n",
       "      <td>0</td>\n",
       "    </tr>\n",
       "    <tr>\n",
       "      <th>2</th>\n",
       "      <td>0.444907</td>\n",
       "      <td>-1.026476</td>\n",
       "      <td>0.965322</td>\n",
       "      <td>Male</td>\n",
       "      <td>No</td>\n",
       "      <td>No</td>\n",
       "      <td>No</td>\n",
       "      <td>17</td>\n",
       "      <td>Yes</td>\n",
       "      <td>No</td>\n",
       "      <td>...</td>\n",
       "      <td>No</td>\n",
       "      <td>No</td>\n",
       "      <td>No</td>\n",
       "      <td>Yes</td>\n",
       "      <td>Yes</td>\n",
       "      <td>Month-to-month</td>\n",
       "      <td>No</td>\n",
       "      <td>Electronic check</td>\n",
       "      <td>1</td>\n",
       "      <td>0</td>\n",
       "    </tr>\n",
       "    <tr>\n",
       "      <th>3</th>\n",
       "      <td>1.202459</td>\n",
       "      <td>-0.117674</td>\n",
       "      <td>-1.514566</td>\n",
       "      <td>Female</td>\n",
       "      <td>No</td>\n",
       "      <td>No</td>\n",
       "      <td>No</td>\n",
       "      <td>29</td>\n",
       "      <td>Yes</td>\n",
       "      <td>No</td>\n",
       "      <td>...</td>\n",
       "      <td>No internet service</td>\n",
       "      <td>No internet service</td>\n",
       "      <td>No internet service</td>\n",
       "      <td>No internet service</td>\n",
       "      <td>No internet service</td>\n",
       "      <td>Two year</td>\n",
       "      <td>No</td>\n",
       "      <td>Mailed check</td>\n",
       "      <td>0</td>\n",
       "      <td>0</td>\n",
       "    </tr>\n",
       "    <tr>\n",
       "      <th>4</th>\n",
       "      <td>-0.899465</td>\n",
       "      <td>0.660012</td>\n",
       "      <td>0.653879</td>\n",
       "      <td>Female</td>\n",
       "      <td>No</td>\n",
       "      <td>No</td>\n",
       "      <td>No</td>\n",
       "      <td>49</td>\n",
       "      <td>Yes</td>\n",
       "      <td>Yes</td>\n",
       "      <td>...</td>\n",
       "      <td>No</td>\n",
       "      <td>No</td>\n",
       "      <td>No</td>\n",
       "      <td>No</td>\n",
       "      <td>Yes</td>\n",
       "      <td>Month-to-month</td>\n",
       "      <td>Yes</td>\n",
       "      <td>Electronic check</td>\n",
       "      <td>0</td>\n",
       "      <td>0</td>\n",
       "    </tr>\n",
       "  </tbody>\n",
       "</table>\n",
       "<p>5 rows × 22 columns</p>\n",
       "</div>"
      ],
      "text/plain": [
       "   latitude  longitude  monthly_charges  gender senior_citizen partner  \\\n",
       "0 -0.498158  -0.371946         1.295086    Male             No     Yes   \n",
       "1 -1.423199   1.358143        -1.516232  Female             No      No   \n",
       "2  0.444907  -1.026476         0.965322    Male             No      No   \n",
       "3  1.202459  -0.117674        -1.514566  Female             No      No   \n",
       "4 -0.899465   0.660012         0.653879  Female             No      No   \n",
       "\n",
       "  dependents tenure_months phone_service multiple_lines  ...  \\\n",
       "0        Yes            60           Yes            Yes  ...   \n",
       "1         No            20           Yes             No  ...   \n",
       "2         No            17           Yes             No  ...   \n",
       "3         No            29           Yes             No  ...   \n",
       "4         No            49           Yes            Yes  ...   \n",
       "\n",
       "         online_backup    device_protection         tech_support  \\\n",
       "0                  Yes                   No                  Yes   \n",
       "1  No internet service  No internet service  No internet service   \n",
       "2                   No                   No                   No   \n",
       "3  No internet service  No internet service  No internet service   \n",
       "4                   No                   No                   No   \n",
       "\n",
       "          streaming_tv     streaming_movies        contract paperless_billing  \\\n",
       "0                  Yes                  Yes  Month-to-month               Yes   \n",
       "1  No internet service  No internet service        One year               Yes   \n",
       "2                  Yes                  Yes  Month-to-month                No   \n",
       "3  No internet service  No internet service        Two year                No   \n",
       "4                   No                  Yes  Month-to-month               Yes   \n",
       "\n",
       "              payment_method churn_value churn  \n",
       "0  Bank transfer (automatic)           0     0  \n",
       "1    Credit card (automatic)           0     0  \n",
       "2           Electronic check           1     0  \n",
       "3               Mailed check           0     0  \n",
       "4           Electronic check           0     0  \n",
       "\n",
       "[5 rows x 22 columns]"
      ]
     },
     "execution_count": 126,
     "metadata": {},
     "output_type": "execute_result"
    }
   ],
   "source": [
    "preprocessed_train.head()"
   ]
  },
  {
   "cell_type": "code",
   "execution_count": 127,
   "id": "bcf7088c",
   "metadata": {},
   "outputs": [],
   "source": [
    "# preprocessed_train.dtypes"
   ]
  },
  {
   "cell_type": "code",
   "execution_count": 128,
   "id": "bd9b605b",
   "metadata": {},
   "outputs": [],
   "source": [
    "preprocessed_test_array = preprocessor.transform(test)"
   ]
  },
  {
   "cell_type": "code",
   "execution_count": 129,
   "id": "bf93a6df",
   "metadata": {},
   "outputs": [],
   "source": [
    "preprocessed_test = pd.DataFrame(data=preprocessed_test_array, columns=preprocessed_columns)\n",
    "preprocessed_test = preprocessed_test.astype(preprocessed_column_dtypes)"
   ]
  },
  {
   "cell_type": "code",
   "execution_count": 130,
   "id": "11574329",
   "metadata": {},
   "outputs": [
    {
     "data": {
      "text/html": [
       "<div>\n",
       "<style scoped>\n",
       "    .dataframe tbody tr th:only-of-type {\n",
       "        vertical-align: middle;\n",
       "    }\n",
       "\n",
       "    .dataframe tbody tr th {\n",
       "        vertical-align: top;\n",
       "    }\n",
       "\n",
       "    .dataframe thead th {\n",
       "        text-align: right;\n",
       "    }\n",
       "</style>\n",
       "<table border=\"1\" class=\"dataframe\">\n",
       "  <thead>\n",
       "    <tr style=\"text-align: right;\">\n",
       "      <th></th>\n",
       "      <th>latitude</th>\n",
       "      <th>longitude</th>\n",
       "      <th>monthly_charges</th>\n",
       "      <th>gender</th>\n",
       "      <th>senior_citizen</th>\n",
       "      <th>partner</th>\n",
       "      <th>dependents</th>\n",
       "      <th>tenure_months</th>\n",
       "      <th>phone_service</th>\n",
       "      <th>multiple_lines</th>\n",
       "      <th>...</th>\n",
       "      <th>online_backup</th>\n",
       "      <th>device_protection</th>\n",
       "      <th>tech_support</th>\n",
       "      <th>streaming_tv</th>\n",
       "      <th>streaming_movies</th>\n",
       "      <th>contract</th>\n",
       "      <th>paperless_billing</th>\n",
       "      <th>payment_method</th>\n",
       "      <th>churn_value</th>\n",
       "      <th>churn</th>\n",
       "    </tr>\n",
       "  </thead>\n",
       "  <tbody>\n",
       "    <tr>\n",
       "      <th>0</th>\n",
       "      <td>1.077896</td>\n",
       "      <td>-1.383298</td>\n",
       "      <td>1.331726</td>\n",
       "      <td>Female</td>\n",
       "      <td>Yes</td>\n",
       "      <td>Yes</td>\n",
       "      <td>No</td>\n",
       "      <td>62</td>\n",
       "      <td>Yes</td>\n",
       "      <td>Yes</td>\n",
       "      <td>...</td>\n",
       "      <td>No</td>\n",
       "      <td>Yes</td>\n",
       "      <td>No</td>\n",
       "      <td>Yes</td>\n",
       "      <td>Yes</td>\n",
       "      <td>One year</td>\n",
       "      <td>Yes</td>\n",
       "      <td>Electronic check</td>\n",
       "      <td>0</td>\n",
       "      <td>0</td>\n",
       "    </tr>\n",
       "    <tr>\n",
       "      <th>1</th>\n",
       "      <td>-0.903949</td>\n",
       "      <td>0.703809</td>\n",
       "      <td>-1.479591</td>\n",
       "      <td>Male</td>\n",
       "      <td>No</td>\n",
       "      <td>No</td>\n",
       "      <td>No</td>\n",
       "      <td>47</td>\n",
       "      <td>Yes</td>\n",
       "      <td>No</td>\n",
       "      <td>...</td>\n",
       "      <td>No internet service</td>\n",
       "      <td>No internet service</td>\n",
       "      <td>No internet service</td>\n",
       "      <td>No internet service</td>\n",
       "      <td>No internet service</td>\n",
       "      <td>Two year</td>\n",
       "      <td>No</td>\n",
       "      <td>Bank transfer (automatic)</td>\n",
       "      <td>0</td>\n",
       "      <td>0</td>\n",
       "    </tr>\n",
       "    <tr>\n",
       "      <th>2</th>\n",
       "      <td>-0.863037</td>\n",
       "      <td>0.738054</td>\n",
       "      <td>-0.165534</td>\n",
       "      <td>Male</td>\n",
       "      <td>No</td>\n",
       "      <td>No</td>\n",
       "      <td>No</td>\n",
       "      <td>9</td>\n",
       "      <td>Yes</td>\n",
       "      <td>Yes</td>\n",
       "      <td>...</td>\n",
       "      <td>No</td>\n",
       "      <td>No</td>\n",
       "      <td>No</td>\n",
       "      <td>No</td>\n",
       "      <td>Yes</td>\n",
       "      <td>Month-to-month</td>\n",
       "      <td>No</td>\n",
       "      <td>Mailed check</td>\n",
       "      <td>0</td>\n",
       "      <td>0</td>\n",
       "    </tr>\n",
       "    <tr>\n",
       "      <th>3</th>\n",
       "      <td>0.495985</td>\n",
       "      <td>-1.031974</td>\n",
       "      <td>0.868725</td>\n",
       "      <td>Female</td>\n",
       "      <td>Yes</td>\n",
       "      <td>No</td>\n",
       "      <td>No</td>\n",
       "      <td>32</td>\n",
       "      <td>Yes</td>\n",
       "      <td>No</td>\n",
       "      <td>...</td>\n",
       "      <td>No</td>\n",
       "      <td>No</td>\n",
       "      <td>No</td>\n",
       "      <td>Yes</td>\n",
       "      <td>Yes</td>\n",
       "      <td>Month-to-month</td>\n",
       "      <td>No</td>\n",
       "      <td>Electronic check</td>\n",
       "      <td>0</td>\n",
       "      <td>0</td>\n",
       "    </tr>\n",
       "    <tr>\n",
       "      <th>4</th>\n",
       "      <td>0.898898</td>\n",
       "      <td>-0.799467</td>\n",
       "      <td>0.184215</td>\n",
       "      <td>Female</td>\n",
       "      <td>No</td>\n",
       "      <td>No</td>\n",
       "      <td>No</td>\n",
       "      <td>4</td>\n",
       "      <td>Yes</td>\n",
       "      <td>No</td>\n",
       "      <td>...</td>\n",
       "      <td>No</td>\n",
       "      <td>No</td>\n",
       "      <td>No</td>\n",
       "      <td>No</td>\n",
       "      <td>No</td>\n",
       "      <td>Month-to-month</td>\n",
       "      <td>No</td>\n",
       "      <td>Electronic check</td>\n",
       "      <td>1</td>\n",
       "      <td>1</td>\n",
       "    </tr>\n",
       "  </tbody>\n",
       "</table>\n",
       "<p>5 rows × 22 columns</p>\n",
       "</div>"
      ],
      "text/plain": [
       "   latitude  longitude  monthly_charges  gender senior_citizen partner  \\\n",
       "0  1.077896  -1.383298         1.331726  Female            Yes     Yes   \n",
       "1 -0.903949   0.703809        -1.479591    Male             No      No   \n",
       "2 -0.863037   0.738054        -0.165534    Male             No      No   \n",
       "3  0.495985  -1.031974         0.868725  Female            Yes      No   \n",
       "4  0.898898  -0.799467         0.184215  Female             No      No   \n",
       "\n",
       "  dependents tenure_months phone_service multiple_lines  ...  \\\n",
       "0         No            62           Yes            Yes  ...   \n",
       "1         No            47           Yes             No  ...   \n",
       "2         No             9           Yes            Yes  ...   \n",
       "3         No            32           Yes             No  ...   \n",
       "4         No             4           Yes             No  ...   \n",
       "\n",
       "         online_backup    device_protection         tech_support  \\\n",
       "0                   No                  Yes                   No   \n",
       "1  No internet service  No internet service  No internet service   \n",
       "2                   No                   No                   No   \n",
       "3                   No                   No                   No   \n",
       "4                   No                   No                   No   \n",
       "\n",
       "          streaming_tv     streaming_movies        contract paperless_billing  \\\n",
       "0                  Yes                  Yes        One year               Yes   \n",
       "1  No internet service  No internet service        Two year                No   \n",
       "2                   No                  Yes  Month-to-month                No   \n",
       "3                  Yes                  Yes  Month-to-month                No   \n",
       "4                   No                   No  Month-to-month                No   \n",
       "\n",
       "              payment_method churn_value churn  \n",
       "0           Electronic check           0     0  \n",
       "1  Bank transfer (automatic)           0     0  \n",
       "2               Mailed check           0     0  \n",
       "3           Electronic check           0     0  \n",
       "4           Electronic check           1     1  \n",
       "\n",
       "[5 rows x 22 columns]"
      ]
     },
     "execution_count": 130,
     "metadata": {},
     "output_type": "execute_result"
    }
   ],
   "source": [
    "preprocessed_test.head()"
   ]
  },
  {
   "cell_type": "code",
   "execution_count": 131,
   "id": "1a718087",
   "metadata": {},
   "outputs": [],
   "source": [
    "# preprocessed_test.dtypes"
   ]
  },
  {
   "cell_type": "markdown",
   "id": "45348cbd",
   "metadata": {},
   "source": [
    "### Split Datasets into X and y\n",
    "\n",
    "(Not useful if using statsmodels api)"
   ]
  },
  {
   "cell_type": "code",
   "execution_count": 132,
   "id": "d75ba40c",
   "metadata": {},
   "outputs": [],
   "source": [
    "X_columns = list(preprocessed_train.columns)"
   ]
  },
  {
   "cell_type": "code",
   "execution_count": 134,
   "id": "ca95b309",
   "metadata": {},
   "outputs": [],
   "source": [
    "X_columns = [column for column in X_columns if column not in y_cols]"
   ]
  },
  {
   "cell_type": "code",
   "execution_count": 135,
   "id": "853e2ec2",
   "metadata": {},
   "outputs": [],
   "source": [
    "# X_columns"
   ]
  },
  {
   "cell_type": "code",
   "execution_count": 136,
   "id": "4c28a87f",
   "metadata": {},
   "outputs": [],
   "source": [
    "X_train, y_train = preprocessed_train[X_columns], preprocessed_train[main_y_col]"
   ]
  },
  {
   "cell_type": "code",
   "execution_count": 137,
   "id": "0c74db45",
   "metadata": {},
   "outputs": [],
   "source": [
    "X_test, y_test = preprocessed_test[X_columns], preprocessed_test[main_y_col]"
   ]
  },
  {
   "cell_type": "code",
   "execution_count": null,
   "id": "1fbe7e6b",
   "metadata": {},
   "outputs": [],
   "source": []
  },
  {
   "cell_type": "code",
   "execution_count": null,
   "id": "a14481ec",
   "metadata": {},
   "outputs": [],
   "source": []
  },
  {
   "cell_type": "markdown",
   "id": "1efa3577",
   "metadata": {},
   "source": [
    "### Dimensionality Reduction?\n",
    "\n",
    "Maybe later. Not relevant to Lasso Regression"
   ]
  },
  {
   "cell_type": "code",
   "execution_count": null,
   "id": "299fc18f",
   "metadata": {},
   "outputs": [],
   "source": []
  },
  {
   "cell_type": "code",
   "execution_count": null,
   "id": "bece8223",
   "metadata": {},
   "outputs": [],
   "source": []
  },
  {
   "cell_type": "markdown",
   "id": "45a2bcfc",
   "metadata": {},
   "source": [
    "## Run Lasso Logistic Regression"
   ]
  },
  {
   "cell_type": "code",
   "execution_count": null,
   "id": "fa0931c5",
   "metadata": {},
   "outputs": [],
   "source": []
  },
  {
   "cell_type": "code",
   "execution_count": null,
   "id": "ef89082d",
   "metadata": {},
   "outputs": [],
   "source": []
  },
  {
   "cell_type": "code",
   "execution_count": 138,
   "id": "26dd340a",
   "metadata": {},
   "outputs": [],
   "source": [
    "# preprocessed_column_types"
   ]
  },
  {
   "cell_type": "code",
   "execution_count": 139,
   "id": "5320fbb9",
   "metadata": {},
   "outputs": [],
   "source": [
    "# preprocessed_train_array"
   ]
  },
  {
   "cell_type": "code",
   "execution_count": null,
   "id": "025d9b98",
   "metadata": {},
   "outputs": [],
   "source": []
  },
  {
   "cell_type": "code",
   "execution_count": 140,
   "id": "5539812f",
   "metadata": {},
   "outputs": [],
   "source": [
    "# preprocessed_train.dtypes"
   ]
  },
  {
   "cell_type": "code",
   "execution_count": 141,
   "id": "491f1568",
   "metadata": {},
   "outputs": [
    {
     "data": {
      "text/plain": [
       "Index(['latitude', 'longitude', 'monthly_charges', 'gender', 'senior_citizen',\n",
       "       'partner', 'dependents', 'tenure_months', 'phone_service',\n",
       "       'multiple_lines', 'internet_service', 'online_security',\n",
       "       'online_backup', 'device_protection', 'tech_support', 'streaming_tv',\n",
       "       'streaming_movies', 'contract', 'paperless_billing', 'payment_method',\n",
       "       'churn_value', 'churn'],\n",
       "      dtype='object')"
      ]
     },
     "execution_count": 141,
     "metadata": {},
     "output_type": "execute_result"
    }
   ],
   "source": [
    "preprocessed_train.columns"
   ]
  },
  {
   "cell_type": "code",
   "execution_count": 147,
   "id": "5930ebd9",
   "metadata": {},
   "outputs": [],
   "source": [
    "def formulaGenerator(data, y_cols = [''], main_y_col=''):\n",
    "    x_cols = [column for column in list(data.columns) if column not in y_cols]\n",
    "    formula = f'{main_y_col} ~'\n",
    "    for index, column in enumerate(x_cols):\n",
    "        if index != 0: formula = f'{formula} +'\n",
    "        if data.dtypes[column] in ['int64', 'float64']: formula = f'{formula} {column}'\n",
    "        else: formula = f'{formula} C({column})'\n",
    "    return formula"
   ]
  },
  {
   "cell_type": "code",
   "execution_count": 149,
   "id": "426886fa",
   "metadata": {},
   "outputs": [
    {
     "data": {
      "text/plain": [
       "'churn ~ latitude + longitude + monthly_charges + C(gender) + C(senior_citizen) + C(partner) + C(dependents) + C(phone_service) + C(multiple_lines) + C(internet_service) + C(online_security) + C(online_backup) + C(device_protection) + C(tech_support) + C(streaming_tv) + C(streaming_movies) + C(contract) + C(paperless_billing) + C(payment_method)'"
      ]
     },
     "execution_count": 149,
     "metadata": {},
     "output_type": "execute_result"
    }
   ],
   "source": [
    "formula = formulaGenerator(preprocessed_train, y_cols, main_y_col)\n",
    "formula"
   ]
  },
  {
   "cell_type": "code",
   "execution_count": 151,
   "id": "cf0e6c81",
   "metadata": {},
   "outputs": [
    {
     "name": "stdout",
     "output_type": "stream",
     "text": [
      "Optimization terminated successfully    (Exit mode 0)\n",
      "            Current function value: 0.2976833745993948\n",
      "            Iterations: 140\n",
      "            Function evaluations: 140\n",
      "            Gradient evaluations: 140\n"
     ]
    }
   ],
   "source": [
    "model = smf.logit(formula = formula, data = preprocessed_train)\n",
    "results = model.fit_regularized(method='l1', alpha=10, QC_verbose=False)"
   ]
  },
  {
   "cell_type": "code",
   "execution_count": 152,
   "id": "0cc843cd",
   "metadata": {},
   "outputs": [],
   "source": [
    "# results.summary()"
   ]
  },
  {
   "cell_type": "code",
   "execution_count": 228,
   "id": "424163e1",
   "metadata": {},
   "outputs": [],
   "source": [
    "param_grid = {'alpha': np.logspace(-5, 3, 100)}"
   ]
  },
  {
   "cell_type": "code",
   "execution_count": 229,
   "id": "f88a4fb9",
   "metadata": {},
   "outputs": [],
   "source": [
    "param_list = list(ParameterGrid(param_grid))"
   ]
  },
  {
   "cell_type": "code",
   "execution_count": 230,
   "id": "836d450a",
   "metadata": {},
   "outputs": [],
   "source": [
    "# param_list"
   ]
  },
  {
   "cell_type": "code",
   "execution_count": 231,
   "id": "d83786f1",
   "metadata": {},
   "outputs": [],
   "source": [
    "coefficients = None"
   ]
  },
  {
   "cell_type": "code",
   "execution_count": 232,
   "id": "ce13f534",
   "metadata": {},
   "outputs": [
    {
     "name": "stdout",
     "output_type": "stream",
     "text": [
      "Optimization terminated successfully    (Exit mode 0)\n",
      "            Current function value: 0.27440513450165144\n",
      "            Iterations: 144\n",
      "            Function evaluations: 145\n",
      "            Gradient evaluations: 144\n"
     ]
    },
    {
     "name": "stderr",
     "output_type": "stream",
     "text": [
      "C:\\Users\\hnaid\\anaconda3\\Lib\\site-packages\\statsmodels\\base\\l1_solvers_common.py:71: ConvergenceWarning: QC check did not pass for 30 out of 31 parameters\n",
      "Try increasing solver accuracy or number of iterations, decreasing alpha, or switch solvers\n",
      "  warnings.warn(message, ConvergenceWarning)\n",
      "C:\\Users\\hnaid\\anaconda3\\Lib\\site-packages\\statsmodels\\base\\l1_solvers_common.py:144: ConvergenceWarning: Could not trim params automatically due to failed QC check. Trimming using trim_mode == 'size' will still work.\n",
      "  warnings.warn(msg, ConvergenceWarning)\n"
     ]
    },
    {
     "name": "stdout",
     "output_type": "stream",
     "text": [
      "Optimization terminated successfully    (Exit mode 0)\n",
      "            Current function value: 0.27440518519503815\n",
      "            Iterations: 144\n",
      "            Function evaluations: 145\n",
      "            Gradient evaluations: 144\n",
      "Optimization terminated successfully    (Exit mode 0)\n",
      "            Current function value: 0.2744052462279085\n",
      "            Iterations: 144\n",
      "            Function evaluations: 145\n",
      "            Gradient evaluations: 144\n"
     ]
    },
    {
     "name": "stderr",
     "output_type": "stream",
     "text": [
      "C:\\Users\\hnaid\\anaconda3\\Lib\\site-packages\\statsmodels\\base\\l1_solvers_common.py:71: ConvergenceWarning: QC check did not pass for 30 out of 31 parameters\n",
      "Try increasing solver accuracy or number of iterations, decreasing alpha, or switch solvers\n",
      "  warnings.warn(message, ConvergenceWarning)\n",
      "C:\\Users\\hnaid\\anaconda3\\Lib\\site-packages\\statsmodels\\base\\l1_solvers_common.py:144: ConvergenceWarning: Could not trim params automatically due to failed QC check. Trimming using trim_mode == 'size' will still work.\n",
      "  warnings.warn(msg, ConvergenceWarning)\n",
      "C:\\Users\\hnaid\\anaconda3\\Lib\\site-packages\\statsmodels\\base\\l1_solvers_common.py:71: ConvergenceWarning: QC check did not pass for 30 out of 31 parameters\n",
      "Try increasing solver accuracy or number of iterations, decreasing alpha, or switch solvers\n",
      "  warnings.warn(message, ConvergenceWarning)\n",
      "C:\\Users\\hnaid\\anaconda3\\Lib\\site-packages\\statsmodels\\base\\l1_solvers_common.py:144: ConvergenceWarning: Could not trim params automatically due to failed QC check. Trimming using trim_mode == 'size' will still work.\n",
      "  warnings.warn(msg, ConvergenceWarning)\n"
     ]
    },
    {
     "name": "stdout",
     "output_type": "stream",
     "text": [
      "Optimization terminated successfully    (Exit mode 0)\n",
      "            Current function value: 0.2744053197023317\n",
      "            Iterations: 144\n",
      "            Function evaluations: 145\n",
      "            Gradient evaluations: 144\n"
     ]
    },
    {
     "name": "stderr",
     "output_type": "stream",
     "text": [
      "C:\\Users\\hnaid\\anaconda3\\Lib\\site-packages\\statsmodels\\base\\l1_solvers_common.py:71: ConvergenceWarning: QC check did not pass for 30 out of 31 parameters\n",
      "Try increasing solver accuracy or number of iterations, decreasing alpha, or switch solvers\n",
      "  warnings.warn(message, ConvergenceWarning)\n",
      "C:\\Users\\hnaid\\anaconda3\\Lib\\site-packages\\statsmodels\\base\\l1_solvers_common.py:144: ConvergenceWarning: Could not trim params automatically due to failed QC check. Trimming using trim_mode == 'size' will still work.\n",
      "  warnings.warn(msg, ConvergenceWarning)\n"
     ]
    },
    {
     "name": "stdout",
     "output_type": "stream",
     "text": [
      "Optimization terminated successfully    (Exit mode 0)\n",
      "            Current function value: 0.27440540814467296\n",
      "            Iterations: 144\n",
      "            Function evaluations: 145\n",
      "            Gradient evaluations: 144\n",
      "Optimization terminated successfully    (Exit mode 0)\n",
      "            Current function value: 0.274405514589848\n",
      "            Iterations: 144\n",
      "            Function evaluations: 145\n",
      "            Gradient evaluations: 144\n"
     ]
    },
    {
     "name": "stderr",
     "output_type": "stream",
     "text": [
      "C:\\Users\\hnaid\\anaconda3\\Lib\\site-packages\\statsmodels\\base\\l1_solvers_common.py:71: ConvergenceWarning: QC check did not pass for 30 out of 31 parameters\n",
      "Try increasing solver accuracy or number of iterations, decreasing alpha, or switch solvers\n",
      "  warnings.warn(message, ConvergenceWarning)\n",
      "C:\\Users\\hnaid\\anaconda3\\Lib\\site-packages\\statsmodels\\base\\l1_solvers_common.py:144: ConvergenceWarning: Could not trim params automatically due to failed QC check. Trimming using trim_mode == 'size' will still work.\n",
      "  warnings.warn(msg, ConvergenceWarning)\n",
      "C:\\Users\\hnaid\\anaconda3\\Lib\\site-packages\\statsmodels\\base\\l1_solvers_common.py:71: ConvergenceWarning: QC check did not pass for 30 out of 31 parameters\n",
      "Try increasing solver accuracy or number of iterations, decreasing alpha, or switch solvers\n",
      "  warnings.warn(message, ConvergenceWarning)\n",
      "C:\\Users\\hnaid\\anaconda3\\Lib\\site-packages\\statsmodels\\base\\l1_solvers_common.py:144: ConvergenceWarning: Could not trim params automatically due to failed QC check. Trimming using trim_mode == 'size' will still work.\n",
      "  warnings.warn(msg, ConvergenceWarning)\n"
     ]
    },
    {
     "name": "stdout",
     "output_type": "stream",
     "text": [
      "Optimization terminated successfully    (Exit mode 0)\n",
      "            Current function value: 0.27440564268167394\n",
      "            Iterations: 144\n",
      "            Function evaluations: 145\n",
      "            Gradient evaluations: 144\n"
     ]
    },
    {
     "name": "stderr",
     "output_type": "stream",
     "text": [
      "C:\\Users\\hnaid\\anaconda3\\Lib\\site-packages\\statsmodels\\base\\l1_solvers_common.py:71: ConvergenceWarning: QC check did not pass for 29 out of 31 parameters\n",
      "Try increasing solver accuracy or number of iterations, decreasing alpha, or switch solvers\n",
      "  warnings.warn(message, ConvergenceWarning)\n",
      "C:\\Users\\hnaid\\anaconda3\\Lib\\site-packages\\statsmodels\\base\\l1_solvers_common.py:144: ConvergenceWarning: Could not trim params automatically due to failed QC check. Trimming using trim_mode == 'size' will still work.\n",
      "  warnings.warn(msg, ConvergenceWarning)\n"
     ]
    },
    {
     "name": "stdout",
     "output_type": "stream",
     "text": [
      "Optimization terminated successfully    (Exit mode 0)\n",
      "            Current function value: 0.2744057967921\n",
      "            Iterations: 144\n",
      "            Function evaluations: 145\n",
      "            Gradient evaluations: 144\n"
     ]
    },
    {
     "name": "stderr",
     "output_type": "stream",
     "text": [
      "C:\\Users\\hnaid\\anaconda3\\Lib\\site-packages\\statsmodels\\base\\l1_solvers_common.py:71: ConvergenceWarning: QC check did not pass for 28 out of 31 parameters\n",
      "Try increasing solver accuracy or number of iterations, decreasing alpha, or switch solvers\n",
      "  warnings.warn(message, ConvergenceWarning)\n",
      "C:\\Users\\hnaid\\anaconda3\\Lib\\site-packages\\statsmodels\\base\\l1_solvers_common.py:144: ConvergenceWarning: Could not trim params automatically due to failed QC check. Trimming using trim_mode == 'size' will still work.\n",
      "  warnings.warn(msg, ConvergenceWarning)\n"
     ]
    },
    {
     "name": "stdout",
     "output_type": "stream",
     "text": [
      "Optimization terminated successfully    (Exit mode 0)\n",
      "            Current function value: 0.27440598216243894\n",
      "            Iterations: 144\n",
      "            Function evaluations: 145\n",
      "            Gradient evaluations: 144\n",
      "Optimization terminated successfully    (Exit mode 0)\n",
      "            Current function value: 0.2744062050700277\n",
      "            Iterations: 144\n",
      "            Function evaluations: 145\n",
      "            Gradient evaluations: 144\n"
     ]
    },
    {
     "name": "stderr",
     "output_type": "stream",
     "text": [
      "C:\\Users\\hnaid\\anaconda3\\Lib\\site-packages\\statsmodels\\base\\l1_solvers_common.py:71: ConvergenceWarning: QC check did not pass for 30 out of 31 parameters\n",
      "Try increasing solver accuracy or number of iterations, decreasing alpha, or switch solvers\n",
      "  warnings.warn(message, ConvergenceWarning)\n",
      "C:\\Users\\hnaid\\anaconda3\\Lib\\site-packages\\statsmodels\\base\\l1_solvers_common.py:144: ConvergenceWarning: Could not trim params automatically due to failed QC check. Trimming using trim_mode == 'size' will still work.\n",
      "  warnings.warn(msg, ConvergenceWarning)\n",
      "C:\\Users\\hnaid\\anaconda3\\Lib\\site-packages\\statsmodels\\base\\l1_solvers_common.py:71: ConvergenceWarning: QC check did not pass for 29 out of 31 parameters\n",
      "Try increasing solver accuracy or number of iterations, decreasing alpha, or switch solvers\n",
      "  warnings.warn(message, ConvergenceWarning)\n",
      "C:\\Users\\hnaid\\anaconda3\\Lib\\site-packages\\statsmodels\\base\\l1_solvers_common.py:144: ConvergenceWarning: Could not trim params automatically due to failed QC check. Trimming using trim_mode == 'size' will still work.\n",
      "  warnings.warn(msg, ConvergenceWarning)\n"
     ]
    },
    {
     "name": "stdout",
     "output_type": "stream",
     "text": [
      "Optimization terminated successfully    (Exit mode 0)\n",
      "            Current function value: 0.27440647302396465\n",
      "            Iterations: 144\n",
      "            Function evaluations: 145\n",
      "            Gradient evaluations: 144\n"
     ]
    },
    {
     "name": "stderr",
     "output_type": "stream",
     "text": [
      "C:\\Users\\hnaid\\anaconda3\\Lib\\site-packages\\statsmodels\\base\\l1_solvers_common.py:71: ConvergenceWarning: QC check did not pass for 30 out of 31 parameters\n",
      "Try increasing solver accuracy or number of iterations, decreasing alpha, or switch solvers\n",
      "  warnings.warn(message, ConvergenceWarning)\n",
      "C:\\Users\\hnaid\\anaconda3\\Lib\\site-packages\\statsmodels\\base\\l1_solvers_common.py:144: ConvergenceWarning: Could not trim params automatically due to failed QC check. Trimming using trim_mode == 'size' will still work.\n",
      "  warnings.warn(msg, ConvergenceWarning)\n"
     ]
    },
    {
     "name": "stdout",
     "output_type": "stream",
     "text": [
      "Optimization terminated successfully    (Exit mode 0)\n",
      "            Current function value: 0.27440679499362264\n",
      "            Iterations: 144\n",
      "            Function evaluations: 145\n",
      "            Gradient evaluations: 144\n"
     ]
    },
    {
     "name": "stderr",
     "output_type": "stream",
     "text": [
      "C:\\Users\\hnaid\\anaconda3\\Lib\\site-packages\\statsmodels\\base\\l1_solvers_common.py:71: ConvergenceWarning: QC check did not pass for 30 out of 31 parameters\n",
      "Try increasing solver accuracy or number of iterations, decreasing alpha, or switch solvers\n",
      "  warnings.warn(message, ConvergenceWarning)\n",
      "C:\\Users\\hnaid\\anaconda3\\Lib\\site-packages\\statsmodels\\base\\l1_solvers_common.py:144: ConvergenceWarning: Could not trim params automatically due to failed QC check. Trimming using trim_mode == 'size' will still work.\n",
      "  warnings.warn(msg, ConvergenceWarning)\n"
     ]
    },
    {
     "name": "stdout",
     "output_type": "stream",
     "text": [
      "Optimization terminated successfully    (Exit mode 0)\n",
      "            Current function value: 0.27440718167338274\n",
      "            Iterations: 144\n",
      "            Function evaluations: 145\n",
      "            Gradient evaluations: 144\n",
      "Optimization terminated successfully    (Exit mode 0)\n",
      "            Current function value: 0.2744076457862824\n",
      "            Iterations: 144\n",
      "            Function evaluations: 145\n",
      "            Gradient evaluations: 144\n"
     ]
    },
    {
     "name": "stderr",
     "output_type": "stream",
     "text": [
      "C:\\Users\\hnaid\\anaconda3\\Lib\\site-packages\\statsmodels\\base\\l1_solvers_common.py:71: ConvergenceWarning: QC check did not pass for 30 out of 31 parameters\n",
      "Try increasing solver accuracy or number of iterations, decreasing alpha, or switch solvers\n",
      "  warnings.warn(message, ConvergenceWarning)\n",
      "C:\\Users\\hnaid\\anaconda3\\Lib\\site-packages\\statsmodels\\base\\l1_solvers_common.py:144: ConvergenceWarning: Could not trim params automatically due to failed QC check. Trimming using trim_mode == 'size' will still work.\n",
      "  warnings.warn(msg, ConvergenceWarning)\n",
      "C:\\Users\\hnaid\\anaconda3\\Lib\\site-packages\\statsmodels\\base\\l1_solvers_common.py:71: ConvergenceWarning: QC check did not pass for 30 out of 31 parameters\n",
      "Try increasing solver accuracy or number of iterations, decreasing alpha, or switch solvers\n",
      "  warnings.warn(message, ConvergenceWarning)\n",
      "C:\\Users\\hnaid\\anaconda3\\Lib\\site-packages\\statsmodels\\base\\l1_solvers_common.py:144: ConvergenceWarning: Could not trim params automatically due to failed QC check. Trimming using trim_mode == 'size' will still work.\n",
      "  warnings.warn(msg, ConvergenceWarning)\n"
     ]
    },
    {
     "name": "stdout",
     "output_type": "stream",
     "text": [
      "Optimization terminated successfully    (Exit mode 0)\n",
      "            Current function value: 0.2744082024277128\n",
      "            Iterations: 144\n",
      "            Function evaluations: 145\n",
      "            Gradient evaluations: 144\n",
      "{'alpha': 0.00013530477745798074}\n"
     ]
    },
    {
     "name": "stderr",
     "output_type": "stream",
     "text": [
      "C:\\Users\\hnaid\\anaconda3\\Lib\\site-packages\\statsmodels\\base\\l1_solvers_common.py:71: ConvergenceWarning: QC check did not pass for 30 out of 31 parameters\n",
      "Try increasing solver accuracy or number of iterations, decreasing alpha, or switch solvers\n",
      "  warnings.warn(message, ConvergenceWarning)\n",
      "C:\\Users\\hnaid\\anaconda3\\Lib\\site-packages\\statsmodels\\base\\l1_solvers_common.py:144: ConvergenceWarning: Could not trim params automatically due to failed QC check. Trimming using trim_mode == 'size' will still work.\n",
      "  warnings.warn(msg, ConvergenceWarning)\n"
     ]
    },
    {
     "name": "stdout",
     "output_type": "stream",
     "text": [
      "Optimization terminated successfully    (Exit mode 0)\n",
      "            Current function value: 0.27440886944748394\n",
      "            Iterations: 144\n",
      "            Function evaluations: 145\n",
      "            Gradient evaluations: 144\n"
     ]
    },
    {
     "name": "stderr",
     "output_type": "stream",
     "text": [
      "C:\\Users\\hnaid\\anaconda3\\Lib\\site-packages\\statsmodels\\base\\l1_solvers_common.py:71: ConvergenceWarning: QC check did not pass for 30 out of 31 parameters\n",
      "Try increasing solver accuracy or number of iterations, decreasing alpha, or switch solvers\n",
      "  warnings.warn(message, ConvergenceWarning)\n",
      "C:\\Users\\hnaid\\anaconda3\\Lib\\site-packages\\statsmodels\\base\\l1_solvers_common.py:144: ConvergenceWarning: Could not trim params automatically due to failed QC check. Trimming using trim_mode == 'size' will still work.\n",
      "  warnings.warn(msg, ConvergenceWarning)\n"
     ]
    },
    {
     "name": "stdout",
     "output_type": "stream",
     "text": [
      "Optimization terminated successfully    (Exit mode 0)\n",
      "            Current function value: 0.27440966786383125\n",
      "            Iterations: 144\n",
      "            Function evaluations: 145\n",
      "            Gradient evaluations: 144\n",
      "{'alpha': 0.00019630406500402724}\n",
      "Optimization terminated successfully    (Exit mode 0)\n",
      "            Current function value: 0.2744106222952568\n",
      "            Iterations: 144\n",
      "            Function evaluations: 145\n",
      "            Gradient evaluations: 144\n"
     ]
    },
    {
     "name": "stderr",
     "output_type": "stream",
     "text": [
      "C:\\Users\\hnaid\\anaconda3\\Lib\\site-packages\\statsmodels\\base\\l1_solvers_common.py:71: ConvergenceWarning: QC check did not pass for 30 out of 31 parameters\n",
      "Try increasing solver accuracy or number of iterations, decreasing alpha, or switch solvers\n",
      "  warnings.warn(message, ConvergenceWarning)\n",
      "C:\\Users\\hnaid\\anaconda3\\Lib\\site-packages\\statsmodels\\base\\l1_solvers_common.py:144: ConvergenceWarning: Could not trim params automatically due to failed QC check. Trimming using trim_mode == 'size' will still work.\n",
      "  warnings.warn(msg, ConvergenceWarning)\n",
      "C:\\Users\\hnaid\\anaconda3\\Lib\\site-packages\\statsmodels\\base\\l1_solvers_common.py:71: ConvergenceWarning: QC check did not pass for 30 out of 31 parameters\n",
      "Try increasing solver accuracy or number of iterations, decreasing alpha, or switch solvers\n",
      "  warnings.warn(message, ConvergenceWarning)\n",
      "C:\\Users\\hnaid\\anaconda3\\Lib\\site-packages\\statsmodels\\base\\l1_solvers_common.py:144: ConvergenceWarning: Could not trim params automatically due to failed QC check. Trimming using trim_mode == 'size' will still work.\n",
      "  warnings.warn(msg, ConvergenceWarning)\n"
     ]
    },
    {
     "name": "stdout",
     "output_type": "stream",
     "text": [
      "Optimization terminated successfully    (Exit mode 0)\n",
      "            Current function value: 0.27441176138403267\n",
      "            Iterations: 145\n",
      "            Function evaluations: 145\n",
      "            Gradient evaluations: 145\n",
      "Optimization terminated successfully    (Exit mode 0)\n",
      "            Current function value: 0.2744131181665524\n",
      "            Iterations: 145\n",
      "            Function evaluations: 145\n",
      "            Gradient evaluations: 145\n"
     ]
    },
    {
     "name": "stderr",
     "output_type": "stream",
     "text": [
      "C:\\Users\\hnaid\\anaconda3\\Lib\\site-packages\\statsmodels\\base\\l1_solvers_common.py:71: ConvergenceWarning: QC check did not pass for 30 out of 31 parameters\n",
      "Try increasing solver accuracy or number of iterations, decreasing alpha, or switch solvers\n",
      "  warnings.warn(message, ConvergenceWarning)\n",
      "C:\\Users\\hnaid\\anaconda3\\Lib\\site-packages\\statsmodels\\base\\l1_solvers_common.py:144: ConvergenceWarning: Could not trim params automatically due to failed QC check. Trimming using trim_mode == 'size' will still work.\n",
      "  warnings.warn(msg, ConvergenceWarning)\n",
      "C:\\Users\\hnaid\\anaconda3\\Lib\\site-packages\\statsmodels\\base\\l1_solvers_common.py:71: ConvergenceWarning: QC check did not pass for 29 out of 31 parameters\n",
      "Try increasing solver accuracy or number of iterations, decreasing alpha, or switch solvers\n",
      "  warnings.warn(message, ConvergenceWarning)\n",
      "C:\\Users\\hnaid\\anaconda3\\Lib\\site-packages\\statsmodels\\base\\l1_solvers_common.py:144: ConvergenceWarning: Could not trim params automatically due to failed QC check. Trimming using trim_mode == 'size' will still work.\n",
      "  warnings.warn(msg, ConvergenceWarning)\n"
     ]
    },
    {
     "name": "stdout",
     "output_type": "stream",
     "text": [
      "Optimization terminated successfully    (Exit mode 0)\n",
      "            Current function value: 0.27441473031732594\n",
      "            Iterations: 145\n",
      "            Function evaluations: 145\n",
      "            Gradient evaluations: 145\n",
      "Optimization terminated successfully    (Exit mode 0)\n",
      "            Current function value: 0.2744166401504589\n",
      "            Iterations: 145\n",
      "            Function evaluations: 145\n",
      "            Gradient evaluations: 145\n"
     ]
    },
    {
     "name": "stderr",
     "output_type": "stream",
     "text": [
      "C:\\Users\\hnaid\\anaconda3\\Lib\\site-packages\\statsmodels\\base\\l1_solvers_common.py:71: ConvergenceWarning: QC check did not pass for 29 out of 31 parameters\n",
      "Try increasing solver accuracy or number of iterations, decreasing alpha, or switch solvers\n",
      "  warnings.warn(message, ConvergenceWarning)\n",
      "C:\\Users\\hnaid\\anaconda3\\Lib\\site-packages\\statsmodels\\base\\l1_solvers_common.py:144: ConvergenceWarning: Could not trim params automatically due to failed QC check. Trimming using trim_mode == 'size' will still work.\n",
      "  warnings.warn(msg, ConvergenceWarning)\n",
      "C:\\Users\\hnaid\\anaconda3\\Lib\\site-packages\\statsmodels\\base\\l1_solvers_common.py:71: ConvergenceWarning: QC check did not pass for 27 out of 31 parameters\n",
      "Try increasing solver accuracy or number of iterations, decreasing alpha, or switch solvers\n",
      "  warnings.warn(message, ConvergenceWarning)\n",
      "C:\\Users\\hnaid\\anaconda3\\Lib\\site-packages\\statsmodels\\base\\l1_solvers_common.py:144: ConvergenceWarning: Could not trim params automatically due to failed QC check. Trimming using trim_mode == 'size' will still work.\n",
      "  warnings.warn(msg, ConvergenceWarning)\n"
     ]
    },
    {
     "name": "stdout",
     "output_type": "stream",
     "text": [
      "Optimization terminated successfully    (Exit mode 0)\n",
      "            Current function value: 0.2744188941059839\n",
      "            Iterations: 145\n",
      "            Function evaluations: 146\n",
      "            Gradient evaluations: 145\n",
      "{'alpha': 0.0005994842503189409}\n"
     ]
    },
    {
     "name": "stderr",
     "output_type": "stream",
     "text": [
      "C:\\Users\\hnaid\\anaconda3\\Lib\\site-packages\\statsmodels\\base\\l1_solvers_common.py:71: ConvergenceWarning: QC check did not pass for 26 out of 31 parameters\n",
      "Try increasing solver accuracy or number of iterations, decreasing alpha, or switch solvers\n",
      "  warnings.warn(message, ConvergenceWarning)\n",
      "C:\\Users\\hnaid\\anaconda3\\Lib\\site-packages\\statsmodels\\base\\l1_solvers_common.py:144: ConvergenceWarning: Could not trim params automatically due to failed QC check. Trimming using trim_mode == 'size' will still work.\n",
      "  warnings.warn(msg, ConvergenceWarning)\n"
     ]
    },
    {
     "name": "stdout",
     "output_type": "stream",
     "text": [
      "Optimization terminated successfully    (Exit mode 0)\n",
      "            Current function value: 0.2744144492037954\n",
      "            Iterations: 204\n",
      "            Function evaluations: 204\n",
      "            Gradient evaluations: 204\n"
     ]
    },
    {
     "name": "stderr",
     "output_type": "stream",
     "text": [
      "C:\\Users\\hnaid\\anaconda3\\Lib\\site-packages\\statsmodels\\base\\l1_solvers_common.py:71: ConvergenceWarning: QC check did not pass for 10 out of 31 parameters\n",
      "Try increasing solver accuracy or number of iterations, decreasing alpha, or switch solvers\n",
      "  warnings.warn(message, ConvergenceWarning)\n",
      "C:\\Users\\hnaid\\anaconda3\\Lib\\site-packages\\statsmodels\\base\\l1_solvers_common.py:144: ConvergenceWarning: Could not trim params automatically due to failed QC check. Trimming using trim_mode == 'size' will still work.\n",
      "  warnings.warn(msg, ConvergenceWarning)\n"
     ]
    },
    {
     "name": "stdout",
     "output_type": "stream",
     "text": [
      "Optimization terminated successfully    (Exit mode 0)\n",
      "            Current function value: 0.27441624403646236\n",
      "            Iterations: 205\n",
      "            Function evaluations: 205\n",
      "            Gradient evaluations: 205\n"
     ]
    },
    {
     "name": "stderr",
     "output_type": "stream",
     "text": [
      "C:\\Users\\hnaid\\anaconda3\\Lib\\site-packages\\statsmodels\\base\\l1_solvers_common.py:71: ConvergenceWarning: QC check did not pass for 7 out of 31 parameters\n",
      "Try increasing solver accuracy or number of iterations, decreasing alpha, or switch solvers\n",
      "  warnings.warn(message, ConvergenceWarning)\n",
      "C:\\Users\\hnaid\\anaconda3\\Lib\\site-packages\\statsmodels\\base\\l1_solvers_common.py:144: ConvergenceWarning: Could not trim params automatically due to failed QC check. Trimming using trim_mode == 'size' will still work.\n",
      "  warnings.warn(msg, ConvergenceWarning)\n"
     ]
    },
    {
     "name": "stdout",
     "output_type": "stream",
     "text": [
      "Optimization terminated successfully    (Exit mode 0)\n",
      "            Current function value: 0.2744183714718695\n",
      "            Iterations: 211\n",
      "            Function evaluations: 211\n",
      "            Gradient evaluations: 211\n"
     ]
    },
    {
     "name": "stderr",
     "output_type": "stream",
     "text": [
      "C:\\Users\\hnaid\\anaconda3\\Lib\\site-packages\\statsmodels\\base\\l1_solvers_common.py:71: ConvergenceWarning: QC check did not pass for 8 out of 31 parameters\n",
      "Try increasing solver accuracy or number of iterations, decreasing alpha, or switch solvers\n",
      "  warnings.warn(message, ConvergenceWarning)\n",
      "C:\\Users\\hnaid\\anaconda3\\Lib\\site-packages\\statsmodels\\base\\l1_solvers_common.py:144: ConvergenceWarning: Could not trim params automatically due to failed QC check. Trimming using trim_mode == 'size' will still work.\n",
      "  warnings.warn(msg, ConvergenceWarning)\n"
     ]
    },
    {
     "name": "stdout",
     "output_type": "stream",
     "text": [
      "Optimization terminated successfully    (Exit mode 0)\n",
      "            Current function value: 0.2744208915504737\n",
      "            Iterations: 208\n",
      "            Function evaluations: 208\n",
      "            Gradient evaluations: 208\n",
      "{'alpha': 0.0012618568830660211}\n"
     ]
    },
    {
     "name": "stderr",
     "output_type": "stream",
     "text": [
      "C:\\Users\\hnaid\\anaconda3\\Lib\\site-packages\\statsmodels\\base\\l1_solvers_common.py:71: ConvergenceWarning: QC check did not pass for 9 out of 31 parameters\n",
      "Try increasing solver accuracy or number of iterations, decreasing alpha, or switch solvers\n",
      "  warnings.warn(message, ConvergenceWarning)\n",
      "C:\\Users\\hnaid\\anaconda3\\Lib\\site-packages\\statsmodels\\base\\l1_solvers_common.py:144: ConvergenceWarning: Could not trim params automatically due to failed QC check. Trimming using trim_mode == 'size' will still work.\n",
      "  warnings.warn(msg, ConvergenceWarning)\n"
     ]
    },
    {
     "name": "stdout",
     "output_type": "stream",
     "text": [
      "Optimization terminated successfully    (Exit mode 0)\n",
      "            Current function value: 0.27442387451392497\n",
      "            Iterations: 209\n",
      "            Function evaluations: 209\n",
      "            Gradient evaluations: 209\n"
     ]
    },
    {
     "name": "stderr",
     "output_type": "stream",
     "text": [
      "C:\\Users\\hnaid\\anaconda3\\Lib\\site-packages\\statsmodels\\base\\l1_solvers_common.py:71: ConvergenceWarning: QC check did not pass for 8 out of 31 parameters\n",
      "Try increasing solver accuracy or number of iterations, decreasing alpha, or switch solvers\n",
      "  warnings.warn(message, ConvergenceWarning)\n",
      "C:\\Users\\hnaid\\anaconda3\\Lib\\site-packages\\statsmodels\\base\\l1_solvers_common.py:144: ConvergenceWarning: Could not trim params automatically due to failed QC check. Trimming using trim_mode == 'size' will still work.\n",
      "  warnings.warn(msg, ConvergenceWarning)\n"
     ]
    },
    {
     "name": "stdout",
     "output_type": "stream",
     "text": [
      "Optimization terminated successfully    (Exit mode 0)\n",
      "            Current function value: 0.2744274019632876\n",
      "            Iterations: 210\n",
      "            Function evaluations: 210\n",
      "            Gradient evaluations: 210\n"
     ]
    },
    {
     "name": "stderr",
     "output_type": "stream",
     "text": [
      "C:\\Users\\hnaid\\anaconda3\\Lib\\site-packages\\statsmodels\\base\\l1_solvers_common.py:71: ConvergenceWarning: QC check did not pass for 13 out of 31 parameters\n",
      "Try increasing solver accuracy or number of iterations, decreasing alpha, or switch solvers\n",
      "  warnings.warn(message, ConvergenceWarning)\n",
      "C:\\Users\\hnaid\\anaconda3\\Lib\\site-packages\\statsmodels\\base\\l1_solvers_common.py:144: ConvergenceWarning: Could not trim params automatically due to failed QC check. Trimming using trim_mode == 'size' will still work.\n",
      "  warnings.warn(msg, ConvergenceWarning)\n"
     ]
    },
    {
     "name": "stdout",
     "output_type": "stream",
     "text": [
      "Optimization terminated successfully    (Exit mode 0)\n",
      "            Current function value: 0.274431654067852\n",
      "            Iterations: 204\n",
      "            Function evaluations: 204\n",
      "            Gradient evaluations: 204\n"
     ]
    },
    {
     "name": "stderr",
     "output_type": "stream",
     "text": [
      "C:\\Users\\hnaid\\anaconda3\\Lib\\site-packages\\statsmodels\\base\\l1_solvers_common.py:71: ConvergenceWarning: QC check did not pass for 8 out of 31 parameters\n",
      "Try increasing solver accuracy or number of iterations, decreasing alpha, or switch solvers\n",
      "  warnings.warn(message, ConvergenceWarning)\n",
      "C:\\Users\\hnaid\\anaconda3\\Lib\\site-packages\\statsmodels\\base\\l1_solvers_common.py:144: ConvergenceWarning: Could not trim params automatically due to failed QC check. Trimming using trim_mode == 'size' will still work.\n",
      "  warnings.warn(msg, ConvergenceWarning)\n"
     ]
    },
    {
     "name": "stdout",
     "output_type": "stream",
     "text": [
      "Optimization terminated successfully    (Exit mode 0)\n",
      "            Current function value: 0.2744364938876186\n",
      "            Iterations: 202\n",
      "            Function evaluations: 202\n",
      "            Gradient evaluations: 202\n"
     ]
    },
    {
     "name": "stderr",
     "output_type": "stream",
     "text": [
      "C:\\Users\\hnaid\\anaconda3\\Lib\\site-packages\\statsmodels\\base\\l1_solvers_common.py:71: ConvergenceWarning: QC check did not pass for 7 out of 31 parameters\n",
      "Try increasing solver accuracy or number of iterations, decreasing alpha, or switch solvers\n",
      "  warnings.warn(message, ConvergenceWarning)\n",
      "C:\\Users\\hnaid\\anaconda3\\Lib\\site-packages\\statsmodels\\base\\l1_solvers_common.py:144: ConvergenceWarning: Could not trim params automatically due to failed QC check. Trimming using trim_mode == 'size' will still work.\n",
      "  warnings.warn(msg, ConvergenceWarning)\n"
     ]
    },
    {
     "name": "stdout",
     "output_type": "stream",
     "text": [
      "Optimization terminated successfully    (Exit mode 0)\n",
      "            Current function value: 0.27444114490080657\n",
      "            Iterations: 207\n",
      "            Function evaluations: 208\n",
      "            Gradient evaluations: 207\n"
     ]
    },
    {
     "name": "stderr",
     "output_type": "stream",
     "text": [
      "C:\\Users\\hnaid\\anaconda3\\Lib\\site-packages\\statsmodels\\base\\l1_solvers_common.py:71: ConvergenceWarning: QC check did not pass for 9 out of 31 parameters\n",
      "Try increasing solver accuracy or number of iterations, decreasing alpha, or switch solvers\n",
      "  warnings.warn(message, ConvergenceWarning)\n",
      "C:\\Users\\hnaid\\anaconda3\\Lib\\site-packages\\statsmodels\\base\\l1_solvers_common.py:144: ConvergenceWarning: Could not trim params automatically due to failed QC check. Trimming using trim_mode == 'size' will still work.\n",
      "  warnings.warn(msg, ConvergenceWarning)\n"
     ]
    },
    {
     "name": "stdout",
     "output_type": "stream",
     "text": [
      "Optimization terminated successfully    (Exit mode 0)\n",
      "            Current function value: 0.27444635128143996\n",
      "            Iterations: 207\n",
      "            Function evaluations: 208\n",
      "            Gradient evaluations: 207\n"
     ]
    },
    {
     "name": "stderr",
     "output_type": "stream",
     "text": [
      "C:\\Users\\hnaid\\anaconda3\\Lib\\site-packages\\statsmodels\\base\\l1_solvers_common.py:71: ConvergenceWarning: QC check did not pass for 9 out of 31 parameters\n",
      "Try increasing solver accuracy or number of iterations, decreasing alpha, or switch solvers\n",
      "  warnings.warn(message, ConvergenceWarning)\n",
      "C:\\Users\\hnaid\\anaconda3\\Lib\\site-packages\\statsmodels\\base\\l1_solvers_common.py:144: ConvergenceWarning: Could not trim params automatically due to failed QC check. Trimming using trim_mode == 'size' will still work.\n",
      "  warnings.warn(msg, ConvergenceWarning)\n"
     ]
    },
    {
     "name": "stdout",
     "output_type": "stream",
     "text": [
      "Optimization terminated successfully    (Exit mode 0)\n",
      "            Current function value: 0.27443724185774215\n",
      "            Iterations: 284\n",
      "            Function evaluations: 284\n",
      "            Gradient evaluations: 284\n"
     ]
    },
    {
     "name": "stderr",
     "output_type": "stream",
     "text": [
      "C:\\Users\\hnaid\\anaconda3\\Lib\\site-packages\\statsmodels\\base\\l1_solvers_common.py:71: ConvergenceWarning: QC check did not pass for 9 out of 31 parameters\n",
      "Try increasing solver accuracy or number of iterations, decreasing alpha, or switch solvers\n",
      "  warnings.warn(message, ConvergenceWarning)\n",
      "C:\\Users\\hnaid\\anaconda3\\Lib\\site-packages\\statsmodels\\base\\l1_solvers_common.py:144: ConvergenceWarning: Could not trim params automatically due to failed QC check. Trimming using trim_mode == 'size' will still work.\n",
      "  warnings.warn(msg, ConvergenceWarning)\n"
     ]
    },
    {
     "name": "stdout",
     "output_type": "stream",
     "text": [
      "Optimization terminated successfully    (Exit mode 0)\n",
      "            Current function value: 0.27443327706689674\n",
      "            Iterations: 517\n",
      "            Function evaluations: 517\n",
      "            Gradient evaluations: 517\n"
     ]
    },
    {
     "name": "stderr",
     "output_type": "stream",
     "text": [
      "C:\\Users\\hnaid\\anaconda3\\Lib\\site-packages\\statsmodels\\base\\l1_solvers_common.py:71: ConvergenceWarning: QC check did not pass for 15 out of 31 parameters\n",
      "Try increasing solver accuracy or number of iterations, decreasing alpha, or switch solvers\n",
      "  warnings.warn(message, ConvergenceWarning)\n",
      "C:\\Users\\hnaid\\anaconda3\\Lib\\site-packages\\statsmodels\\base\\l1_solvers_common.py:144: ConvergenceWarning: Could not trim params automatically due to failed QC check. Trimming using trim_mode == 'size' will still work.\n",
      "  warnings.warn(msg, ConvergenceWarning)\n"
     ]
    },
    {
     "name": "stdout",
     "output_type": "stream",
     "text": [
      "Optimization terminated successfully    (Exit mode 0)\n",
      "            Current function value: 0.27444372738363465\n",
      "            Iterations: 424\n",
      "            Function evaluations: 424\n",
      "            Gradient evaluations: 424\n"
     ]
    },
    {
     "name": "stderr",
     "output_type": "stream",
     "text": [
      "C:\\Users\\hnaid\\anaconda3\\Lib\\site-packages\\statsmodels\\base\\l1_solvers_common.py:71: ConvergenceWarning: QC check did not pass for 6 out of 31 parameters\n",
      "Try increasing solver accuracy or number of iterations, decreasing alpha, or switch solvers\n",
      "  warnings.warn(message, ConvergenceWarning)\n",
      "C:\\Users\\hnaid\\anaconda3\\Lib\\site-packages\\statsmodels\\base\\l1_solvers_common.py:144: ConvergenceWarning: Could not trim params automatically due to failed QC check. Trimming using trim_mode == 'size' will still work.\n",
      "  warnings.warn(msg, ConvergenceWarning)\n"
     ]
    },
    {
     "name": "stdout",
     "output_type": "stream",
     "text": [
      "Optimization terminated successfully    (Exit mode 0)\n",
      "            Current function value: 0.27443928208750484\n",
      "            Iterations: 497\n",
      "            Function evaluations: 497\n",
      "            Gradient evaluations: 497\n",
      "{'alpha': 0.008111308307896872}\n"
     ]
    },
    {
     "name": "stderr",
     "output_type": "stream",
     "text": [
      "C:\\Users\\hnaid\\anaconda3\\Lib\\site-packages\\statsmodels\\base\\l1_solvers_common.py:71: ConvergenceWarning: QC check did not pass for 11 out of 31 parameters\n",
      "Try increasing solver accuracy or number of iterations, decreasing alpha, or switch solvers\n",
      "  warnings.warn(message, ConvergenceWarning)\n",
      "C:\\Users\\hnaid\\anaconda3\\Lib\\site-packages\\statsmodels\\base\\l1_solvers_common.py:144: ConvergenceWarning: Could not trim params automatically due to failed QC check. Trimming using trim_mode == 'size' will still work.\n",
      "  warnings.warn(msg, ConvergenceWarning)\n"
     ]
    },
    {
     "name": "stdout",
     "output_type": "stream",
     "text": [
      "Optimization terminated successfully    (Exit mode 0)\n",
      "            Current function value: 0.27444501166304036\n",
      "            Iterations: 500\n",
      "            Function evaluations: 500\n",
      "            Gradient evaluations: 500\n"
     ]
    },
    {
     "name": "stderr",
     "output_type": "stream",
     "text": [
      "C:\\Users\\hnaid\\anaconda3\\Lib\\site-packages\\statsmodels\\base\\l1_solvers_common.py:71: ConvergenceWarning: QC check did not pass for 16 out of 31 parameters\n",
      "Try increasing solver accuracy or number of iterations, decreasing alpha, or switch solvers\n",
      "  warnings.warn(message, ConvergenceWarning)\n",
      "C:\\Users\\hnaid\\anaconda3\\Lib\\site-packages\\statsmodels\\base\\l1_solvers_common.py:144: ConvergenceWarning: Could not trim params automatically due to failed QC check. Trimming using trim_mode == 'size' will still work.\n",
      "  warnings.warn(msg, ConvergenceWarning)\n"
     ]
    },
    {
     "name": "stdout",
     "output_type": "stream",
     "text": [
      "Optimization terminated successfully    (Exit mode 0)\n",
      "            Current function value: 0.27445211512482187\n",
      "            Iterations: 509\n",
      "            Function evaluations: 509\n",
      "            Gradient evaluations: 509\n"
     ]
    },
    {
     "name": "stderr",
     "output_type": "stream",
     "text": [
      "C:\\Users\\hnaid\\anaconda3\\Lib\\site-packages\\statsmodels\\base\\l1_solvers_common.py:71: ConvergenceWarning: QC check did not pass for 7 out of 31 parameters\n",
      "Try increasing solver accuracy or number of iterations, decreasing alpha, or switch solvers\n",
      "  warnings.warn(message, ConvergenceWarning)\n",
      "C:\\Users\\hnaid\\anaconda3\\Lib\\site-packages\\statsmodels\\base\\l1_solvers_common.py:144: ConvergenceWarning: Could not trim params automatically due to failed QC check. Trimming using trim_mode == 'size' will still work.\n",
      "  warnings.warn(msg, ConvergenceWarning)\n"
     ]
    },
    {
     "name": "stdout",
     "output_type": "stream",
     "text": [
      "Optimization terminated successfully    (Exit mode 0)\n",
      "            Current function value: 0.2744600105733571\n",
      "            Iterations: 516\n",
      "            Function evaluations: 516\n",
      "            Gradient evaluations: 516\n"
     ]
    },
    {
     "name": "stderr",
     "output_type": "stream",
     "text": [
      "C:\\Users\\hnaid\\anaconda3\\Lib\\site-packages\\statsmodels\\base\\l1_solvers_common.py:71: ConvergenceWarning: QC check did not pass for 8 out of 31 parameters\n",
      "Try increasing solver accuracy or number of iterations, decreasing alpha, or switch solvers\n",
      "  warnings.warn(message, ConvergenceWarning)\n",
      "C:\\Users\\hnaid\\anaconda3\\Lib\\site-packages\\statsmodels\\base\\l1_solvers_common.py:144: ConvergenceWarning: Could not trim params automatically due to failed QC check. Trimming using trim_mode == 'size' will still work.\n",
      "  warnings.warn(msg, ConvergenceWarning)\n"
     ]
    },
    {
     "name": "stdout",
     "output_type": "stream",
     "text": [
      "Optimization terminated successfully    (Exit mode 0)\n",
      "            Current function value: 0.2744706579123884\n",
      "            Iterations: 527\n",
      "            Function evaluations: 527\n",
      "            Gradient evaluations: 527\n"
     ]
    },
    {
     "name": "stderr",
     "output_type": "stream",
     "text": [
      "C:\\Users\\hnaid\\anaconda3\\Lib\\site-packages\\statsmodels\\base\\l1_solvers_common.py:71: ConvergenceWarning: QC check did not pass for 20 out of 31 parameters\n",
      "Try increasing solver accuracy or number of iterations, decreasing alpha, or switch solvers\n",
      "  warnings.warn(message, ConvergenceWarning)\n",
      "C:\\Users\\hnaid\\anaconda3\\Lib\\site-packages\\statsmodels\\base\\l1_solvers_common.py:144: ConvergenceWarning: Could not trim params automatically due to failed QC check. Trimming using trim_mode == 'size' will still work.\n",
      "  warnings.warn(msg, ConvergenceWarning)\n"
     ]
    },
    {
     "name": "stdout",
     "output_type": "stream",
     "text": [
      "Optimization terminated successfully    (Exit mode 0)\n",
      "            Current function value: 0.2744833872857366\n",
      "            Iterations: 504\n",
      "            Function evaluations: 504\n",
      "            Gradient evaluations: 504\n",
      "{'alpha': 0.020565123083486535}\n"
     ]
    },
    {
     "name": "stderr",
     "output_type": "stream",
     "text": [
      "C:\\Users\\hnaid\\anaconda3\\Lib\\site-packages\\statsmodels\\base\\l1_solvers_common.py:71: ConvergenceWarning: QC check did not pass for 20 out of 31 parameters\n",
      "Try increasing solver accuracy or number of iterations, decreasing alpha, or switch solvers\n",
      "  warnings.warn(message, ConvergenceWarning)\n",
      "C:\\Users\\hnaid\\anaconda3\\Lib\\site-packages\\statsmodels\\base\\l1_solvers_common.py:144: ConvergenceWarning: Could not trim params automatically due to failed QC check. Trimming using trim_mode == 'size' will still work.\n",
      "  warnings.warn(msg, ConvergenceWarning)\n"
     ]
    },
    {
     "name": "stdout",
     "output_type": "stream",
     "text": [
      "Optimization terminated successfully    (Exit mode 0)\n",
      "            Current function value: 0.27449855949887675\n",
      "            Iterations: 505\n",
      "            Function evaluations: 505\n",
      "            Gradient evaluations: 505\n"
     ]
    },
    {
     "name": "stderr",
     "output_type": "stream",
     "text": [
      "C:\\Users\\hnaid\\anaconda3\\Lib\\site-packages\\statsmodels\\base\\l1_solvers_common.py:71: ConvergenceWarning: QC check did not pass for 8 out of 31 parameters\n",
      "Try increasing solver accuracy or number of iterations, decreasing alpha, or switch solvers\n",
      "  warnings.warn(message, ConvergenceWarning)\n",
      "C:\\Users\\hnaid\\anaconda3\\Lib\\site-packages\\statsmodels\\base\\l1_solvers_common.py:144: ConvergenceWarning: Could not trim params automatically due to failed QC check. Trimming using trim_mode == 'size' will still work.\n",
      "  warnings.warn(msg, ConvergenceWarning)\n"
     ]
    },
    {
     "name": "stdout",
     "output_type": "stream",
     "text": [
      "Optimization terminated successfully    (Exit mode 0)\n",
      "            Current function value: 0.2745166597055917\n",
      "            Iterations: 501\n",
      "            Function evaluations: 502\n",
      "            Gradient evaluations: 501\n"
     ]
    },
    {
     "name": "stderr",
     "output_type": "stream",
     "text": [
      "C:\\Users\\hnaid\\anaconda3\\Lib\\site-packages\\statsmodels\\base\\l1_solvers_common.py:71: ConvergenceWarning: QC check did not pass for 15 out of 31 parameters\n",
      "Try increasing solver accuracy or number of iterations, decreasing alpha, or switch solvers\n",
      "  warnings.warn(message, ConvergenceWarning)\n",
      "C:\\Users\\hnaid\\anaconda3\\Lib\\site-packages\\statsmodels\\base\\l1_solvers_common.py:144: ConvergenceWarning: Could not trim params automatically due to failed QC check. Trimming using trim_mode == 'size' will still work.\n",
      "  warnings.warn(msg, ConvergenceWarning)\n"
     ]
    },
    {
     "name": "stdout",
     "output_type": "stream",
     "text": [
      "Optimization terminated successfully    (Exit mode 0)\n",
      "            Current function value: 0.27453798409566393\n",
      "            Iterations: 493\n",
      "            Function evaluations: 493\n",
      "            Gradient evaluations: 493\n"
     ]
    },
    {
     "name": "stderr",
     "output_type": "stream",
     "text": [
      "C:\\Users\\hnaid\\anaconda3\\Lib\\site-packages\\statsmodels\\base\\l1_solvers_common.py:71: ConvergenceWarning: QC check did not pass for 10 out of 31 parameters\n",
      "Try increasing solver accuracy or number of iterations, decreasing alpha, or switch solvers\n",
      "  warnings.warn(message, ConvergenceWarning)\n",
      "C:\\Users\\hnaid\\anaconda3\\Lib\\site-packages\\statsmodels\\base\\l1_solvers_common.py:144: ConvergenceWarning: Could not trim params automatically due to failed QC check. Trimming using trim_mode == 'size' will still work.\n",
      "  warnings.warn(msg, ConvergenceWarning)\n"
     ]
    },
    {
     "name": "stdout",
     "output_type": "stream",
     "text": [
      "Optimization terminated successfully    (Exit mode 0)\n",
      "            Current function value: 0.27456326764250577\n",
      "            Iterations: 473\n",
      "            Function evaluations: 474\n",
      "            Gradient evaluations: 473\n"
     ]
    },
    {
     "name": "stderr",
     "output_type": "stream",
     "text": [
      "C:\\Users\\hnaid\\anaconda3\\Lib\\site-packages\\statsmodels\\base\\l1_solvers_common.py:71: ConvergenceWarning: QC check did not pass for 13 out of 31 parameters\n",
      "Try increasing solver accuracy or number of iterations, decreasing alpha, or switch solvers\n",
      "  warnings.warn(message, ConvergenceWarning)\n",
      "C:\\Users\\hnaid\\anaconda3\\Lib\\site-packages\\statsmodels\\base\\l1_solvers_common.py:144: ConvergenceWarning: Could not trim params automatically due to failed QC check. Trimming using trim_mode == 'size' will still work.\n",
      "  warnings.warn(msg, ConvergenceWarning)\n"
     ]
    },
    {
     "name": "stdout",
     "output_type": "stream",
     "text": [
      "Optimization terminated successfully    (Exit mode 0)\n",
      "            Current function value: 0.27459291143367054\n",
      "            Iterations: 491\n",
      "            Function evaluations: 491\n",
      "            Gradient evaluations: 491\n",
      "{'alpha': 0.0521400828799969}\n"
     ]
    },
    {
     "name": "stderr",
     "output_type": "stream",
     "text": [
      "C:\\Users\\hnaid\\anaconda3\\Lib\\site-packages\\statsmodels\\base\\l1_solvers_common.py:71: ConvergenceWarning: QC check did not pass for 10 out of 31 parameters\n",
      "Try increasing solver accuracy or number of iterations, decreasing alpha, or switch solvers\n",
      "  warnings.warn(message, ConvergenceWarning)\n",
      "C:\\Users\\hnaid\\anaconda3\\Lib\\site-packages\\statsmodels\\base\\l1_solvers_common.py:144: ConvergenceWarning: Could not trim params automatically due to failed QC check. Trimming using trim_mode == 'size' will still work.\n",
      "  warnings.warn(msg, ConvergenceWarning)\n"
     ]
    },
    {
     "name": "stdout",
     "output_type": "stream",
     "text": [
      "Optimization terminated successfully    (Exit mode 0)\n",
      "            Current function value: 0.274628786590579\n",
      "            Iterations: 473\n",
      "            Function evaluations: 473\n",
      "            Gradient evaluations: 473\n"
     ]
    },
    {
     "name": "stderr",
     "output_type": "stream",
     "text": [
      "C:\\Users\\hnaid\\anaconda3\\Lib\\site-packages\\statsmodels\\base\\l1_solvers_common.py:71: ConvergenceWarning: QC check did not pass for 10 out of 31 parameters\n",
      "Try increasing solver accuracy or number of iterations, decreasing alpha, or switch solvers\n",
      "  warnings.warn(message, ConvergenceWarning)\n",
      "C:\\Users\\hnaid\\anaconda3\\Lib\\site-packages\\statsmodels\\base\\l1_solvers_common.py:144: ConvergenceWarning: Could not trim params automatically due to failed QC check. Trimming using trim_mode == 'size' will still work.\n",
      "  warnings.warn(msg, ConvergenceWarning)\n"
     ]
    },
    {
     "name": "stdout",
     "output_type": "stream",
     "text": [
      "Optimization terminated successfully    (Exit mode 0)\n",
      "            Current function value: 0.2746713112178781\n",
      "            Iterations: 468\n",
      "            Function evaluations: 468\n",
      "            Gradient evaluations: 468\n"
     ]
    },
    {
     "name": "stderr",
     "output_type": "stream",
     "text": [
      "C:\\Users\\hnaid\\anaconda3\\Lib\\site-packages\\statsmodels\\base\\l1_solvers_common.py:71: ConvergenceWarning: QC check did not pass for 11 out of 31 parameters\n",
      "Try increasing solver accuracy or number of iterations, decreasing alpha, or switch solvers\n",
      "  warnings.warn(message, ConvergenceWarning)\n",
      "C:\\Users\\hnaid\\anaconda3\\Lib\\site-packages\\statsmodels\\base\\l1_solvers_common.py:144: ConvergenceWarning: Could not trim params automatically due to failed QC check. Trimming using trim_mode == 'size' will still work.\n",
      "  warnings.warn(msg, ConvergenceWarning)\n"
     ]
    },
    {
     "name": "stdout",
     "output_type": "stream",
     "text": [
      "Optimization terminated successfully    (Exit mode 0)\n",
      "            Current function value: 0.27471932437443264\n",
      "            Iterations: 452\n",
      "            Function evaluations: 452\n",
      "            Gradient evaluations: 452\n"
     ]
    },
    {
     "name": "stderr",
     "output_type": "stream",
     "text": [
      "C:\\Users\\hnaid\\anaconda3\\Lib\\site-packages\\statsmodels\\base\\l1_solvers_common.py:71: ConvergenceWarning: QC check did not pass for 5 out of 31 parameters\n",
      "Try increasing solver accuracy or number of iterations, decreasing alpha, or switch solvers\n",
      "  warnings.warn(message, ConvergenceWarning)\n",
      "C:\\Users\\hnaid\\anaconda3\\Lib\\site-packages\\statsmodels\\base\\l1_solvers_common.py:144: ConvergenceWarning: Could not trim params automatically due to failed QC check. Trimming using trim_mode == 'size' will still work.\n",
      "  warnings.warn(msg, ConvergenceWarning)\n"
     ]
    },
    {
     "name": "stdout",
     "output_type": "stream",
     "text": [
      "Optimization terminated successfully    (Exit mode 0)\n",
      "            Current function value: 0.27477995056535387\n",
      "            Iterations: 433\n",
      "            Function evaluations: 433\n",
      "            Gradient evaluations: 433\n"
     ]
    },
    {
     "name": "stderr",
     "output_type": "stream",
     "text": [
      "C:\\Users\\hnaid\\anaconda3\\Lib\\site-packages\\statsmodels\\base\\l1_solvers_common.py:71: ConvergenceWarning: QC check did not pass for 6 out of 31 parameters\n",
      "Try increasing solver accuracy or number of iterations, decreasing alpha, or switch solvers\n",
      "  warnings.warn(message, ConvergenceWarning)\n",
      "C:\\Users\\hnaid\\anaconda3\\Lib\\site-packages\\statsmodels\\base\\l1_solvers_common.py:144: ConvergenceWarning: Could not trim params automatically due to failed QC check. Trimming using trim_mode == 'size' will still work.\n",
      "  warnings.warn(msg, ConvergenceWarning)\n"
     ]
    },
    {
     "name": "stdout",
     "output_type": "stream",
     "text": [
      "Optimization terminated successfully    (Exit mode 0)\n",
      "            Current function value: 0.2748519303012709\n",
      "            Iterations: 428\n",
      "            Function evaluations: 428\n",
      "            Gradient evaluations: 428\n"
     ]
    },
    {
     "name": "stderr",
     "output_type": "stream",
     "text": [
      "C:\\Users\\hnaid\\anaconda3\\Lib\\site-packages\\statsmodels\\base\\l1_solvers_common.py:71: ConvergenceWarning: QC check did not pass for 6 out of 31 parameters\n",
      "Try increasing solver accuracy or number of iterations, decreasing alpha, or switch solvers\n",
      "  warnings.warn(message, ConvergenceWarning)\n",
      "C:\\Users\\hnaid\\anaconda3\\Lib\\site-packages\\statsmodels\\base\\l1_solvers_common.py:144: ConvergenceWarning: Could not trim params automatically due to failed QC check. Trimming using trim_mode == 'size' will still work.\n",
      "  warnings.warn(msg, ConvergenceWarning)\n"
     ]
    },
    {
     "name": "stdout",
     "output_type": "stream",
     "text": [
      "Optimization terminated successfully    (Exit mode 0)\n",
      "            Current function value: 0.2749364858431283\n",
      "            Iterations: 400\n",
      "            Function evaluations: 400\n",
      "            Gradient evaluations: 400\n"
     ]
    },
    {
     "name": "stderr",
     "output_type": "stream",
     "text": [
      "C:\\Users\\hnaid\\anaconda3\\Lib\\site-packages\\statsmodels\\base\\l1_solvers_common.py:71: ConvergenceWarning: QC check did not pass for 4 out of 31 parameters\n",
      "Try increasing solver accuracy or number of iterations, decreasing alpha, or switch solvers\n",
      "  warnings.warn(message, ConvergenceWarning)\n",
      "C:\\Users\\hnaid\\anaconda3\\Lib\\site-packages\\statsmodels\\base\\l1_solvers_common.py:144: ConvergenceWarning: Could not trim params automatically due to failed QC check. Trimming using trim_mode == 'size' will still work.\n",
      "  warnings.warn(msg, ConvergenceWarning)\n"
     ]
    },
    {
     "name": "stdout",
     "output_type": "stream",
     "text": [
      "Optimization terminated successfully    (Exit mode 0)\n",
      "            Current function value: 0.275036150836233\n",
      "            Iterations: 395\n",
      "            Function evaluations: 395\n",
      "            Gradient evaluations: 395\n"
     ]
    },
    {
     "name": "stderr",
     "output_type": "stream",
     "text": [
      "C:\\Users\\hnaid\\anaconda3\\Lib\\site-packages\\statsmodels\\base\\l1_solvers_common.py:71: ConvergenceWarning: QC check did not pass for 7 out of 31 parameters\n",
      "Try increasing solver accuracy or number of iterations, decreasing alpha, or switch solvers\n",
      "  warnings.warn(message, ConvergenceWarning)\n",
      "C:\\Users\\hnaid\\anaconda3\\Lib\\site-packages\\statsmodels\\base\\l1_solvers_common.py:144: ConvergenceWarning: Could not trim params automatically due to failed QC check. Trimming using trim_mode == 'size' will still work.\n",
      "  warnings.warn(msg, ConvergenceWarning)\n"
     ]
    },
    {
     "name": "stdout",
     "output_type": "stream",
     "text": [
      "Optimization terminated successfully    (Exit mode 0)\n",
      "            Current function value: 0.27515480015012894\n",
      "            Iterations: 374\n",
      "            Function evaluations: 374\n",
      "            Gradient evaluations: 374\n"
     ]
    },
    {
     "name": "stderr",
     "output_type": "stream",
     "text": [
      "C:\\Users\\hnaid\\anaconda3\\Lib\\site-packages\\statsmodels\\base\\l1_solvers_common.py:71: ConvergenceWarning: QC check did not pass for 2 out of 31 parameters\n",
      "Try increasing solver accuracy or number of iterations, decreasing alpha, or switch solvers\n",
      "  warnings.warn(message, ConvergenceWarning)\n",
      "C:\\Users\\hnaid\\anaconda3\\Lib\\site-packages\\statsmodels\\base\\l1_solvers_common.py:144: ConvergenceWarning: Could not trim params automatically due to failed QC check. Trimming using trim_mode == 'size' will still work.\n",
      "  warnings.warn(msg, ConvergenceWarning)\n"
     ]
    },
    {
     "name": "stdout",
     "output_type": "stream",
     "text": [
      "Optimization terminated successfully    (Exit mode 0)\n",
      "            Current function value: 0.275295686687162\n",
      "            Iterations: 394\n",
      "            Function evaluations: 394\n",
      "            Gradient evaluations: 394\n",
      "Optimization terminated successfully    (Exit mode 0)\n",
      "            Current function value: 0.27546356523311905\n",
      "            Iterations: 366\n",
      "            Function evaluations: 366\n",
      "            Gradient evaluations: 366\n"
     ]
    },
    {
     "name": "stderr",
     "output_type": "stream",
     "text": [
      "C:\\Users\\hnaid\\anaconda3\\Lib\\site-packages\\statsmodels\\base\\l1_solvers_common.py:71: ConvergenceWarning: QC check did not pass for 1 out of 31 parameters\n",
      "Try increasing solver accuracy or number of iterations, decreasing alpha, or switch solvers\n",
      "  warnings.warn(message, ConvergenceWarning)\n",
      "C:\\Users\\hnaid\\anaconda3\\Lib\\site-packages\\statsmodels\\base\\l1_solvers_common.py:144: ConvergenceWarning: Could not trim params automatically due to failed QC check. Trimming using trim_mode == 'size' will still work.\n",
      "  warnings.warn(msg, ConvergenceWarning)\n"
     ]
    },
    {
     "name": "stdout",
     "output_type": "stream",
     "text": [
      "Optimization terminated successfully    (Exit mode 0)\n",
      "            Current function value: 0.27566351040135123\n",
      "            Iterations: 360\n",
      "            Function evaluations: 360\n",
      "            Gradient evaluations: 360\n",
      "Optimization terminated successfully    (Exit mode 0)\n",
      "            Current function value: 0.27590156367074287\n",
      "            Iterations: 332\n",
      "            Function evaluations: 332\n",
      "            Gradient evaluations: 332\n",
      "Optimization terminated successfully    (Exit mode 0)\n",
      "            Current function value: 0.2761848624351439\n",
      "            Iterations: 316\n",
      "            Function evaluations: 317\n",
      "            Gradient evaluations: 316\n",
      "Optimization terminated successfully    (Exit mode 0)\n",
      "            Current function value: 0.2765218320648218\n",
      "            Iterations: 300\n",
      "            Function evaluations: 300\n",
      "            Gradient evaluations: 300\n",
      "Optimization terminated successfully    (Exit mode 0)\n",
      "            Current function value: 0.2769224030680049\n",
      "            Iterations: 286\n",
      "            Function evaluations: 286\n",
      "            Gradient evaluations: 286\n",
      "Optimization terminated successfully    (Exit mode 0)\n",
      "            Current function value: 0.2773982442367323\n",
      "            Iterations: 277\n",
      "            Function evaluations: 277\n",
      "            Gradient evaluations: 277\n",
      "Optimization terminated successfully    (Exit mode 0)\n",
      "            Current function value: 0.27796302699291997\n",
      "            Iterations: 265\n",
      "            Function evaluations: 265\n",
      "            Gradient evaluations: 265\n",
      "{'alpha': 1.2328467394420684}\n",
      "Optimization terminated successfully    (Exit mode 0)\n",
      "            Current function value: 0.27863273472368516\n",
      "            Iterations: 247\n",
      "            Function evaluations: 247\n",
      "            Gradient evaluations: 247\n",
      "Optimization terminated successfully    (Exit mode 0)\n",
      "            Current function value: 0.27942594682241434\n",
      "            Iterations: 240\n",
      "            Function evaluations: 240\n",
      "            Gradient evaluations: 240\n",
      "Optimization terminated successfully    (Exit mode 0)\n",
      "            Current function value: 0.2803641498696063\n",
      "            Iterations: 231\n",
      "            Function evaluations: 231\n",
      "            Gradient evaluations: 231\n",
      "Optimization terminated successfully    (Exit mode 0)\n",
      "            Current function value: 0.2814714636963125\n",
      "            Iterations: 181\n",
      "            Function evaluations: 181\n",
      "            Gradient evaluations: 181\n",
      "Optimization terminated successfully    (Exit mode 0)\n",
      "            Current function value: 0.28277412705264676\n",
      "            Iterations: 173\n",
      "            Function evaluations: 173\n",
      "            Gradient evaluations: 173\n",
      "Optimization terminated successfully    (Exit mode 0)\n",
      "            Current function value: 0.2843057826300717\n",
      "            Iterations: 202\n",
      "            Function evaluations: 202\n",
      "            Gradient evaluations: 202\n",
      "Optimization terminated successfully    (Exit mode 0)\n",
      "            Current function value: 0.2861025629518939\n",
      "            Iterations: 181\n",
      "            Function evaluations: 182\n",
      "            Gradient evaluations: 181\n",
      "Optimization terminated successfully    (Exit mode 0)\n",
      "            Current function value: 0.28820368772526833\n",
      "            Iterations: 169\n",
      "            Function evaluations: 169\n",
      "            Gradient evaluations: 169\n",
      "{'alpha': 5.462277217684348}\n",
      "Optimization terminated successfully    (Exit mode 0)\n",
      "            Current function value: 0.2906516342108036\n",
      "            Iterations: 153\n",
      "            Function evaluations: 153\n",
      "            Gradient evaluations: 153\n",
      "Optimization terminated successfully    (Exit mode 0)\n",
      "            Current function value: 0.2934941019427512\n",
      "            Iterations: 151\n",
      "            Function evaluations: 151\n",
      "            Gradient evaluations: 151\n",
      "{'alpha': 7.924828983539186}\n",
      "Optimization terminated successfully    (Exit mode 0)\n",
      "            Current function value: 0.29678476207620785\n",
      "            Iterations: 134\n",
      "            Function evaluations: 135\n",
      "            Gradient evaluations: 134\n",
      "Optimization terminated successfully    (Exit mode 0)\n",
      "            Current function value: 0.3005757594953611\n",
      "            Iterations: 127\n",
      "            Function evaluations: 128\n",
      "            Gradient evaluations: 127\n",
      "Optimization terminated successfully    (Exit mode 0)\n",
      "            Current function value: 0.30492577860150244\n",
      "            Iterations: 128\n",
      "            Function evaluations: 128\n",
      "            Gradient evaluations: 128\n",
      "{'alpha': 13.848863713938746}\n",
      "Optimization terminated successfully    (Exit mode 0)\n",
      "            Current function value: 0.30990191128060507\n",
      "            Iterations: 123\n",
      "            Function evaluations: 123\n",
      "            Gradient evaluations: 123\n",
      "Optimization terminated successfully    (Exit mode 0)\n",
      "            Current function value: 0.31560059470399704\n",
      "            Iterations: 117\n",
      "            Function evaluations: 117\n",
      "            Gradient evaluations: 117\n",
      "Optimization terminated successfully    (Exit mode 0)\n",
      "            Current function value: 0.3221055362134782\n",
      "            Iterations: 114\n",
      "            Function evaluations: 114\n",
      "            Gradient evaluations: 114\n",
      "Optimization terminated successfully    (Exit mode 0)\n",
      "            Current function value: 0.3294886900579913\n",
      "            Iterations: 106\n",
      "            Function evaluations: 107\n",
      "            Gradient evaluations: 106\n",
      "Optimization terminated successfully    (Exit mode 0)\n",
      "            Current function value: 0.3378128431717869\n",
      "            Iterations: 104\n",
      "            Function evaluations: 105\n",
      "            Gradient evaluations: 104\n",
      "Optimization terminated successfully    (Exit mode 0)\n",
      "            Current function value: 0.34712328939773157\n",
      "            Iterations: 102\n",
      "            Function evaluations: 103\n",
      "            Gradient evaluations: 102\n",
      "Optimization terminated successfully    (Exit mode 0)\n",
      "            Current function value: 0.35742328952914987\n",
      "            Iterations: 90\n",
      "            Function evaluations: 90\n",
      "            Gradient evaluations: 90\n",
      "Optimization terminated successfully    (Exit mode 0)\n",
      "            Current function value: 0.3687012249923584\n",
      "            Iterations: 81\n",
      "            Function evaluations: 81\n",
      "            Gradient evaluations: 81\n",
      "{'alpha': 61.35907273413176}\n",
      "Optimization terminated successfully    (Exit mode 0)\n",
      "            Current function value: 0.38094561723805515\n",
      "            Iterations: 77\n",
      "            Function evaluations: 77\n",
      "            Gradient evaluations: 77\n",
      "Optimization terminated successfully    (Exit mode 0)\n",
      "            Current function value: 0.3940188208911368\n",
      "            Iterations: 75\n",
      "            Function evaluations: 75\n",
      "            Gradient evaluations: 75\n",
      "{'alpha': 89.02150854450393}\n",
      "Optimization terminated successfully    (Exit mode 0)\n",
      "            Current function value: 0.4076722236043454\n",
      "            Iterations: 67\n",
      "            Function evaluations: 67\n",
      "            Gradient evaluations: 67\n",
      "{'alpha': 107.22672220103253}\n",
      "Optimization terminated successfully    (Exit mode 0)\n",
      "            Current function value: 0.42157557547950686\n",
      "            Iterations: 58\n",
      "            Function evaluations: 59\n",
      "            Gradient evaluations: 58\n",
      "{'alpha': 129.15496650148853}\n",
      "Optimization terminated successfully    (Exit mode 0)\n",
      "            Current function value: 0.4354461774739645\n",
      "            Iterations: 58\n",
      "            Function evaluations: 58\n",
      "            Gradient evaluations: 58\n",
      "Optimization terminated successfully    (Exit mode 0)\n",
      "            Current function value: 0.44933815982231423\n",
      "            Iterations: 57\n",
      "            Function evaluations: 57\n",
      "            Gradient evaluations: 57\n",
      "Optimization terminated successfully    (Exit mode 0)\n",
      "            Current function value: 0.4626832887569739\n",
      "            Iterations: 53\n",
      "            Function evaluations: 53\n",
      "            Gradient evaluations: 53\n",
      "Optimization terminated successfully    (Exit mode 0)\n",
      "            Current function value: 0.47571523097841273\n",
      "            Iterations: 31\n",
      "            Function evaluations: 31\n",
      "            Gradient evaluations: 31\n",
      "Optimization terminated successfully    (Exit mode 0)\n",
      "            Current function value: 0.48993749991952484\n",
      "            Iterations: 28\n",
      "            Function evaluations: 28\n",
      "            Gradient evaluations: 28\n",
      "Optimization terminated successfully    (Exit mode 0)\n",
      "            Current function value: 0.5056040911474412\n",
      "            Iterations: 24\n",
      "            Function evaluations: 24\n",
      "            Gradient evaluations: 24\n",
      "Optimization terminated successfully    (Exit mode 0)\n",
      "            Current function value: 0.5226256920469109\n",
      "            Iterations: 20\n",
      "            Function evaluations: 20\n",
      "            Gradient evaluations: 20\n",
      "Optimization terminated successfully    (Exit mode 0)\n",
      "            Current function value: 0.5416478397109612\n",
      "            Iterations: 18\n",
      "            Function evaluations: 18\n",
      "            Gradient evaluations: 18\n",
      "Optimization terminated successfully    (Exit mode 0)\n",
      "            Current function value: 0.5628132596544168\n",
      "            Iterations: 17\n",
      "            Function evaluations: 18\n",
      "            Gradient evaluations: 17\n",
      "Optimization terminated successfully    (Exit mode 0)\n",
      "            Current function value: 0.5859018699074574\n",
      "            Iterations: 14\n",
      "            Function evaluations: 14\n",
      "            Gradient evaluations: 14\n",
      "Optimization terminated successfully    (Exit mode 0)\n",
      "            Current function value: 0.6104090863920691\n",
      "            Iterations: 13\n",
      "            Function evaluations: 13\n",
      "            Gradient evaluations: 13\n"
     ]
    }
   ],
   "source": [
    "for params in param_list:\n",
    "    # Fit the model with the given parameters\n",
    "    try:\n",
    "        results = model.fit_regularized(method='l1', QC_verbose=False, **params)\n",
    "    except:\n",
    "        print(params)\n",
    "    \n",
    "    # Store the coefficients\n",
    "    row = pd.DataFrame(results.params).transpose()\n",
    "    row = pd.concat([row, pd.DataFrame.from_dict({'regularization': [params['alpha']]})], axis=1)\n",
    "    if coefficients is None: \n",
    "        coefficients = row\n",
    "    else: \n",
    "        coefficients = pd.concat([coefficients, row], ignore_index=True)"
   ]
  },
  {
   "cell_type": "code",
   "execution_count": 233,
   "id": "51bce96e",
   "metadata": {},
   "outputs": [
    {
     "data": {
      "text/html": [
       "<div>\n",
       "<style scoped>\n",
       "    .dataframe tbody tr th:only-of-type {\n",
       "        vertical-align: middle;\n",
       "    }\n",
       "\n",
       "    .dataframe tbody tr th {\n",
       "        vertical-align: top;\n",
       "    }\n",
       "\n",
       "    .dataframe thead th {\n",
       "        text-align: right;\n",
       "    }\n",
       "</style>\n",
       "<table border=\"1\" class=\"dataframe\">\n",
       "  <thead>\n",
       "    <tr style=\"text-align: right;\">\n",
       "      <th></th>\n",
       "      <th>Intercept</th>\n",
       "      <th>C(gender)[T.Male]</th>\n",
       "      <th>C(senior_citizen)[T.Yes]</th>\n",
       "      <th>C(partner)[T.Yes]</th>\n",
       "      <th>C(dependents)[T.Yes]</th>\n",
       "      <th>C(phone_service)[T.Yes]</th>\n",
       "      <th>C(multiple_lines)[T.No phone service]</th>\n",
       "      <th>C(multiple_lines)[T.Yes]</th>\n",
       "      <th>C(internet_service)[T.Fiber optic]</th>\n",
       "      <th>C(internet_service)[T.No]</th>\n",
       "      <th>...</th>\n",
       "      <th>C(contract)[T.One year]</th>\n",
       "      <th>C(contract)[T.Two year]</th>\n",
       "      <th>C(paperless_billing)[T.Yes]</th>\n",
       "      <th>C(payment_method)[T.Credit card (automatic)]</th>\n",
       "      <th>C(payment_method)[T.Electronic check]</th>\n",
       "      <th>C(payment_method)[T.Mailed check]</th>\n",
       "      <th>latitude</th>\n",
       "      <th>longitude</th>\n",
       "      <th>monthly_charges</th>\n",
       "      <th>regularization</th>\n",
       "    </tr>\n",
       "  </thead>\n",
       "  <tbody>\n",
       "    <tr>\n",
       "      <th>0</th>\n",
       "      <td>0.186340</td>\n",
       "      <td>-0.120224</td>\n",
       "      <td>-0.157111</td>\n",
       "      <td>-0.525218</td>\n",
       "      <td>-0.748841</td>\n",
       "      <td>-0.102622</td>\n",
       "      <td>0.724775</td>\n",
       "      <td>-0.788125</td>\n",
       "      <td>-0.274649</td>\n",
       "      <td>-0.047905</td>\n",
       "      <td>...</td>\n",
       "      <td>-3.165370</td>\n",
       "      <td>-22.955059</td>\n",
       "      <td>0.211378</td>\n",
       "      <td>-0.320597</td>\n",
       "      <td>0.603416</td>\n",
       "      <td>0.506886</td>\n",
       "      <td>-0.138115</td>\n",
       "      <td>-0.107667</td>\n",
       "      <td>0.970971</td>\n",
       "      <td>0.000010</td>\n",
       "    </tr>\n",
       "    <tr>\n",
       "      <th>1</th>\n",
       "      <td>0.186069</td>\n",
       "      <td>-0.120223</td>\n",
       "      <td>-0.157112</td>\n",
       "      <td>-0.525218</td>\n",
       "      <td>-0.748839</td>\n",
       "      <td>-0.102675</td>\n",
       "      <td>0.724395</td>\n",
       "      <td>-0.788044</td>\n",
       "      <td>-0.274244</td>\n",
       "      <td>-0.047963</td>\n",
       "      <td>...</td>\n",
       "      <td>-3.165367</td>\n",
       "      <td>-22.945008</td>\n",
       "      <td>0.211378</td>\n",
       "      <td>-0.320596</td>\n",
       "      <td>0.603418</td>\n",
       "      <td>0.506887</td>\n",
       "      <td>-0.138115</td>\n",
       "      <td>-0.107666</td>\n",
       "      <td>0.970485</td>\n",
       "      <td>0.000012</td>\n",
       "    </tr>\n",
       "    <tr>\n",
       "      <th>2</th>\n",
       "      <td>0.185742</td>\n",
       "      <td>-0.120221</td>\n",
       "      <td>-0.157112</td>\n",
       "      <td>-0.525219</td>\n",
       "      <td>-0.748836</td>\n",
       "      <td>-0.102739</td>\n",
       "      <td>0.723939</td>\n",
       "      <td>-0.787946</td>\n",
       "      <td>-0.273756</td>\n",
       "      <td>-0.048033</td>\n",
       "      <td>...</td>\n",
       "      <td>-3.165363</td>\n",
       "      <td>-22.932903</td>\n",
       "      <td>0.211378</td>\n",
       "      <td>-0.320594</td>\n",
       "      <td>0.603419</td>\n",
       "      <td>0.506890</td>\n",
       "      <td>-0.138115</td>\n",
       "      <td>-0.107665</td>\n",
       "      <td>0.969899</td>\n",
       "      <td>0.000015</td>\n",
       "    </tr>\n",
       "    <tr>\n",
       "      <th>3</th>\n",
       "      <td>0.185349</td>\n",
       "      <td>-0.120220</td>\n",
       "      <td>-0.157113</td>\n",
       "      <td>-0.525221</td>\n",
       "      <td>-0.748833</td>\n",
       "      <td>-0.102817</td>\n",
       "      <td>0.723388</td>\n",
       "      <td>-0.787828</td>\n",
       "      <td>-0.273168</td>\n",
       "      <td>-0.048117</td>\n",
       "      <td>...</td>\n",
       "      <td>-3.165358</td>\n",
       "      <td>-22.918322</td>\n",
       "      <td>0.211378</td>\n",
       "      <td>-0.320592</td>\n",
       "      <td>0.603421</td>\n",
       "      <td>0.506893</td>\n",
       "      <td>-0.138114</td>\n",
       "      <td>-0.107664</td>\n",
       "      <td>0.969193</td>\n",
       "      <td>0.000017</td>\n",
       "    </tr>\n",
       "    <tr>\n",
       "      <th>4</th>\n",
       "      <td>0.184875</td>\n",
       "      <td>-0.120218</td>\n",
       "      <td>-0.157113</td>\n",
       "      <td>-0.525222</td>\n",
       "      <td>-0.748829</td>\n",
       "      <td>-0.102910</td>\n",
       "      <td>0.722726</td>\n",
       "      <td>-0.787687</td>\n",
       "      <td>-0.272461</td>\n",
       "      <td>-0.048218</td>\n",
       "      <td>...</td>\n",
       "      <td>-3.165353</td>\n",
       "      <td>-22.900762</td>\n",
       "      <td>0.211378</td>\n",
       "      <td>-0.320590</td>\n",
       "      <td>0.603424</td>\n",
       "      <td>0.506896</td>\n",
       "      <td>-0.138114</td>\n",
       "      <td>-0.107663</td>\n",
       "      <td>0.968342</td>\n",
       "      <td>0.000021</td>\n",
       "    </tr>\n",
       "    <tr>\n",
       "      <th>...</th>\n",
       "      <td>...</td>\n",
       "      <td>...</td>\n",
       "      <td>...</td>\n",
       "      <td>...</td>\n",
       "      <td>...</td>\n",
       "      <td>...</td>\n",
       "      <td>...</td>\n",
       "      <td>...</td>\n",
       "      <td>...</td>\n",
       "      <td>...</td>\n",
       "      <td>...</td>\n",
       "      <td>...</td>\n",
       "      <td>...</td>\n",
       "      <td>...</td>\n",
       "      <td>...</td>\n",
       "      <td>...</td>\n",
       "      <td>...</td>\n",
       "      <td>...</td>\n",
       "      <td>...</td>\n",
       "      <td>...</td>\n",
       "      <td>...</td>\n",
       "    </tr>\n",
       "    <tr>\n",
       "      <th>95</th>\n",
       "      <td>-1.285344</td>\n",
       "      <td>0.000000</td>\n",
       "      <td>0.000000</td>\n",
       "      <td>0.000000</td>\n",
       "      <td>0.000000</td>\n",
       "      <td>0.000000</td>\n",
       "      <td>0.000000</td>\n",
       "      <td>0.000000</td>\n",
       "      <td>0.000000</td>\n",
       "      <td>0.000000</td>\n",
       "      <td>...</td>\n",
       "      <td>0.000000</td>\n",
       "      <td>0.000000</td>\n",
       "      <td>0.000000</td>\n",
       "      <td>0.000000</td>\n",
       "      <td>0.000000</td>\n",
       "      <td>0.000000</td>\n",
       "      <td>0.000000</td>\n",
       "      <td>0.000000</td>\n",
       "      <td>0.000000</td>\n",
       "      <td>475.081016</td>\n",
       "    </tr>\n",
       "    <tr>\n",
       "      <th>96</th>\n",
       "      <td>-1.197231</td>\n",
       "      <td>0.000000</td>\n",
       "      <td>0.000000</td>\n",
       "      <td>0.000000</td>\n",
       "      <td>0.000000</td>\n",
       "      <td>0.000000</td>\n",
       "      <td>0.000000</td>\n",
       "      <td>0.000000</td>\n",
       "      <td>0.000000</td>\n",
       "      <td>0.000000</td>\n",
       "      <td>...</td>\n",
       "      <td>0.000000</td>\n",
       "      <td>0.000000</td>\n",
       "      <td>0.000000</td>\n",
       "      <td>0.000000</td>\n",
       "      <td>0.000000</td>\n",
       "      <td>0.000000</td>\n",
       "      <td>0.000000</td>\n",
       "      <td>0.000000</td>\n",
       "      <td>0.000000</td>\n",
       "      <td>572.236766</td>\n",
       "    </tr>\n",
       "    <tr>\n",
       "      <th>97</th>\n",
       "      <td>-1.096290</td>\n",
       "      <td>0.000000</td>\n",
       "      <td>0.000000</td>\n",
       "      <td>0.000000</td>\n",
       "      <td>0.000000</td>\n",
       "      <td>0.000000</td>\n",
       "      <td>0.000000</td>\n",
       "      <td>0.000000</td>\n",
       "      <td>0.000000</td>\n",
       "      <td>0.000000</td>\n",
       "      <td>...</td>\n",
       "      <td>0.000000</td>\n",
       "      <td>0.000000</td>\n",
       "      <td>0.000000</td>\n",
       "      <td>0.000000</td>\n",
       "      <td>0.000000</td>\n",
       "      <td>0.000000</td>\n",
       "      <td>0.000000</td>\n",
       "      <td>0.000000</td>\n",
       "      <td>0.000000</td>\n",
       "      <td>689.261210</td>\n",
       "    </tr>\n",
       "    <tr>\n",
       "      <th>98</th>\n",
       "      <td>-0.981095</td>\n",
       "      <td>0.000000</td>\n",
       "      <td>0.000000</td>\n",
       "      <td>0.000000</td>\n",
       "      <td>0.000000</td>\n",
       "      <td>0.000000</td>\n",
       "      <td>0.000000</td>\n",
       "      <td>0.000000</td>\n",
       "      <td>0.000000</td>\n",
       "      <td>0.000000</td>\n",
       "      <td>...</td>\n",
       "      <td>0.000000</td>\n",
       "      <td>0.000000</td>\n",
       "      <td>0.000000</td>\n",
       "      <td>0.000000</td>\n",
       "      <td>0.000000</td>\n",
       "      <td>0.000000</td>\n",
       "      <td>0.000000</td>\n",
       "      <td>0.000000</td>\n",
       "      <td>0.000000</td>\n",
       "      <td>830.217568</td>\n",
       "    </tr>\n",
       "    <tr>\n",
       "      <th>99</th>\n",
       "      <td>-0.849854</td>\n",
       "      <td>0.000000</td>\n",
       "      <td>0.000000</td>\n",
       "      <td>0.000000</td>\n",
       "      <td>0.000000</td>\n",
       "      <td>0.000000</td>\n",
       "      <td>0.000000</td>\n",
       "      <td>0.000000</td>\n",
       "      <td>0.000000</td>\n",
       "      <td>0.000000</td>\n",
       "      <td>...</td>\n",
       "      <td>0.000000</td>\n",
       "      <td>0.000000</td>\n",
       "      <td>0.000000</td>\n",
       "      <td>0.000000</td>\n",
       "      <td>0.000000</td>\n",
       "      <td>0.000000</td>\n",
       "      <td>0.000000</td>\n",
       "      <td>0.000000</td>\n",
       "      <td>0.000000</td>\n",
       "      <td>1000.000000</td>\n",
       "    </tr>\n",
       "  </tbody>\n",
       "</table>\n",
       "<p>100 rows × 32 columns</p>\n",
       "</div>"
      ],
      "text/plain": [
       "    Intercept  C(gender)[T.Male]  C(senior_citizen)[T.Yes]  C(partner)[T.Yes]  \\\n",
       "0    0.186340          -0.120224                 -0.157111          -0.525218   \n",
       "1    0.186069          -0.120223                 -0.157112          -0.525218   \n",
       "2    0.185742          -0.120221                 -0.157112          -0.525219   \n",
       "3    0.185349          -0.120220                 -0.157113          -0.525221   \n",
       "4    0.184875          -0.120218                 -0.157113          -0.525222   \n",
       "..        ...                ...                       ...                ...   \n",
       "95  -1.285344           0.000000                  0.000000           0.000000   \n",
       "96  -1.197231           0.000000                  0.000000           0.000000   \n",
       "97  -1.096290           0.000000                  0.000000           0.000000   \n",
       "98  -0.981095           0.000000                  0.000000           0.000000   \n",
       "99  -0.849854           0.000000                  0.000000           0.000000   \n",
       "\n",
       "    C(dependents)[T.Yes]  C(phone_service)[T.Yes]  \\\n",
       "0              -0.748841                -0.102622   \n",
       "1              -0.748839                -0.102675   \n",
       "2              -0.748836                -0.102739   \n",
       "3              -0.748833                -0.102817   \n",
       "4              -0.748829                -0.102910   \n",
       "..                   ...                      ...   \n",
       "95              0.000000                 0.000000   \n",
       "96              0.000000                 0.000000   \n",
       "97              0.000000                 0.000000   \n",
       "98              0.000000                 0.000000   \n",
       "99              0.000000                 0.000000   \n",
       "\n",
       "    C(multiple_lines)[T.No phone service]  C(multiple_lines)[T.Yes]  \\\n",
       "0                                0.724775                 -0.788125   \n",
       "1                                0.724395                 -0.788044   \n",
       "2                                0.723939                 -0.787946   \n",
       "3                                0.723388                 -0.787828   \n",
       "4                                0.722726                 -0.787687   \n",
       "..                                    ...                       ...   \n",
       "95                               0.000000                  0.000000   \n",
       "96                               0.000000                  0.000000   \n",
       "97                               0.000000                  0.000000   \n",
       "98                               0.000000                  0.000000   \n",
       "99                               0.000000                  0.000000   \n",
       "\n",
       "    C(internet_service)[T.Fiber optic]  C(internet_service)[T.No]  ...  \\\n",
       "0                            -0.274649                  -0.047905  ...   \n",
       "1                            -0.274244                  -0.047963  ...   \n",
       "2                            -0.273756                  -0.048033  ...   \n",
       "3                            -0.273168                  -0.048117  ...   \n",
       "4                            -0.272461                  -0.048218  ...   \n",
       "..                                 ...                        ...  ...   \n",
       "95                            0.000000                   0.000000  ...   \n",
       "96                            0.000000                   0.000000  ...   \n",
       "97                            0.000000                   0.000000  ...   \n",
       "98                            0.000000                   0.000000  ...   \n",
       "99                            0.000000                   0.000000  ...   \n",
       "\n",
       "    C(contract)[T.One year]  C(contract)[T.Two year]  \\\n",
       "0                 -3.165370               -22.955059   \n",
       "1                 -3.165367               -22.945008   \n",
       "2                 -3.165363               -22.932903   \n",
       "3                 -3.165358               -22.918322   \n",
       "4                 -3.165353               -22.900762   \n",
       "..                      ...                      ...   \n",
       "95                 0.000000                 0.000000   \n",
       "96                 0.000000                 0.000000   \n",
       "97                 0.000000                 0.000000   \n",
       "98                 0.000000                 0.000000   \n",
       "99                 0.000000                 0.000000   \n",
       "\n",
       "    C(paperless_billing)[T.Yes]  C(payment_method)[T.Credit card (automatic)]  \\\n",
       "0                      0.211378                                     -0.320597   \n",
       "1                      0.211378                                     -0.320596   \n",
       "2                      0.211378                                     -0.320594   \n",
       "3                      0.211378                                     -0.320592   \n",
       "4                      0.211378                                     -0.320590   \n",
       "..                          ...                                           ...   \n",
       "95                     0.000000                                      0.000000   \n",
       "96                     0.000000                                      0.000000   \n",
       "97                     0.000000                                      0.000000   \n",
       "98                     0.000000                                      0.000000   \n",
       "99                     0.000000                                      0.000000   \n",
       "\n",
       "    C(payment_method)[T.Electronic check]  C(payment_method)[T.Mailed check]  \\\n",
       "0                                0.603416                           0.506886   \n",
       "1                                0.603418                           0.506887   \n",
       "2                                0.603419                           0.506890   \n",
       "3                                0.603421                           0.506893   \n",
       "4                                0.603424                           0.506896   \n",
       "..                                    ...                                ...   \n",
       "95                               0.000000                           0.000000   \n",
       "96                               0.000000                           0.000000   \n",
       "97                               0.000000                           0.000000   \n",
       "98                               0.000000                           0.000000   \n",
       "99                               0.000000                           0.000000   \n",
       "\n",
       "    latitude  longitude  monthly_charges  regularization  \n",
       "0  -0.138115  -0.107667         0.970971        0.000010  \n",
       "1  -0.138115  -0.107666         0.970485        0.000012  \n",
       "2  -0.138115  -0.107665         0.969899        0.000015  \n",
       "3  -0.138114  -0.107664         0.969193        0.000017  \n",
       "4  -0.138114  -0.107663         0.968342        0.000021  \n",
       "..       ...        ...              ...             ...  \n",
       "95  0.000000   0.000000         0.000000      475.081016  \n",
       "96  0.000000   0.000000         0.000000      572.236766  \n",
       "97  0.000000   0.000000         0.000000      689.261210  \n",
       "98  0.000000   0.000000         0.000000      830.217568  \n",
       "99  0.000000   0.000000         0.000000     1000.000000  \n",
       "\n",
       "[100 rows x 32 columns]"
      ]
     },
     "execution_count": 233,
     "metadata": {},
     "output_type": "execute_result"
    }
   ],
   "source": [
    "coefficients"
   ]
  },
  {
   "cell_type": "code",
   "execution_count": 234,
   "id": "c82b443b",
   "metadata": {
    "scrolled": true
   },
   "outputs": [
    {
     "data": {
      "image/png": "[encoded data removed]",
      "text/plain": [
       "<Figure size 640x480 with 1 Axes>"
      ]
     },
     "metadata": {},
     "output_type": "display_data"
    }
   ],
   "source": [
    "coefficients.plot(x='regularization', logx=True, xlabel='Regularization Value', ylabel='Coefficient Value', kind='line', legend=False)\n",
    "plt.axhline(y=0, color='black', linestyle='--')\n",
    "plt.axvline(x=100, color='blue', linestyle='--')\n",
    "plt.ylim(-1, 1)\n",
    "plt.show()"
   ]
  },
  {
   "cell_type": "markdown",
   "id": "97ab9f03",
   "metadata": {},
   "source": [
    "## Helper Methods for Finding the most important coefficients"
   ]
  },
  {
   "cell_type": "code",
   "execution_count": 235,
   "id": "5b212c91",
   "metadata": {},
   "outputs": [],
   "source": [
    "def getPriority(coefficients):\n",
    "    priority = {column: -1 for column in coefficients.columns}\n",
    "    zeros = []\n",
    "    \n",
    "    for index, row in coefficients.iterrows():\n",
    "        count = 0\n",
    "        for col in priority.keys():\n",
    "            if row[col] == 0: count += 1\n",
    "            if priority.get(col) == -1 and row[col] == 0: priority[col] = index\n",
    "        zeros.append(count)\n",
    "    \n",
    "    return priority, zeros"
   ]
  },
  {
   "cell_type": "code",
   "execution_count": 236,
   "id": "a01488cb",
   "metadata": {},
   "outputs": [
    {
     "data": {
      "text/plain": [
       "{'Intercept': 55,\n",
       " 'C(gender)[T.Male]': 81,\n",
       " 'C(senior_citizen)[T.Yes]': 61,\n",
       " 'C(partner)[T.Yes]': 95,\n",
       " 'C(dependents)[T.Yes]': 89,\n",
       " 'C(phone_service)[T.Yes]': 79,\n",
       " 'C(multiple_lines)[T.No phone service]': 55,\n",
       " 'C(multiple_lines)[T.Yes]': 89,\n",
       " 'C(internet_service)[T.Fiber optic]': 85,\n",
       " 'C(internet_service)[T.No]': 89,\n",
       " 'C(online_security)[T.No internet service]': 89,\n",
       " 'C(online_security)[T.Yes]': 60,\n",
       " 'C(online_backup)[T.No internet service]': 89,\n",
       " 'C(online_backup)[T.Yes]': 92,\n",
       " 'C(device_protection)[T.No internet service]': 89,\n",
       " 'C(device_protection)[T.Yes]': 57,\n",
       " 'C(tech_support)[T.No internet service]': 89,\n",
       " 'C(tech_support)[T.Yes]': 62,\n",
       " 'C(streaming_tv)[T.No internet service]': 89,\n",
       " 'C(streaming_tv)[T.Yes]': 57,\n",
       " 'C(streaming_movies)[T.No internet service]': 89,\n",
       " 'C(streaming_movies)[T.Yes]': 61,\n",
       " 'C(contract)[T.One year]': 92,\n",
       " 'C(contract)[T.Two year]': 92,\n",
       " 'C(paperless_billing)[T.Yes]': 59,\n",
       " 'C(payment_method)[T.Credit card (automatic)]': 89,\n",
       " 'C(payment_method)[T.Electronic check]': 89,\n",
       " 'C(payment_method)[T.Mailed check]': 77,\n",
       " 'latitude': 80,\n",
       " 'longitude': 74,\n",
       " 'monthly_charges': 69,\n",
       " 'regularization': -1}"
      ]
     },
     "execution_count": 236,
     "metadata": {},
     "output_type": "execute_result"
    }
   ],
   "source": [
    "priority, zeros = getPriority(coefficients)\n",
    "priority"
   ]
  },
  {
   "cell_type": "code",
   "execution_count": 253,
   "id": "13875ae3",
   "metadata": {},
   "outputs": [
    {
     "data": {
      "text/plain": [
       "6"
      ]
     },
     "execution_count": 253,
     "metadata": {},
     "output_type": "execute_result"
    }
   ],
   "source": [
    "zeros[78]"
   ]
  },
  {
   "cell_type": "code",
   "execution_count": 254,
   "id": "585fc72e",
   "metadata": {},
   "outputs": [
    {
     "data": {
      "text/plain": [
       "Intercept                                       -0.261315\n",
       "C(gender)[T.Male]                               -0.034424\n",
       "C(senior_citizen)[T.Yes]                         0.000000\n",
       "C(partner)[T.Yes]                               -0.535598\n",
       "C(dependents)[T.Yes]                            -0.490795\n",
       "C(phone_service)[T.Yes]                         -0.005451\n",
       "C(multiple_lines)[T.No phone service]            0.000000\n",
       "C(multiple_lines)[T.Yes]                        -0.479896\n",
       "C(internet_service)[T.Fiber optic]               0.251121\n",
       "C(internet_service)[T.No]                       -0.144827\n",
       "C(online_security)[T.No internet service]       -0.144827\n",
       "C(online_security)[T.Yes]                       -0.811505\n",
       "C(online_backup)[T.No internet service]         -0.144827\n",
       "C(online_backup)[T.Yes]                         -0.773444\n",
       "C(device_protection)[T.No internet service]     -0.144827\n",
       "C(device_protection)[T.Yes]                     -0.368814\n",
       "C(tech_support)[T.No internet service]          -0.144827\n",
       "C(tech_support)[T.Yes]                          -0.535162\n",
       "C(streaming_tv)[T.No internet service]          -0.144827\n",
       "C(streaming_tv)[T.Yes]                          -0.032451\n",
       "C(streaming_movies)[T.No internet service]      -0.144827\n",
       "C(streaming_movies)[T.Yes]                      -0.191635\n",
       "C(contract)[T.One year]                         -1.959359\n",
       "C(contract)[T.Two year]                         -1.911884\n",
       "C(paperless_billing)[T.Yes]                      0.000000\n",
       "C(payment_method)[T.Credit card (automatic)]    -0.380030\n",
       "C(payment_method)[T.Electronic check]            0.274601\n",
       "C(payment_method)[T.Mailed check]                0.000000\n",
       "latitude                                        -0.009771\n",
       "longitude                                        0.000000\n",
       "monthly_charges                                  0.000000\n",
       "regularization                                  20.092330\n",
       "Name: 78, dtype: float64"
      ]
     },
     "execution_count": 254,
     "metadata": {},
     "output_type": "execute_result"
    }
   ],
   "source": [
    "coefficients.iloc[78]"
   ]
  },
  {
   "cell_type": "code",
   "execution_count": null,
   "id": "3cee62d7",
   "metadata": {},
   "outputs": [],
   "source": []
  }
 ],
 "metadata": {
  "kernelspec": {
   "display_name": "Python 3 (ipykernel)",
   "language": "python",
   "name": "python3"
  },
  "language_info": {
   "codemirror_mode": {
    "name": "ipython",
    "version": 3
   },
   "file_extension": ".py",
   "mimetype": "text/x-python",
   "name": "python",
   "nbconvert_exporter": "python",
   "pygments_lexer": "ipython3",
   "version": "3.11.5"
  }
 },
 "nbformat": 4,
 "nbformat_minor": 5
}
