{
 "cells": [
  {
   "cell_type": "markdown",
   "id": "c480c5ef",
   "metadata": {},
   "source": [
    "# Aim: To Run Lasso Regression on the Dataset"
   ]
  },
  {
   "cell_type": "code",
   "execution_count": 1,
   "id": "83acb26e",
   "metadata": {},
   "outputs": [],
   "source": [
    "import pandas as pd\n",
    "import numpy as np\n",
    "import matplotlib.pyplot as plt\n",
    "import matplotlib.patches as patches\n",
    "import scipy"
   ]
  },
  {
   "cell_type": "code",
   "execution_count": 2,
   "id": "d7fb63e4",
   "metadata": {},
   "outputs": [],
   "source": [
    "import statsmodels.api as sm\n",
    "import statsmodels.formula.api as smf"
   ]
  },
  {
   "cell_type": "code",
   "execution_count": 3,
   "id": "77a9e72e",
   "metadata": {},
   "outputs": [],
   "source": [
    "import sklearn\n",
    "from sklearn.compose import ColumnTransformer\n",
    "from sklearn.preprocessing import StandardScaler\n",
    "from sklearn.datasets import make_classification\n",
    "from sklearn.model_selection import train_test_split, ParameterGrid\n",
    "from sklearn.pipeline import Pipeline\n",
    "from sklearn.linear_model import LogisticRegression"
   ]
  },
  {
   "cell_type": "code",
   "execution_count": 4,
   "id": "e9ca629d",
   "metadata": {},
   "outputs": [],
   "source": [
    "import sys\n",
    "import os\n",
    "import math\n",
    "import csv\n",
    "import json"
   ]
  },
  {
   "cell_type": "markdown",
   "id": "b12ba473",
   "metadata": {},
   "source": []
  },
  {
   "cell_type": "markdown",
   "id": "9a80baef",
   "metadata": {},
   "source": [
    "## Helper Methods and Variables"
   ]
  },
  {
   "cell_type": "code",
   "execution_count": 5,
   "id": "1df163a2",
   "metadata": {},
   "outputs": [],
   "source": [
    "def sentence_to_snake_case(sentence):\n",
    "    # Split the sentence into words, convert to lowercase, and join with underscores\n",
    "    snake_case = '_'.join(word.lower() for word in sentence.split())\n",
    "    return snake_case"
   ]
  },
  {
   "cell_type": "code",
   "execution_count": 6,
   "id": "94baaa5a",
   "metadata": {},
   "outputs": [],
   "source": [
    "useless_cols = ['CustomerID', 'Count', 'Country', 'State', 'City', \\\n",
    "                'Zip Code', 'Lat Long', 'Churn Score', 'Churn Label', 'CLTV', 'Churn Reason', 'Total Charges']"
   ]
  },
  {
   "cell_type": "code",
   "execution_count": 7,
   "id": "d15c6996",
   "metadata": {},
   "outputs": [],
   "source": [
    "y_cols = ['Churn Value', 'Tenure Months']"
   ]
  },
  {
   "cell_type": "markdown",
   "id": "5a3027ce",
   "metadata": {},
   "source": [
    "## Prepare the Data"
   ]
  },
  {
   "cell_type": "code",
   "execution_count": null,
   "id": "fb5359a7",
   "metadata": {},
   "outputs": [],
   "source": []
  },
  {
   "cell_type": "code",
   "execution_count": 8,
   "id": "05f4540f",
   "metadata": {},
   "outputs": [
    {
     "data": {
      "text/plain": [
       "'C:\\\\D Drive\\\\University of Washington\\\\Study\\\\Quarter 2\\\\DATA 557\\\\Project\\\\ML'"
      ]
     },
     "execution_count": 8,
     "metadata": {},
     "output_type": "execute_result"
    }
   ],
   "source": [
    "os.getcwd()"
   ]
  },
  {
   "cell_type": "code",
   "execution_count": 9,
   "id": "5270816a",
   "metadata": {},
   "outputs": [],
   "source": [
    "data = pd.read_csv('../data/Telco_customer_churn_cleaned.csv')"
   ]
  },
  {
   "cell_type": "code",
   "execution_count": 10,
   "id": "09267840",
   "metadata": {},
   "outputs": [
    {
     "data": {
      "text/html": [
       "<div>\n",
       "<style scoped>\n",
       "    .dataframe tbody tr th:only-of-type {\n",
       "        vertical-align: middle;\n",
       "    }\n",
       "\n",
       "    .dataframe tbody tr th {\n",
       "        vertical-align: top;\n",
       "    }\n",
       "\n",
       "    .dataframe thead th {\n",
       "        text-align: right;\n",
       "    }\n",
       "</style>\n",
       "<table border=\"1\" class=\"dataframe\">\n",
       "  <thead>\n",
       "    <tr style=\"text-align: right;\">\n",
       "      <th></th>\n",
       "      <th>Unnamed: 0</th>\n",
       "      <th>CustomerID</th>\n",
       "      <th>Count</th>\n",
       "      <th>Country</th>\n",
       "      <th>State</th>\n",
       "      <th>City</th>\n",
       "      <th>Zip Code</th>\n",
       "      <th>Lat Long</th>\n",
       "      <th>Latitude</th>\n",
       "      <th>Longitude</th>\n",
       "      <th>...</th>\n",
       "      <th>Contract</th>\n",
       "      <th>Paperless Billing</th>\n",
       "      <th>Payment Method</th>\n",
       "      <th>Monthly Charges</th>\n",
       "      <th>Total Charges</th>\n",
       "      <th>Churn Label</th>\n",
       "      <th>Churn Value</th>\n",
       "      <th>Churn Score</th>\n",
       "      <th>CLTV</th>\n",
       "      <th>Churn Reason</th>\n",
       "    </tr>\n",
       "  </thead>\n",
       "  <tbody>\n",
       "    <tr>\n",
       "      <th>0</th>\n",
       "      <td>0</td>\n",
       "      <td>3668-QPYBK</td>\n",
       "      <td>1</td>\n",
       "      <td>United States</td>\n",
       "      <td>California</td>\n",
       "      <td>Los Angeles</td>\n",
       "      <td>90003</td>\n",
       "      <td>33.964131, -118.272783</td>\n",
       "      <td>33.964131</td>\n",
       "      <td>-118.272783</td>\n",
       "      <td>...</td>\n",
       "      <td>Month-to-month</td>\n",
       "      <td>Yes</td>\n",
       "      <td>Mailed check</td>\n",
       "      <td>53.85</td>\n",
       "      <td>108.15</td>\n",
       "      <td>Yes</td>\n",
       "      <td>1</td>\n",
       "      <td>86</td>\n",
       "      <td>3239</td>\n",
       "      <td>Competitor made better offer</td>\n",
       "    </tr>\n",
       "    <tr>\n",
       "      <th>1</th>\n",
       "      <td>1</td>\n",
       "      <td>9237-HQITU</td>\n",
       "      <td>1</td>\n",
       "      <td>United States</td>\n",
       "      <td>California</td>\n",
       "      <td>Los Angeles</td>\n",
       "      <td>90005</td>\n",
       "      <td>34.059281, -118.30742</td>\n",
       "      <td>34.059281</td>\n",
       "      <td>-118.307420</td>\n",
       "      <td>...</td>\n",
       "      <td>Month-to-month</td>\n",
       "      <td>Yes</td>\n",
       "      <td>Electronic check</td>\n",
       "      <td>70.70</td>\n",
       "      <td>151.65</td>\n",
       "      <td>Yes</td>\n",
       "      <td>1</td>\n",
       "      <td>67</td>\n",
       "      <td>2701</td>\n",
       "      <td>Moved</td>\n",
       "    </tr>\n",
       "    <tr>\n",
       "      <th>2</th>\n",
       "      <td>2</td>\n",
       "      <td>9305-CDSKC</td>\n",
       "      <td>1</td>\n",
       "      <td>United States</td>\n",
       "      <td>California</td>\n",
       "      <td>Los Angeles</td>\n",
       "      <td>90006</td>\n",
       "      <td>34.048013, -118.293953</td>\n",
       "      <td>34.048013</td>\n",
       "      <td>-118.293953</td>\n",
       "      <td>...</td>\n",
       "      <td>Month-to-month</td>\n",
       "      <td>Yes</td>\n",
       "      <td>Electronic check</td>\n",
       "      <td>99.65</td>\n",
       "      <td>820.50</td>\n",
       "      <td>Yes</td>\n",
       "      <td>1</td>\n",
       "      <td>86</td>\n",
       "      <td>5372</td>\n",
       "      <td>Moved</td>\n",
       "    </tr>\n",
       "    <tr>\n",
       "      <th>3</th>\n",
       "      <td>3</td>\n",
       "      <td>7892-POOKP</td>\n",
       "      <td>1</td>\n",
       "      <td>United States</td>\n",
       "      <td>California</td>\n",
       "      <td>Los Angeles</td>\n",
       "      <td>90010</td>\n",
       "      <td>34.062125, -118.315709</td>\n",
       "      <td>34.062125</td>\n",
       "      <td>-118.315709</td>\n",
       "      <td>...</td>\n",
       "      <td>Month-to-month</td>\n",
       "      <td>Yes</td>\n",
       "      <td>Electronic check</td>\n",
       "      <td>104.80</td>\n",
       "      <td>3046.05</td>\n",
       "      <td>Yes</td>\n",
       "      <td>1</td>\n",
       "      <td>84</td>\n",
       "      <td>5003</td>\n",
       "      <td>Moved</td>\n",
       "    </tr>\n",
       "    <tr>\n",
       "      <th>4</th>\n",
       "      <td>4</td>\n",
       "      <td>0280-XJGEX</td>\n",
       "      <td>1</td>\n",
       "      <td>United States</td>\n",
       "      <td>California</td>\n",
       "      <td>Los Angeles</td>\n",
       "      <td>90015</td>\n",
       "      <td>34.039224, -118.266293</td>\n",
       "      <td>34.039224</td>\n",
       "      <td>-118.266293</td>\n",
       "      <td>...</td>\n",
       "      <td>Month-to-month</td>\n",
       "      <td>Yes</td>\n",
       "      <td>Bank transfer (automatic)</td>\n",
       "      <td>103.70</td>\n",
       "      <td>5036.30</td>\n",
       "      <td>Yes</td>\n",
       "      <td>1</td>\n",
       "      <td>89</td>\n",
       "      <td>5340</td>\n",
       "      <td>Competitor had better devices</td>\n",
       "    </tr>\n",
       "  </tbody>\n",
       "</table>\n",
       "<p>5 rows × 34 columns</p>\n",
       "</div>"
      ],
      "text/plain": [
       "   Unnamed: 0  CustomerID  Count        Country       State         City  \\\n",
       "0           0  3668-QPYBK      1  United States  California  Los Angeles   \n",
       "1           1  9237-HQITU      1  United States  California  Los Angeles   \n",
       "2           2  9305-CDSKC      1  United States  California  Los Angeles   \n",
       "3           3  7892-POOKP      1  United States  California  Los Angeles   \n",
       "4           4  0280-XJGEX      1  United States  California  Los Angeles   \n",
       "\n",
       "   Zip Code                Lat Long   Latitude   Longitude  ...  \\\n",
       "0     90003  33.964131, -118.272783  33.964131 -118.272783  ...   \n",
       "1     90005   34.059281, -118.30742  34.059281 -118.307420  ...   \n",
       "2     90006  34.048013, -118.293953  34.048013 -118.293953  ...   \n",
       "3     90010  34.062125, -118.315709  34.062125 -118.315709  ...   \n",
       "4     90015  34.039224, -118.266293  34.039224 -118.266293  ...   \n",
       "\n",
       "         Contract Paperless Billing             Payment Method  \\\n",
       "0  Month-to-month               Yes               Mailed check   \n",
       "1  Month-to-month               Yes           Electronic check   \n",
       "2  Month-to-month               Yes           Electronic check   \n",
       "3  Month-to-month               Yes           Electronic check   \n",
       "4  Month-to-month               Yes  Bank transfer (automatic)   \n",
       "\n",
       "  Monthly Charges  Total Charges Churn Label Churn Value Churn Score  CLTV  \\\n",
       "0           53.85         108.15         Yes           1          86  3239   \n",
       "1           70.70         151.65         Yes           1          67  2701   \n",
       "2           99.65         820.50         Yes           1          86  5372   \n",
       "3          104.80        3046.05         Yes           1          84  5003   \n",
       "4          103.70        5036.30         Yes           1          89  5340   \n",
       "\n",
       "                    Churn Reason  \n",
       "0   Competitor made better offer  \n",
       "1                          Moved  \n",
       "2                          Moved  \n",
       "3                          Moved  \n",
       "4  Competitor had better devices  \n",
       "\n",
       "[5 rows x 34 columns]"
      ]
     },
     "execution_count": 10,
     "metadata": {},
     "output_type": "execute_result"
    }
   ],
   "source": [
    "data.head()"
   ]
  },
  {
   "cell_type": "code",
   "execution_count": 11,
   "id": "03879270",
   "metadata": {},
   "outputs": [],
   "source": [
    "# data.columns"
   ]
  },
  {
   "cell_type": "code",
   "execution_count": null,
   "id": "62cd61e3",
   "metadata": {},
   "outputs": [],
   "source": []
  },
  {
   "cell_type": "code",
   "execution_count": 12,
   "id": "3b127b8a",
   "metadata": {},
   "outputs": [],
   "source": [
    "# data.head()"
   ]
  },
  {
   "cell_type": "code",
   "execution_count": 13,
   "id": "70a56735",
   "metadata": {},
   "outputs": [
    {
     "data": {
      "text/plain": [
       "(7043, 34)"
      ]
     },
     "execution_count": 13,
     "metadata": {},
     "output_type": "execute_result"
    }
   ],
   "source": [
    "data.shape"
   ]
  },
  {
   "cell_type": "code",
   "execution_count": 14,
   "id": "8eb5c098",
   "metadata": {},
   "outputs": [],
   "source": [
    "data = data.rename(columns = lambda column: sentence_to_snake_case(column))"
   ]
  },
  {
   "cell_type": "code",
   "execution_count": 15,
   "id": "cf6f0163",
   "metadata": {},
   "outputs": [
    {
     "data": {
      "text/html": [
       "<div>\n",
       "<style scoped>\n",
       "    .dataframe tbody tr th:only-of-type {\n",
       "        vertical-align: middle;\n",
       "    }\n",
       "\n",
       "    .dataframe tbody tr th {\n",
       "        vertical-align: top;\n",
       "    }\n",
       "\n",
       "    .dataframe thead th {\n",
       "        text-align: right;\n",
       "    }\n",
       "</style>\n",
       "<table border=\"1\" class=\"dataframe\">\n",
       "  <thead>\n",
       "    <tr style=\"text-align: right;\">\n",
       "      <th></th>\n",
       "      <th>unnamed:_0</th>\n",
       "      <th>customerid</th>\n",
       "      <th>count</th>\n",
       "      <th>country</th>\n",
       "      <th>state</th>\n",
       "      <th>city</th>\n",
       "      <th>zip_code</th>\n",
       "      <th>lat_long</th>\n",
       "      <th>latitude</th>\n",
       "      <th>longitude</th>\n",
       "      <th>...</th>\n",
       "      <th>contract</th>\n",
       "      <th>paperless_billing</th>\n",
       "      <th>payment_method</th>\n",
       "      <th>monthly_charges</th>\n",
       "      <th>total_charges</th>\n",
       "      <th>churn_label</th>\n",
       "      <th>churn_value</th>\n",
       "      <th>churn_score</th>\n",
       "      <th>cltv</th>\n",
       "      <th>churn_reason</th>\n",
       "    </tr>\n",
       "  </thead>\n",
       "  <tbody>\n",
       "    <tr>\n",
       "      <th>0</th>\n",
       "      <td>0</td>\n",
       "      <td>3668-QPYBK</td>\n",
       "      <td>1</td>\n",
       "      <td>United States</td>\n",
       "      <td>California</td>\n",
       "      <td>Los Angeles</td>\n",
       "      <td>90003</td>\n",
       "      <td>33.964131, -118.272783</td>\n",
       "      <td>33.964131</td>\n",
       "      <td>-118.272783</td>\n",
       "      <td>...</td>\n",
       "      <td>Month-to-month</td>\n",
       "      <td>Yes</td>\n",
       "      <td>Mailed check</td>\n",
       "      <td>53.85</td>\n",
       "      <td>108.15</td>\n",
       "      <td>Yes</td>\n",
       "      <td>1</td>\n",
       "      <td>86</td>\n",
       "      <td>3239</td>\n",
       "      <td>Competitor made better offer</td>\n",
       "    </tr>\n",
       "    <tr>\n",
       "      <th>1</th>\n",
       "      <td>1</td>\n",
       "      <td>9237-HQITU</td>\n",
       "      <td>1</td>\n",
       "      <td>United States</td>\n",
       "      <td>California</td>\n",
       "      <td>Los Angeles</td>\n",
       "      <td>90005</td>\n",
       "      <td>34.059281, -118.30742</td>\n",
       "      <td>34.059281</td>\n",
       "      <td>-118.307420</td>\n",
       "      <td>...</td>\n",
       "      <td>Month-to-month</td>\n",
       "      <td>Yes</td>\n",
       "      <td>Electronic check</td>\n",
       "      <td>70.70</td>\n",
       "      <td>151.65</td>\n",
       "      <td>Yes</td>\n",
       "      <td>1</td>\n",
       "      <td>67</td>\n",
       "      <td>2701</td>\n",
       "      <td>Moved</td>\n",
       "    </tr>\n",
       "    <tr>\n",
       "      <th>2</th>\n",
       "      <td>2</td>\n",
       "      <td>9305-CDSKC</td>\n",
       "      <td>1</td>\n",
       "      <td>United States</td>\n",
       "      <td>California</td>\n",
       "      <td>Los Angeles</td>\n",
       "      <td>90006</td>\n",
       "      <td>34.048013, -118.293953</td>\n",
       "      <td>34.048013</td>\n",
       "      <td>-118.293953</td>\n",
       "      <td>...</td>\n",
       "      <td>Month-to-month</td>\n",
       "      <td>Yes</td>\n",
       "      <td>Electronic check</td>\n",
       "      <td>99.65</td>\n",
       "      <td>820.50</td>\n",
       "      <td>Yes</td>\n",
       "      <td>1</td>\n",
       "      <td>86</td>\n",
       "      <td>5372</td>\n",
       "      <td>Moved</td>\n",
       "    </tr>\n",
       "    <tr>\n",
       "      <th>3</th>\n",
       "      <td>3</td>\n",
       "      <td>7892-POOKP</td>\n",
       "      <td>1</td>\n",
       "      <td>United States</td>\n",
       "      <td>California</td>\n",
       "      <td>Los Angeles</td>\n",
       "      <td>90010</td>\n",
       "      <td>34.062125, -118.315709</td>\n",
       "      <td>34.062125</td>\n",
       "      <td>-118.315709</td>\n",
       "      <td>...</td>\n",
       "      <td>Month-to-month</td>\n",
       "      <td>Yes</td>\n",
       "      <td>Electronic check</td>\n",
       "      <td>104.80</td>\n",
       "      <td>3046.05</td>\n",
       "      <td>Yes</td>\n",
       "      <td>1</td>\n",
       "      <td>84</td>\n",
       "      <td>5003</td>\n",
       "      <td>Moved</td>\n",
       "    </tr>\n",
       "    <tr>\n",
       "      <th>4</th>\n",
       "      <td>4</td>\n",
       "      <td>0280-XJGEX</td>\n",
       "      <td>1</td>\n",
       "      <td>United States</td>\n",
       "      <td>California</td>\n",
       "      <td>Los Angeles</td>\n",
       "      <td>90015</td>\n",
       "      <td>34.039224, -118.266293</td>\n",
       "      <td>34.039224</td>\n",
       "      <td>-118.266293</td>\n",
       "      <td>...</td>\n",
       "      <td>Month-to-month</td>\n",
       "      <td>Yes</td>\n",
       "      <td>Bank transfer (automatic)</td>\n",
       "      <td>103.70</td>\n",
       "      <td>5036.30</td>\n",
       "      <td>Yes</td>\n",
       "      <td>1</td>\n",
       "      <td>89</td>\n",
       "      <td>5340</td>\n",
       "      <td>Competitor had better devices</td>\n",
       "    </tr>\n",
       "  </tbody>\n",
       "</table>\n",
       "<p>5 rows × 34 columns</p>\n",
       "</div>"
      ],
      "text/plain": [
       "   unnamed:_0  customerid  count        country       state         city  \\\n",
       "0           0  3668-QPYBK      1  United States  California  Los Angeles   \n",
       "1           1  9237-HQITU      1  United States  California  Los Angeles   \n",
       "2           2  9305-CDSKC      1  United States  California  Los Angeles   \n",
       "3           3  7892-POOKP      1  United States  California  Los Angeles   \n",
       "4           4  0280-XJGEX      1  United States  California  Los Angeles   \n",
       "\n",
       "   zip_code                lat_long   latitude   longitude  ...  \\\n",
       "0     90003  33.964131, -118.272783  33.964131 -118.272783  ...   \n",
       "1     90005   34.059281, -118.30742  34.059281 -118.307420  ...   \n",
       "2     90006  34.048013, -118.293953  34.048013 -118.293953  ...   \n",
       "3     90010  34.062125, -118.315709  34.062125 -118.315709  ...   \n",
       "4     90015  34.039224, -118.266293  34.039224 -118.266293  ...   \n",
       "\n",
       "         contract paperless_billing             payment_method  \\\n",
       "0  Month-to-month               Yes               Mailed check   \n",
       "1  Month-to-month               Yes           Electronic check   \n",
       "2  Month-to-month               Yes           Electronic check   \n",
       "3  Month-to-month               Yes           Electronic check   \n",
       "4  Month-to-month               Yes  Bank transfer (automatic)   \n",
       "\n",
       "  monthly_charges  total_charges churn_label churn_value churn_score  cltv  \\\n",
       "0           53.85         108.15         Yes           1          86  3239   \n",
       "1           70.70         151.65         Yes           1          67  2701   \n",
       "2           99.65         820.50         Yes           1          86  5372   \n",
       "3          104.80        3046.05         Yes           1          84  5003   \n",
       "4          103.70        5036.30         Yes           1          89  5340   \n",
       "\n",
       "                    churn_reason  \n",
       "0   Competitor made better offer  \n",
       "1                          Moved  \n",
       "2                          Moved  \n",
       "3                          Moved  \n",
       "4  Competitor had better devices  \n",
       "\n",
       "[5 rows x 34 columns]"
      ]
     },
     "execution_count": 15,
     "metadata": {},
     "output_type": "execute_result"
    }
   ],
   "source": [
    "data.head()"
   ]
  },
  {
   "cell_type": "code",
   "execution_count": null,
   "id": "320f9c8e",
   "metadata": {},
   "outputs": [],
   "source": []
  },
  {
   "cell_type": "code",
   "execution_count": 16,
   "id": "b7e8fea5",
   "metadata": {},
   "outputs": [],
   "source": [
    "# Leaving in Customer ID just in case\n",
    "useless_cols = [sentence_to_snake_case(column) for column in useless_cols]"
   ]
  },
  {
   "cell_type": "code",
   "execution_count": 17,
   "id": "4923efb8",
   "metadata": {},
   "outputs": [],
   "source": [
    "y_cols = [sentence_to_snake_case(column) for column in y_cols]"
   ]
  },
  {
   "cell_type": "code",
   "execution_count": 18,
   "id": "c24cc39f",
   "metadata": {},
   "outputs": [
    {
     "data": {
      "text/plain": [
       "['churn_value', 'tenure_months']"
      ]
     },
     "execution_count": 18,
     "metadata": {},
     "output_type": "execute_result"
    }
   ],
   "source": [
    "y_cols"
   ]
  },
  {
   "cell_type": "code",
   "execution_count": 19,
   "id": "5b574c5a",
   "metadata": {},
   "outputs": [],
   "source": [
    "# Drop the first column \"Unnamed\" and the useless columns\n",
    "data = data.drop([data.columns[0]] + useless_cols, axis=1)"
   ]
  },
  {
   "cell_type": "code",
   "execution_count": 20,
   "id": "7e54dea8",
   "metadata": {},
   "outputs": [
    {
     "data": {
      "text/html": [
       "<div>\n",
       "<style scoped>\n",
       "    .dataframe tbody tr th:only-of-type {\n",
       "        vertical-align: middle;\n",
       "    }\n",
       "\n",
       "    .dataframe tbody tr th {\n",
       "        vertical-align: top;\n",
       "    }\n",
       "\n",
       "    .dataframe thead th {\n",
       "        text-align: right;\n",
       "    }\n",
       "</style>\n",
       "<table border=\"1\" class=\"dataframe\">\n",
       "  <thead>\n",
       "    <tr style=\"text-align: right;\">\n",
       "      <th></th>\n",
       "      <th>latitude</th>\n",
       "      <th>longitude</th>\n",
       "      <th>gender</th>\n",
       "      <th>senior_citizen</th>\n",
       "      <th>partner</th>\n",
       "      <th>dependents</th>\n",
       "      <th>tenure_months</th>\n",
       "      <th>phone_service</th>\n",
       "      <th>multiple_lines</th>\n",
       "      <th>internet_service</th>\n",
       "      <th>...</th>\n",
       "      <th>online_backup</th>\n",
       "      <th>device_protection</th>\n",
       "      <th>tech_support</th>\n",
       "      <th>streaming_tv</th>\n",
       "      <th>streaming_movies</th>\n",
       "      <th>contract</th>\n",
       "      <th>paperless_billing</th>\n",
       "      <th>payment_method</th>\n",
       "      <th>monthly_charges</th>\n",
       "      <th>churn_value</th>\n",
       "    </tr>\n",
       "  </thead>\n",
       "  <tbody>\n",
       "    <tr>\n",
       "      <th>0</th>\n",
       "      <td>33.964131</td>\n",
       "      <td>-118.272783</td>\n",
       "      <td>Male</td>\n",
       "      <td>No</td>\n",
       "      <td>No</td>\n",
       "      <td>No</td>\n",
       "      <td>2</td>\n",
       "      <td>Yes</td>\n",
       "      <td>No</td>\n",
       "      <td>DSL</td>\n",
       "      <td>...</td>\n",
       "      <td>Yes</td>\n",
       "      <td>No</td>\n",
       "      <td>No</td>\n",
       "      <td>No</td>\n",
       "      <td>No</td>\n",
       "      <td>Month-to-month</td>\n",
       "      <td>Yes</td>\n",
       "      <td>Mailed check</td>\n",
       "      <td>53.85</td>\n",
       "      <td>1</td>\n",
       "    </tr>\n",
       "    <tr>\n",
       "      <th>1</th>\n",
       "      <td>34.059281</td>\n",
       "      <td>-118.307420</td>\n",
       "      <td>Female</td>\n",
       "      <td>No</td>\n",
       "      <td>No</td>\n",
       "      <td>Yes</td>\n",
       "      <td>2</td>\n",
       "      <td>Yes</td>\n",
       "      <td>No</td>\n",
       "      <td>Fiber optic</td>\n",
       "      <td>...</td>\n",
       "      <td>No</td>\n",
       "      <td>No</td>\n",
       "      <td>No</td>\n",
       "      <td>No</td>\n",
       "      <td>No</td>\n",
       "      <td>Month-to-month</td>\n",
       "      <td>Yes</td>\n",
       "      <td>Electronic check</td>\n",
       "      <td>70.70</td>\n",
       "      <td>1</td>\n",
       "    </tr>\n",
       "    <tr>\n",
       "      <th>2</th>\n",
       "      <td>34.048013</td>\n",
       "      <td>-118.293953</td>\n",
       "      <td>Female</td>\n",
       "      <td>No</td>\n",
       "      <td>No</td>\n",
       "      <td>Yes</td>\n",
       "      <td>8</td>\n",
       "      <td>Yes</td>\n",
       "      <td>Yes</td>\n",
       "      <td>Fiber optic</td>\n",
       "      <td>...</td>\n",
       "      <td>No</td>\n",
       "      <td>Yes</td>\n",
       "      <td>No</td>\n",
       "      <td>Yes</td>\n",
       "      <td>Yes</td>\n",
       "      <td>Month-to-month</td>\n",
       "      <td>Yes</td>\n",
       "      <td>Electronic check</td>\n",
       "      <td>99.65</td>\n",
       "      <td>1</td>\n",
       "    </tr>\n",
       "    <tr>\n",
       "      <th>3</th>\n",
       "      <td>34.062125</td>\n",
       "      <td>-118.315709</td>\n",
       "      <td>Female</td>\n",
       "      <td>No</td>\n",
       "      <td>Yes</td>\n",
       "      <td>Yes</td>\n",
       "      <td>28</td>\n",
       "      <td>Yes</td>\n",
       "      <td>Yes</td>\n",
       "      <td>Fiber optic</td>\n",
       "      <td>...</td>\n",
       "      <td>No</td>\n",
       "      <td>Yes</td>\n",
       "      <td>Yes</td>\n",
       "      <td>Yes</td>\n",
       "      <td>Yes</td>\n",
       "      <td>Month-to-month</td>\n",
       "      <td>Yes</td>\n",
       "      <td>Electronic check</td>\n",
       "      <td>104.80</td>\n",
       "      <td>1</td>\n",
       "    </tr>\n",
       "    <tr>\n",
       "      <th>4</th>\n",
       "      <td>34.039224</td>\n",
       "      <td>-118.266293</td>\n",
       "      <td>Male</td>\n",
       "      <td>No</td>\n",
       "      <td>No</td>\n",
       "      <td>Yes</td>\n",
       "      <td>49</td>\n",
       "      <td>Yes</td>\n",
       "      <td>Yes</td>\n",
       "      <td>Fiber optic</td>\n",
       "      <td>...</td>\n",
       "      <td>Yes</td>\n",
       "      <td>Yes</td>\n",
       "      <td>No</td>\n",
       "      <td>Yes</td>\n",
       "      <td>Yes</td>\n",
       "      <td>Month-to-month</td>\n",
       "      <td>Yes</td>\n",
       "      <td>Bank transfer (automatic)</td>\n",
       "      <td>103.70</td>\n",
       "      <td>1</td>\n",
       "    </tr>\n",
       "  </tbody>\n",
       "</table>\n",
       "<p>5 rows × 21 columns</p>\n",
       "</div>"
      ],
      "text/plain": [
       "    latitude   longitude  gender senior_citizen partner dependents  \\\n",
       "0  33.964131 -118.272783    Male             No      No         No   \n",
       "1  34.059281 -118.307420  Female             No      No        Yes   \n",
       "2  34.048013 -118.293953  Female             No      No        Yes   \n",
       "3  34.062125 -118.315709  Female             No     Yes        Yes   \n",
       "4  34.039224 -118.266293    Male             No      No        Yes   \n",
       "\n",
       "   tenure_months phone_service multiple_lines internet_service  ...  \\\n",
       "0              2           Yes             No              DSL  ...   \n",
       "1              2           Yes             No      Fiber optic  ...   \n",
       "2              8           Yes            Yes      Fiber optic  ...   \n",
       "3             28           Yes            Yes      Fiber optic  ...   \n",
       "4             49           Yes            Yes      Fiber optic  ...   \n",
       "\n",
       "  online_backup device_protection tech_support streaming_tv streaming_movies  \\\n",
       "0           Yes                No           No           No               No   \n",
       "1            No                No           No           No               No   \n",
       "2            No               Yes           No          Yes              Yes   \n",
       "3            No               Yes          Yes          Yes              Yes   \n",
       "4           Yes               Yes           No          Yes              Yes   \n",
       "\n",
       "         contract paperless_billing             payment_method  \\\n",
       "0  Month-to-month               Yes               Mailed check   \n",
       "1  Month-to-month               Yes           Electronic check   \n",
       "2  Month-to-month               Yes           Electronic check   \n",
       "3  Month-to-month               Yes           Electronic check   \n",
       "4  Month-to-month               Yes  Bank transfer (automatic)   \n",
       "\n",
       "  monthly_charges  churn_value  \n",
       "0           53.85            1  \n",
       "1           70.70            1  \n",
       "2           99.65            1  \n",
       "3          104.80            1  \n",
       "4          103.70            1  \n",
       "\n",
       "[5 rows x 21 columns]"
      ]
     },
     "execution_count": 20,
     "metadata": {},
     "output_type": "execute_result"
    }
   ],
   "source": [
    "data.head()"
   ]
  },
  {
   "cell_type": "code",
   "execution_count": 21,
   "id": "8a008e12",
   "metadata": {},
   "outputs": [],
   "source": [
    "# data.dtypes"
   ]
  },
  {
   "cell_type": "markdown",
   "id": "f401f61c",
   "metadata": {},
   "source": [
    "## Get either the best case or worst case scenario\n",
    "\n",
    "### The data being set from here will decide how the model will treat its unknown churn customers"
   ]
  },
  {
   "cell_type": "markdown",
   "id": "2691cb01",
   "metadata": {},
   "source": [
    "**Our y is a check on whether the user will churn within 12 months or not**"
   ]
  },
  {
   "cell_type": "code",
   "execution_count": 22,
   "id": "54380e5a",
   "metadata": {},
   "outputs": [],
   "source": [
    "def best_case_churn(row):\n",
    "    # User has definitely not churned within the 12 months\n",
    "    if row['tenure_months'] >= 12: return 0\n",
    "    # User has definitely churned within the 12 months\n",
    "    if row['tenure_months'] < 12 and row['churn_value'] == 1: return 1\n",
    "    # Best case assumption\n",
    "    return 0"
   ]
  },
  {
   "cell_type": "code",
   "execution_count": 23,
   "id": "805daa40",
   "metadata": {},
   "outputs": [],
   "source": [
    "def worst_case_churn(row):\n",
    "    # User has definitely not churned within the 12 months\n",
    "    if row['tenure_months'] >= 12: return 0\n",
    "    # User has definitely churned within the 12 months\n",
    "    if row['tenure_months'] < 12 and row['churn_value'] == 1: return 1\n",
    "    # Best case assumption\n",
    "    return 1"
   ]
  },
  {
   "cell_type": "markdown",
   "id": "ce6a4d89",
   "metadata": {},
   "source": [
    "### Switch the following line to switch between best case and worst case"
   ]
  },
  {
   "cell_type": "code",
   "execution_count": 24,
   "id": "4e890283",
   "metadata": {},
   "outputs": [],
   "source": [
    "main_y_col = 'churn'"
   ]
  },
  {
   "cell_type": "code",
   "execution_count": 25,
   "id": "89245f4c",
   "metadata": {},
   "outputs": [],
   "source": [
    "data[main_y_col] = data.apply(worst_case_churn, axis=1)"
   ]
  },
  {
   "cell_type": "code",
   "execution_count": 26,
   "id": "1a2a958f",
   "metadata": {},
   "outputs": [
    {
     "data": {
      "text/plain": [
       "array([ 2,  8, 28, 49, 10,  1, 47, 17,  5, 34, 11, 15, 18,  9,  7, 12, 25,\n",
       "       68, 55, 37,  3, 27, 20,  4, 58, 53, 13,  6, 19, 59, 16, 52, 24, 32,\n",
       "       38, 54, 43, 63, 21, 69, 22, 61, 60, 48, 40, 23, 39, 35, 56, 65, 33,\n",
       "       30, 45, 46, 62, 70, 50, 44, 71, 26, 14, 41, 66, 64, 29, 42, 67, 51,\n",
       "       31, 57, 36, 72,  0], dtype=int64)"
      ]
     },
     "execution_count": 26,
     "metadata": {},
     "output_type": "execute_result"
    }
   ],
   "source": [
    "data['tenure_months'].unique()"
   ]
  },
  {
   "cell_type": "code",
   "execution_count": 27,
   "id": "c8a0dfc9",
   "metadata": {},
   "outputs": [
    {
     "data": {
      "text/html": [
       "<div>\n",
       "<style scoped>\n",
       "    .dataframe tbody tr th:only-of-type {\n",
       "        vertical-align: middle;\n",
       "    }\n",
       "\n",
       "    .dataframe tbody tr th {\n",
       "        vertical-align: top;\n",
       "    }\n",
       "\n",
       "    .dataframe thead th {\n",
       "        text-align: right;\n",
       "    }\n",
       "</style>\n",
       "<table border=\"1\" class=\"dataframe\">\n",
       "  <thead>\n",
       "    <tr style=\"text-align: right;\">\n",
       "      <th></th>\n",
       "      <th>churn_value</th>\n",
       "      <th>tenure_months</th>\n",
       "      <th>churn</th>\n",
       "    </tr>\n",
       "  </thead>\n",
       "  <tbody>\n",
       "    <tr>\n",
       "      <th>0</th>\n",
       "      <td>1</td>\n",
       "      <td>2</td>\n",
       "      <td>1</td>\n",
       "    </tr>\n",
       "    <tr>\n",
       "      <th>1</th>\n",
       "      <td>1</td>\n",
       "      <td>2</td>\n",
       "      <td>1</td>\n",
       "    </tr>\n",
       "    <tr>\n",
       "      <th>2</th>\n",
       "      <td>1</td>\n",
       "      <td>8</td>\n",
       "      <td>1</td>\n",
       "    </tr>\n",
       "    <tr>\n",
       "      <th>3</th>\n",
       "      <td>1</td>\n",
       "      <td>28</td>\n",
       "      <td>0</td>\n",
       "    </tr>\n",
       "    <tr>\n",
       "      <th>4</th>\n",
       "      <td>1</td>\n",
       "      <td>49</td>\n",
       "      <td>0</td>\n",
       "    </tr>\n",
       "    <tr>\n",
       "      <th>...</th>\n",
       "      <td>...</td>\n",
       "      <td>...</td>\n",
       "      <td>...</td>\n",
       "    </tr>\n",
       "    <tr>\n",
       "      <th>7038</th>\n",
       "      <td>0</td>\n",
       "      <td>72</td>\n",
       "      <td>0</td>\n",
       "    </tr>\n",
       "    <tr>\n",
       "      <th>7039</th>\n",
       "      <td>0</td>\n",
       "      <td>24</td>\n",
       "      <td>0</td>\n",
       "    </tr>\n",
       "    <tr>\n",
       "      <th>7040</th>\n",
       "      <td>0</td>\n",
       "      <td>72</td>\n",
       "      <td>0</td>\n",
       "    </tr>\n",
       "    <tr>\n",
       "      <th>7041</th>\n",
       "      <td>0</td>\n",
       "      <td>11</td>\n",
       "      <td>1</td>\n",
       "    </tr>\n",
       "    <tr>\n",
       "      <th>7042</th>\n",
       "      <td>0</td>\n",
       "      <td>66</td>\n",
       "      <td>0</td>\n",
       "    </tr>\n",
       "  </tbody>\n",
       "</table>\n",
       "<p>7043 rows × 3 columns</p>\n",
       "</div>"
      ],
      "text/plain": [
       "      churn_value  tenure_months  churn\n",
       "0               1              2      1\n",
       "1               1              2      1\n",
       "2               1              8      1\n",
       "3               1             28      0\n",
       "4               1             49      0\n",
       "...           ...            ...    ...\n",
       "7038            0             72      0\n",
       "7039            0             24      0\n",
       "7040            0             72      0\n",
       "7041            0             11      1\n",
       "7042            0             66      0\n",
       "\n",
       "[7043 rows x 3 columns]"
      ]
     },
     "execution_count": 27,
     "metadata": {},
     "output_type": "execute_result"
    }
   ],
   "source": [
    "y_cols.extend([main_y_col])\n",
    "data[y_cols]"
   ]
  },
  {
   "cell_type": "code",
   "execution_count": 28,
   "id": "d29ffea3",
   "metadata": {},
   "outputs": [
    {
     "data": {
      "text/plain": [
       "['churn_value', 'tenure_months', 'churn']"
      ]
     },
     "execution_count": 28,
     "metadata": {},
     "output_type": "execute_result"
    }
   ],
   "source": [
    "y_cols"
   ]
  },
  {
   "cell_type": "code",
   "execution_count": null,
   "id": "5ba1a178",
   "metadata": {},
   "outputs": [],
   "source": []
  },
  {
   "cell_type": "markdown",
   "id": "e6e4987a",
   "metadata": {},
   "source": [
    "## Divide the dataset into train and test test"
   ]
  },
  {
   "cell_type": "code",
   "execution_count": 29,
   "id": "8f7b6484",
   "metadata": {},
   "outputs": [],
   "source": [
    "RNG = np.random.RandomState(seed=420)"
   ]
  },
  {
   "cell_type": "code",
   "execution_count": 30,
   "id": "77dda259",
   "metadata": {},
   "outputs": [],
   "source": [
    "train, test = train_test_split(data, test_size=0.1, shuffle=True, random_state=RNG)"
   ]
  },
  {
   "cell_type": "code",
   "execution_count": 31,
   "id": "b8225ad8",
   "metadata": {},
   "outputs": [
    {
     "data": {
      "text/plain": [
       "(6338, 22)"
      ]
     },
     "execution_count": 31,
     "metadata": {},
     "output_type": "execute_result"
    }
   ],
   "source": [
    "train.shape"
   ]
  },
  {
   "cell_type": "code",
   "execution_count": 32,
   "id": "500f554e",
   "metadata": {},
   "outputs": [
    {
     "data": {
      "text/plain": [
       "(705, 22)"
      ]
     },
     "execution_count": 32,
     "metadata": {},
     "output_type": "execute_result"
    }
   ],
   "source": [
    "test.shape"
   ]
  },
  {
   "cell_type": "code",
   "execution_count": null,
   "id": "b2f4c389",
   "metadata": {},
   "outputs": [],
   "source": []
  },
  {
   "cell_type": "markdown",
   "id": "00f29fdb",
   "metadata": {},
   "source": [
    "## Pre-process the data"
   ]
  },
  {
   "cell_type": "markdown",
   "id": "f6ddf102",
   "metadata": {},
   "source": [
    "### Normalize\n",
    "\n",
    "**Remember to save normalization details of train data, to apply to test data**\n",
    "\n",
    "Pipeline transforms automatically do so for us."
   ]
  },
  {
   "cell_type": "code",
   "execution_count": 33,
   "id": "3e91ce37",
   "metadata": {},
   "outputs": [],
   "source": [
    "dtypes = data.dtypes"
   ]
  },
  {
   "cell_type": "code",
   "execution_count": 34,
   "id": "f1b38f66",
   "metadata": {},
   "outputs": [
    {
     "data": {
      "text/plain": [
       "['latitude', 'longitude', 'monthly_charges']"
      ]
     },
     "execution_count": 34,
     "metadata": {},
     "output_type": "execute_result"
    }
   ],
   "source": [
    "# Prepare to Standardize all numeric columns except Churn Value\n",
    "numeric_cols = list(data.select_dtypes(include=['int64', 'float64']))\n",
    "numeric_cols = [column for column in numeric_cols if column not in y_cols]\n",
    "numeric_cols"
   ]
  },
  {
   "cell_type": "code",
   "execution_count": 35,
   "id": "caf4a387",
   "metadata": {},
   "outputs": [],
   "source": [
    "# Pipeline is to maintain consistency\n",
    "standardization_transformer = Pipeline(steps=[('scaler', StandardScaler())])"
   ]
  },
  {
   "cell_type": "code",
   "execution_count": 36,
   "id": "dacf10f6",
   "metadata": {},
   "outputs": [],
   "source": [
    "# ColumnTransformer helps standardize only selected columns\n",
    "preprocessor = ColumnTransformer(\n",
    "    transformers=[('num', standardization_transformer, numeric_cols)],\n",
    "    remainder='passthrough'  # This leaves the rest of the columns in the dataset unchanged\n",
    ")"
   ]
  },
  {
   "cell_type": "code",
   "execution_count": 37,
   "id": "f270af88",
   "metadata": {},
   "outputs": [],
   "source": [
    "preprocessed_train_array = preprocessor.fit(train).transform(train)"
   ]
  },
  {
   "cell_type": "code",
   "execution_count": 38,
   "id": "0eab5810",
   "metadata": {},
   "outputs": [],
   "source": [
    "# train"
   ]
  },
  {
   "cell_type": "markdown",
   "id": "0f58f67a",
   "metadata": {},
   "source": [
    "Convert the preprocessed arrays into pandas dataframe, by taking into account the correct column names, and the correct column types."
   ]
  },
  {
   "cell_type": "code",
   "execution_count": 39,
   "id": "39176cbb",
   "metadata": {},
   "outputs": [],
   "source": [
    "preprocessed_columns = [col.split('__')[1] for col in preprocessor.get_feature_names_out()]\n",
    "# preprocessed_columns"
   ]
  },
  {
   "cell_type": "markdown",
   "id": "a70b6a51",
   "metadata": {},
   "source": [
    "## Warning!! Bad Coding Practice Alert"
   ]
  },
  {
   "cell_type": "code",
   "execution_count": 40,
   "id": "d050be94",
   "metadata": {},
   "outputs": [],
   "source": [
    "# Instead of mapping preprocessed_columns with the old data.columns and getting the dtypes\n",
    "# for now we will proceed with hard-coding logic\n",
    "# Because columns that have prefix num are obviously float\n",
    "# While other columns are either object or can be treated as object (except Churn Value which will separately be made int64)\n",
    "preprocessed_column_types = ['float64' if col.split('__')[0]=='num' else 'object' for col in preprocessor.get_feature_names_out()]"
   ]
  },
  {
   "cell_type": "code",
   "execution_count": 41,
   "id": "b747532c",
   "metadata": {},
   "outputs": [],
   "source": [
    "preprocessed_column_types[-1] = 'int64'"
   ]
  },
  {
   "cell_type": "code",
   "execution_count": 42,
   "id": "f8c63530",
   "metadata": {},
   "outputs": [],
   "source": [
    "preprocessed_column_dtypes = {preprocessed_columns[i]: preprocessed_column_types[i] for i in range(len(preprocessed_columns))}"
   ]
  },
  {
   "cell_type": "code",
   "execution_count": 43,
   "id": "7dff576e",
   "metadata": {},
   "outputs": [],
   "source": [
    "preprocessed_train = pd.DataFrame(data=preprocessed_train_array, columns=preprocessed_columns)\n",
    "preprocessed_train = preprocessed_train.astype(preprocessed_column_dtypes)"
   ]
  },
  {
   "cell_type": "code",
   "execution_count": 44,
   "id": "45a4d57d",
   "metadata": {},
   "outputs": [
    {
     "data": {
      "text/html": [
       "<div>\n",
       "<style scoped>\n",
       "    .dataframe tbody tr th:only-of-type {\n",
       "        vertical-align: middle;\n",
       "    }\n",
       "\n",
       "    .dataframe tbody tr th {\n",
       "        vertical-align: top;\n",
       "    }\n",
       "\n",
       "    .dataframe thead th {\n",
       "        text-align: right;\n",
       "    }\n",
       "</style>\n",
       "<table border=\"1\" class=\"dataframe\">\n",
       "  <thead>\n",
       "    <tr style=\"text-align: right;\">\n",
       "      <th></th>\n",
       "      <th>latitude</th>\n",
       "      <th>longitude</th>\n",
       "      <th>monthly_charges</th>\n",
       "      <th>gender</th>\n",
       "      <th>senior_citizen</th>\n",
       "      <th>partner</th>\n",
       "      <th>dependents</th>\n",
       "      <th>tenure_months</th>\n",
       "      <th>phone_service</th>\n",
       "      <th>multiple_lines</th>\n",
       "      <th>...</th>\n",
       "      <th>online_backup</th>\n",
       "      <th>device_protection</th>\n",
       "      <th>tech_support</th>\n",
       "      <th>streaming_tv</th>\n",
       "      <th>streaming_movies</th>\n",
       "      <th>contract</th>\n",
       "      <th>paperless_billing</th>\n",
       "      <th>payment_method</th>\n",
       "      <th>churn_value</th>\n",
       "      <th>churn</th>\n",
       "    </tr>\n",
       "  </thead>\n",
       "  <tbody>\n",
       "    <tr>\n",
       "      <th>0</th>\n",
       "      <td>-0.498158</td>\n",
       "      <td>-0.371946</td>\n",
       "      <td>1.295086</td>\n",
       "      <td>Male</td>\n",
       "      <td>No</td>\n",
       "      <td>Yes</td>\n",
       "      <td>Yes</td>\n",
       "      <td>60</td>\n",
       "      <td>Yes</td>\n",
       "      <td>Yes</td>\n",
       "      <td>...</td>\n",
       "      <td>Yes</td>\n",
       "      <td>No</td>\n",
       "      <td>Yes</td>\n",
       "      <td>Yes</td>\n",
       "      <td>Yes</td>\n",
       "      <td>Month-to-month</td>\n",
       "      <td>Yes</td>\n",
       "      <td>Bank transfer (automatic)</td>\n",
       "      <td>0</td>\n",
       "      <td>0</td>\n",
       "    </tr>\n",
       "    <tr>\n",
       "      <th>1</th>\n",
       "      <td>-1.423199</td>\n",
       "      <td>1.358143</td>\n",
       "      <td>-1.516232</td>\n",
       "      <td>Female</td>\n",
       "      <td>No</td>\n",
       "      <td>No</td>\n",
       "      <td>No</td>\n",
       "      <td>20</td>\n",
       "      <td>Yes</td>\n",
       "      <td>No</td>\n",
       "      <td>...</td>\n",
       "      <td>No internet service</td>\n",
       "      <td>No internet service</td>\n",
       "      <td>No internet service</td>\n",
       "      <td>No internet service</td>\n",
       "      <td>No internet service</td>\n",
       "      <td>One year</td>\n",
       "      <td>Yes</td>\n",
       "      <td>Credit card (automatic)</td>\n",
       "      <td>0</td>\n",
       "      <td>0</td>\n",
       "    </tr>\n",
       "    <tr>\n",
       "      <th>2</th>\n",
       "      <td>0.444907</td>\n",
       "      <td>-1.026476</td>\n",
       "      <td>0.965322</td>\n",
       "      <td>Male</td>\n",
       "      <td>No</td>\n",
       "      <td>No</td>\n",
       "      <td>No</td>\n",
       "      <td>17</td>\n",
       "      <td>Yes</td>\n",
       "      <td>No</td>\n",
       "      <td>...</td>\n",
       "      <td>No</td>\n",
       "      <td>No</td>\n",
       "      <td>No</td>\n",
       "      <td>Yes</td>\n",
       "      <td>Yes</td>\n",
       "      <td>Month-to-month</td>\n",
       "      <td>No</td>\n",
       "      <td>Electronic check</td>\n",
       "      <td>1</td>\n",
       "      <td>0</td>\n",
       "    </tr>\n",
       "    <tr>\n",
       "      <th>3</th>\n",
       "      <td>1.202459</td>\n",
       "      <td>-0.117674</td>\n",
       "      <td>-1.514566</td>\n",
       "      <td>Female</td>\n",
       "      <td>No</td>\n",
       "      <td>No</td>\n",
       "      <td>No</td>\n",
       "      <td>29</td>\n",
       "      <td>Yes</td>\n",
       "      <td>No</td>\n",
       "      <td>...</td>\n",
       "      <td>No internet service</td>\n",
       "      <td>No internet service</td>\n",
       "      <td>No internet service</td>\n",
       "      <td>No internet service</td>\n",
       "      <td>No internet service</td>\n",
       "      <td>Two year</td>\n",
       "      <td>No</td>\n",
       "      <td>Mailed check</td>\n",
       "      <td>0</td>\n",
       "      <td>0</td>\n",
       "    </tr>\n",
       "    <tr>\n",
       "      <th>4</th>\n",
       "      <td>-0.899465</td>\n",
       "      <td>0.660012</td>\n",
       "      <td>0.653879</td>\n",
       "      <td>Female</td>\n",
       "      <td>No</td>\n",
       "      <td>No</td>\n",
       "      <td>No</td>\n",
       "      <td>49</td>\n",
       "      <td>Yes</td>\n",
       "      <td>Yes</td>\n",
       "      <td>...</td>\n",
       "      <td>No</td>\n",
       "      <td>No</td>\n",
       "      <td>No</td>\n",
       "      <td>No</td>\n",
       "      <td>Yes</td>\n",
       "      <td>Month-to-month</td>\n",
       "      <td>Yes</td>\n",
       "      <td>Electronic check</td>\n",
       "      <td>0</td>\n",
       "      <td>0</td>\n",
       "    </tr>\n",
       "  </tbody>\n",
       "</table>\n",
       "<p>5 rows × 22 columns</p>\n",
       "</div>"
      ],
      "text/plain": [
       "   latitude  longitude  monthly_charges  gender senior_citizen partner  \\\n",
       "0 -0.498158  -0.371946         1.295086    Male             No     Yes   \n",
       "1 -1.423199   1.358143        -1.516232  Female             No      No   \n",
       "2  0.444907  -1.026476         0.965322    Male             No      No   \n",
       "3  1.202459  -0.117674        -1.514566  Female             No      No   \n",
       "4 -0.899465   0.660012         0.653879  Female             No      No   \n",
       "\n",
       "  dependents tenure_months phone_service multiple_lines  ...  \\\n",
       "0        Yes            60           Yes            Yes  ...   \n",
       "1         No            20           Yes             No  ...   \n",
       "2         No            17           Yes             No  ...   \n",
       "3         No            29           Yes             No  ...   \n",
       "4         No            49           Yes            Yes  ...   \n",
       "\n",
       "         online_backup    device_protection         tech_support  \\\n",
       "0                  Yes                   No                  Yes   \n",
       "1  No internet service  No internet service  No internet service   \n",
       "2                   No                   No                   No   \n",
       "3  No internet service  No internet service  No internet service   \n",
       "4                   No                   No                   No   \n",
       "\n",
       "          streaming_tv     streaming_movies        contract paperless_billing  \\\n",
       "0                  Yes                  Yes  Month-to-month               Yes   \n",
       "1  No internet service  No internet service        One year               Yes   \n",
       "2                  Yes                  Yes  Month-to-month                No   \n",
       "3  No internet service  No internet service        Two year                No   \n",
       "4                   No                  Yes  Month-to-month               Yes   \n",
       "\n",
       "              payment_method churn_value churn  \n",
       "0  Bank transfer (automatic)           0     0  \n",
       "1    Credit card (automatic)           0     0  \n",
       "2           Electronic check           1     0  \n",
       "3               Mailed check           0     0  \n",
       "4           Electronic check           0     0  \n",
       "\n",
       "[5 rows x 22 columns]"
      ]
     },
     "execution_count": 44,
     "metadata": {},
     "output_type": "execute_result"
    }
   ],
   "source": [
    "preprocessed_train.head()"
   ]
  },
  {
   "cell_type": "code",
   "execution_count": 45,
   "id": "bcf7088c",
   "metadata": {},
   "outputs": [],
   "source": [
    "# preprocessed_train.dtypes"
   ]
  },
  {
   "cell_type": "code",
   "execution_count": 46,
   "id": "bd9b605b",
   "metadata": {},
   "outputs": [],
   "source": [
    "preprocessed_test_array = preprocessor.transform(test)"
   ]
  },
  {
   "cell_type": "code",
   "execution_count": 47,
   "id": "bf93a6df",
   "metadata": {},
   "outputs": [],
   "source": [
    "preprocessed_test = pd.DataFrame(data=preprocessed_test_array, columns=preprocessed_columns)\n",
    "preprocessed_test = preprocessed_test.astype(preprocessed_column_dtypes)"
   ]
  },
  {
   "cell_type": "code",
   "execution_count": 48,
   "id": "11574329",
   "metadata": {},
   "outputs": [
    {
     "data": {
      "text/html": [
       "<div>\n",
       "<style scoped>\n",
       "    .dataframe tbody tr th:only-of-type {\n",
       "        vertical-align: middle;\n",
       "    }\n",
       "\n",
       "    .dataframe tbody tr th {\n",
       "        vertical-align: top;\n",
       "    }\n",
       "\n",
       "    .dataframe thead th {\n",
       "        text-align: right;\n",
       "    }\n",
       "</style>\n",
       "<table border=\"1\" class=\"dataframe\">\n",
       "  <thead>\n",
       "    <tr style=\"text-align: right;\">\n",
       "      <th></th>\n",
       "      <th>latitude</th>\n",
       "      <th>longitude</th>\n",
       "      <th>monthly_charges</th>\n",
       "      <th>gender</th>\n",
       "      <th>senior_citizen</th>\n",
       "      <th>partner</th>\n",
       "      <th>dependents</th>\n",
       "      <th>tenure_months</th>\n",
       "      <th>phone_service</th>\n",
       "      <th>multiple_lines</th>\n",
       "      <th>...</th>\n",
       "      <th>online_backup</th>\n",
       "      <th>device_protection</th>\n",
       "      <th>tech_support</th>\n",
       "      <th>streaming_tv</th>\n",
       "      <th>streaming_movies</th>\n",
       "      <th>contract</th>\n",
       "      <th>paperless_billing</th>\n",
       "      <th>payment_method</th>\n",
       "      <th>churn_value</th>\n",
       "      <th>churn</th>\n",
       "    </tr>\n",
       "  </thead>\n",
       "  <tbody>\n",
       "    <tr>\n",
       "      <th>0</th>\n",
       "      <td>1.077896</td>\n",
       "      <td>-1.383298</td>\n",
       "      <td>1.331726</td>\n",
       "      <td>Female</td>\n",
       "      <td>Yes</td>\n",
       "      <td>Yes</td>\n",
       "      <td>No</td>\n",
       "      <td>62</td>\n",
       "      <td>Yes</td>\n",
       "      <td>Yes</td>\n",
       "      <td>...</td>\n",
       "      <td>No</td>\n",
       "      <td>Yes</td>\n",
       "      <td>No</td>\n",
       "      <td>Yes</td>\n",
       "      <td>Yes</td>\n",
       "      <td>One year</td>\n",
       "      <td>Yes</td>\n",
       "      <td>Electronic check</td>\n",
       "      <td>0</td>\n",
       "      <td>0</td>\n",
       "    </tr>\n",
       "    <tr>\n",
       "      <th>1</th>\n",
       "      <td>-0.903949</td>\n",
       "      <td>0.703809</td>\n",
       "      <td>-1.479591</td>\n",
       "      <td>Male</td>\n",
       "      <td>No</td>\n",
       "      <td>No</td>\n",
       "      <td>No</td>\n",
       "      <td>47</td>\n",
       "      <td>Yes</td>\n",
       "      <td>No</td>\n",
       "      <td>...</td>\n",
       "      <td>No internet service</td>\n",
       "      <td>No internet service</td>\n",
       "      <td>No internet service</td>\n",
       "      <td>No internet service</td>\n",
       "      <td>No internet service</td>\n",
       "      <td>Two year</td>\n",
       "      <td>No</td>\n",
       "      <td>Bank transfer (automatic)</td>\n",
       "      <td>0</td>\n",
       "      <td>0</td>\n",
       "    </tr>\n",
       "    <tr>\n",
       "      <th>2</th>\n",
       "      <td>-0.863037</td>\n",
       "      <td>0.738054</td>\n",
       "      <td>-0.165534</td>\n",
       "      <td>Male</td>\n",
       "      <td>No</td>\n",
       "      <td>No</td>\n",
       "      <td>No</td>\n",
       "      <td>9</td>\n",
       "      <td>Yes</td>\n",
       "      <td>Yes</td>\n",
       "      <td>...</td>\n",
       "      <td>No</td>\n",
       "      <td>No</td>\n",
       "      <td>No</td>\n",
       "      <td>No</td>\n",
       "      <td>Yes</td>\n",
       "      <td>Month-to-month</td>\n",
       "      <td>No</td>\n",
       "      <td>Mailed check</td>\n",
       "      <td>0</td>\n",
       "      <td>1</td>\n",
       "    </tr>\n",
       "    <tr>\n",
       "      <th>3</th>\n",
       "      <td>0.495985</td>\n",
       "      <td>-1.031974</td>\n",
       "      <td>0.868725</td>\n",
       "      <td>Female</td>\n",
       "      <td>Yes</td>\n",
       "      <td>No</td>\n",
       "      <td>No</td>\n",
       "      <td>32</td>\n",
       "      <td>Yes</td>\n",
       "      <td>No</td>\n",
       "      <td>...</td>\n",
       "      <td>No</td>\n",
       "      <td>No</td>\n",
       "      <td>No</td>\n",
       "      <td>Yes</td>\n",
       "      <td>Yes</td>\n",
       "      <td>Month-to-month</td>\n",
       "      <td>No</td>\n",
       "      <td>Electronic check</td>\n",
       "      <td>0</td>\n",
       "      <td>0</td>\n",
       "    </tr>\n",
       "    <tr>\n",
       "      <th>4</th>\n",
       "      <td>0.898898</td>\n",
       "      <td>-0.799467</td>\n",
       "      <td>0.184215</td>\n",
       "      <td>Female</td>\n",
       "      <td>No</td>\n",
       "      <td>No</td>\n",
       "      <td>No</td>\n",
       "      <td>4</td>\n",
       "      <td>Yes</td>\n",
       "      <td>No</td>\n",
       "      <td>...</td>\n",
       "      <td>No</td>\n",
       "      <td>No</td>\n",
       "      <td>No</td>\n",
       "      <td>No</td>\n",
       "      <td>No</td>\n",
       "      <td>Month-to-month</td>\n",
       "      <td>No</td>\n",
       "      <td>Electronic check</td>\n",
       "      <td>1</td>\n",
       "      <td>1</td>\n",
       "    </tr>\n",
       "  </tbody>\n",
       "</table>\n",
       "<p>5 rows × 22 columns</p>\n",
       "</div>"
      ],
      "text/plain": [
       "   latitude  longitude  monthly_charges  gender senior_citizen partner  \\\n",
       "0  1.077896  -1.383298         1.331726  Female            Yes     Yes   \n",
       "1 -0.903949   0.703809        -1.479591    Male             No      No   \n",
       "2 -0.863037   0.738054        -0.165534    Male             No      No   \n",
       "3  0.495985  -1.031974         0.868725  Female            Yes      No   \n",
       "4  0.898898  -0.799467         0.184215  Female             No      No   \n",
       "\n",
       "  dependents tenure_months phone_service multiple_lines  ...  \\\n",
       "0         No            62           Yes            Yes  ...   \n",
       "1         No            47           Yes             No  ...   \n",
       "2         No             9           Yes            Yes  ...   \n",
       "3         No            32           Yes             No  ...   \n",
       "4         No             4           Yes             No  ...   \n",
       "\n",
       "         online_backup    device_protection         tech_support  \\\n",
       "0                   No                  Yes                   No   \n",
       "1  No internet service  No internet service  No internet service   \n",
       "2                   No                   No                   No   \n",
       "3                   No                   No                   No   \n",
       "4                   No                   No                   No   \n",
       "\n",
       "          streaming_tv     streaming_movies        contract paperless_billing  \\\n",
       "0                  Yes                  Yes        One year               Yes   \n",
       "1  No internet service  No internet service        Two year                No   \n",
       "2                   No                  Yes  Month-to-month                No   \n",
       "3                  Yes                  Yes  Month-to-month                No   \n",
       "4                   No                   No  Month-to-month                No   \n",
       "\n",
       "              payment_method churn_value churn  \n",
       "0           Electronic check           0     0  \n",
       "1  Bank transfer (automatic)           0     0  \n",
       "2               Mailed check           0     1  \n",
       "3           Electronic check           0     0  \n",
       "4           Electronic check           1     1  \n",
       "\n",
       "[5 rows x 22 columns]"
      ]
     },
     "execution_count": 48,
     "metadata": {},
     "output_type": "execute_result"
    }
   ],
   "source": [
    "preprocessed_test.head()"
   ]
  },
  {
   "cell_type": "code",
   "execution_count": 49,
   "id": "1a718087",
   "metadata": {},
   "outputs": [],
   "source": [
    "# preprocessed_test.dtypes"
   ]
  },
  {
   "cell_type": "markdown",
   "id": "45348cbd",
   "metadata": {},
   "source": [
    "### Split Datasets into X and y\n",
    "\n",
    "(Not useful if using statsmodels api)"
   ]
  },
  {
   "cell_type": "code",
   "execution_count": 50,
   "id": "d75ba40c",
   "metadata": {},
   "outputs": [],
   "source": [
    "X_columns = list(preprocessed_train.columns)"
   ]
  },
  {
   "cell_type": "code",
   "execution_count": 51,
   "id": "ca95b309",
   "metadata": {},
   "outputs": [],
   "source": [
    "X_columns = [column for column in X_columns if column not in y_cols]"
   ]
  },
  {
   "cell_type": "code",
   "execution_count": 52,
   "id": "853e2ec2",
   "metadata": {},
   "outputs": [],
   "source": [
    "# X_columns"
   ]
  },
  {
   "cell_type": "code",
   "execution_count": 53,
   "id": "4c28a87f",
   "metadata": {},
   "outputs": [],
   "source": [
    "X_train, y_train = preprocessed_train[X_columns], preprocessed_train[main_y_col]"
   ]
  },
  {
   "cell_type": "code",
   "execution_count": 54,
   "id": "0c74db45",
   "metadata": {},
   "outputs": [],
   "source": [
    "X_test, y_test = preprocessed_test[X_columns], preprocessed_test[main_y_col]"
   ]
  },
  {
   "cell_type": "code",
   "execution_count": null,
   "id": "1fbe7e6b",
   "metadata": {},
   "outputs": [],
   "source": []
  },
  {
   "cell_type": "code",
   "execution_count": null,
   "id": "a14481ec",
   "metadata": {},
   "outputs": [],
   "source": []
  },
  {
   "cell_type": "markdown",
   "id": "1efa3577",
   "metadata": {},
   "source": [
    "### Dimensionality Reduction?\n",
    "\n",
    "Maybe later. Not relevant to Lasso Regression"
   ]
  },
  {
   "cell_type": "code",
   "execution_count": null,
   "id": "299fc18f",
   "metadata": {},
   "outputs": [],
   "source": []
  },
  {
   "cell_type": "code",
   "execution_count": null,
   "id": "bece8223",
   "metadata": {},
   "outputs": [],
   "source": []
  },
  {
   "cell_type": "markdown",
   "id": "45a2bcfc",
   "metadata": {},
   "source": [
    "## Run Lasso Logistic Regression"
   ]
  },
  {
   "cell_type": "code",
   "execution_count": null,
   "id": "fa0931c5",
   "metadata": {},
   "outputs": [],
   "source": []
  },
  {
   "cell_type": "code",
   "execution_count": null,
   "id": "ef89082d",
   "metadata": {},
   "outputs": [],
   "source": []
  },
  {
   "cell_type": "code",
   "execution_count": 55,
   "id": "26dd340a",
   "metadata": {},
   "outputs": [],
   "source": [
    "# preprocessed_column_types"
   ]
  },
  {
   "cell_type": "code",
   "execution_count": 56,
   "id": "5320fbb9",
   "metadata": {},
   "outputs": [],
   "source": [
    "# preprocessed_train_array"
   ]
  },
  {
   "cell_type": "code",
   "execution_count": null,
   "id": "025d9b98",
   "metadata": {},
   "outputs": [],
   "source": []
  },
  {
   "cell_type": "code",
   "execution_count": 57,
   "id": "5539812f",
   "metadata": {},
   "outputs": [],
   "source": [
    "# preprocessed_train.dtypes"
   ]
  },
  {
   "cell_type": "code",
   "execution_count": 58,
   "id": "491f1568",
   "metadata": {},
   "outputs": [
    {
     "data": {
      "text/plain": [
       "Index(['latitude', 'longitude', 'monthly_charges', 'gender', 'senior_citizen',\n",
       "       'partner', 'dependents', 'tenure_months', 'phone_service',\n",
       "       'multiple_lines', 'internet_service', 'online_security',\n",
       "       'online_backup', 'device_protection', 'tech_support', 'streaming_tv',\n",
       "       'streaming_movies', 'contract', 'paperless_billing', 'payment_method',\n",
       "       'churn_value', 'churn'],\n",
       "      dtype='object')"
      ]
     },
     "execution_count": 58,
     "metadata": {},
     "output_type": "execute_result"
    }
   ],
   "source": [
    "preprocessed_train.columns"
   ]
  },
  {
   "cell_type": "code",
   "execution_count": 59,
   "id": "5930ebd9",
   "metadata": {},
   "outputs": [],
   "source": [
    "def formulaGenerator(data, y_cols = [''], main_y_col=''):\n",
    "    x_cols = [column for column in list(data.columns) if column not in y_cols]\n",
    "    formula = f'{main_y_col} ~'\n",
    "    for index, column in enumerate(x_cols):\n",
    "        if index != 0: formula = f'{formula} +'\n",
    "        if data.dtypes[column] in ['int64', 'float64']: formula = f'{formula} {column}'\n",
    "        else: formula = f'{formula} C({column})'\n",
    "    return formula"
   ]
  },
  {
   "cell_type": "code",
   "execution_count": 60,
   "id": "426886fa",
   "metadata": {},
   "outputs": [
    {
     "data": {
      "text/plain": [
       "'churn ~ latitude + longitude + monthly_charges + C(gender) + C(senior_citizen) + C(partner) + C(dependents) + C(phone_service) + C(multiple_lines) + C(internet_service) + C(online_security) + C(online_backup) + C(device_protection) + C(tech_support) + C(streaming_tv) + C(streaming_movies) + C(contract) + C(paperless_billing) + C(payment_method)'"
      ]
     },
     "execution_count": 60,
     "metadata": {},
     "output_type": "execute_result"
    }
   ],
   "source": [
    "formula = formulaGenerator(preprocessed_train, y_cols, main_y_col)\n",
    "formula"
   ]
  },
  {
   "cell_type": "code",
   "execution_count": 61,
   "id": "cf0e6c81",
   "metadata": {},
   "outputs": [
    {
     "name": "stdout",
     "output_type": "stream",
     "text": [
      "Optimization terminated successfully    (Exit mode 0)\n",
      "            Current function value: 0.3928285859820894\n",
      "            Iterations: 108\n",
      "            Function evaluations: 108\n",
      "            Gradient evaluations: 108\n"
     ]
    }
   ],
   "source": [
    "model = smf.logit(formula = formula, data = preprocessed_train)\n",
    "results = model.fit_regularized(method='l1', alpha=10, QC_verbose=False)"
   ]
  },
  {
   "cell_type": "code",
   "execution_count": 62,
   "id": "0cc843cd",
   "metadata": {},
   "outputs": [],
   "source": [
    "# results.summary()"
   ]
  },
  {
   "cell_type": "code",
   "execution_count": 63,
   "id": "424163e1",
   "metadata": {},
   "outputs": [],
   "source": [
    "param_grid = {'alpha': np.logspace(-5, 3, 100)}"
   ]
  },
  {
   "cell_type": "code",
   "execution_count": 64,
   "id": "f88a4fb9",
   "metadata": {},
   "outputs": [],
   "source": [
    "param_list = list(ParameterGrid(param_grid))"
   ]
  },
  {
   "cell_type": "code",
   "execution_count": 65,
   "id": "836d450a",
   "metadata": {},
   "outputs": [],
   "source": [
    "# param_list"
   ]
  },
  {
   "cell_type": "code",
   "execution_count": 66,
   "id": "d83786f1",
   "metadata": {},
   "outputs": [],
   "source": [
    "coefficients = None"
   ]
  },
  {
   "cell_type": "code",
   "execution_count": 67,
   "id": "ce13f534",
   "metadata": {},
   "outputs": [
    {
     "name": "stdout",
     "output_type": "stream",
     "text": [
      "Optimization terminated successfully    (Exit mode 0)\n",
      "            Current function value: 0.3712034327299626\n",
      "            Iterations: 119\n",
      "            Function evaluations: 119\n",
      "            Gradient evaluations: 119\n",
      "Optimization terminated successfully    (Exit mode 0)\n",
      "            Current function value: 0.37120344236329955\n",
      "            Iterations: 119\n",
      "            Function evaluations: 119\n",
      "            Gradient evaluations: 119\n"
     ]
    },
    {
     "name": "stderr",
     "output_type": "stream",
     "text": [
      "C:\\Users\\hnaid\\anaconda3\\Lib\\site-packages\\statsmodels\\base\\l1_solvers_common.py:71: ConvergenceWarning: QC check did not pass for 31 out of 31 parameters\n",
      "Try increasing solver accuracy or number of iterations, decreasing alpha, or switch solvers\n",
      "  warnings.warn(message, ConvergenceWarning)\n",
      "C:\\Users\\hnaid\\anaconda3\\Lib\\site-packages\\statsmodels\\base\\l1_solvers_common.py:144: ConvergenceWarning: Could not trim params automatically due to failed QC check. Trimming using trim_mode == 'size' will still work.\n",
      "  warnings.warn(msg, ConvergenceWarning)\n",
      "C:\\Users\\hnaid\\anaconda3\\Lib\\site-packages\\statsmodels\\base\\l1_solvers_common.py:71: ConvergenceWarning: QC check did not pass for 31 out of 31 parameters\n",
      "Try increasing solver accuracy or number of iterations, decreasing alpha, or switch solvers\n",
      "  warnings.warn(message, ConvergenceWarning)\n",
      "C:\\Users\\hnaid\\anaconda3\\Lib\\site-packages\\statsmodels\\base\\l1_solvers_common.py:144: ConvergenceWarning: Could not trim params automatically due to failed QC check. Trimming using trim_mode == 'size' will still work.\n",
      "  warnings.warn(msg, ConvergenceWarning)\n"
     ]
    },
    {
     "name": "stdout",
     "output_type": "stream",
     "text": [
      "Optimization terminated successfully    (Exit mode 0)\n",
      "            Current function value: 0.37120345396603893\n",
      "            Iterations: 119\n",
      "            Function evaluations: 119\n",
      "            Gradient evaluations: 119\n",
      "{'alpha': 1.4508287784959402e-05}\n",
      "Optimization terminated successfully    (Exit mode 0)\n",
      "            Current function value: 0.3712034679406379\n",
      "            Iterations: 119\n",
      "            Function evaluations: 119\n",
      "            Gradient evaluations: 119\n"
     ]
    },
    {
     "name": "stderr",
     "output_type": "stream",
     "text": [
      "C:\\Users\\hnaid\\anaconda3\\Lib\\site-packages\\statsmodels\\base\\l1_solvers_common.py:71: ConvergenceWarning: QC check did not pass for 31 out of 31 parameters\n",
      "Try increasing solver accuracy or number of iterations, decreasing alpha, or switch solvers\n",
      "  warnings.warn(message, ConvergenceWarning)\n",
      "C:\\Users\\hnaid\\anaconda3\\Lib\\site-packages\\statsmodels\\base\\l1_solvers_common.py:144: ConvergenceWarning: Could not trim params automatically due to failed QC check. Trimming using trim_mode == 'size' will still work.\n",
      "  warnings.warn(msg, ConvergenceWarning)\n",
      "C:\\Users\\hnaid\\anaconda3\\Lib\\site-packages\\statsmodels\\base\\l1_solvers_common.py:71: ConvergenceWarning: QC check did not pass for 31 out of 31 parameters\n",
      "Try increasing solver accuracy or number of iterations, decreasing alpha, or switch solvers\n",
      "  warnings.warn(message, ConvergenceWarning)\n",
      "C:\\Users\\hnaid\\anaconda3\\Lib\\site-packages\\statsmodels\\base\\l1_solvers_common.py:144: ConvergenceWarning: Could not trim params automatically due to failed QC check. Trimming using trim_mode == 'size' will still work.\n",
      "  warnings.warn(msg, ConvergenceWarning)\n"
     ]
    },
    {
     "name": "stdout",
     "output_type": "stream",
     "text": [
      "Optimization terminated successfully    (Exit mode 0)\n",
      "            Current function value: 0.371203484771726\n",
      "            Iterations: 119\n",
      "            Function evaluations: 119\n",
      "            Gradient evaluations: 119\n",
      "Optimization terminated successfully    (Exit mode 0)\n",
      "            Current function value: 0.371203505042849\n",
      "            Iterations: 119\n",
      "            Function evaluations: 119\n",
      "            Gradient evaluations: 119\n"
     ]
    },
    {
     "name": "stderr",
     "output_type": "stream",
     "text": [
      "C:\\Users\\hnaid\\anaconda3\\Lib\\site-packages\\statsmodels\\base\\l1_solvers_common.py:71: ConvergenceWarning: QC check did not pass for 31 out of 31 parameters\n",
      "Try increasing solver accuracy or number of iterations, decreasing alpha, or switch solvers\n",
      "  warnings.warn(message, ConvergenceWarning)\n",
      "C:\\Users\\hnaid\\anaconda3\\Lib\\site-packages\\statsmodels\\base\\l1_solvers_common.py:144: ConvergenceWarning: Could not trim params automatically due to failed QC check. Trimming using trim_mode == 'size' will still work.\n",
      "  warnings.warn(msg, ConvergenceWarning)\n",
      "C:\\Users\\hnaid\\anaconda3\\Lib\\site-packages\\statsmodels\\base\\l1_solvers_common.py:71: ConvergenceWarning: QC check did not pass for 31 out of 31 parameters\n",
      "Try increasing solver accuracy or number of iterations, decreasing alpha, or switch solvers\n",
      "  warnings.warn(message, ConvergenceWarning)\n",
      "C:\\Users\\hnaid\\anaconda3\\Lib\\site-packages\\statsmodels\\base\\l1_solvers_common.py:144: ConvergenceWarning: Could not trim params automatically due to failed QC check. Trimming using trim_mode == 'size' will still work.\n",
      "  warnings.warn(msg, ConvergenceWarning)\n"
     ]
    },
    {
     "name": "stdout",
     "output_type": "stream",
     "text": [
      "Optimization terminated successfully    (Exit mode 0)\n",
      "            Current function value: 0.371203529456613\n",
      "            Iterations: 119\n",
      "            Function evaluations: 119\n",
      "            Gradient evaluations: 119\n",
      "Optimization terminated successfully    (Exit mode 0)\n",
      "            Current function value: 0.37120355885890627\n",
      "            Iterations: 119\n",
      "            Function evaluations: 119\n",
      "            Gradient evaluations: 119\n"
     ]
    },
    {
     "name": "stderr",
     "output_type": "stream",
     "text": [
      "C:\\Users\\hnaid\\anaconda3\\Lib\\site-packages\\statsmodels\\base\\l1_solvers_common.py:71: ConvergenceWarning: QC check did not pass for 31 out of 31 parameters\n",
      "Try increasing solver accuracy or number of iterations, decreasing alpha, or switch solvers\n",
      "  warnings.warn(message, ConvergenceWarning)\n",
      "C:\\Users\\hnaid\\anaconda3\\Lib\\site-packages\\statsmodels\\base\\l1_solvers_common.py:144: ConvergenceWarning: Could not trim params automatically due to failed QC check. Trimming using trim_mode == 'size' will still work.\n",
      "  warnings.warn(msg, ConvergenceWarning)\n",
      "C:\\Users\\hnaid\\anaconda3\\Lib\\site-packages\\statsmodels\\base\\l1_solvers_common.py:71: ConvergenceWarning: QC check did not pass for 31 out of 31 parameters\n",
      "Try increasing solver accuracy or number of iterations, decreasing alpha, or switch solvers\n",
      "  warnings.warn(message, ConvergenceWarning)\n",
      "C:\\Users\\hnaid\\anaconda3\\Lib\\site-packages\\statsmodels\\base\\l1_solvers_common.py:144: ConvergenceWarning: Could not trim params automatically due to failed QC check. Trimming using trim_mode == 'size' will still work.\n",
      "  warnings.warn(msg, ConvergenceWarning)\n"
     ]
    },
    {
     "name": "stdout",
     "output_type": "stream",
     "text": [
      "Optimization terminated successfully    (Exit mode 0)\n",
      "            Current function value: 0.37120359426801947\n",
      "            Iterations: 119\n",
      "            Function evaluations: 119\n",
      "            Gradient evaluations: 119\n",
      "Optimization terminated successfully    (Exit mode 0)\n",
      "            Current function value: 0.37120363690963987\n",
      "            Iterations: 119\n",
      "            Function evaluations: 119\n",
      "            Gradient evaluations: 119\n"
     ]
    },
    {
     "name": "stderr",
     "output_type": "stream",
     "text": [
      "C:\\Users\\hnaid\\anaconda3\\Lib\\site-packages\\statsmodels\\base\\l1_solvers_common.py:71: ConvergenceWarning: QC check did not pass for 31 out of 31 parameters\n",
      "Try increasing solver accuracy or number of iterations, decreasing alpha, or switch solvers\n",
      "  warnings.warn(message, ConvergenceWarning)\n",
      "C:\\Users\\hnaid\\anaconda3\\Lib\\site-packages\\statsmodels\\base\\l1_solvers_common.py:144: ConvergenceWarning: Could not trim params automatically due to failed QC check. Trimming using trim_mode == 'size' will still work.\n",
      "  warnings.warn(msg, ConvergenceWarning)\n",
      "C:\\Users\\hnaid\\anaconda3\\Lib\\site-packages\\statsmodels\\base\\l1_solvers_common.py:71: ConvergenceWarning: QC check did not pass for 31 out of 31 parameters\n",
      "Try increasing solver accuracy or number of iterations, decreasing alpha, or switch solvers\n",
      "  warnings.warn(message, ConvergenceWarning)\n",
      "C:\\Users\\hnaid\\anaconda3\\Lib\\site-packages\\statsmodels\\base\\l1_solvers_common.py:144: ConvergenceWarning: Could not trim params automatically due to failed QC check. Trimming using trim_mode == 'size' will still work.\n",
      "  warnings.warn(msg, ConvergenceWarning)\n"
     ]
    },
    {
     "name": "stdout",
     "output_type": "stream",
     "text": [
      "Optimization terminated successfully    (Exit mode 0)\n",
      "            Current function value: 0.3712036882588808\n",
      "            Iterations: 119\n",
      "            Function evaluations: 119\n",
      "            Gradient evaluations: 119\n",
      "{'alpha': 6.428073117284319e-05}\n",
      "Optimization terminated successfully    (Exit mode 0)\n",
      "            Current function value: 0.3712037500907355\n",
      "            Iterations: 119\n",
      "            Function evaluations: 119\n",
      "            Gradient evaluations: 119\n"
     ]
    },
    {
     "name": "stderr",
     "output_type": "stream",
     "text": [
      "C:\\Users\\hnaid\\anaconda3\\Lib\\site-packages\\statsmodels\\base\\l1_solvers_common.py:71: ConvergenceWarning: QC check did not pass for 31 out of 31 parameters\n",
      "Try increasing solver accuracy or number of iterations, decreasing alpha, or switch solvers\n",
      "  warnings.warn(message, ConvergenceWarning)\n",
      "C:\\Users\\hnaid\\anaconda3\\Lib\\site-packages\\statsmodels\\base\\l1_solvers_common.py:144: ConvergenceWarning: Could not trim params automatically due to failed QC check. Trimming using trim_mode == 'size' will still work.\n",
      "  warnings.warn(msg, ConvergenceWarning)\n",
      "C:\\Users\\hnaid\\anaconda3\\Lib\\site-packages\\statsmodels\\base\\l1_solvers_common.py:71: ConvergenceWarning: QC check did not pass for 30 out of 31 parameters\n",
      "Try increasing solver accuracy or number of iterations, decreasing alpha, or switch solvers\n",
      "  warnings.warn(message, ConvergenceWarning)\n",
      "C:\\Users\\hnaid\\anaconda3\\Lib\\site-packages\\statsmodels\\base\\l1_solvers_common.py:144: ConvergenceWarning: Could not trim params automatically due to failed QC check. Trimming using trim_mode == 'size' will still work.\n",
      "  warnings.warn(msg, ConvergenceWarning)\n"
     ]
    },
    {
     "name": "stdout",
     "output_type": "stream",
     "text": [
      "Optimization terminated successfully    (Exit mode 0)\n",
      "            Current function value: 0.3712038245405977\n",
      "            Iterations: 119\n",
      "            Function evaluations: 119\n",
      "            Gradient evaluations: 119\n",
      "Optimization terminated successfully    (Exit mode 0)\n",
      "            Current function value: 0.37120391417679394\n",
      "            Iterations: 119\n",
      "            Function evaluations: 119\n",
      "            Gradient evaluations: 119\n",
      "{'alpha': 0.00011233240329780277}\n"
     ]
    },
    {
     "name": "stderr",
     "output_type": "stream",
     "text": [
      "C:\\Users\\hnaid\\anaconda3\\Lib\\site-packages\\statsmodels\\base\\l1_solvers_common.py:71: ConvergenceWarning: QC check did not pass for 30 out of 31 parameters\n",
      "Try increasing solver accuracy or number of iterations, decreasing alpha, or switch solvers\n",
      "  warnings.warn(message, ConvergenceWarning)\n",
      "C:\\Users\\hnaid\\anaconda3\\Lib\\site-packages\\statsmodels\\base\\l1_solvers_common.py:144: ConvergenceWarning: Could not trim params automatically due to failed QC check. Trimming using trim_mode == 'size' will still work.\n",
      "  warnings.warn(msg, ConvergenceWarning)\n",
      "C:\\Users\\hnaid\\anaconda3\\Lib\\site-packages\\statsmodels\\base\\l1_solvers_common.py:71: ConvergenceWarning: QC check did not pass for 30 out of 31 parameters\n",
      "Try increasing solver accuracy or number of iterations, decreasing alpha, or switch solvers\n",
      "  warnings.warn(message, ConvergenceWarning)\n",
      "C:\\Users\\hnaid\\anaconda3\\Lib\\site-packages\\statsmodels\\base\\l1_solvers_common.py:144: ConvergenceWarning: Could not trim params automatically due to failed QC check. Trimming using trim_mode == 'size' will still work.\n",
      "  warnings.warn(msg, ConvergenceWarning)\n"
     ]
    },
    {
     "name": "stdout",
     "output_type": "stream",
     "text": [
      "Optimization terminated successfully    (Exit mode 0)\n",
      "            Current function value: 0.37120402208741865\n",
      "            Iterations: 119\n",
      "            Function evaluations: 119\n",
      "            Gradient evaluations: 119\n",
      "Optimization terminated successfully    (Exit mode 0)\n",
      "            Current function value: 0.3712041519841564\n",
      "            Iterations: 119\n",
      "            Function evaluations: 119\n",
      "            Gradient evaluations: 119\n"
     ]
    },
    {
     "name": "stderr",
     "output_type": "stream",
     "text": [
      "C:\\Users\\hnaid\\anaconda3\\Lib\\site-packages\\statsmodels\\base\\l1_solvers_common.py:71: ConvergenceWarning: QC check did not pass for 28 out of 31 parameters\n",
      "Try increasing solver accuracy or number of iterations, decreasing alpha, or switch solvers\n",
      "  warnings.warn(message, ConvergenceWarning)\n",
      "C:\\Users\\hnaid\\anaconda3\\Lib\\site-packages\\statsmodels\\base\\l1_solvers_common.py:144: ConvergenceWarning: Could not trim params automatically due to failed QC check. Trimming using trim_mode == 'size' will still work.\n",
      "  warnings.warn(msg, ConvergenceWarning)\n",
      "C:\\Users\\hnaid\\anaconda3\\Lib\\site-packages\\statsmodels\\base\\l1_solvers_common.py:71: ConvergenceWarning: QC check did not pass for 29 out of 31 parameters\n",
      "Try increasing solver accuracy or number of iterations, decreasing alpha, or switch solvers\n",
      "  warnings.warn(message, ConvergenceWarning)\n",
      "C:\\Users\\hnaid\\anaconda3\\Lib\\site-packages\\statsmodels\\base\\l1_solvers_common.py:144: ConvergenceWarning: Could not trim params automatically due to failed QC check. Trimming using trim_mode == 'size' will still work.\n",
      "  warnings.warn(msg, ConvergenceWarning)\n"
     ]
    },
    {
     "name": "stdout",
     "output_type": "stream",
     "text": [
      "Optimization terminated successfully    (Exit mode 0)\n",
      "            Current function value: 0.37120430832621015\n",
      "            Iterations: 119\n",
      "            Function evaluations: 119\n",
      "            Gradient evaluations: 119\n",
      "Optimization terminated successfully    (Exit mode 0)\n",
      "            Current function value: 0.37120449646792786\n",
      "            Iterations: 119\n",
      "            Function evaluations: 119\n",
      "            Gradient evaluations: 119\n"
     ]
    },
    {
     "name": "stderr",
     "output_type": "stream",
     "text": [
      "C:\\Users\\hnaid\\anaconda3\\Lib\\site-packages\\statsmodels\\base\\l1_solvers_common.py:71: ConvergenceWarning: QC check did not pass for 22 out of 31 parameters\n",
      "Try increasing solver accuracy or number of iterations, decreasing alpha, or switch solvers\n",
      "  warnings.warn(message, ConvergenceWarning)\n",
      "C:\\Users\\hnaid\\anaconda3\\Lib\\site-packages\\statsmodels\\base\\l1_solvers_common.py:144: ConvergenceWarning: Could not trim params automatically due to failed QC check. Trimming using trim_mode == 'size' will still work.\n",
      "  warnings.warn(msg, ConvergenceWarning)\n",
      "C:\\Users\\hnaid\\anaconda3\\Lib\\site-packages\\statsmodels\\base\\l1_solvers_common.py:71: ConvergenceWarning: QC check did not pass for 22 out of 31 parameters\n",
      "Try increasing solver accuracy or number of iterations, decreasing alpha, or switch solvers\n",
      "  warnings.warn(message, ConvergenceWarning)\n",
      "C:\\Users\\hnaid\\anaconda3\\Lib\\site-packages\\statsmodels\\base\\l1_solvers_common.py:144: ConvergenceWarning: Could not trim params automatically due to failed QC check. Trimming using trim_mode == 'size' will still work.\n",
      "  warnings.warn(msg, ConvergenceWarning)\n"
     ]
    },
    {
     "name": "stdout",
     "output_type": "stream",
     "text": [
      "Optimization terminated successfully    (Exit mode 0)\n",
      "            Current function value: 0.37120472283420763\n",
      "            Iterations: 119\n",
      "            Function evaluations: 119\n",
      "            Gradient evaluations: 119\n",
      "{'alpha': 0.0002848035868435802}\n",
      "Optimization terminated successfully    (Exit mode 0)\n",
      "            Current function value: 0.3712049951282185\n",
      "            Iterations: 119\n",
      "            Function evaluations: 119\n",
      "            Gradient evaluations: 119\n"
     ]
    },
    {
     "name": "stderr",
     "output_type": "stream",
     "text": [
      "C:\\Users\\hnaid\\anaconda3\\Lib\\site-packages\\statsmodels\\base\\l1_solvers_common.py:71: ConvergenceWarning: QC check did not pass for 20 out of 31 parameters\n",
      "Try increasing solver accuracy or number of iterations, decreasing alpha, or switch solvers\n",
      "  warnings.warn(message, ConvergenceWarning)\n",
      "C:\\Users\\hnaid\\anaconda3\\Lib\\site-packages\\statsmodels\\base\\l1_solvers_common.py:144: ConvergenceWarning: Could not trim params automatically due to failed QC check. Trimming using trim_mode == 'size' will still work.\n",
      "  warnings.warn(msg, ConvergenceWarning)\n",
      "C:\\Users\\hnaid\\anaconda3\\Lib\\site-packages\\statsmodels\\base\\l1_solvers_common.py:71: ConvergenceWarning: QC check did not pass for 19 out of 31 parameters\n",
      "Try increasing solver accuracy or number of iterations, decreasing alpha, or switch solvers\n",
      "  warnings.warn(message, ConvergenceWarning)\n",
      "C:\\Users\\hnaid\\anaconda3\\Lib\\site-packages\\statsmodels\\base\\l1_solvers_common.py:144: ConvergenceWarning: Could not trim params automatically due to failed QC check. Trimming using trim_mode == 'size' will still work.\n",
      "  warnings.warn(msg, ConvergenceWarning)\n"
     ]
    },
    {
     "name": "stdout",
     "output_type": "stream",
     "text": [
      "Optimization terminated successfully    (Exit mode 0)\n",
      "            Current function value: 0.371205322576328\n",
      "            Iterations: 119\n",
      "            Function evaluations: 119\n",
      "            Gradient evaluations: 119\n",
      "Optimization terminated successfully    (Exit mode 0)\n",
      "            Current function value: 0.37120571621522114\n",
      "            Iterations: 119\n",
      "            Function evaluations: 119\n",
      "            Gradient evaluations: 119\n"
     ]
    },
    {
     "name": "stderr",
     "output_type": "stream",
     "text": [
      "C:\\Users\\hnaid\\anaconda3\\Lib\\site-packages\\statsmodels\\base\\l1_solvers_common.py:71: ConvergenceWarning: QC check did not pass for 18 out of 31 parameters\n",
      "Try increasing solver accuracy or number of iterations, decreasing alpha, or switch solvers\n",
      "  warnings.warn(message, ConvergenceWarning)\n",
      "C:\\Users\\hnaid\\anaconda3\\Lib\\site-packages\\statsmodels\\base\\l1_solvers_common.py:144: ConvergenceWarning: Could not trim params automatically due to failed QC check. Trimming using trim_mode == 'size' will still work.\n",
      "  warnings.warn(msg, ConvergenceWarning)\n",
      "C:\\Users\\hnaid\\anaconda3\\Lib\\site-packages\\statsmodels\\base\\l1_solvers_common.py:71: ConvergenceWarning: QC check did not pass for 17 out of 31 parameters\n",
      "Try increasing solver accuracy or number of iterations, decreasing alpha, or switch solvers\n",
      "  warnings.warn(message, ConvergenceWarning)\n",
      "C:\\Users\\hnaid\\anaconda3\\Lib\\site-packages\\statsmodels\\base\\l1_solvers_common.py:144: ConvergenceWarning: Could not trim params automatically due to failed QC check. Trimming using trim_mode == 'size' will still work.\n",
      "  warnings.warn(msg, ConvergenceWarning)\n"
     ]
    },
    {
     "name": "stdout",
     "output_type": "stream",
     "text": [
      "Optimization terminated successfully    (Exit mode 0)\n",
      "            Current function value: 0.3712061892257556\n",
      "            Iterations: 119\n",
      "            Function evaluations: 119\n",
      "            Gradient evaluations: 119\n",
      "Optimization terminated successfully    (Exit mode 0)\n",
      "            Current function value: 0.371206757316598\n",
      "            Iterations: 119\n",
      "            Function evaluations: 119\n",
      "            Gradient evaluations: 119\n"
     ]
    },
    {
     "name": "stderr",
     "output_type": "stream",
     "text": [
      "C:\\Users\\hnaid\\anaconda3\\Lib\\site-packages\\statsmodels\\base\\l1_solvers_common.py:71: ConvergenceWarning: QC check did not pass for 17 out of 31 parameters\n",
      "Try increasing solver accuracy or number of iterations, decreasing alpha, or switch solvers\n",
      "  warnings.warn(message, ConvergenceWarning)\n",
      "C:\\Users\\hnaid\\anaconda3\\Lib\\site-packages\\statsmodels\\base\\l1_solvers_common.py:144: ConvergenceWarning: Could not trim params automatically due to failed QC check. Trimming using trim_mode == 'size' will still work.\n",
      "  warnings.warn(msg, ConvergenceWarning)\n",
      "C:\\Users\\hnaid\\anaconda3\\Lib\\site-packages\\statsmodels\\base\\l1_solvers_common.py:71: ConvergenceWarning: QC check did not pass for 18 out of 31 parameters\n",
      "Try increasing solver accuracy or number of iterations, decreasing alpha, or switch solvers\n",
      "  warnings.warn(message, ConvergenceWarning)\n",
      "C:\\Users\\hnaid\\anaconda3\\Lib\\site-packages\\statsmodels\\base\\l1_solvers_common.py:144: ConvergenceWarning: Could not trim params automatically due to failed QC check. Trimming using trim_mode == 'size' will still work.\n",
      "  warnings.warn(msg, ConvergenceWarning)\n"
     ]
    },
    {
     "name": "stdout",
     "output_type": "stream",
     "text": [
      "Optimization terminated successfully    (Exit mode 0)\n",
      "            Current function value: 0.37120744078780044\n",
      "            Iterations: 119\n",
      "            Function evaluations: 120\n",
      "            Gradient evaluations: 119\n",
      "Optimization terminated successfully    (Exit mode 0)\n",
      "            Current function value: 0.37120826117189315\n",
      "            Iterations: 119\n",
      "            Function evaluations: 119\n",
      "            Gradient evaluations: 119\n"
     ]
    },
    {
     "name": "stderr",
     "output_type": "stream",
     "text": [
      "C:\\Users\\hnaid\\anaconda3\\Lib\\site-packages\\statsmodels\\base\\l1_solvers_common.py:71: ConvergenceWarning: QC check did not pass for 20 out of 31 parameters\n",
      "Try increasing solver accuracy or number of iterations, decreasing alpha, or switch solvers\n",
      "  warnings.warn(message, ConvergenceWarning)\n",
      "C:\\Users\\hnaid\\anaconda3\\Lib\\site-packages\\statsmodels\\base\\l1_solvers_common.py:144: ConvergenceWarning: Could not trim params automatically due to failed QC check. Trimming using trim_mode == 'size' will still work.\n",
      "  warnings.warn(msg, ConvergenceWarning)\n",
      "C:\\Users\\hnaid\\anaconda3\\Lib\\site-packages\\statsmodels\\base\\l1_solvers_common.py:71: ConvergenceWarning: QC check did not pass for 16 out of 31 parameters\n",
      "Try increasing solver accuracy or number of iterations, decreasing alpha, or switch solvers\n",
      "  warnings.warn(message, ConvergenceWarning)\n",
      "C:\\Users\\hnaid\\anaconda3\\Lib\\site-packages\\statsmodels\\base\\l1_solvers_common.py:144: ConvergenceWarning: Could not trim params automatically due to failed QC check. Trimming using trim_mode == 'size' will still work.\n",
      "  warnings.warn(msg, ConvergenceWarning)\n"
     ]
    },
    {
     "name": "stdout",
     "output_type": "stream",
     "text": [
      "Optimization terminated successfully    (Exit mode 0)\n",
      "            Current function value: 0.371209246397273\n",
      "            Iterations: 121\n",
      "            Function evaluations: 122\n",
      "            Gradient evaluations: 121\n",
      "Optimization terminated successfully    (Exit mode 0)\n",
      "            Current function value: 0.3712104271536106\n",
      "            Iterations: 123\n",
      "            Function evaluations: 123\n",
      "            Gradient evaluations: 123\n",
      "{'alpha': 0.0015199110829529348}\n"
     ]
    },
    {
     "name": "stderr",
     "output_type": "stream",
     "text": [
      "C:\\Users\\hnaid\\anaconda3\\Lib\\site-packages\\statsmodels\\base\\l1_solvers_common.py:71: ConvergenceWarning: QC check did not pass for 19 out of 31 parameters\n",
      "Try increasing solver accuracy or number of iterations, decreasing alpha, or switch solvers\n",
      "  warnings.warn(message, ConvergenceWarning)\n",
      "C:\\Users\\hnaid\\anaconda3\\Lib\\site-packages\\statsmodels\\base\\l1_solvers_common.py:144: ConvergenceWarning: Could not trim params automatically due to failed QC check. Trimming using trim_mode == 'size' will still work.\n",
      "  warnings.warn(msg, ConvergenceWarning)\n",
      "C:\\Users\\hnaid\\anaconda3\\Lib\\site-packages\\statsmodels\\base\\l1_solvers_common.py:71: ConvergenceWarning: QC check did not pass for 21 out of 31 parameters\n",
      "Try increasing solver accuracy or number of iterations, decreasing alpha, or switch solvers\n",
      "  warnings.warn(message, ConvergenceWarning)\n",
      "C:\\Users\\hnaid\\anaconda3\\Lib\\site-packages\\statsmodels\\base\\l1_solvers_common.py:144: ConvergenceWarning: Could not trim params automatically due to failed QC check. Trimming using trim_mode == 'size' will still work.\n",
      "  warnings.warn(msg, ConvergenceWarning)\n"
     ]
    },
    {
     "name": "stdout",
     "output_type": "stream",
     "text": [
      "Optimization terminated successfully    (Exit mode 0)\n",
      "            Current function value: 0.37121183950463926\n",
      "            Iterations: 124\n",
      "            Function evaluations: 124\n",
      "            Gradient evaluations: 124\n",
      "{'alpha': 0.0018307382802953698}\n",
      "Optimization terminated successfully    (Exit mode 0)\n",
      "            Current function value: 0.3712135288385496\n",
      "            Iterations: 123\n",
      "            Function evaluations: 123\n",
      "            Gradient evaluations: 123\n"
     ]
    },
    {
     "name": "stderr",
     "output_type": "stream",
     "text": [
      "C:\\Users\\hnaid\\anaconda3\\Lib\\site-packages\\statsmodels\\base\\l1_solvers_common.py:71: ConvergenceWarning: QC check did not pass for 23 out of 31 parameters\n",
      "Try increasing solver accuracy or number of iterations, decreasing alpha, or switch solvers\n",
      "  warnings.warn(message, ConvergenceWarning)\n",
      "C:\\Users\\hnaid\\anaconda3\\Lib\\site-packages\\statsmodels\\base\\l1_solvers_common.py:144: ConvergenceWarning: Could not trim params automatically due to failed QC check. Trimming using trim_mode == 'size' will still work.\n",
      "  warnings.warn(msg, ConvergenceWarning)\n",
      "C:\\Users\\hnaid\\anaconda3\\Lib\\site-packages\\statsmodels\\base\\l1_solvers_common.py:71: ConvergenceWarning: QC check did not pass for 21 out of 31 parameters\n",
      "Try increasing solver accuracy or number of iterations, decreasing alpha, or switch solvers\n",
      "  warnings.warn(message, ConvergenceWarning)\n",
      "C:\\Users\\hnaid\\anaconda3\\Lib\\site-packages\\statsmodels\\base\\l1_solvers_common.py:144: ConvergenceWarning: Could not trim params automatically due to failed QC check. Trimming using trim_mode == 'size' will still work.\n",
      "  warnings.warn(msg, ConvergenceWarning)\n"
     ]
    },
    {
     "name": "stdout",
     "output_type": "stream",
     "text": [
      "Optimization terminated successfully    (Exit mode 0)\n",
      "            Current function value: 0.3712155421024222\n",
      "            Iterations: 122\n",
      "            Function evaluations: 122\n",
      "            Gradient evaluations: 122\n",
      "Optimization terminated successfully    (Exit mode 0)\n",
      "            Current function value: 0.37121792905313467\n",
      "            Iterations: 121\n",
      "            Function evaluations: 122\n",
      "            Gradient evaluations: 121\n"
     ]
    },
    {
     "name": "stderr",
     "output_type": "stream",
     "text": [
      "C:\\Users\\hnaid\\anaconda3\\Lib\\site-packages\\statsmodels\\base\\l1_solvers_common.py:71: ConvergenceWarning: QC check did not pass for 28 out of 31 parameters\n",
      "Try increasing solver accuracy or number of iterations, decreasing alpha, or switch solvers\n",
      "  warnings.warn(message, ConvergenceWarning)\n",
      "C:\\Users\\hnaid\\anaconda3\\Lib\\site-packages\\statsmodels\\base\\l1_solvers_common.py:144: ConvergenceWarning: Could not trim params automatically due to failed QC check. Trimming using trim_mode == 'size' will still work.\n",
      "  warnings.warn(msg, ConvergenceWarning)\n",
      "C:\\Users\\hnaid\\anaconda3\\Lib\\site-packages\\statsmodels\\base\\l1_solvers_common.py:71: ConvergenceWarning: QC check did not pass for 24 out of 31 parameters\n",
      "Try increasing solver accuracy or number of iterations, decreasing alpha, or switch solvers\n",
      "  warnings.warn(message, ConvergenceWarning)\n",
      "C:\\Users\\hnaid\\anaconda3\\Lib\\site-packages\\statsmodels\\base\\l1_solvers_common.py:144: ConvergenceWarning: Could not trim params automatically due to failed QC check. Trimming using trim_mode == 'size' will still work.\n",
      "  warnings.warn(msg, ConvergenceWarning)\n"
     ]
    },
    {
     "name": "stdout",
     "output_type": "stream",
     "text": [
      "Optimization terminated successfully    (Exit mode 0)\n",
      "            Current function value: 0.3712207272980118\n",
      "            Iterations: 138\n",
      "            Function evaluations: 138\n",
      "            Gradient evaluations: 138\n",
      "{'alpha': 0.0038535285937105314}\n"
     ]
    },
    {
     "name": "stderr",
     "output_type": "stream",
     "text": [
      "C:\\Users\\hnaid\\anaconda3\\Lib\\site-packages\\statsmodels\\base\\l1_solvers_common.py:71: ConvergenceWarning: QC check did not pass for 18 out of 31 parameters\n",
      "Try increasing solver accuracy or number of iterations, decreasing alpha, or switch solvers\n",
      "  warnings.warn(message, ConvergenceWarning)\n",
      "C:\\Users\\hnaid\\anaconda3\\Lib\\site-packages\\statsmodels\\base\\l1_solvers_common.py:144: ConvergenceWarning: Could not trim params automatically due to failed QC check. Trimming using trim_mode == 'size' will still work.\n",
      "  warnings.warn(msg, ConvergenceWarning)\n"
     ]
    },
    {
     "name": "stdout",
     "output_type": "stream",
     "text": [
      "Optimization terminated successfully    (Exit mode 0)\n",
      "            Current function value: 0.3712171679200052\n",
      "            Iterations: 269\n",
      "            Function evaluations: 269\n",
      "            Gradient evaluations: 269\n",
      "{'alpha': 0.004641588833612782}\n"
     ]
    },
    {
     "name": "stderr",
     "output_type": "stream",
     "text": [
      "C:\\Users\\hnaid\\anaconda3\\Lib\\site-packages\\statsmodels\\base\\l1_solvers_common.py:71: ConvergenceWarning: QC check did not pass for 17 out of 31 parameters\n",
      "Try increasing solver accuracy or number of iterations, decreasing alpha, or switch solvers\n",
      "  warnings.warn(message, ConvergenceWarning)\n",
      "C:\\Users\\hnaid\\anaconda3\\Lib\\site-packages\\statsmodels\\base\\l1_solvers_common.py:144: ConvergenceWarning: Could not trim params automatically due to failed QC check. Trimming using trim_mode == 'size' will still work.\n",
      "  warnings.warn(msg, ConvergenceWarning)\n"
     ]
    },
    {
     "name": "stdout",
     "output_type": "stream",
     "text": [
      "Optimization terminated successfully    (Exit mode 0)\n",
      "            Current function value: 0.3712199520410121\n",
      "            Iterations: 258\n",
      "            Function evaluations: 258\n",
      "            Gradient evaluations: 258\n"
     ]
    },
    {
     "name": "stderr",
     "output_type": "stream",
     "text": [
      "C:\\Users\\hnaid\\anaconda3\\Lib\\site-packages\\statsmodels\\base\\l1_solvers_common.py:71: ConvergenceWarning: QC check did not pass for 14 out of 31 parameters\n",
      "Try increasing solver accuracy or number of iterations, decreasing alpha, or switch solvers\n",
      "  warnings.warn(message, ConvergenceWarning)\n",
      "C:\\Users\\hnaid\\anaconda3\\Lib\\site-packages\\statsmodels\\base\\l1_solvers_common.py:144: ConvergenceWarning: Could not trim params automatically due to failed QC check. Trimming using trim_mode == 'size' will still work.\n",
      "  warnings.warn(msg, ConvergenceWarning)\n"
     ]
    },
    {
     "name": "stdout",
     "output_type": "stream",
     "text": [
      "Optimization terminated successfully    (Exit mode 0)\n",
      "            Current function value: 0.37122015063162045\n",
      "            Iterations: 405\n",
      "            Function evaluations: 406\n",
      "            Gradient evaluations: 405\n"
     ]
    },
    {
     "name": "stderr",
     "output_type": "stream",
     "text": [
      "C:\\Users\\hnaid\\anaconda3\\Lib\\site-packages\\statsmodels\\base\\l1_solvers_common.py:71: ConvergenceWarning: QC check did not pass for 21 out of 31 parameters\n",
      "Try increasing solver accuracy or number of iterations, decreasing alpha, or switch solvers\n",
      "  warnings.warn(message, ConvergenceWarning)\n",
      "C:\\Users\\hnaid\\anaconda3\\Lib\\site-packages\\statsmodels\\base\\l1_solvers_common.py:144: ConvergenceWarning: Could not trim params automatically due to failed QC check. Trimming using trim_mode == 'size' will still work.\n",
      "  warnings.warn(msg, ConvergenceWarning)\n"
     ]
    },
    {
     "name": "stdout",
     "output_type": "stream",
     "text": [
      "Optimization terminated successfully    (Exit mode 0)\n",
      "            Current function value: 0.37122367467941025\n",
      "            Iterations: 400\n",
      "            Function evaluations: 400\n",
      "            Gradient evaluations: 400\n"
     ]
    },
    {
     "name": "stderr",
     "output_type": "stream",
     "text": [
      "C:\\Users\\hnaid\\anaconda3\\Lib\\site-packages\\statsmodels\\base\\l1_solvers_common.py:71: ConvergenceWarning: QC check did not pass for 19 out of 31 parameters\n",
      "Try increasing solver accuracy or number of iterations, decreasing alpha, or switch solvers\n",
      "  warnings.warn(message, ConvergenceWarning)\n",
      "C:\\Users\\hnaid\\anaconda3\\Lib\\site-packages\\statsmodels\\base\\l1_solvers_common.py:144: ConvergenceWarning: Could not trim params automatically due to failed QC check. Trimming using trim_mode == 'size' will still work.\n",
      "  warnings.warn(msg, ConvergenceWarning)\n"
     ]
    },
    {
     "name": "stdout",
     "output_type": "stream",
     "text": [
      "Optimization terminated successfully    (Exit mode 0)\n",
      "            Current function value: 0.37122697703532015\n",
      "            Iterations: 433\n",
      "            Function evaluations: 433\n",
      "            Gradient evaluations: 433\n"
     ]
    },
    {
     "name": "stderr",
     "output_type": "stream",
     "text": [
      "C:\\Users\\hnaid\\anaconda3\\Lib\\site-packages\\statsmodels\\base\\l1_solvers_common.py:71: ConvergenceWarning: QC check did not pass for 9 out of 31 parameters\n",
      "Try increasing solver accuracy or number of iterations, decreasing alpha, or switch solvers\n",
      "  warnings.warn(message, ConvergenceWarning)\n",
      "C:\\Users\\hnaid\\anaconda3\\Lib\\site-packages\\statsmodels\\base\\l1_solvers_common.py:144: ConvergenceWarning: Could not trim params automatically due to failed QC check. Trimming using trim_mode == 'size' will still work.\n",
      "  warnings.warn(msg, ConvergenceWarning)\n"
     ]
    },
    {
     "name": "stdout",
     "output_type": "stream",
     "text": [
      "Optimization terminated successfully    (Exit mode 0)\n",
      "            Current function value: 0.3712320112851667\n",
      "            Iterations: 439\n",
      "            Function evaluations: 439\n",
      "            Gradient evaluations: 439\n"
     ]
    },
    {
     "name": "stderr",
     "output_type": "stream",
     "text": [
      "C:\\Users\\hnaid\\anaconda3\\Lib\\site-packages\\statsmodels\\base\\l1_solvers_common.py:71: ConvergenceWarning: QC check did not pass for 10 out of 31 parameters\n",
      "Try increasing solver accuracy or number of iterations, decreasing alpha, or switch solvers\n",
      "  warnings.warn(message, ConvergenceWarning)\n",
      "C:\\Users\\hnaid\\anaconda3\\Lib\\site-packages\\statsmodels\\base\\l1_solvers_common.py:144: ConvergenceWarning: Could not trim params automatically due to failed QC check. Trimming using trim_mode == 'size' will still work.\n",
      "  warnings.warn(msg, ConvergenceWarning)\n"
     ]
    },
    {
     "name": "stdout",
     "output_type": "stream",
     "text": [
      "Optimization terminated successfully    (Exit mode 0)\n",
      "            Current function value: 0.3712374135838477\n",
      "            Iterations: 449\n",
      "            Function evaluations: 449\n",
      "            Gradient evaluations: 449\n"
     ]
    },
    {
     "name": "stderr",
     "output_type": "stream",
     "text": [
      "C:\\Users\\hnaid\\anaconda3\\Lib\\site-packages\\statsmodels\\base\\l1_solvers_common.py:71: ConvergenceWarning: QC check did not pass for 12 out of 31 parameters\n",
      "Try increasing solver accuracy or number of iterations, decreasing alpha, or switch solvers\n",
      "  warnings.warn(message, ConvergenceWarning)\n",
      "C:\\Users\\hnaid\\anaconda3\\Lib\\site-packages\\statsmodels\\base\\l1_solvers_common.py:144: ConvergenceWarning: Could not trim params automatically due to failed QC check. Trimming using trim_mode == 'size' will still work.\n",
      "  warnings.warn(msg, ConvergenceWarning)\n"
     ]
    },
    {
     "name": "stdout",
     "output_type": "stream",
     "text": [
      "Optimization terminated successfully    (Exit mode 0)\n",
      "            Current function value: 0.3712442682533316\n",
      "            Iterations: 468\n",
      "            Function evaluations: 468\n",
      "            Gradient evaluations: 468\n"
     ]
    },
    {
     "name": "stderr",
     "output_type": "stream",
     "text": [
      "C:\\Users\\hnaid\\anaconda3\\Lib\\site-packages\\statsmodels\\base\\l1_solvers_common.py:71: ConvergenceWarning: QC check did not pass for 14 out of 31 parameters\n",
      "Try increasing solver accuracy or number of iterations, decreasing alpha, or switch solvers\n",
      "  warnings.warn(message, ConvergenceWarning)\n",
      "C:\\Users\\hnaid\\anaconda3\\Lib\\site-packages\\statsmodels\\base\\l1_solvers_common.py:144: ConvergenceWarning: Could not trim params automatically due to failed QC check. Trimming using trim_mode == 'size' will still work.\n",
      "  warnings.warn(msg, ConvergenceWarning)\n"
     ]
    },
    {
     "name": "stdout",
     "output_type": "stream",
     "text": [
      "Optimization terminated successfully    (Exit mode 0)\n",
      "            Current function value: 0.37125238061909566\n",
      "            Iterations: 469\n",
      "            Function evaluations: 469\n",
      "            Gradient evaluations: 469\n"
     ]
    },
    {
     "name": "stderr",
     "output_type": "stream",
     "text": [
      "C:\\Users\\hnaid\\anaconda3\\Lib\\site-packages\\statsmodels\\base\\l1_solvers_common.py:71: ConvergenceWarning: QC check did not pass for 18 out of 31 parameters\n",
      "Try increasing solver accuracy or number of iterations, decreasing alpha, or switch solvers\n",
      "  warnings.warn(message, ConvergenceWarning)\n",
      "C:\\Users\\hnaid\\anaconda3\\Lib\\site-packages\\statsmodels\\base\\l1_solvers_common.py:144: ConvergenceWarning: Could not trim params automatically due to failed QC check. Trimming using trim_mode == 'size' will still work.\n",
      "  warnings.warn(msg, ConvergenceWarning)\n"
     ]
    },
    {
     "name": "stdout",
     "output_type": "stream",
     "text": [
      "Optimization terminated successfully    (Exit mode 0)\n",
      "            Current function value: 0.37126236305440524\n",
      "            Iterations: 457\n",
      "            Function evaluations: 458\n",
      "            Gradient evaluations: 457\n"
     ]
    },
    {
     "name": "stderr",
     "output_type": "stream",
     "text": [
      "C:\\Users\\hnaid\\anaconda3\\Lib\\site-packages\\statsmodels\\base\\l1_solvers_common.py:71: ConvergenceWarning: QC check did not pass for 18 out of 31 parameters\n",
      "Try increasing solver accuracy or number of iterations, decreasing alpha, or switch solvers\n",
      "  warnings.warn(message, ConvergenceWarning)\n",
      "C:\\Users\\hnaid\\anaconda3\\Lib\\site-packages\\statsmodels\\base\\l1_solvers_common.py:144: ConvergenceWarning: Could not trim params automatically due to failed QC check. Trimming using trim_mode == 'size' will still work.\n",
      "  warnings.warn(msg, ConvergenceWarning)\n"
     ]
    },
    {
     "name": "stdout",
     "output_type": "stream",
     "text": [
      "Optimization terminated successfully    (Exit mode 0)\n",
      "            Current function value: 0.37127435754861193\n",
      "            Iterations: 471\n",
      "            Function evaluations: 472\n",
      "            Gradient evaluations: 471\n"
     ]
    },
    {
     "name": "stderr",
     "output_type": "stream",
     "text": [
      "C:\\Users\\hnaid\\anaconda3\\Lib\\site-packages\\statsmodels\\base\\l1_solvers_common.py:71: ConvergenceWarning: QC check did not pass for 18 out of 31 parameters\n",
      "Try increasing solver accuracy or number of iterations, decreasing alpha, or switch solvers\n",
      "  warnings.warn(message, ConvergenceWarning)\n",
      "C:\\Users\\hnaid\\anaconda3\\Lib\\site-packages\\statsmodels\\base\\l1_solvers_common.py:144: ConvergenceWarning: Could not trim params automatically due to failed QC check. Trimming using trim_mode == 'size' will still work.\n",
      "  warnings.warn(msg, ConvergenceWarning)\n"
     ]
    },
    {
     "name": "stdout",
     "output_type": "stream",
     "text": [
      "Optimization terminated successfully    (Exit mode 0)\n",
      "            Current function value: 0.37128894418613867\n",
      "            Iterations: 435\n",
      "            Function evaluations: 435\n",
      "            Gradient evaluations: 435\n",
      "{'alpha': 0.03593813663804629}\n"
     ]
    },
    {
     "name": "stderr",
     "output_type": "stream",
     "text": [
      "C:\\Users\\hnaid\\anaconda3\\Lib\\site-packages\\statsmodels\\base\\l1_solvers_common.py:71: ConvergenceWarning: QC check did not pass for 17 out of 31 parameters\n",
      "Try increasing solver accuracy or number of iterations, decreasing alpha, or switch solvers\n",
      "  warnings.warn(message, ConvergenceWarning)\n",
      "C:\\Users\\hnaid\\anaconda3\\Lib\\site-packages\\statsmodels\\base\\l1_solvers_common.py:144: ConvergenceWarning: Could not trim params automatically due to failed QC check. Trimming using trim_mode == 'size' will still work.\n",
      "  warnings.warn(msg, ConvergenceWarning)\n"
     ]
    },
    {
     "name": "stdout",
     "output_type": "stream",
     "text": [
      "Optimization terminated successfully    (Exit mode 0)\n",
      "            Current function value: 0.3713061349889185\n",
      "            Iterations: 456\n",
      "            Function evaluations: 456\n",
      "            Gradient evaluations: 456\n"
     ]
    },
    {
     "name": "stderr",
     "output_type": "stream",
     "text": [
      "C:\\Users\\hnaid\\anaconda3\\Lib\\site-packages\\statsmodels\\base\\l1_solvers_common.py:71: ConvergenceWarning: QC check did not pass for 2 out of 31 parameters\n",
      "Try increasing solver accuracy or number of iterations, decreasing alpha, or switch solvers\n",
      "  warnings.warn(message, ConvergenceWarning)\n",
      "C:\\Users\\hnaid\\anaconda3\\Lib\\site-packages\\statsmodels\\base\\l1_solvers_common.py:144: ConvergenceWarning: Could not trim params automatically due to failed QC check. Trimming using trim_mode == 'size' will still work.\n",
      "  warnings.warn(msg, ConvergenceWarning)\n"
     ]
    },
    {
     "name": "stdout",
     "output_type": "stream",
     "text": [
      "Optimization terminated successfully    (Exit mode 0)\n",
      "            Current function value: 0.37132707669285475\n",
      "            Iterations: 439\n",
      "            Function evaluations: 439\n",
      "            Gradient evaluations: 439\n",
      "{'alpha': 0.0521400828799969}\n"
     ]
    },
    {
     "name": "stderr",
     "output_type": "stream",
     "text": [
      "C:\\Users\\hnaid\\anaconda3\\Lib\\site-packages\\statsmodels\\base\\l1_solvers_common.py:71: ConvergenceWarning: QC check did not pass for 3 out of 31 parameters\n",
      "Try increasing solver accuracy or number of iterations, decreasing alpha, or switch solvers\n",
      "  warnings.warn(message, ConvergenceWarning)\n",
      "C:\\Users\\hnaid\\anaconda3\\Lib\\site-packages\\statsmodels\\base\\l1_solvers_common.py:144: ConvergenceWarning: Could not trim params automatically due to failed QC check. Trimming using trim_mode == 'size' will still work.\n",
      "  warnings.warn(msg, ConvergenceWarning)\n"
     ]
    },
    {
     "name": "stdout",
     "output_type": "stream",
     "text": [
      "Optimization terminated successfully    (Exit mode 0)\n",
      "            Current function value: 0.3713523486439135\n",
      "            Iterations: 424\n",
      "            Function evaluations: 424\n",
      "            Gradient evaluations: 424\n"
     ]
    },
    {
     "name": "stderr",
     "output_type": "stream",
     "text": [
      "C:\\Users\\hnaid\\anaconda3\\Lib\\site-packages\\statsmodels\\base\\l1_solvers_common.py:71: ConvergenceWarning: QC check did not pass for 6 out of 31 parameters\n",
      "Try increasing solver accuracy or number of iterations, decreasing alpha, or switch solvers\n",
      "  warnings.warn(message, ConvergenceWarning)\n",
      "C:\\Users\\hnaid\\anaconda3\\Lib\\site-packages\\statsmodels\\base\\l1_solvers_common.py:144: ConvergenceWarning: Could not trim params automatically due to failed QC check. Trimming using trim_mode == 'size' will still work.\n",
      "  warnings.warn(msg, ConvergenceWarning)\n"
     ]
    },
    {
     "name": "stdout",
     "output_type": "stream",
     "text": [
      "Optimization terminated successfully    (Exit mode 0)\n",
      "            Current function value: 0.37138284268458704\n",
      "            Iterations: 417\n",
      "            Function evaluations: 417\n",
      "            Gradient evaluations: 417\n"
     ]
    },
    {
     "name": "stderr",
     "output_type": "stream",
     "text": [
      "C:\\Users\\hnaid\\anaconda3\\Lib\\site-packages\\statsmodels\\base\\l1_solvers_common.py:71: ConvergenceWarning: QC check did not pass for 4 out of 31 parameters\n",
      "Try increasing solver accuracy or number of iterations, decreasing alpha, or switch solvers\n",
      "  warnings.warn(message, ConvergenceWarning)\n",
      "C:\\Users\\hnaid\\anaconda3\\Lib\\site-packages\\statsmodels\\base\\l1_solvers_common.py:144: ConvergenceWarning: Could not trim params automatically due to failed QC check. Trimming using trim_mode == 'size' will still work.\n",
      "  warnings.warn(msg, ConvergenceWarning)\n"
     ]
    },
    {
     "name": "stdout",
     "output_type": "stream",
     "text": [
      "Optimization terminated successfully    (Exit mode 0)\n",
      "            Current function value: 0.3714195500515304\n",
      "            Iterations: 400\n",
      "            Function evaluations: 400\n",
      "            Gradient evaluations: 400\n"
     ]
    },
    {
     "name": "stderr",
     "output_type": "stream",
     "text": [
      "C:\\Users\\hnaid\\anaconda3\\Lib\\site-packages\\statsmodels\\base\\l1_solvers_common.py:71: ConvergenceWarning: QC check did not pass for 6 out of 31 parameters\n",
      "Try increasing solver accuracy or number of iterations, decreasing alpha, or switch solvers\n",
      "  warnings.warn(message, ConvergenceWarning)\n",
      "C:\\Users\\hnaid\\anaconda3\\Lib\\site-packages\\statsmodels\\base\\l1_solvers_common.py:144: ConvergenceWarning: Could not trim params automatically due to failed QC check. Trimming using trim_mode == 'size' will still work.\n",
      "  warnings.warn(msg, ConvergenceWarning)\n"
     ]
    },
    {
     "name": "stdout",
     "output_type": "stream",
     "text": [
      "Optimization terminated successfully    (Exit mode 0)\n",
      "            Current function value: 0.37146377007380016\n",
      "            Iterations: 380\n",
      "            Function evaluations: 381\n",
      "            Gradient evaluations: 380\n"
     ]
    },
    {
     "name": "stderr",
     "output_type": "stream",
     "text": [
      "C:\\Users\\hnaid\\anaconda3\\Lib\\site-packages\\statsmodels\\base\\l1_solvers_common.py:71: ConvergenceWarning: QC check did not pass for 7 out of 31 parameters\n",
      "Try increasing solver accuracy or number of iterations, decreasing alpha, or switch solvers\n",
      "  warnings.warn(message, ConvergenceWarning)\n",
      "C:\\Users\\hnaid\\anaconda3\\Lib\\site-packages\\statsmodels\\base\\l1_solvers_common.py:144: ConvergenceWarning: Could not trim params automatically due to failed QC check. Trimming using trim_mode == 'size' will still work.\n",
      "  warnings.warn(msg, ConvergenceWarning)\n"
     ]
    },
    {
     "name": "stdout",
     "output_type": "stream",
     "text": [
      "Optimization terminated successfully    (Exit mode 0)\n",
      "            Current function value: 0.37151707543602636\n",
      "            Iterations: 351\n",
      "            Function evaluations: 352\n",
      "            Gradient evaluations: 351\n"
     ]
    },
    {
     "name": "stderr",
     "output_type": "stream",
     "text": [
      "C:\\Users\\hnaid\\anaconda3\\Lib\\site-packages\\statsmodels\\base\\l1_solvers_common.py:71: ConvergenceWarning: QC check did not pass for 7 out of 31 parameters\n",
      "Try increasing solver accuracy or number of iterations, decreasing alpha, or switch solvers\n",
      "  warnings.warn(message, ConvergenceWarning)\n",
      "C:\\Users\\hnaid\\anaconda3\\Lib\\site-packages\\statsmodels\\base\\l1_solvers_common.py:144: ConvergenceWarning: Could not trim params automatically due to failed QC check. Trimming using trim_mode == 'size' will still work.\n",
      "  warnings.warn(msg, ConvergenceWarning)\n"
     ]
    },
    {
     "name": "stdout",
     "output_type": "stream",
     "text": [
      "Optimization terminated successfully    (Exit mode 0)\n",
      "            Current function value: 0.3715805084880335\n",
      "            Iterations: 353\n",
      "            Function evaluations: 353\n",
      "            Gradient evaluations: 353\n"
     ]
    },
    {
     "name": "stderr",
     "output_type": "stream",
     "text": [
      "C:\\Users\\hnaid\\anaconda3\\Lib\\site-packages\\statsmodels\\base\\l1_solvers_common.py:71: ConvergenceWarning: QC check did not pass for 7 out of 31 parameters\n",
      "Try increasing solver accuracy or number of iterations, decreasing alpha, or switch solvers\n",
      "  warnings.warn(message, ConvergenceWarning)\n",
      "C:\\Users\\hnaid\\anaconda3\\Lib\\site-packages\\statsmodels\\base\\l1_solvers_common.py:144: ConvergenceWarning: Could not trim params automatically due to failed QC check. Trimming using trim_mode == 'size' will still work.\n",
      "  warnings.warn(msg, ConvergenceWarning)\n"
     ]
    },
    {
     "name": "stdout",
     "output_type": "stream",
     "text": [
      "Optimization terminated successfully    (Exit mode 0)\n",
      "            Current function value: 0.37165745629517927\n",
      "            Iterations: 353\n",
      "            Function evaluations: 353\n",
      "            Gradient evaluations: 353\n"
     ]
    },
    {
     "name": "stderr",
     "output_type": "stream",
     "text": [
      "C:\\Users\\hnaid\\anaconda3\\Lib\\site-packages\\statsmodels\\base\\l1_solvers_common.py:71: ConvergenceWarning: QC check did not pass for 2 out of 31 parameters\n",
      "Try increasing solver accuracy or number of iterations, decreasing alpha, or switch solvers\n",
      "  warnings.warn(message, ConvergenceWarning)\n",
      "C:\\Users\\hnaid\\anaconda3\\Lib\\site-packages\\statsmodels\\base\\l1_solvers_common.py:144: ConvergenceWarning: Could not trim params automatically due to failed QC check. Trimming using trim_mode == 'size' will still work.\n",
      "  warnings.warn(msg, ConvergenceWarning)\n"
     ]
    },
    {
     "name": "stdout",
     "output_type": "stream",
     "text": [
      "Optimization terminated successfully    (Exit mode 0)\n",
      "            Current function value: 0.3717500704102045\n",
      "            Iterations: 332\n",
      "            Function evaluations: 333\n",
      "            Gradient evaluations: 332\n"
     ]
    },
    {
     "name": "stderr",
     "output_type": "stream",
     "text": [
      "C:\\Users\\hnaid\\anaconda3\\Lib\\site-packages\\statsmodels\\base\\l1_solvers_common.py:71: ConvergenceWarning: QC check did not pass for 5 out of 31 parameters\n",
      "Try increasing solver accuracy or number of iterations, decreasing alpha, or switch solvers\n",
      "  warnings.warn(message, ConvergenceWarning)\n",
      "C:\\Users\\hnaid\\anaconda3\\Lib\\site-packages\\statsmodels\\base\\l1_solvers_common.py:144: ConvergenceWarning: Could not trim params automatically due to failed QC check. Trimming using trim_mode == 'size' will still work.\n",
      "  warnings.warn(msg, ConvergenceWarning)\n"
     ]
    },
    {
     "name": "stdout",
     "output_type": "stream",
     "text": [
      "Optimization terminated successfully    (Exit mode 0)\n",
      "            Current function value: 0.3718615165815943\n",
      "            Iterations: 324\n",
      "            Function evaluations: 324\n",
      "            Gradient evaluations: 324\n"
     ]
    },
    {
     "name": "stderr",
     "output_type": "stream",
     "text": [
      "C:\\Users\\hnaid\\anaconda3\\Lib\\site-packages\\statsmodels\\base\\l1_solvers_common.py:71: ConvergenceWarning: QC check did not pass for 1 out of 31 parameters\n",
      "Try increasing solver accuracy or number of iterations, decreasing alpha, or switch solvers\n",
      "  warnings.warn(message, ConvergenceWarning)\n",
      "C:\\Users\\hnaid\\anaconda3\\Lib\\site-packages\\statsmodels\\base\\l1_solvers_common.py:144: ConvergenceWarning: Could not trim params automatically due to failed QC check. Trimming using trim_mode == 'size' will still work.\n",
      "  warnings.warn(msg, ConvergenceWarning)\n"
     ]
    },
    {
     "name": "stdout",
     "output_type": "stream",
     "text": [
      "Optimization terminated successfully    (Exit mode 0)\n",
      "            Current function value: 0.3719956033228865\n",
      "            Iterations: 310\n",
      "            Function evaluations: 310\n",
      "            Gradient evaluations: 310\n",
      "Optimization terminated successfully    (Exit mode 0)\n",
      "            Current function value: 0.37215689140567154\n",
      "            Iterations: 284\n",
      "            Function evaluations: 284\n",
      "            Gradient evaluations: 284\n"
     ]
    },
    {
     "name": "stderr",
     "output_type": "stream",
     "text": [
      "C:\\Users\\hnaid\\anaconda3\\Lib\\site-packages\\statsmodels\\base\\l1_solvers_common.py:71: ConvergenceWarning: QC check did not pass for 1 out of 31 parameters\n",
      "Try increasing solver accuracy or number of iterations, decreasing alpha, or switch solvers\n",
      "  warnings.warn(message, ConvergenceWarning)\n",
      "C:\\Users\\hnaid\\anaconda3\\Lib\\site-packages\\statsmodels\\base\\l1_solvers_common.py:144: ConvergenceWarning: Could not trim params automatically due to failed QC check. Trimming using trim_mode == 'size' will still work.\n",
      "  warnings.warn(msg, ConvergenceWarning)\n"
     ]
    },
    {
     "name": "stdout",
     "output_type": "stream",
     "text": [
      "Optimization terminated successfully    (Exit mode 0)\n",
      "            Current function value: 0.3723508448220321\n",
      "            Iterations: 262\n",
      "            Function evaluations: 262\n",
      "            Gradient evaluations: 262\n",
      "Optimization terminated successfully    (Exit mode 0)\n",
      "            Current function value: 0.3725839958164544\n",
      "            Iterations: 256\n",
      "            Function evaluations: 257\n",
      "            Gradient evaluations: 256\n",
      "{'alpha': 0.5857020818056673}\n"
     ]
    },
    {
     "name": "stderr",
     "output_type": "stream",
     "text": [
      "C:\\Users\\hnaid\\anaconda3\\Lib\\site-packages\\statsmodels\\base\\l1_solvers_common.py:71: ConvergenceWarning: QC check did not pass for 1 out of 31 parameters\n",
      "Try increasing solver accuracy or number of iterations, decreasing alpha, or switch solvers\n",
      "  warnings.warn(message, ConvergenceWarning)\n",
      "C:\\Users\\hnaid\\anaconda3\\Lib\\site-packages\\statsmodels\\base\\l1_solvers_common.py:144: ConvergenceWarning: Could not trim params automatically due to failed QC check. Trimming using trim_mode == 'size' will still work.\n",
      "  warnings.warn(msg, ConvergenceWarning)\n"
     ]
    },
    {
     "name": "stdout",
     "output_type": "stream",
     "text": [
      "Optimization terminated successfully    (Exit mode 0)\n",
      "            Current function value: 0.37286415638617204\n",
      "            Iterations: 252\n",
      "            Function evaluations: 253\n",
      "            Gradient evaluations: 252\n",
      "{'alpha': 0.7054802310718645}\n",
      "Optimization terminated successfully    (Exit mode 0)\n",
      "            Current function value: 0.37320064128132524\n",
      "            Iterations: 236\n",
      "            Function evaluations: 237\n",
      "            Gradient evaluations: 236\n",
      "{'alpha': 0.8497534359086456}\n",
      "Optimization terminated successfully    (Exit mode 0)\n",
      "            Current function value: 0.37360453537792815\n",
      "            Iterations: 221\n",
      "            Function evaluations: 221\n",
      "            Gradient evaluations: 221\n",
      "Optimization terminated successfully    (Exit mode 0)\n",
      "            Current function value: 0.37408899826840347\n",
      "            Iterations: 215\n",
      "            Function evaluations: 216\n",
      "            Gradient evaluations: 215\n",
      "Optimization terminated successfully    (Exit mode 0)\n",
      "            Current function value: 0.37466968169138815\n",
      "            Iterations: 200\n",
      "            Function evaluations: 201\n",
      "            Gradient evaluations: 200\n",
      "Optimization terminated successfully    (Exit mode 0)\n",
      "            Current function value: 0.3753650551311601\n",
      "            Iterations: 193\n",
      "            Function evaluations: 193\n",
      "            Gradient evaluations: 193\n",
      "Optimization terminated successfully    (Exit mode 0)\n",
      "            Current function value: 0.3761970905739456\n",
      "            Iterations: 177\n",
      "            Function evaluations: 177\n",
      "            Gradient evaluations: 177\n",
      "{'alpha': 2.1544346900318865}\n",
      "Optimization terminated successfully    (Exit mode 0)\n",
      "            Current function value: 0.3771920692899911\n",
      "            Iterations: 168\n",
      "            Function evaluations: 168\n",
      "            Gradient evaluations: 168\n",
      "{'alpha': 2.5950242113997373}\n",
      "Optimization terminated successfully    (Exit mode 0)\n",
      "            Current function value: 0.3783801869791095\n",
      "            Iterations: 150\n",
      "            Function evaluations: 150\n",
      "            Gradient evaluations: 150\n",
      "Optimization terminated successfully    (Exit mode 0)\n",
      "            Current function value: 0.3797964223628821\n",
      "            Iterations: 146\n",
      "            Function evaluations: 146\n",
      "            Gradient evaluations: 146\n",
      "Optimization terminated successfully    (Exit mode 0)\n",
      "            Current function value: 0.3814809831718488\n",
      "            Iterations: 137\n",
      "            Function evaluations: 137\n",
      "            Gradient evaluations: 137\n",
      "Optimization terminated successfully    (Exit mode 0)\n",
      "            Current function value: 0.38347957110083747\n",
      "            Iterations: 129\n",
      "            Function evaluations: 130\n",
      "            Gradient evaluations: 129\n",
      "Optimization terminated successfully    (Exit mode 0)\n",
      "            Current function value: 0.38584405939137933\n",
      "            Iterations: 129\n",
      "            Function evaluations: 129\n",
      "            Gradient evaluations: 129\n",
      "Optimization terminated successfully    (Exit mode 0)\n",
      "            Current function value: 0.3886353378274076\n",
      "            Iterations: 120\n",
      "            Function evaluations: 120\n",
      "            Gradient evaluations: 120\n",
      "Optimization terminated successfully    (Exit mode 0)\n",
      "            Current function value: 0.39192102031516196\n",
      "            Iterations: 109\n",
      "            Function evaluations: 110\n",
      "            Gradient evaluations: 109\n",
      "{'alpha': 9.545484566618347}\n",
      "Optimization terminated successfully    (Exit mode 0)\n",
      "            Current function value: 0.3957772036483205\n",
      "            Iterations: 120\n",
      "            Function evaluations: 120\n",
      "            Gradient evaluations: 120\n",
      "Optimization terminated successfully    (Exit mode 0)\n",
      "            Current function value: 0.40028253088264043\n",
      "            Iterations: 116\n",
      "            Function evaluations: 116\n",
      "            Gradient evaluations: 116\n",
      "Optimization terminated successfully    (Exit mode 0)\n",
      "            Current function value: 0.40551428031837866\n",
      "            Iterations: 109\n",
      "            Function evaluations: 110\n",
      "            Gradient evaluations: 109\n",
      "Optimization terminated successfully    (Exit mode 0)\n",
      "            Current function value: 0.4115442013270232\n",
      "            Iterations: 107\n",
      "            Function evaluations: 107\n",
      "            Gradient evaluations: 107\n",
      "Optimization terminated successfully    (Exit mode 0)\n",
      "            Current function value: 0.4184353134697654\n",
      "            Iterations: 97\n",
      "            Function evaluations: 97\n",
      "            Gradient evaluations: 97\n",
      "Optimization terminated successfully    (Exit mode 0)\n",
      "            Current function value: 0.4263013874421747\n",
      "            Iterations: 91\n",
      "            Function evaluations: 91\n",
      "            Gradient evaluations: 91\n",
      "Optimization terminated successfully    (Exit mode 0)\n",
      "            Current function value: 0.43525663940197773\n",
      "            Iterations: 97\n",
      "            Function evaluations: 97\n",
      "            Gradient evaluations: 97\n",
      "Optimization terminated successfully    (Exit mode 0)\n",
      "            Current function value: 0.4453440655260477\n",
      "            Iterations: 85\n",
      "            Function evaluations: 85\n",
      "            Gradient evaluations: 85\n",
      "Optimization terminated successfully    (Exit mode 0)\n",
      "            Current function value: 0.45664238621186903\n",
      "            Iterations: 70\n",
      "            Function evaluations: 70\n",
      "            Gradient evaluations: 70\n",
      "Optimization terminated successfully    (Exit mode 0)\n",
      "            Current function value: 0.469161200347598\n",
      "            Iterations: 73\n",
      "            Function evaluations: 73\n",
      "            Gradient evaluations: 73\n",
      "Optimization terminated successfully    (Exit mode 0)\n",
      "            Current function value: 0.4828075991443259\n",
      "            Iterations: 61\n",
      "            Function evaluations: 61\n",
      "            Gradient evaluations: 61\n",
      "Optimization terminated successfully    (Exit mode 0)\n",
      "            Current function value: 0.4975533638387485\n",
      "            Iterations: 61\n",
      "            Function evaluations: 61\n",
      "            Gradient evaluations: 61\n",
      "Optimization terminated successfully    (Exit mode 0)\n",
      "            Current function value: 0.5132941002270729\n",
      "            Iterations: 62\n",
      "            Function evaluations: 62\n",
      "            Gradient evaluations: 62\n",
      "Optimization terminated successfully    (Exit mode 0)\n",
      "            Current function value: 0.5296722297448349\n",
      "            Iterations: 58\n",
      "            Function evaluations: 58\n",
      "            Gradient evaluations: 58\n",
      "Optimization terminated successfully    (Exit mode 0)\n",
      "            Current function value: 0.5461508365280048\n",
      "            Iterations: 51\n",
      "            Function evaluations: 51\n",
      "            Gradient evaluations: 51\n",
      "Optimization terminated successfully    (Exit mode 0)\n",
      "            Current function value: 0.5634109012909407\n",
      "            Iterations: 42\n",
      "            Function evaluations: 42\n",
      "            Gradient evaluations: 42\n",
      "Optimization terminated successfully    (Exit mode 0)\n",
      "            Current function value: 0.581554004894554\n",
      "            Iterations: 46\n",
      "            Function evaluations: 46\n",
      "            Gradient evaluations: 46\n",
      "Optimization terminated successfully    (Exit mode 0)\n",
      "            Current function value: 0.6000258838058713\n",
      "            Iterations: 40\n",
      "            Function evaluations: 40\n",
      "            Gradient evaluations: 40\n",
      "Optimization terminated successfully    (Exit mode 0)\n",
      "            Current function value: 0.6181362165642666\n",
      "            Iterations: 37\n",
      "            Function evaluations: 38\n",
      "            Gradient evaluations: 37\n",
      "Optimization terminated successfully    (Exit mode 0)\n",
      "            Current function value: 0.6348022477786857\n",
      "            Iterations: 37\n",
      "            Function evaluations: 37\n",
      "            Gradient evaluations: 37\n",
      "Optimization terminated successfully    (Exit mode 0)\n",
      "            Current function value: 0.649400203344963\n",
      "            Iterations: 31\n",
      "            Function evaluations: 31\n",
      "            Gradient evaluations: 31\n",
      "Optimization terminated successfully    (Exit mode 0)\n",
      "            Current function value: 0.6619862423733558\n",
      "            Iterations: 24\n",
      "            Function evaluations: 24\n",
      "            Gradient evaluations: 24\n",
      "Optimization terminated successfully    (Exit mode 0)\n",
      "            Current function value: 0.6729489126009248\n",
      "            Iterations: 18\n",
      "            Function evaluations: 18\n",
      "            Gradient evaluations: 18\n"
     ]
    },
    {
     "name": "stdout",
     "output_type": "stream",
     "text": [
      "Optimization terminated successfully    (Exit mode 0)\n",
      "            Current function value: 0.6820477625993498\n",
      "            Iterations: 16\n",
      "            Function evaluations: 16\n",
      "            Gradient evaluations: 16\n",
      "Optimization terminated successfully    (Exit mode 0)\n",
      "            Current function value: 0.6886295220059203\n",
      "            Iterations: 9\n",
      "            Function evaluations: 9\n",
      "            Gradient evaluations: 9\n"
     ]
    }
   ],
   "source": [
    "for params in param_list:\n",
    "    # Fit the model with the given parameters\n",
    "    try:\n",
    "        results = model.fit_regularized(method='l1', QC_verbose=False, **params)\n",
    "    except:\n",
    "        print(params)\n",
    "    \n",
    "    # Store the coefficients\n",
    "    row = pd.DataFrame(results.params).transpose()\n",
    "    row = pd.concat([row, pd.DataFrame.from_dict({'regularization': [params['alpha']]})], axis=1)\n",
    "    if coefficients is None: \n",
    "        coefficients = row\n",
    "    else: \n",
    "        coefficients = pd.concat([coefficients, row], ignore_index=True)"
   ]
  },
  {
   "cell_type": "code",
   "execution_count": 96,
   "id": "51bce96e",
   "metadata": {},
   "outputs": [
    {
     "data": {
      "text/html": [
       "<div>\n",
       "<style scoped>\n",
       "    .dataframe tbody tr th:only-of-type {\n",
       "        vertical-align: middle;\n",
       "    }\n",
       "\n",
       "    .dataframe tbody tr th {\n",
       "        vertical-align: top;\n",
       "    }\n",
       "\n",
       "    .dataframe thead th {\n",
       "        text-align: right;\n",
       "    }\n",
       "</style>\n",
       "<table border=\"1\" class=\"dataframe\">\n",
       "  <thead>\n",
       "    <tr style=\"text-align: right;\">\n",
       "      <th></th>\n",
       "      <th>Intercept</th>\n",
       "      <th>C(gender)[T.Male]</th>\n",
       "      <th>C(senior_citizen)[T.Yes]</th>\n",
       "      <th>C(partner)[T.Yes]</th>\n",
       "      <th>C(dependents)[T.Yes]</th>\n",
       "      <th>C(phone_service)[T.Yes]</th>\n",
       "      <th>C(multiple_lines)[T.No phone service]</th>\n",
       "      <th>C(multiple_lines)[T.Yes]</th>\n",
       "      <th>C(internet_service)[T.Fiber optic]</th>\n",
       "      <th>C(internet_service)[T.No]</th>\n",
       "      <th>...</th>\n",
       "      <th>C(contract)[T.One year]</th>\n",
       "      <th>C(contract)[T.Two year]</th>\n",
       "      <th>C(paperless_billing)[T.Yes]</th>\n",
       "      <th>C(payment_method)[T.Credit card (automatic)]</th>\n",
       "      <th>C(payment_method)[T.Electronic check]</th>\n",
       "      <th>C(payment_method)[T.Mailed check]</th>\n",
       "      <th>latitude</th>\n",
       "      <th>longitude</th>\n",
       "      <th>monthly_charges</th>\n",
       "      <th>regularization</th>\n",
       "    </tr>\n",
       "  </thead>\n",
       "  <tbody>\n",
       "    <tr>\n",
       "      <th>0</th>\n",
       "      <td>0.521750</td>\n",
       "      <td>-0.009951</td>\n",
       "      <td>-0.275025</td>\n",
       "      <td>-0.771735</td>\n",
       "      <td>-0.086471</td>\n",
       "      <td>0.528076</td>\n",
       "      <td>0.013798</td>\n",
       "      <td>-1.037083</td>\n",
       "      <td>-0.027340</td>\n",
       "      <td>-0.118334</td>\n",
       "      <td>...</td>\n",
       "      <td>-2.311759</td>\n",
       "      <td>-2.854067</td>\n",
       "      <td>-0.098078</td>\n",
       "      <td>0.054494</td>\n",
       "      <td>0.806790</td>\n",
       "      <td>1.188917</td>\n",
       "      <td>-0.100403</td>\n",
       "      <td>-0.068905</td>\n",
       "      <td>-0.180661</td>\n",
       "      <td>0.000010</td>\n",
       "    </tr>\n",
       "    <tr>\n",
       "      <th>1</th>\n",
       "      <td>0.521748</td>\n",
       "      <td>-0.009951</td>\n",
       "      <td>-0.275025</td>\n",
       "      <td>-0.771735</td>\n",
       "      <td>-0.086471</td>\n",
       "      <td>0.528076</td>\n",
       "      <td>0.013796</td>\n",
       "      <td>-1.037082</td>\n",
       "      <td>-0.027338</td>\n",
       "      <td>-0.118335</td>\n",
       "      <td>...</td>\n",
       "      <td>-2.311759</td>\n",
       "      <td>-2.854067</td>\n",
       "      <td>-0.098078</td>\n",
       "      <td>0.054494</td>\n",
       "      <td>0.806789</td>\n",
       "      <td>1.188917</td>\n",
       "      <td>-0.100403</td>\n",
       "      <td>-0.068905</td>\n",
       "      <td>-0.180664</td>\n",
       "      <td>0.000012</td>\n",
       "    </tr>\n",
       "    <tr>\n",
       "      <th>2</th>\n",
       "      <td>0.521748</td>\n",
       "      <td>-0.009951</td>\n",
       "      <td>-0.275025</td>\n",
       "      <td>-0.771735</td>\n",
       "      <td>-0.086471</td>\n",
       "      <td>0.528076</td>\n",
       "      <td>0.013796</td>\n",
       "      <td>-1.037082</td>\n",
       "      <td>-0.027338</td>\n",
       "      <td>-0.118335</td>\n",
       "      <td>...</td>\n",
       "      <td>-2.311759</td>\n",
       "      <td>-2.854067</td>\n",
       "      <td>-0.098078</td>\n",
       "      <td>0.054494</td>\n",
       "      <td>0.806789</td>\n",
       "      <td>1.188917</td>\n",
       "      <td>-0.100403</td>\n",
       "      <td>-0.068905</td>\n",
       "      <td>-0.180664</td>\n",
       "      <td>0.000015</td>\n",
       "    </tr>\n",
       "    <tr>\n",
       "      <th>3</th>\n",
       "      <td>0.521744</td>\n",
       "      <td>-0.009951</td>\n",
       "      <td>-0.275025</td>\n",
       "      <td>-0.771735</td>\n",
       "      <td>-0.086471</td>\n",
       "      <td>0.528076</td>\n",
       "      <td>0.013791</td>\n",
       "      <td>-1.037081</td>\n",
       "      <td>-0.027332</td>\n",
       "      <td>-0.118336</td>\n",
       "      <td>...</td>\n",
       "      <td>-2.311759</td>\n",
       "      <td>-2.854066</td>\n",
       "      <td>-0.098078</td>\n",
       "      <td>0.054494</td>\n",
       "      <td>0.806789</td>\n",
       "      <td>1.188917</td>\n",
       "      <td>-0.100403</td>\n",
       "      <td>-0.068905</td>\n",
       "      <td>-0.180671</td>\n",
       "      <td>0.000017</td>\n",
       "    </tr>\n",
       "    <tr>\n",
       "      <th>4</th>\n",
       "      <td>0.521741</td>\n",
       "      <td>-0.009951</td>\n",
       "      <td>-0.275025</td>\n",
       "      <td>-0.771735</td>\n",
       "      <td>-0.086471</td>\n",
       "      <td>0.528076</td>\n",
       "      <td>0.013788</td>\n",
       "      <td>-1.037080</td>\n",
       "      <td>-0.027328</td>\n",
       "      <td>-0.118336</td>\n",
       "      <td>...</td>\n",
       "      <td>-2.311758</td>\n",
       "      <td>-2.854066</td>\n",
       "      <td>-0.098078</td>\n",
       "      <td>0.054493</td>\n",
       "      <td>0.806789</td>\n",
       "      <td>1.188917</td>\n",
       "      <td>-0.100403</td>\n",
       "      <td>-0.068905</td>\n",
       "      <td>-0.180676</td>\n",
       "      <td>0.000021</td>\n",
       "    </tr>\n",
       "  </tbody>\n",
       "</table>\n",
       "<p>5 rows × 32 columns</p>\n",
       "</div>"
      ],
      "text/plain": [
       "   Intercept  C(gender)[T.Male]  C(senior_citizen)[T.Yes]  C(partner)[T.Yes]  \\\n",
       "0   0.521750          -0.009951                 -0.275025          -0.771735   \n",
       "1   0.521748          -0.009951                 -0.275025          -0.771735   \n",
       "2   0.521748          -0.009951                 -0.275025          -0.771735   \n",
       "3   0.521744          -0.009951                 -0.275025          -0.771735   \n",
       "4   0.521741          -0.009951                 -0.275025          -0.771735   \n",
       "\n",
       "   C(dependents)[T.Yes]  C(phone_service)[T.Yes]  \\\n",
       "0             -0.086471                 0.528076   \n",
       "1             -0.086471                 0.528076   \n",
       "2             -0.086471                 0.528076   \n",
       "3             -0.086471                 0.528076   \n",
       "4             -0.086471                 0.528076   \n",
       "\n",
       "   C(multiple_lines)[T.No phone service]  C(multiple_lines)[T.Yes]  \\\n",
       "0                               0.013798                 -1.037083   \n",
       "1                               0.013796                 -1.037082   \n",
       "2                               0.013796                 -1.037082   \n",
       "3                               0.013791                 -1.037081   \n",
       "4                               0.013788                 -1.037080   \n",
       "\n",
       "   C(internet_service)[T.Fiber optic]  C(internet_service)[T.No]  ...  \\\n",
       "0                           -0.027340                  -0.118334  ...   \n",
       "1                           -0.027338                  -0.118335  ...   \n",
       "2                           -0.027338                  -0.118335  ...   \n",
       "3                           -0.027332                  -0.118336  ...   \n",
       "4                           -0.027328                  -0.118336  ...   \n",
       "\n",
       "   C(contract)[T.One year]  C(contract)[T.Two year]  \\\n",
       "0                -2.311759                -2.854067   \n",
       "1                -2.311759                -2.854067   \n",
       "2                -2.311759                -2.854067   \n",
       "3                -2.311759                -2.854066   \n",
       "4                -2.311758                -2.854066   \n",
       "\n",
       "   C(paperless_billing)[T.Yes]  C(payment_method)[T.Credit card (automatic)]  \\\n",
       "0                    -0.098078                                      0.054494   \n",
       "1                    -0.098078                                      0.054494   \n",
       "2                    -0.098078                                      0.054494   \n",
       "3                    -0.098078                                      0.054494   \n",
       "4                    -0.098078                                      0.054493   \n",
       "\n",
       "   C(payment_method)[T.Electronic check]  C(payment_method)[T.Mailed check]  \\\n",
       "0                               0.806790                           1.188917   \n",
       "1                               0.806789                           1.188917   \n",
       "2                               0.806789                           1.188917   \n",
       "3                               0.806789                           1.188917   \n",
       "4                               0.806789                           1.188917   \n",
       "\n",
       "   latitude  longitude  monthly_charges  regularization  \n",
       "0 -0.100403  -0.068905        -0.180661        0.000010  \n",
       "1 -0.100403  -0.068905        -0.180664        0.000012  \n",
       "2 -0.100403  -0.068905        -0.180664        0.000015  \n",
       "3 -0.100403  -0.068905        -0.180671        0.000017  \n",
       "4 -0.100403  -0.068905        -0.180676        0.000021  \n",
       "\n",
       "[5 rows x 32 columns]"
      ]
     },
     "execution_count": 96,
     "metadata": {},
     "output_type": "execute_result"
    }
   ],
   "source": [
    "coefficients.head()"
   ]
  },
  {
   "cell_type": "code",
   "execution_count": 97,
   "id": "c82b443b",
   "metadata": {
    "scrolled": true
   },
   "outputs": [
    {
     "data": {
      "image/png": "[encoded data removed]",
      "text/plain": [
       "<Figure size 640x480 with 1 Axes>"
      ]
     },
     "metadata": {},
     "output_type": "display_data"
    }
   ],
   "source": [
    "coefficients.plot(x='regularization', logx=True, xlabel='Regularization Value', ylabel='Coefficient Value', kind='line', legend=False)\n",
    "plt.axhline(y=0, color='black', linestyle='--')\n",
    "plt.axvline(x=30, color='blue', linestyle='--')\n",
    "plt.ylim(-2, 2)\n",
    "plt.show()"
   ]
  },
  {
   "cell_type": "markdown",
   "id": "97ab9f03",
   "metadata": {},
   "source": [
    "## Helper Methods for Finding the most important coefficients"
   ]
  },
  {
   "cell_type": "code",
   "execution_count": 70,
   "id": "5b212c91",
   "metadata": {},
   "outputs": [],
   "source": [
    "def getPriority(coefficients):\n",
    "    priority = {column: -1 for column in coefficients.columns}\n",
    "    zeros = []\n",
    "    \n",
    "    for index, row in coefficients.iterrows():\n",
    "        count = 0\n",
    "        for col in priority.keys():\n",
    "            if row[col] == 0: count += 1\n",
    "            if priority.get(col) == -1 and row[col] == 0: priority[col] = index\n",
    "        zeros.append(count)\n",
    "    \n",
    "    return priority, zeros"
   ]
  },
  {
   "cell_type": "code",
   "execution_count": 71,
   "id": "387f6b0d",
   "metadata": {},
   "outputs": [
    {
     "data": {
      "text/plain": [
       "{'Intercept': 82,\n",
       " 'C(gender)[T.Male]': 63,\n",
       " 'C(senior_citizen)[T.Yes]': 63,\n",
       " 'C(partner)[T.Yes]': 99,\n",
       " 'C(dependents)[T.Yes]': 56,\n",
       " 'C(phone_service)[T.Yes]': 58,\n",
       " 'C(multiple_lines)[T.No phone service]': 56,\n",
       " 'C(multiple_lines)[T.Yes]': 62,\n",
       " 'C(internet_service)[T.Fiber optic]': 56,\n",
       " 'C(internet_service)[T.No]': 80,\n",
       " 'C(online_security)[T.No internet service]': 80,\n",
       " 'C(online_security)[T.Yes]': 92,\n",
       " 'C(online_backup)[T.No internet service]': 80,\n",
       " 'C(online_backup)[T.Yes]': 96,\n",
       " 'C(device_protection)[T.No internet service]': 80,\n",
       " 'C(device_protection)[T.Yes]': 58,\n",
       " 'C(tech_support)[T.No internet service]': 80,\n",
       " 'C(tech_support)[T.Yes]': 87,\n",
       " 'C(streaming_tv)[T.No internet service]': 80,\n",
       " 'C(streaming_tv)[T.Yes]': 86,\n",
       " 'C(streaming_movies)[T.No internet service]': 80,\n",
       " 'C(streaming_movies)[T.Yes]': 63,\n",
       " 'C(contract)[T.One year]': 62,\n",
       " 'C(contract)[T.Two year]': 95,\n",
       " 'C(paperless_billing)[T.Yes]': 56,\n",
       " 'C(payment_method)[T.Credit card (automatic)]': 58,\n",
       " 'C(payment_method)[T.Electronic check]': 58,\n",
       " 'C(payment_method)[T.Mailed check]': 58,\n",
       " 'latitude': 58,\n",
       " 'longitude': 58,\n",
       " 'monthly_charges': 93,\n",
       " 'regularization': -1}"
      ]
     },
     "execution_count": 71,
     "metadata": {},
     "output_type": "execute_result"
    }
   ],
   "source": [
    "priority, zeros = getPriority(coefficients)\n",
    "priority"
   ]
  },
  {
   "cell_type": "code",
   "execution_count": 110,
   "id": "14295189",
   "metadata": {},
   "outputs": [
    {
     "data": {
      "text/plain": [
       "15"
      ]
     },
     "execution_count": 110,
     "metadata": {},
     "output_type": "execute_result"
    }
   ],
   "source": [
    "zeros[80]"
   ]
  },
  {
   "cell_type": "code",
   "execution_count": 111,
   "id": "b585dbc0",
   "metadata": {},
   "outputs": [
    {
     "data": {
      "text/plain": [
       "Intercept                                        0.000000\n",
       "C(gender)[T.Male]                                0.000000\n",
       "C(senior_citizen)[T.Yes]                         0.000000\n",
       "C(partner)[T.Yes]                               -0.552632\n",
       "C(dependents)[T.Yes]                             0.000000\n",
       "C(phone_service)[T.Yes]                          0.000000\n",
       "C(multiple_lines)[T.No phone service]            0.000000\n",
       "C(multiple_lines)[T.Yes]                        -0.504767\n",
       "C(internet_service)[T.Fiber optic]               0.000000\n",
       "C(internet_service)[T.No]                        0.000000\n",
       "C(online_security)[T.No internet service]        0.000000\n",
       "C(online_security)[T.Yes]                       -0.221019\n",
       "C(online_backup)[T.No internet service]          0.000000\n",
       "C(online_backup)[T.Yes]                         -0.446070\n",
       "C(device_protection)[T.No internet service]      0.000000\n",
       "C(device_protection)[T.Yes]                     -0.264308\n",
       "C(tech_support)[T.No internet service]           0.000000\n",
       "C(tech_support)[T.Yes]                          -0.039760\n",
       "C(streaming_tv)[T.No internet service]           0.000000\n",
       "C(streaming_tv)[T.Yes]                          -0.008183\n",
       "C(streaming_movies)[T.No internet service]       0.000000\n",
       "C(streaming_movies)[T.Yes]                      -0.023931\n",
       "C(contract)[T.One year]                         -1.461476\n",
       "C(contract)[T.Two year]                         -1.806435\n",
       "C(paperless_billing)[T.Yes]                      0.000000\n",
       "C(payment_method)[T.Credit card (automatic)]     0.000000\n",
       "C(payment_method)[T.Electronic check]            0.454263\n",
       "C(payment_method)[T.Mailed check]                0.560425\n",
       "latitude                                         0.000000\n",
       "longitude                                        0.000000\n",
       "monthly_charges                                 -0.191921\n",
       "regularization                                  73.907220\n",
       "Name: 85, dtype: float64"
      ]
     },
     "execution_count": 111,
     "metadata": {},
     "output_type": "execute_result"
    }
   ],
   "source": [
    "coefficients.iloc[85]"
   ]
  },
  {
   "cell_type": "code",
   "execution_count": 82,
   "id": "b9c2e433",
   "metadata": {},
   "outputs": [
    {
     "data": {
      "text/plain": [
       "(100, 32)"
      ]
     },
     "execution_count": 82,
     "metadata": {},
     "output_type": "execute_result"
    }
   ],
   "source": [
    "coefficients.shape"
   ]
  },
  {
   "cell_type": "code",
   "execution_count": 118,
   "id": "9d182afc",
   "metadata": {},
   "outputs": [],
   "source": [
    "lasso_columns = ['Partner', 'Dependents', 'Phone Service', 'Multiple Lines', 'Internet Service', \n",
    "           'Online Security', 'Online Backup', 'Device Protection', 'Tech Support', 'Streaming TV', 'Streaming Movies', \n",
    "          'Contract', 'Payment Method', 'Latitude', 'Longitude', 'Monthly Charges']"
   ]
  },
  {
   "cell_type": "code",
   "execution_count": null,
   "id": "e5574c51",
   "metadata": {},
   "outputs": [],
   "source": []
  },
  {
   "cell_type": "code",
   "execution_count": null,
   "id": "0a94a442",
   "metadata": {
    "scrolled": true
   },
   "outputs": [],
   "source": []
  },
  {
   "cell_type": "code",
   "execution_count": null,
   "id": "6fd004b5",
   "metadata": {},
   "outputs": [],
   "source": []
  }
 ],
 "metadata": {
  "kernelspec": {
   "display_name": "Python 3 (ipykernel)",
   "language": "python",
   "name": "python3"
  },
  "language_info": {
   "codemirror_mode": {
    "name": "ipython",
    "version": 3
   },
   "file_extension": ".py",
   "mimetype": "text/x-python",
   "name": "python",
   "nbconvert_exporter": "python",
   "pygments_lexer": "ipython3",
   "version": "3.11.5"
  }
 },
 "nbformat": 4,
 "nbformat_minor": 5
}
