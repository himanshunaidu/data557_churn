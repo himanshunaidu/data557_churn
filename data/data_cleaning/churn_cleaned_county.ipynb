{
 "cells": [
  {
   "cell_type": "markdown",
   "id": "71c72136-dbf4-4078-a255-9f21ed705af8",
   "metadata": {},
   "source": [
    "This is using the orginal dataset. \n",
    "- Obtained corresponding county\n",
    "- Dropped columns: country, total charges, churn score, LCTV, churn reason, count, state and lat long.\n",
    "- formatted column names to lowercase and join words by underscore(_)."
   ]
  },
  {
   "cell_type": "code",
   "execution_count": 93,
   "id": "bb9bc6e6-228a-4510-a6ae-450fce174d05",
   "metadata": {
    "scrolled": true
   },
   "outputs": [],
   "source": [
    "from uszipcode import SearchEngine"
   ]
  },
  {
   "cell_type": "code",
   "execution_count": 94,
   "id": "40d7ebc6-12b1-440c-8273-1f2c457b6acf",
   "metadata": {},
   "outputs": [
    {
     "data": {
      "text/html": [
       "<div>\n",
       "<style scoped>\n",
       "    .dataframe tbody tr th:only-of-type {\n",
       "        vertical-align: middle;\n",
       "    }\n",
       "\n",
       "    .dataframe tbody tr th {\n",
       "        vertical-align: top;\n",
       "    }\n",
       "\n",
       "    .dataframe thead th {\n",
       "        text-align: right;\n",
       "    }\n",
       "</style>\n",
       "<table border=\"1\" class=\"dataframe\">\n",
       "  <thead>\n",
       "    <tr style=\"text-align: right;\">\n",
       "      <th></th>\n",
       "      <th>CustomerID</th>\n",
       "      <th>Count</th>\n",
       "      <th>Country</th>\n",
       "      <th>State</th>\n",
       "      <th>City</th>\n",
       "      <th>Zip Code</th>\n",
       "      <th>Lat Long</th>\n",
       "      <th>Latitude</th>\n",
       "      <th>Longitude</th>\n",
       "      <th>Gender</th>\n",
       "      <th>...</th>\n",
       "      <th>Contract</th>\n",
       "      <th>Paperless Billing</th>\n",
       "      <th>Payment Method</th>\n",
       "      <th>Monthly Charges</th>\n",
       "      <th>Total Charges</th>\n",
       "      <th>Churn Label</th>\n",
       "      <th>Churn Value</th>\n",
       "      <th>Churn Score</th>\n",
       "      <th>CLTV</th>\n",
       "      <th>Churn Reason</th>\n",
       "    </tr>\n",
       "  </thead>\n",
       "  <tbody>\n",
       "    <tr>\n",
       "      <th>0</th>\n",
       "      <td>3668-QPYBK</td>\n",
       "      <td>1</td>\n",
       "      <td>United States</td>\n",
       "      <td>California</td>\n",
       "      <td>Los Angeles</td>\n",
       "      <td>90003</td>\n",
       "      <td>33.964131, -118.272783</td>\n",
       "      <td>33.964131</td>\n",
       "      <td>-118.272783</td>\n",
       "      <td>Male</td>\n",
       "      <td>...</td>\n",
       "      <td>Month-to-month</td>\n",
       "      <td>Yes</td>\n",
       "      <td>Mailed check</td>\n",
       "      <td>53.85</td>\n",
       "      <td>108.15</td>\n",
       "      <td>Yes</td>\n",
       "      <td>1</td>\n",
       "      <td>86</td>\n",
       "      <td>3239</td>\n",
       "      <td>Competitor made better offer</td>\n",
       "    </tr>\n",
       "    <tr>\n",
       "      <th>1</th>\n",
       "      <td>9237-HQITU</td>\n",
       "      <td>1</td>\n",
       "      <td>United States</td>\n",
       "      <td>California</td>\n",
       "      <td>Los Angeles</td>\n",
       "      <td>90005</td>\n",
       "      <td>34.059281, -118.30742</td>\n",
       "      <td>34.059281</td>\n",
       "      <td>-118.307420</td>\n",
       "      <td>Female</td>\n",
       "      <td>...</td>\n",
       "      <td>Month-to-month</td>\n",
       "      <td>Yes</td>\n",
       "      <td>Electronic check</td>\n",
       "      <td>70.70</td>\n",
       "      <td>151.65</td>\n",
       "      <td>Yes</td>\n",
       "      <td>1</td>\n",
       "      <td>67</td>\n",
       "      <td>2701</td>\n",
       "      <td>Moved</td>\n",
       "    </tr>\n",
       "    <tr>\n",
       "      <th>2</th>\n",
       "      <td>9305-CDSKC</td>\n",
       "      <td>1</td>\n",
       "      <td>United States</td>\n",
       "      <td>California</td>\n",
       "      <td>Los Angeles</td>\n",
       "      <td>90006</td>\n",
       "      <td>34.048013, -118.293953</td>\n",
       "      <td>34.048013</td>\n",
       "      <td>-118.293953</td>\n",
       "      <td>Female</td>\n",
       "      <td>...</td>\n",
       "      <td>Month-to-month</td>\n",
       "      <td>Yes</td>\n",
       "      <td>Electronic check</td>\n",
       "      <td>99.65</td>\n",
       "      <td>820.5</td>\n",
       "      <td>Yes</td>\n",
       "      <td>1</td>\n",
       "      <td>86</td>\n",
       "      <td>5372</td>\n",
       "      <td>Moved</td>\n",
       "    </tr>\n",
       "    <tr>\n",
       "      <th>3</th>\n",
       "      <td>7892-POOKP</td>\n",
       "      <td>1</td>\n",
       "      <td>United States</td>\n",
       "      <td>California</td>\n",
       "      <td>Los Angeles</td>\n",
       "      <td>90010</td>\n",
       "      <td>34.062125, -118.315709</td>\n",
       "      <td>34.062125</td>\n",
       "      <td>-118.315709</td>\n",
       "      <td>Female</td>\n",
       "      <td>...</td>\n",
       "      <td>Month-to-month</td>\n",
       "      <td>Yes</td>\n",
       "      <td>Electronic check</td>\n",
       "      <td>104.80</td>\n",
       "      <td>3046.05</td>\n",
       "      <td>Yes</td>\n",
       "      <td>1</td>\n",
       "      <td>84</td>\n",
       "      <td>5003</td>\n",
       "      <td>Moved</td>\n",
       "    </tr>\n",
       "    <tr>\n",
       "      <th>4</th>\n",
       "      <td>0280-XJGEX</td>\n",
       "      <td>1</td>\n",
       "      <td>United States</td>\n",
       "      <td>California</td>\n",
       "      <td>Los Angeles</td>\n",
       "      <td>90015</td>\n",
       "      <td>34.039224, -118.266293</td>\n",
       "      <td>34.039224</td>\n",
       "      <td>-118.266293</td>\n",
       "      <td>Male</td>\n",
       "      <td>...</td>\n",
       "      <td>Month-to-month</td>\n",
       "      <td>Yes</td>\n",
       "      <td>Bank transfer (automatic)</td>\n",
       "      <td>103.70</td>\n",
       "      <td>5036.3</td>\n",
       "      <td>Yes</td>\n",
       "      <td>1</td>\n",
       "      <td>89</td>\n",
       "      <td>5340</td>\n",
       "      <td>Competitor had better devices</td>\n",
       "    </tr>\n",
       "  </tbody>\n",
       "</table>\n",
       "<p>5 rows × 33 columns</p>\n",
       "</div>"
      ],
      "text/plain": [
       "   CustomerID  Count        Country       State         City  Zip Code  \\\n",
       "0  3668-QPYBK      1  United States  California  Los Angeles     90003   \n",
       "1  9237-HQITU      1  United States  California  Los Angeles     90005   \n",
       "2  9305-CDSKC      1  United States  California  Los Angeles     90006   \n",
       "3  7892-POOKP      1  United States  California  Los Angeles     90010   \n",
       "4  0280-XJGEX      1  United States  California  Los Angeles     90015   \n",
       "\n",
       "                 Lat Long   Latitude   Longitude  Gender  ...        Contract  \\\n",
       "0  33.964131, -118.272783  33.964131 -118.272783    Male  ...  Month-to-month   \n",
       "1   34.059281, -118.30742  34.059281 -118.307420  Female  ...  Month-to-month   \n",
       "2  34.048013, -118.293953  34.048013 -118.293953  Female  ...  Month-to-month   \n",
       "3  34.062125, -118.315709  34.062125 -118.315709  Female  ...  Month-to-month   \n",
       "4  34.039224, -118.266293  34.039224 -118.266293    Male  ...  Month-to-month   \n",
       "\n",
       "  Paperless Billing             Payment Method  Monthly Charges Total Charges  \\\n",
       "0               Yes               Mailed check            53.85        108.15   \n",
       "1               Yes           Electronic check            70.70        151.65   \n",
       "2               Yes           Electronic check            99.65         820.5   \n",
       "3               Yes           Electronic check           104.80       3046.05   \n",
       "4               Yes  Bank transfer (automatic)           103.70        5036.3   \n",
       "\n",
       "  Churn Label Churn Value Churn Score  CLTV                   Churn Reason  \n",
       "0         Yes           1          86  3239   Competitor made better offer  \n",
       "1         Yes           1          67  2701                          Moved  \n",
       "2         Yes           1          86  5372                          Moved  \n",
       "3         Yes           1          84  5003                          Moved  \n",
       "4         Yes           1          89  5340  Competitor had better devices  \n",
       "\n",
       "[5 rows x 33 columns]"
      ]
     },
     "execution_count": 94,
     "metadata": {},
     "output_type": "execute_result"
    }
   ],
   "source": [
    "import pandas as pd\n",
    "\n",
    "data = pd.read_excel(\"Telco_customer_churn.xlsx\")\n",
    "data.head()"
   ]
  },
  {
   "cell_type": "code",
   "execution_count": 95,
   "id": "c00f1ba3-b005-49b3-b76e-95fa733d06fd",
   "metadata": {},
   "outputs": [],
   "source": [
    "def get_county_name(zip_code):\n",
    "    search = SearchEngine()\n",
    "    zipcode = search.by_zipcode(zip_code)\n",
    "    if zipcode:\n",
    "        return zipcode.county\n",
    "    else:\n",
    "        return \"County not found for this zip code\"\n",
    "\n",
    "# Assuming 'data' is your DataFrame\n",
    "data['County'] = data['Zip Code'].apply(get_county_name)\n"
   ]
  },
  {
   "cell_type": "code",
   "execution_count": 96,
   "id": "13d1d20e-44b3-46ae-83c1-67644557f063",
   "metadata": {},
   "outputs": [
    {
     "data": {
      "text/plain": [
       "58"
      ]
     },
     "execution_count": 96,
     "metadata": {},
     "output_type": "execute_result"
    }
   ],
   "source": [
    "data['County'].nunique()"
   ]
  },
  {
   "cell_type": "code",
   "execution_count": 97,
   "id": "92a15b3d-cc81-48f2-9aca-7d4630f43361",
   "metadata": {},
   "outputs": [],
   "source": [
    "data.isna().sum()\n",
    "\n",
    "list_to_drop = ['Country','Total Charges','Churn Score','CLTV','Churn Reason','Count','State','Lat Long']\n",
    "data.drop(columns=list_to_drop, inplace=True)\n"
   ]
  },
  {
   "cell_type": "code",
   "execution_count": 98,
   "id": "1508443f-0f67-4036-a313-65cdefcd212a",
   "metadata": {},
   "outputs": [],
   "source": [
    "original_columns = data.columns.tolist()\n",
    "\n",
    "# Convert column names to lowercase and replace spaces with underscores\n",
    "new_columns = [column.lower().replace(' ', '_') for column in original_columns]\n",
    "\n",
    "# Update DataFrame with new column names\n",
    "data.columns = new_columns"
   ]
  },
  {
   "cell_type": "code",
   "execution_count": 101,
   "id": "3840b1f6-d14f-4c5c-a2fa-a0d847445a36",
   "metadata": {},
   "outputs": [
    {
     "data": {
      "text/plain": [
       "Index(['customerid', 'city', 'zip_code', 'latitude', 'longitude', 'gender',\n",
       "       'senior_citizen', 'partner', 'dependents', 'tenure_months',\n",
       "       'phone_service', 'multiple_lines', 'internet_service',\n",
       "       'online_security', 'online_backup', 'device_protection', 'tech_support',\n",
       "       'streaming_tv', 'streaming_movies', 'contract', 'paperless_billing',\n",
       "       'payment_method', 'monthly_charges', 'churn_label', 'churn_value',\n",
       "       'county'],\n",
       "      dtype='object')"
      ]
     },
     "execution_count": 101,
     "metadata": {},
     "output_type": "execute_result"
    }
   ],
   "source": [
    "data.columns"
   ]
  },
  {
   "cell_type": "code",
   "execution_count": 100,
   "id": "66107248-afd0-4152-9d06-24c455c85671",
   "metadata": {},
   "outputs": [],
   "source": [
    "data.to_csv('Teleco_with_county.csv', index=False)"
   ]
  }
 ],
 "metadata": {
  "kernelspec": {
   "display_name": "Python 3 (ipykernel)",
   "language": "python",
   "name": "python3"
  },
  "language_info": {
   "codemirror_mode": {
    "name": "ipython",
    "version": 3
   },
   "file_extension": ".py",
   "mimetype": "text/x-python",
   "name": "python",
   "nbconvert_exporter": "python",
   "pygments_lexer": "ipython3",
   "version": "3.11.5"
  }
 },
 "nbformat": 4,
 "nbformat_minor": 5
}
