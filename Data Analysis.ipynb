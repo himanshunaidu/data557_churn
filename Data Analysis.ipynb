{
 "cells": [
  {
   "cell_type": "markdown",
   "id": "604e88cd",
   "metadata": {},
   "source": [
    "# Aim: Preliminary Data Analysis"
   ]
  },
  {
   "cell_type": "code",
   "execution_count": 53,
   "id": "86c04a14",
   "metadata": {},
   "outputs": [],
   "source": [
    "# Import Required Libraries"
   ]
  },
  {
   "cell_type": "code",
   "execution_count": 1,
   "id": "7f8caceb",
   "metadata": {},
   "outputs": [],
   "source": [
    "import pandas as pd\n",
    "import numpy as np\n",
    "# import scipy.stats as stats\n",
    "import matplotlib.pyplot as plt\n",
    "import seaborn as sns"
   ]
  },
  {
   "cell_type": "code",
   "execution_count": 2,
   "id": "414e20f1",
   "metadata": {},
   "outputs": [],
   "source": [
    "import sys\n",
    "import os\n",
    "import math\n",
    "import csv\n",
    "import json"
   ]
  },
  {
   "cell_type": "code",
   "execution_count": 3,
   "id": "940fe546",
   "metadata": {},
   "outputs": [
    {
     "data": {
      "text/plain": [
       "'C:\\\\D Drive\\\\University of Washington\\\\Study\\\\Quarter 2\\\\DATA 557\\\\Project'"
      ]
     },
     "execution_count": 3,
     "metadata": {},
     "output_type": "execute_result"
    }
   ],
   "source": [
    "os.getcwd()"
   ]
  },
  {
   "cell_type": "code",
   "execution_count": 4,
   "id": "12122c16",
   "metadata": {},
   "outputs": [],
   "source": [
    "data = pd.read_csv('data/Telco_customer_churn.csv')"
   ]
  },
  {
   "cell_type": "code",
   "execution_count": 5,
   "id": "fae1da1d",
   "metadata": {},
   "outputs": [
    {
     "data": {
      "text/html": [
       "<div>\n",
       "<style scoped>\n",
       "    .dataframe tbody tr th:only-of-type {\n",
       "        vertical-align: middle;\n",
       "    }\n",
       "\n",
       "    .dataframe tbody tr th {\n",
       "        vertical-align: top;\n",
       "    }\n",
       "\n",
       "    .dataframe thead th {\n",
       "        text-align: right;\n",
       "    }\n",
       "</style>\n",
       "<table border=\"1\" class=\"dataframe\">\n",
       "  <thead>\n",
       "    <tr style=\"text-align: right;\">\n",
       "      <th></th>\n",
       "      <th>CustomerID</th>\n",
       "      <th>Count</th>\n",
       "      <th>Country</th>\n",
       "      <th>State</th>\n",
       "      <th>City</th>\n",
       "      <th>Zip Code</th>\n",
       "      <th>Lat Long</th>\n",
       "      <th>Latitude</th>\n",
       "      <th>Longitude</th>\n",
       "      <th>Gender</th>\n",
       "      <th>...</th>\n",
       "      <th>Contract</th>\n",
       "      <th>Paperless Billing</th>\n",
       "      <th>Payment Method</th>\n",
       "      <th>Monthly Charges</th>\n",
       "      <th>Total Charges</th>\n",
       "      <th>Churn Label</th>\n",
       "      <th>Churn Value</th>\n",
       "      <th>Churn Score</th>\n",
       "      <th>CLTV</th>\n",
       "      <th>Churn Reason</th>\n",
       "    </tr>\n",
       "  </thead>\n",
       "  <tbody>\n",
       "    <tr>\n",
       "      <th>0</th>\n",
       "      <td>3668-QPYBK</td>\n",
       "      <td>1</td>\n",
       "      <td>United States</td>\n",
       "      <td>California</td>\n",
       "      <td>Los Angeles</td>\n",
       "      <td>90003</td>\n",
       "      <td>33.964131, -118.272783</td>\n",
       "      <td>33.964131</td>\n",
       "      <td>-118.272783</td>\n",
       "      <td>Male</td>\n",
       "      <td>...</td>\n",
       "      <td>Month-to-month</td>\n",
       "      <td>Yes</td>\n",
       "      <td>Mailed check</td>\n",
       "      <td>53.85</td>\n",
       "      <td>108.15</td>\n",
       "      <td>Yes</td>\n",
       "      <td>1</td>\n",
       "      <td>86</td>\n",
       "      <td>3239</td>\n",
       "      <td>Competitor made better offer</td>\n",
       "    </tr>\n",
       "    <tr>\n",
       "      <th>1</th>\n",
       "      <td>9237-HQITU</td>\n",
       "      <td>1</td>\n",
       "      <td>United States</td>\n",
       "      <td>California</td>\n",
       "      <td>Los Angeles</td>\n",
       "      <td>90005</td>\n",
       "      <td>34.059281, -118.30742</td>\n",
       "      <td>34.059281</td>\n",
       "      <td>-118.307420</td>\n",
       "      <td>Female</td>\n",
       "      <td>...</td>\n",
       "      <td>Month-to-month</td>\n",
       "      <td>Yes</td>\n",
       "      <td>Electronic check</td>\n",
       "      <td>70.70</td>\n",
       "      <td>151.65</td>\n",
       "      <td>Yes</td>\n",
       "      <td>1</td>\n",
       "      <td>67</td>\n",
       "      <td>2701</td>\n",
       "      <td>Moved</td>\n",
       "    </tr>\n",
       "    <tr>\n",
       "      <th>2</th>\n",
       "      <td>9305-CDSKC</td>\n",
       "      <td>1</td>\n",
       "      <td>United States</td>\n",
       "      <td>California</td>\n",
       "      <td>Los Angeles</td>\n",
       "      <td>90006</td>\n",
       "      <td>34.048013, -118.293953</td>\n",
       "      <td>34.048013</td>\n",
       "      <td>-118.293953</td>\n",
       "      <td>Female</td>\n",
       "      <td>...</td>\n",
       "      <td>Month-to-month</td>\n",
       "      <td>Yes</td>\n",
       "      <td>Electronic check</td>\n",
       "      <td>99.65</td>\n",
       "      <td>820.5</td>\n",
       "      <td>Yes</td>\n",
       "      <td>1</td>\n",
       "      <td>86</td>\n",
       "      <td>5372</td>\n",
       "      <td>Moved</td>\n",
       "    </tr>\n",
       "    <tr>\n",
       "      <th>3</th>\n",
       "      <td>7892-POOKP</td>\n",
       "      <td>1</td>\n",
       "      <td>United States</td>\n",
       "      <td>California</td>\n",
       "      <td>Los Angeles</td>\n",
       "      <td>90010</td>\n",
       "      <td>34.062125, -118.315709</td>\n",
       "      <td>34.062125</td>\n",
       "      <td>-118.315709</td>\n",
       "      <td>Female</td>\n",
       "      <td>...</td>\n",
       "      <td>Month-to-month</td>\n",
       "      <td>Yes</td>\n",
       "      <td>Electronic check</td>\n",
       "      <td>104.80</td>\n",
       "      <td>3046.05</td>\n",
       "      <td>Yes</td>\n",
       "      <td>1</td>\n",
       "      <td>84</td>\n",
       "      <td>5003</td>\n",
       "      <td>Moved</td>\n",
       "    </tr>\n",
       "    <tr>\n",
       "      <th>4</th>\n",
       "      <td>0280-XJGEX</td>\n",
       "      <td>1</td>\n",
       "      <td>United States</td>\n",
       "      <td>California</td>\n",
       "      <td>Los Angeles</td>\n",
       "      <td>90015</td>\n",
       "      <td>34.039224, -118.266293</td>\n",
       "      <td>34.039224</td>\n",
       "      <td>-118.266293</td>\n",
       "      <td>Male</td>\n",
       "      <td>...</td>\n",
       "      <td>Month-to-month</td>\n",
       "      <td>Yes</td>\n",
       "      <td>Bank transfer (automatic)</td>\n",
       "      <td>103.70</td>\n",
       "      <td>5036.3</td>\n",
       "      <td>Yes</td>\n",
       "      <td>1</td>\n",
       "      <td>89</td>\n",
       "      <td>5340</td>\n",
       "      <td>Competitor had better devices</td>\n",
       "    </tr>\n",
       "  </tbody>\n",
       "</table>\n",
       "<p>5 rows × 33 columns</p>\n",
       "</div>"
      ],
      "text/plain": [
       "   CustomerID  Count        Country       State         City  Zip Code  \\\n",
       "0  3668-QPYBK      1  United States  California  Los Angeles     90003   \n",
       "1  9237-HQITU      1  United States  California  Los Angeles     90005   \n",
       "2  9305-CDSKC      1  United States  California  Los Angeles     90006   \n",
       "3  7892-POOKP      1  United States  California  Los Angeles     90010   \n",
       "4  0280-XJGEX      1  United States  California  Los Angeles     90015   \n",
       "\n",
       "                 Lat Long   Latitude   Longitude  Gender  ...        Contract  \\\n",
       "0  33.964131, -118.272783  33.964131 -118.272783    Male  ...  Month-to-month   \n",
       "1   34.059281, -118.30742  34.059281 -118.307420  Female  ...  Month-to-month   \n",
       "2  34.048013, -118.293953  34.048013 -118.293953  Female  ...  Month-to-month   \n",
       "3  34.062125, -118.315709  34.062125 -118.315709  Female  ...  Month-to-month   \n",
       "4  34.039224, -118.266293  34.039224 -118.266293    Male  ...  Month-to-month   \n",
       "\n",
       "  Paperless Billing             Payment Method  Monthly Charges Total Charges  \\\n",
       "0               Yes               Mailed check            53.85        108.15   \n",
       "1               Yes           Electronic check            70.70        151.65   \n",
       "2               Yes           Electronic check            99.65         820.5   \n",
       "3               Yes           Electronic check           104.80       3046.05   \n",
       "4               Yes  Bank transfer (automatic)           103.70        5036.3   \n",
       "\n",
       "  Churn Label Churn Value Churn Score  CLTV                   Churn Reason  \n",
       "0         Yes           1          86  3239   Competitor made better offer  \n",
       "1         Yes           1          67  2701                          Moved  \n",
       "2         Yes           1          86  5372                          Moved  \n",
       "3         Yes           1          84  5003                          Moved  \n",
       "4         Yes           1          89  5340  Competitor had better devices  \n",
       "\n",
       "[5 rows x 33 columns]"
      ]
     },
     "execution_count": 5,
     "metadata": {},
     "output_type": "execute_result"
    }
   ],
   "source": [
    "data.head()"
   ]
  },
  {
   "cell_type": "code",
   "execution_count": 6,
   "id": "885f03f8",
   "metadata": {},
   "outputs": [
    {
     "name": "stdout",
     "output_type": "stream",
     "text": [
      "7043 vs 7043\n"
     ]
    }
   ],
   "source": [
    "print(f'{len(data['CustomerID'].unique())} vs {len(data['CustomerID'])}')"
   ]
  },
  {
   "cell_type": "code",
   "execution_count": 7,
   "id": "e519c90f",
   "metadata": {},
   "outputs": [
    {
     "data": {
      "text/plain": [
       "(7043,)"
      ]
     },
     "execution_count": 7,
     "metadata": {},
     "output_type": "execute_result"
    }
   ],
   "source": [
    "data['CustomerID'].unique().shape"
   ]
  },
  {
   "cell_type": "code",
   "execution_count": 8,
   "id": "47c82439",
   "metadata": {},
   "outputs": [
    {
     "data": {
      "text/plain": [
       "(7043,)"
      ]
     },
     "execution_count": 8,
     "metadata": {},
     "output_type": "execute_result"
    }
   ],
   "source": [
    "data['CustomerID'].shape"
   ]
  },
  {
   "cell_type": "code",
   "execution_count": 9,
   "id": "c60b9549",
   "metadata": {},
   "outputs": [
    {
     "data": {
      "text/plain": [
       "1129"
      ]
     },
     "execution_count": 9,
     "metadata": {},
     "output_type": "execute_result"
    }
   ],
   "source": [
    "len(data['City'].unique())"
   ]
  },
  {
   "cell_type": "code",
   "execution_count": 10,
   "id": "ab49f7ee",
   "metadata": {},
   "outputs": [
    {
     "data": {
      "text/plain": [
       "CustomerID            object\n",
       "Count                  int64\n",
       "Country               object\n",
       "State                 object\n",
       "City                  object\n",
       "Zip Code               int64\n",
       "Lat Long              object\n",
       "Latitude             float64\n",
       "Longitude            float64\n",
       "Gender                object\n",
       "Senior Citizen        object\n",
       "Partner               object\n",
       "Dependents            object\n",
       "Tenure Months          int64\n",
       "Phone Service         object\n",
       "Multiple Lines        object\n",
       "Internet Service      object\n",
       "Online Security       object\n",
       "Online Backup         object\n",
       "Device Protection     object\n",
       "Tech Support          object\n",
       "Streaming TV          object\n",
       "Streaming Movies      object\n",
       "Contract              object\n",
       "Paperless Billing     object\n",
       "Payment Method        object\n",
       "Monthly Charges      float64\n",
       "Total Charges         object\n",
       "Churn Label           object\n",
       "Churn Value            int64\n",
       "Churn Score            int64\n",
       "CLTV                   int64\n",
       "Churn Reason          object\n",
       "dtype: object"
      ]
     },
     "execution_count": 10,
     "metadata": {},
     "output_type": "execute_result"
    }
   ],
   "source": [
    "data.dtypes"
   ]
  },
  {
   "cell_type": "code",
   "execution_count": 11,
   "id": "80e569fb",
   "metadata": {},
   "outputs": [],
   "source": [
    "unique_values = {column: len(data[column].unique()) for column in data.columns}"
   ]
  },
  {
   "cell_type": "code",
   "execution_count": 12,
   "id": "42919a60",
   "metadata": {},
   "outputs": [
    {
     "data": {
      "text/plain": [
       "{'CustomerID': 7043,\n",
       " 'Count': 1,\n",
       " 'Country': 1,\n",
       " 'State': 1,\n",
       " 'City': 1129,\n",
       " 'Zip Code': 1652,\n",
       " 'Lat Long': 1652,\n",
       " 'Latitude': 1652,\n",
       " 'Longitude': 1651,\n",
       " 'Gender': 2,\n",
       " 'Senior Citizen': 2,\n",
       " 'Partner': 2,\n",
       " 'Dependents': 2,\n",
       " 'Tenure Months': 73,\n",
       " 'Phone Service': 2,\n",
       " 'Multiple Lines': 3,\n",
       " 'Internet Service': 3,\n",
       " 'Online Security': 3,\n",
       " 'Online Backup': 3,\n",
       " 'Device Protection': 3,\n",
       " 'Tech Support': 3,\n",
       " 'Streaming TV': 3,\n",
       " 'Streaming Movies': 3,\n",
       " 'Contract': 3,\n",
       " 'Paperless Billing': 2,\n",
       " 'Payment Method': 4,\n",
       " 'Monthly Charges': 1585,\n",
       " 'Total Charges': 6531,\n",
       " 'Churn Label': 2,\n",
       " 'Churn Value': 2,\n",
       " 'Churn Score': 85,\n",
       " 'CLTV': 3438,\n",
       " 'Churn Reason': 21}"
      ]
     },
     "execution_count": 12,
     "metadata": {},
     "output_type": "execute_result"
    }
   ],
   "source": [
    "unique_values"
   ]
  },
  {
   "cell_type": "code",
   "execution_count": 13,
   "id": "6928df73",
   "metadata": {},
   "outputs": [],
   "source": [
    "managed_unique_values = {}\n",
    "for key, value in unique_values.items():\n",
    "    if value < 10: managed_unique_values[key] = value\n"
   ]
  },
  {
   "cell_type": "code",
   "execution_count": 14,
   "id": "4bdea184",
   "metadata": {},
   "outputs": [
    {
     "data": {
      "text/plain": [
       "{'Count': 1,\n",
       " 'Country': 1,\n",
       " 'State': 1,\n",
       " 'Gender': 2,\n",
       " 'Senior Citizen': 2,\n",
       " 'Partner': 2,\n",
       " 'Dependents': 2,\n",
       " 'Phone Service': 2,\n",
       " 'Multiple Lines': 3,\n",
       " 'Internet Service': 3,\n",
       " 'Online Security': 3,\n",
       " 'Online Backup': 3,\n",
       " 'Device Protection': 3,\n",
       " 'Tech Support': 3,\n",
       " 'Streaming TV': 3,\n",
       " 'Streaming Movies': 3,\n",
       " 'Contract': 3,\n",
       " 'Paperless Billing': 2,\n",
       " 'Payment Method': 4,\n",
       " 'Churn Label': 2,\n",
       " 'Churn Value': 2}"
      ]
     },
     "execution_count": 14,
     "metadata": {},
     "output_type": "execute_result"
    }
   ],
   "source": [
    "managed_unique_values"
   ]
  },
  {
   "cell_type": "code",
   "execution_count": 15,
   "id": "29987705",
   "metadata": {},
   "outputs": [],
   "source": [
    "managed_columns = list(managed_unique_values.keys())"
   ]
  },
  {
   "cell_type": "code",
   "execution_count": 16,
   "id": "9bd5d954",
   "metadata": {},
   "outputs": [
    {
     "data": {
      "text/plain": [
       "['Count',\n",
       " 'Country',\n",
       " 'State',\n",
       " 'Gender',\n",
       " 'Senior Citizen',\n",
       " 'Partner',\n",
       " 'Dependents',\n",
       " 'Phone Service',\n",
       " 'Multiple Lines',\n",
       " 'Internet Service',\n",
       " 'Online Security',\n",
       " 'Online Backup',\n",
       " 'Device Protection',\n",
       " 'Tech Support',\n",
       " 'Streaming TV',\n",
       " 'Streaming Movies',\n",
       " 'Contract',\n",
       " 'Paperless Billing',\n",
       " 'Payment Method',\n",
       " 'Churn Label',\n",
       " 'Churn Value']"
      ]
     },
     "execution_count": 16,
     "metadata": {},
     "output_type": "execute_result"
    }
   ],
   "source": [
    "managed_columns"
   ]
  },
  {
   "cell_type": "code",
   "execution_count": 17,
   "id": "565aba88",
   "metadata": {},
   "outputs": [
    {
     "data": {
      "text/html": [
       "<div>\n",
       "<style scoped>\n",
       "    .dataframe tbody tr th:only-of-type {\n",
       "        vertical-align: middle;\n",
       "    }\n",
       "\n",
       "    .dataframe tbody tr th {\n",
       "        vertical-align: top;\n",
       "    }\n",
       "\n",
       "    .dataframe thead th {\n",
       "        text-align: right;\n",
       "    }\n",
       "</style>\n",
       "<table border=\"1\" class=\"dataframe\">\n",
       "  <thead>\n",
       "    <tr style=\"text-align: right;\">\n",
       "      <th></th>\n",
       "      <th>CustomerID</th>\n",
       "      <th>Count</th>\n",
       "      <th>Country</th>\n",
       "      <th>State</th>\n",
       "      <th>Gender</th>\n",
       "      <th>Senior Citizen</th>\n",
       "      <th>Partner</th>\n",
       "      <th>Dependents</th>\n",
       "      <th>Phone Service</th>\n",
       "      <th>Multiple Lines</th>\n",
       "      <th>...</th>\n",
       "      <th>Online Backup</th>\n",
       "      <th>Device Protection</th>\n",
       "      <th>Tech Support</th>\n",
       "      <th>Streaming TV</th>\n",
       "      <th>Streaming Movies</th>\n",
       "      <th>Contract</th>\n",
       "      <th>Paperless Billing</th>\n",
       "      <th>Payment Method</th>\n",
       "      <th>Churn Label</th>\n",
       "      <th>Churn Value</th>\n",
       "    </tr>\n",
       "  </thead>\n",
       "  <tbody>\n",
       "    <tr>\n",
       "      <th>0</th>\n",
       "      <td>3668-QPYBK</td>\n",
       "      <td>1</td>\n",
       "      <td>United States</td>\n",
       "      <td>California</td>\n",
       "      <td>Male</td>\n",
       "      <td>No</td>\n",
       "      <td>No</td>\n",
       "      <td>No</td>\n",
       "      <td>Yes</td>\n",
       "      <td>No</td>\n",
       "      <td>...</td>\n",
       "      <td>Yes</td>\n",
       "      <td>No</td>\n",
       "      <td>No</td>\n",
       "      <td>No</td>\n",
       "      <td>No</td>\n",
       "      <td>Month-to-month</td>\n",
       "      <td>Yes</td>\n",
       "      <td>Mailed check</td>\n",
       "      <td>Yes</td>\n",
       "      <td>1</td>\n",
       "    </tr>\n",
       "    <tr>\n",
       "      <th>1</th>\n",
       "      <td>9237-HQITU</td>\n",
       "      <td>1</td>\n",
       "      <td>United States</td>\n",
       "      <td>California</td>\n",
       "      <td>Female</td>\n",
       "      <td>No</td>\n",
       "      <td>No</td>\n",
       "      <td>Yes</td>\n",
       "      <td>Yes</td>\n",
       "      <td>No</td>\n",
       "      <td>...</td>\n",
       "      <td>No</td>\n",
       "      <td>No</td>\n",
       "      <td>No</td>\n",
       "      <td>No</td>\n",
       "      <td>No</td>\n",
       "      <td>Month-to-month</td>\n",
       "      <td>Yes</td>\n",
       "      <td>Electronic check</td>\n",
       "      <td>Yes</td>\n",
       "      <td>1</td>\n",
       "    </tr>\n",
       "    <tr>\n",
       "      <th>2</th>\n",
       "      <td>9305-CDSKC</td>\n",
       "      <td>1</td>\n",
       "      <td>United States</td>\n",
       "      <td>California</td>\n",
       "      <td>Female</td>\n",
       "      <td>No</td>\n",
       "      <td>No</td>\n",
       "      <td>Yes</td>\n",
       "      <td>Yes</td>\n",
       "      <td>Yes</td>\n",
       "      <td>...</td>\n",
       "      <td>No</td>\n",
       "      <td>Yes</td>\n",
       "      <td>No</td>\n",
       "      <td>Yes</td>\n",
       "      <td>Yes</td>\n",
       "      <td>Month-to-month</td>\n",
       "      <td>Yes</td>\n",
       "      <td>Electronic check</td>\n",
       "      <td>Yes</td>\n",
       "      <td>1</td>\n",
       "    </tr>\n",
       "    <tr>\n",
       "      <th>3</th>\n",
       "      <td>7892-POOKP</td>\n",
       "      <td>1</td>\n",
       "      <td>United States</td>\n",
       "      <td>California</td>\n",
       "      <td>Female</td>\n",
       "      <td>No</td>\n",
       "      <td>Yes</td>\n",
       "      <td>Yes</td>\n",
       "      <td>Yes</td>\n",
       "      <td>Yes</td>\n",
       "      <td>...</td>\n",
       "      <td>No</td>\n",
       "      <td>Yes</td>\n",
       "      <td>Yes</td>\n",
       "      <td>Yes</td>\n",
       "      <td>Yes</td>\n",
       "      <td>Month-to-month</td>\n",
       "      <td>Yes</td>\n",
       "      <td>Electronic check</td>\n",
       "      <td>Yes</td>\n",
       "      <td>1</td>\n",
       "    </tr>\n",
       "    <tr>\n",
       "      <th>4</th>\n",
       "      <td>0280-XJGEX</td>\n",
       "      <td>1</td>\n",
       "      <td>United States</td>\n",
       "      <td>California</td>\n",
       "      <td>Male</td>\n",
       "      <td>No</td>\n",
       "      <td>No</td>\n",
       "      <td>Yes</td>\n",
       "      <td>Yes</td>\n",
       "      <td>Yes</td>\n",
       "      <td>...</td>\n",
       "      <td>Yes</td>\n",
       "      <td>Yes</td>\n",
       "      <td>No</td>\n",
       "      <td>Yes</td>\n",
       "      <td>Yes</td>\n",
       "      <td>Month-to-month</td>\n",
       "      <td>Yes</td>\n",
       "      <td>Bank transfer (automatic)</td>\n",
       "      <td>Yes</td>\n",
       "      <td>1</td>\n",
       "    </tr>\n",
       "    <tr>\n",
       "      <th>...</th>\n",
       "      <td>...</td>\n",
       "      <td>...</td>\n",
       "      <td>...</td>\n",
       "      <td>...</td>\n",
       "      <td>...</td>\n",
       "      <td>...</td>\n",
       "      <td>...</td>\n",
       "      <td>...</td>\n",
       "      <td>...</td>\n",
       "      <td>...</td>\n",
       "      <td>...</td>\n",
       "      <td>...</td>\n",
       "      <td>...</td>\n",
       "      <td>...</td>\n",
       "      <td>...</td>\n",
       "      <td>...</td>\n",
       "      <td>...</td>\n",
       "      <td>...</td>\n",
       "      <td>...</td>\n",
       "      <td>...</td>\n",
       "      <td>...</td>\n",
       "    </tr>\n",
       "    <tr>\n",
       "      <th>7038</th>\n",
       "      <td>2569-WGERO</td>\n",
       "      <td>1</td>\n",
       "      <td>United States</td>\n",
       "      <td>California</td>\n",
       "      <td>Female</td>\n",
       "      <td>No</td>\n",
       "      <td>No</td>\n",
       "      <td>No</td>\n",
       "      <td>Yes</td>\n",
       "      <td>No</td>\n",
       "      <td>...</td>\n",
       "      <td>No internet service</td>\n",
       "      <td>No internet service</td>\n",
       "      <td>No internet service</td>\n",
       "      <td>No internet service</td>\n",
       "      <td>No internet service</td>\n",
       "      <td>Two year</td>\n",
       "      <td>Yes</td>\n",
       "      <td>Bank transfer (automatic)</td>\n",
       "      <td>No</td>\n",
       "      <td>0</td>\n",
       "    </tr>\n",
       "    <tr>\n",
       "      <th>7039</th>\n",
       "      <td>6840-RESVB</td>\n",
       "      <td>1</td>\n",
       "      <td>United States</td>\n",
       "      <td>California</td>\n",
       "      <td>Male</td>\n",
       "      <td>No</td>\n",
       "      <td>Yes</td>\n",
       "      <td>Yes</td>\n",
       "      <td>Yes</td>\n",
       "      <td>Yes</td>\n",
       "      <td>...</td>\n",
       "      <td>No</td>\n",
       "      <td>Yes</td>\n",
       "      <td>Yes</td>\n",
       "      <td>Yes</td>\n",
       "      <td>Yes</td>\n",
       "      <td>One year</td>\n",
       "      <td>Yes</td>\n",
       "      <td>Mailed check</td>\n",
       "      <td>No</td>\n",
       "      <td>0</td>\n",
       "    </tr>\n",
       "    <tr>\n",
       "      <th>7040</th>\n",
       "      <td>2234-XADUH</td>\n",
       "      <td>1</td>\n",
       "      <td>United States</td>\n",
       "      <td>California</td>\n",
       "      <td>Female</td>\n",
       "      <td>No</td>\n",
       "      <td>Yes</td>\n",
       "      <td>Yes</td>\n",
       "      <td>Yes</td>\n",
       "      <td>Yes</td>\n",
       "      <td>...</td>\n",
       "      <td>Yes</td>\n",
       "      <td>Yes</td>\n",
       "      <td>No</td>\n",
       "      <td>Yes</td>\n",
       "      <td>Yes</td>\n",
       "      <td>One year</td>\n",
       "      <td>Yes</td>\n",
       "      <td>Credit card (automatic)</td>\n",
       "      <td>No</td>\n",
       "      <td>0</td>\n",
       "    </tr>\n",
       "    <tr>\n",
       "      <th>7041</th>\n",
       "      <td>4801-JZAZL</td>\n",
       "      <td>1</td>\n",
       "      <td>United States</td>\n",
       "      <td>California</td>\n",
       "      <td>Female</td>\n",
       "      <td>No</td>\n",
       "      <td>Yes</td>\n",
       "      <td>Yes</td>\n",
       "      <td>No</td>\n",
       "      <td>No phone service</td>\n",
       "      <td>...</td>\n",
       "      <td>No</td>\n",
       "      <td>No</td>\n",
       "      <td>No</td>\n",
       "      <td>No</td>\n",
       "      <td>No</td>\n",
       "      <td>Month-to-month</td>\n",
       "      <td>Yes</td>\n",
       "      <td>Electronic check</td>\n",
       "      <td>No</td>\n",
       "      <td>0</td>\n",
       "    </tr>\n",
       "    <tr>\n",
       "      <th>7042</th>\n",
       "      <td>3186-AJIEK</td>\n",
       "      <td>1</td>\n",
       "      <td>United States</td>\n",
       "      <td>California</td>\n",
       "      <td>Male</td>\n",
       "      <td>No</td>\n",
       "      <td>No</td>\n",
       "      <td>No</td>\n",
       "      <td>Yes</td>\n",
       "      <td>No</td>\n",
       "      <td>...</td>\n",
       "      <td>No</td>\n",
       "      <td>Yes</td>\n",
       "      <td>Yes</td>\n",
       "      <td>Yes</td>\n",
       "      <td>Yes</td>\n",
       "      <td>Two year</td>\n",
       "      <td>Yes</td>\n",
       "      <td>Bank transfer (automatic)</td>\n",
       "      <td>No</td>\n",
       "      <td>0</td>\n",
       "    </tr>\n",
       "  </tbody>\n",
       "</table>\n",
       "<p>7043 rows × 22 columns</p>\n",
       "</div>"
      ],
      "text/plain": [
       "      CustomerID  Count        Country       State  Gender Senior Citizen  \\\n",
       "0     3668-QPYBK      1  United States  California    Male             No   \n",
       "1     9237-HQITU      1  United States  California  Female             No   \n",
       "2     9305-CDSKC      1  United States  California  Female             No   \n",
       "3     7892-POOKP      1  United States  California  Female             No   \n",
       "4     0280-XJGEX      1  United States  California    Male             No   \n",
       "...          ...    ...            ...         ...     ...            ...   \n",
       "7038  2569-WGERO      1  United States  California  Female             No   \n",
       "7039  6840-RESVB      1  United States  California    Male             No   \n",
       "7040  2234-XADUH      1  United States  California  Female             No   \n",
       "7041  4801-JZAZL      1  United States  California  Female             No   \n",
       "7042  3186-AJIEK      1  United States  California    Male             No   \n",
       "\n",
       "     Partner Dependents Phone Service    Multiple Lines  ...  \\\n",
       "0         No         No           Yes                No  ...   \n",
       "1         No        Yes           Yes                No  ...   \n",
       "2         No        Yes           Yes               Yes  ...   \n",
       "3        Yes        Yes           Yes               Yes  ...   \n",
       "4         No        Yes           Yes               Yes  ...   \n",
       "...      ...        ...           ...               ...  ...   \n",
       "7038      No         No           Yes                No  ...   \n",
       "7039     Yes        Yes           Yes               Yes  ...   \n",
       "7040     Yes        Yes           Yes               Yes  ...   \n",
       "7041     Yes        Yes            No  No phone service  ...   \n",
       "7042      No         No           Yes                No  ...   \n",
       "\n",
       "            Online Backup    Device Protection         Tech Support  \\\n",
       "0                     Yes                   No                   No   \n",
       "1                      No                   No                   No   \n",
       "2                      No                  Yes                   No   \n",
       "3                      No                  Yes                  Yes   \n",
       "4                     Yes                  Yes                   No   \n",
       "...                   ...                  ...                  ...   \n",
       "7038  No internet service  No internet service  No internet service   \n",
       "7039                   No                  Yes                  Yes   \n",
       "7040                  Yes                  Yes                   No   \n",
       "7041                   No                   No                   No   \n",
       "7042                   No                  Yes                  Yes   \n",
       "\n",
       "             Streaming TV     Streaming Movies        Contract  \\\n",
       "0                      No                   No  Month-to-month   \n",
       "1                      No                   No  Month-to-month   \n",
       "2                     Yes                  Yes  Month-to-month   \n",
       "3                     Yes                  Yes  Month-to-month   \n",
       "4                     Yes                  Yes  Month-to-month   \n",
       "...                   ...                  ...             ...   \n",
       "7038  No internet service  No internet service        Two year   \n",
       "7039                  Yes                  Yes        One year   \n",
       "7040                  Yes                  Yes        One year   \n",
       "7041                   No                   No  Month-to-month   \n",
       "7042                  Yes                  Yes        Two year   \n",
       "\n",
       "     Paperless Billing             Payment Method Churn Label Churn Value  \n",
       "0                  Yes               Mailed check         Yes           1  \n",
       "1                  Yes           Electronic check         Yes           1  \n",
       "2                  Yes           Electronic check         Yes           1  \n",
       "3                  Yes           Electronic check         Yes           1  \n",
       "4                  Yes  Bank transfer (automatic)         Yes           1  \n",
       "...                ...                        ...         ...         ...  \n",
       "7038               Yes  Bank transfer (automatic)          No           0  \n",
       "7039               Yes               Mailed check          No           0  \n",
       "7040               Yes    Credit card (automatic)          No           0  \n",
       "7041               Yes           Electronic check          No           0  \n",
       "7042               Yes  Bank transfer (automatic)          No           0  \n",
       "\n",
       "[7043 rows x 22 columns]"
      ]
     },
     "execution_count": 17,
     "metadata": {},
     "output_type": "execute_result"
    }
   ],
   "source": [
    "data[['CustomerID']+managed_columns]"
   ]
  },
  {
   "cell_type": "code",
   "execution_count": 18,
   "id": "dbb1bd46",
   "metadata": {},
   "outputs": [],
   "source": [
    "muv_list = {column: data[column].unique() for column in managed_columns}"
   ]
  },
  {
   "cell_type": "code",
   "execution_count": 19,
   "id": "1e54efa6",
   "metadata": {
    "scrolled": true
   },
   "outputs": [
    {
     "data": {
      "text/plain": [
       "{'Count': array([1], dtype=int64),\n",
       " 'Country': array(['United States'], dtype=object),\n",
       " 'State': array(['California'], dtype=object),\n",
       " 'Gender': array(['Male', 'Female'], dtype=object),\n",
       " 'Senior Citizen': array(['No', 'Yes'], dtype=object),\n",
       " 'Partner': array(['No', 'Yes'], dtype=object),\n",
       " 'Dependents': array(['No', 'Yes'], dtype=object),\n",
       " 'Phone Service': array(['Yes', 'No'], dtype=object),\n",
       " 'Multiple Lines': array(['No', 'Yes', 'No phone service'], dtype=object),\n",
       " 'Internet Service': array(['DSL', 'Fiber optic', 'No'], dtype=object),\n",
       " 'Online Security': array(['Yes', 'No', 'No internet service'], dtype=object),\n",
       " 'Online Backup': array(['Yes', 'No', 'No internet service'], dtype=object),\n",
       " 'Device Protection': array(['No', 'Yes', 'No internet service'], dtype=object),\n",
       " 'Tech Support': array(['No', 'Yes', 'No internet service'], dtype=object),\n",
       " 'Streaming TV': array(['No', 'Yes', 'No internet service'], dtype=object),\n",
       " 'Streaming Movies': array(['No', 'Yes', 'No internet service'], dtype=object),\n",
       " 'Contract': array(['Month-to-month', 'Two year', 'One year'], dtype=object),\n",
       " 'Paperless Billing': array(['Yes', 'No'], dtype=object),\n",
       " 'Payment Method': array(['Mailed check', 'Electronic check', 'Bank transfer (automatic)',\n",
       "        'Credit card (automatic)'], dtype=object),\n",
       " 'Churn Label': array(['Yes', 'No'], dtype=object),\n",
       " 'Churn Value': array([1, 0], dtype=int64)}"
      ]
     },
     "execution_count": 19,
     "metadata": {},
     "output_type": "execute_result"
    }
   ],
   "source": [
    "muv_list"
   ]
  },
  {
   "cell_type": "code",
   "execution_count": 20,
   "id": "be7d7cc2",
   "metadata": {},
   "outputs": [],
   "source": [
    "def returnUnique(data, column):\n",
    "    if len(data[column].unique()) < 10: return data[column].unique()\n",
    "    return (f'Number of Unique Values: {len(data[column].unique())}', data[column].dtype)"
   ]
  },
  {
   "cell_type": "code",
   "execution_count": 21,
   "id": "73807517",
   "metadata": {},
   "outputs": [],
   "source": [
    "unique_values = {column: returnUnique(data, column) for column in data.columns}"
   ]
  },
  {
   "cell_type": "code",
   "execution_count": 22,
   "id": "8497d08b",
   "metadata": {},
   "outputs": [
    {
     "data": {
      "text/plain": [
       "{'CustomerID': ('Number of Unique Values: 7043', dtype('O')),\n",
       " 'Count': array([1], dtype=int64),\n",
       " 'Country': array(['United States'], dtype=object),\n",
       " 'State': array(['California'], dtype=object),\n",
       " 'City': ('Number of Unique Values: 1129', dtype('O')),\n",
       " 'Zip Code': ('Number of Unique Values: 1652', dtype('int64')),\n",
       " 'Lat Long': ('Number of Unique Values: 1652', dtype('O')),\n",
       " 'Latitude': ('Number of Unique Values: 1652', dtype('float64')),\n",
       " 'Longitude': ('Number of Unique Values: 1651', dtype('float64')),\n",
       " 'Gender': array(['Male', 'Female'], dtype=object),\n",
       " 'Senior Citizen': array(['No', 'Yes'], dtype=object),\n",
       " 'Partner': array(['No', 'Yes'], dtype=object),\n",
       " 'Dependents': array(['No', 'Yes'], dtype=object),\n",
       " 'Tenure Months': ('Number of Unique Values: 73', dtype('int64')),\n",
       " 'Phone Service': array(['Yes', 'No'], dtype=object),\n",
       " 'Multiple Lines': array(['No', 'Yes', 'No phone service'], dtype=object),\n",
       " 'Internet Service': array(['DSL', 'Fiber optic', 'No'], dtype=object),\n",
       " 'Online Security': array(['Yes', 'No', 'No internet service'], dtype=object),\n",
       " 'Online Backup': array(['Yes', 'No', 'No internet service'], dtype=object),\n",
       " 'Device Protection': array(['No', 'Yes', 'No internet service'], dtype=object),\n",
       " 'Tech Support': array(['No', 'Yes', 'No internet service'], dtype=object),\n",
       " 'Streaming TV': array(['No', 'Yes', 'No internet service'], dtype=object),\n",
       " 'Streaming Movies': array(['No', 'Yes', 'No internet service'], dtype=object),\n",
       " 'Contract': array(['Month-to-month', 'Two year', 'One year'], dtype=object),\n",
       " 'Paperless Billing': array(['Yes', 'No'], dtype=object),\n",
       " 'Payment Method': array(['Mailed check', 'Electronic check', 'Bank transfer (automatic)',\n",
       "        'Credit card (automatic)'], dtype=object),\n",
       " 'Monthly Charges': ('Number of Unique Values: 1585', dtype('float64')),\n",
       " 'Total Charges': ('Number of Unique Values: 6531', dtype('O')),\n",
       " 'Churn Label': array(['Yes', 'No'], dtype=object),\n",
       " 'Churn Value': array([1, 0], dtype=int64),\n",
       " 'Churn Score': ('Number of Unique Values: 85', dtype('int64')),\n",
       " 'CLTV': ('Number of Unique Values: 3438', dtype('int64')),\n",
       " 'Churn Reason': ('Number of Unique Values: 21', dtype('O'))}"
      ]
     },
     "execution_count": 22,
     "metadata": {},
     "output_type": "execute_result"
    }
   ],
   "source": [
    "unique_values"
   ]
  },
  {
   "cell_type": "code",
   "execution_count": 23,
   "id": "296c9ea2",
   "metadata": {},
   "outputs": [
    {
     "data": {
      "text/plain": [
       "True"
      ]
     },
     "execution_count": 23,
     "metadata": {},
     "output_type": "execute_result"
    }
   ],
   "source": [
    "data['Zip Code'].dtype == np.int64"
   ]
  },
  {
   "cell_type": "code",
   "execution_count": 24,
   "id": "018feb72",
   "metadata": {},
   "outputs": [
    {
     "data": {
      "text/plain": [
       "0        108.15\n",
       "1        151.65\n",
       "2         820.5\n",
       "3       3046.05\n",
       "4        5036.3\n",
       "         ...   \n",
       "7038     1419.4\n",
       "7039     1990.5\n",
       "7040     7362.9\n",
       "7041     346.45\n",
       "7042     6844.5\n",
       "Name: Total Charges, Length: 7043, dtype: object"
      ]
     },
     "execution_count": 24,
     "metadata": {},
     "output_type": "execute_result"
    }
   ],
   "source": [
    "data['Total Charges']"
   ]
  },
  {
   "cell_type": "code",
   "execution_count": 25,
   "id": "b807b348",
   "metadata": {},
   "outputs": [
    {
     "data": {
      "text/plain": [
       "33"
      ]
     },
     "execution_count": 25,
     "metadata": {},
     "output_type": "execute_result"
    }
   ],
   "source": [
    "len(unique_values.keys())"
   ]
  },
  {
   "cell_type": "code",
   "execution_count": 26,
   "id": "c381c815",
   "metadata": {},
   "outputs": [
    {
     "data": {
      "text/plain": [
       "count\n",
       "4      799\n",
       "5      172\n",
       "8       46\n",
       "10      33\n",
       "12      20\n",
       "16      13\n",
       "15      11\n",
       "20       8\n",
       "28       5\n",
       "25       5\n",
       "24       2\n",
       "30       2\n",
       "32       2\n",
       "40       2\n",
       "150      1\n",
       "44       1\n",
       "52       1\n",
       "60       1\n",
       "64       1\n",
       "104      1\n",
       "108      1\n",
       "112      1\n",
       "305      1\n",
       "Name: count, dtype: int64"
      ]
     },
     "execution_count": 26,
     "metadata": {},
     "output_type": "execute_result"
    }
   ],
   "source": [
    "data['City'].value_counts().value_counts()"
   ]
  },
  {
   "cell_type": "code",
   "execution_count": 27,
   "id": "a35aeb1c",
   "metadata": {},
   "outputs": [
    {
     "data": {
      "text/plain": [
       "Dependents\n",
       "No     5416\n",
       "Yes    1627\n",
       "Name: count, dtype: int64"
      ]
     },
     "execution_count": 27,
     "metadata": {},
     "output_type": "execute_result"
    }
   ],
   "source": [
    "data['Dependents'].value_counts()"
   ]
  },
  {
   "cell_type": "code",
   "execution_count": 28,
   "id": "a48ffd01",
   "metadata": {},
   "outputs": [
    {
     "data": {
      "text/plain": [
       "<Axes: title={'center': 'Churn Score'}, xlabel='Senior Citizen'>"
      ]
     },
     "execution_count": 28,
     "metadata": {},
     "output_type": "execute_result"
    },
    {
     "data": {
      "image/png": "[encoded data removed]",
      "text/plain": [
       "<Figure size 640x480 with 1 Axes>"
      ]
     },
     "metadata": {},
     "output_type": "display_data"
    }
   ],
   "source": [
    "data.boxplot(by='Senior Citizen', column=['Churn Score'])"
   ]
  },
  {
   "cell_type": "code",
   "execution_count": 29,
   "id": "debf2b25",
   "metadata": {},
   "outputs": [
    {
     "data": {
      "text/plain": [
       "<Axes: title={'center': 'Churn Score'}, xlabel='Partner'>"
      ]
     },
     "execution_count": 29,
     "metadata": {},
     "output_type": "execute_result"
    },
    {
     "data": {
      "image/png": "[encoded data removed]",
      "text/plain": [
       "<Figure size 640x480 with 1 Axes>"
      ]
     },
     "metadata": {},
     "output_type": "display_data"
    }
   ],
   "source": [
    "data.boxplot(by='Partner', column=['Churn Score'])"
   ]
  },
  {
   "cell_type": "code",
   "execution_count": 30,
   "id": "4a7ed25c",
   "metadata": {},
   "outputs": [
    {
     "data": {
      "text/plain": [
       "<Axes: title={'center': 'Churn Score'}, xlabel='Gender'>"
      ]
     },
     "execution_count": 30,
     "metadata": {},
     "output_type": "execute_result"
    },
    {
     "data": {
      "image/png": "[encoded data removed]",
      "text/plain": [
       "<Figure size 640x480 with 1 Axes>"
      ]
     },
     "metadata": {},
     "output_type": "display_data"
    }
   ],
   "source": [
    "data.boxplot(by='Gender', column=['Churn Score'])"
   ]
  },
  {
   "cell_type": "code",
   "execution_count": 31,
   "id": "985aad5d",
   "metadata": {},
   "outputs": [
    {
     "data": {
      "text/plain": [
       "<Axes: xlabel='Senior Citizen'>"
      ]
     },
     "execution_count": 31,
     "metadata": {},
     "output_type": "execute_result"
    },
    {
     "data": {
      "image/png": "[encoded data removed]",
      "text/plain": [
       "<Figure size 640x480 with 1 Axes>"
      ]
     },
     "metadata": {},
     "output_type": "display_data"
    }
   ],
   "source": [
    "(data.groupby('Senior Citizen').count() / data.count())['Churn Value'].plot(kind='bar',rot=0)"
   ]
  },
  {
   "cell_type": "code",
   "execution_count": 32,
   "id": "26cb4b48",
   "metadata": {},
   "outputs": [
    {
     "data": {
      "text/plain": [
       "Senior Citizen\n",
       "No     0.236062\n",
       "Yes    0.416813\n",
       "Name: Churn Value, dtype: float64"
      ]
     },
     "execution_count": 32,
     "metadata": {},
     "output_type": "execute_result"
    }
   ],
   "source": [
    "data[['Senior Citizen', 'Churn Value']].groupby('Senior Citizen')['Churn Value'].mean()"
   ]
  },
  {
   "cell_type": "code",
   "execution_count": 33,
   "id": "4c744c66",
   "metadata": {},
   "outputs": [
    {
     "data": {
      "text/plain": [
       "Senior Citizen\n",
       "No     0.236062\n",
       "Yes    0.416813\n",
       "Name: Churn Value, dtype: float64"
      ]
     },
     "execution_count": 33,
     "metadata": {},
     "output_type": "execute_result"
    }
   ],
   "source": [
    "data.groupby('Senior Citizen')['Churn Value'].mean()"
   ]
  },
  {
   "cell_type": "code",
   "execution_count": 34,
   "id": "07fc44f3",
   "metadata": {},
   "outputs": [
    {
     "data": {
      "text/plain": [
       "Senior Citizen\n",
       "No     57.731910\n",
       "Yes    63.698774\n",
       "Name: Churn Score, dtype: float64"
      ]
     },
     "execution_count": 34,
     "metadata": {},
     "output_type": "execute_result"
    }
   ],
   "source": [
    "data.groupby('Senior Citizen')['Churn Score'].mean()"
   ]
  },
  {
   "cell_type": "code",
   "execution_count": null,
   "id": "054bf073",
   "metadata": {},
   "outputs": [],
   "source": []
  },
  {
   "cell_type": "code",
   "execution_count": 35,
   "id": "10c19553",
   "metadata": {},
   "outputs": [
    {
     "data": {
      "text/plain": [
       "Gender\n",
       "Female    0.269209\n",
       "Male      0.261603\n",
       "Name: Churn Value, dtype: float64"
      ]
     },
     "execution_count": 35,
     "metadata": {},
     "output_type": "execute_result"
    }
   ],
   "source": [
    "data.groupby('Gender')['Churn Value'].mean()"
   ]
  },
  {
   "cell_type": "code",
   "execution_count": 36,
   "id": "dfa26eba",
   "metadata": {},
   "outputs": [
    {
     "data": {
      "text/plain": [
       "Gender\n",
       "Female    58.692661\n",
       "Male      58.706048\n",
       "Name: Churn Score, dtype: float64"
      ]
     },
     "execution_count": 36,
     "metadata": {},
     "output_type": "execute_result"
    }
   ],
   "source": [
    "data.groupby('Gender')['Churn Score'].mean()"
   ]
  },
  {
   "cell_type": "code",
   "execution_count": null,
   "id": "974774c8",
   "metadata": {},
   "outputs": [],
   "source": []
  },
  {
   "cell_type": "code",
   "execution_count": 37,
   "id": "a739935e",
   "metadata": {},
   "outputs": [
    {
     "data": {
      "text/plain": [
       "Partner\n",
       "No     0.329580\n",
       "Yes    0.196649\n",
       "Name: Churn Value, dtype: float64"
      ]
     },
     "execution_count": 37,
     "metadata": {},
     "output_type": "execute_result"
    }
   ],
   "source": [
    "data.groupby('Partner')['Churn Value'].mean()"
   ]
  },
  {
   "cell_type": "code",
   "execution_count": 38,
   "id": "7fc61ac6",
   "metadata": {},
   "outputs": [
    {
     "data": {
      "text/plain": [
       "Partner\n",
       "No     61.009063\n",
       "Yes    56.227513\n",
       "Name: Churn Score, dtype: float64"
      ]
     },
     "execution_count": 38,
     "metadata": {},
     "output_type": "execute_result"
    }
   ],
   "source": [
    "data.groupby('Partner')['Churn Score'].mean()"
   ]
  },
  {
   "cell_type": "code",
   "execution_count": null,
   "id": "cb2de82f",
   "metadata": {},
   "outputs": [],
   "source": []
  },
  {
   "cell_type": "code",
   "execution_count": 39,
   "id": "c58d6103",
   "metadata": {},
   "outputs": [
    {
     "data": {
      "text/plain": [
       "Dependents\n",
       "No     0.325517\n",
       "Yes    0.065151\n",
       "Name: Churn Value, dtype: float64"
      ]
     },
     "execution_count": 39,
     "metadata": {},
     "output_type": "execute_result"
    }
   ],
   "source": [
    "data.groupby('Dependents')['Churn Value'].mean()"
   ]
  },
  {
   "cell_type": "code",
   "execution_count": 40,
   "id": "0a92c089",
   "metadata": {},
   "outputs": [
    {
     "data": {
      "text/plain": [
       "Dependents\n",
       "No     60.763294\n",
       "Yes    51.829133\n",
       "Name: Churn Score, dtype: float64"
      ]
     },
     "execution_count": 40,
     "metadata": {},
     "output_type": "execute_result"
    }
   ],
   "source": [
    "data.groupby('Dependents')['Churn Score'].mean()"
   ]
  },
  {
   "cell_type": "code",
   "execution_count": null,
   "id": "3d85a5b5",
   "metadata": {},
   "outputs": [],
   "source": []
  },
  {
   "cell_type": "code",
   "execution_count": 41,
   "id": "fac2f47d",
   "metadata": {},
   "outputs": [],
   "source": [
    "data_senior = data.loc[data['Senior Citizen'] == 'Yes']"
   ]
  },
  {
   "cell_type": "code",
   "execution_count": 42,
   "id": "4c5843c5",
   "metadata": {},
   "outputs": [
    {
     "data": {
      "text/html": [
       "<div>\n",
       "<style scoped>\n",
       "    .dataframe tbody tr th:only-of-type {\n",
       "        vertical-align: middle;\n",
       "    }\n",
       "\n",
       "    .dataframe tbody tr th {\n",
       "        vertical-align: top;\n",
       "    }\n",
       "\n",
       "    .dataframe thead th {\n",
       "        text-align: right;\n",
       "    }\n",
       "</style>\n",
       "<table border=\"1\" class=\"dataframe\">\n",
       "  <thead>\n",
       "    <tr style=\"text-align: right;\">\n",
       "      <th></th>\n",
       "      <th>CustomerID</th>\n",
       "      <th>Count</th>\n",
       "      <th>Country</th>\n",
       "      <th>State</th>\n",
       "      <th>City</th>\n",
       "      <th>Zip Code</th>\n",
       "      <th>Lat Long</th>\n",
       "      <th>Latitude</th>\n",
       "      <th>Longitude</th>\n",
       "      <th>Gender</th>\n",
       "      <th>...</th>\n",
       "      <th>Contract</th>\n",
       "      <th>Paperless Billing</th>\n",
       "      <th>Payment Method</th>\n",
       "      <th>Monthly Charges</th>\n",
       "      <th>Total Charges</th>\n",
       "      <th>Churn Label</th>\n",
       "      <th>Churn Value</th>\n",
       "      <th>Churn Score</th>\n",
       "      <th>CLTV</th>\n",
       "      <th>Churn Reason</th>\n",
       "    </tr>\n",
       "  </thead>\n",
       "  <tbody>\n",
       "    <tr>\n",
       "      <th>6</th>\n",
       "      <td>8779-QRDMV</td>\n",
       "      <td>1</td>\n",
       "      <td>United States</td>\n",
       "      <td>California</td>\n",
       "      <td>Los Angeles</td>\n",
       "      <td>90022</td>\n",
       "      <td>34.02381, -118.156582</td>\n",
       "      <td>34.023810</td>\n",
       "      <td>-118.156582</td>\n",
       "      <td>Male</td>\n",
       "      <td>...</td>\n",
       "      <td>Month-to-month</td>\n",
       "      <td>Yes</td>\n",
       "      <td>Electronic check</td>\n",
       "      <td>39.65</td>\n",
       "      <td>39.65</td>\n",
       "      <td>Yes</td>\n",
       "      <td>1</td>\n",
       "      <td>100</td>\n",
       "      <td>5433</td>\n",
       "      <td>Competitor offered more data</td>\n",
       "    </tr>\n",
       "    <tr>\n",
       "      <th>16</th>\n",
       "      <td>7495-OOKFY</td>\n",
       "      <td>1</td>\n",
       "      <td>United States</td>\n",
       "      <td>California</td>\n",
       "      <td>Los Angeles</td>\n",
       "      <td>90063</td>\n",
       "      <td>34.044271, -118.185237</td>\n",
       "      <td>34.044271</td>\n",
       "      <td>-118.185237</td>\n",
       "      <td>Female</td>\n",
       "      <td>...</td>\n",
       "      <td>Month-to-month</td>\n",
       "      <td>Yes</td>\n",
       "      <td>Credit card (automatic)</td>\n",
       "      <td>80.65</td>\n",
       "      <td>633.3</td>\n",
       "      <td>Yes</td>\n",
       "      <td>1</td>\n",
       "      <td>69</td>\n",
       "      <td>5302</td>\n",
       "      <td>Competitor made better offer</td>\n",
       "    </tr>\n",
       "    <tr>\n",
       "      <th>17</th>\n",
       "      <td>1658-BYGOY</td>\n",
       "      <td>1</td>\n",
       "      <td>United States</td>\n",
       "      <td>California</td>\n",
       "      <td>Los Angeles</td>\n",
       "      <td>90065</td>\n",
       "      <td>34.108833, -118.229715</td>\n",
       "      <td>34.108833</td>\n",
       "      <td>-118.229715</td>\n",
       "      <td>Male</td>\n",
       "      <td>...</td>\n",
       "      <td>Month-to-month</td>\n",
       "      <td>Yes</td>\n",
       "      <td>Electronic check</td>\n",
       "      <td>95.45</td>\n",
       "      <td>1752.55</td>\n",
       "      <td>Yes</td>\n",
       "      <td>1</td>\n",
       "      <td>81</td>\n",
       "      <td>3179</td>\n",
       "      <td>Competitor made better offer</td>\n",
       "    </tr>\n",
       "    <tr>\n",
       "      <th>23</th>\n",
       "      <td>4598-XLKNJ</td>\n",
       "      <td>1</td>\n",
       "      <td>United States</td>\n",
       "      <td>California</td>\n",
       "      <td>Inglewood</td>\n",
       "      <td>90303</td>\n",
       "      <td>33.936291, -118.332639</td>\n",
       "      <td>33.936291</td>\n",
       "      <td>-118.332639</td>\n",
       "      <td>Female</td>\n",
       "      <td>...</td>\n",
       "      <td>Month-to-month</td>\n",
       "      <td>Yes</td>\n",
       "      <td>Electronic check</td>\n",
       "      <td>98.50</td>\n",
       "      <td>2514.5</td>\n",
       "      <td>Yes</td>\n",
       "      <td>1</td>\n",
       "      <td>88</td>\n",
       "      <td>5337</td>\n",
       "      <td>Limited range of services</td>\n",
       "    </tr>\n",
       "    <tr>\n",
       "      <th>26</th>\n",
       "      <td>4846-WHAFZ</td>\n",
       "      <td>1</td>\n",
       "      <td>United States</td>\n",
       "      <td>California</td>\n",
       "      <td>Whittier</td>\n",
       "      <td>90602</td>\n",
       "      <td>33.972119, -118.020188</td>\n",
       "      <td>33.972119</td>\n",
       "      <td>-118.020188</td>\n",
       "      <td>Female</td>\n",
       "      <td>...</td>\n",
       "      <td>Month-to-month</td>\n",
       "      <td>Yes</td>\n",
       "      <td>Electronic check</td>\n",
       "      <td>76.50</td>\n",
       "      <td>2868.15</td>\n",
       "      <td>Yes</td>\n",
       "      <td>1</td>\n",
       "      <td>67</td>\n",
       "      <td>2793</td>\n",
       "      <td>Extra data charges</td>\n",
       "    </tr>\n",
       "    <tr>\n",
       "      <th>...</th>\n",
       "      <td>...</td>\n",
       "      <td>...</td>\n",
       "      <td>...</td>\n",
       "      <td>...</td>\n",
       "      <td>...</td>\n",
       "      <td>...</td>\n",
       "      <td>...</td>\n",
       "      <td>...</td>\n",
       "      <td>...</td>\n",
       "      <td>...</td>\n",
       "      <td>...</td>\n",
       "      <td>...</td>\n",
       "      <td>...</td>\n",
       "      <td>...</td>\n",
       "      <td>...</td>\n",
       "      <td>...</td>\n",
       "      <td>...</td>\n",
       "      <td>...</td>\n",
       "      <td>...</td>\n",
       "      <td>...</td>\n",
       "      <td>...</td>\n",
       "    </tr>\n",
       "    <tr>\n",
       "      <th>7017</th>\n",
       "      <td>2274-XUATA</td>\n",
       "      <td>1</td>\n",
       "      <td>United States</td>\n",
       "      <td>California</td>\n",
       "      <td>Earp</td>\n",
       "      <td>92242</td>\n",
       "      <td>34.137742, -114.36514</td>\n",
       "      <td>34.137742</td>\n",
       "      <td>-114.365140</td>\n",
       "      <td>Male</td>\n",
       "      <td>...</td>\n",
       "      <td>Two year</td>\n",
       "      <td>Yes</td>\n",
       "      <td>Bank transfer (automatic)</td>\n",
       "      <td>63.10</td>\n",
       "      <td>4685.55</td>\n",
       "      <td>No</td>\n",
       "      <td>0</td>\n",
       "      <td>56</td>\n",
       "      <td>4933</td>\n",
       "      <td>NaN</td>\n",
       "    </tr>\n",
       "    <tr>\n",
       "      <th>7021</th>\n",
       "      <td>0666-UXTJO</td>\n",
       "      <td>1</td>\n",
       "      <td>United States</td>\n",
       "      <td>California</td>\n",
       "      <td>Morongo Valley</td>\n",
       "      <td>92256</td>\n",
       "      <td>34.097863, -116.594561</td>\n",
       "      <td>34.097863</td>\n",
       "      <td>-116.594561</td>\n",
       "      <td>Male</td>\n",
       "      <td>...</td>\n",
       "      <td>Month-to-month</td>\n",
       "      <td>Yes</td>\n",
       "      <td>Credit card (automatic)</td>\n",
       "      <td>85.20</td>\n",
       "      <td>2874.45</td>\n",
       "      <td>No</td>\n",
       "      <td>0</td>\n",
       "      <td>27</td>\n",
       "      <td>5393</td>\n",
       "      <td>NaN</td>\n",
       "    </tr>\n",
       "    <tr>\n",
       "      <th>7027</th>\n",
       "      <td>1035-IPQPU</td>\n",
       "      <td>1</td>\n",
       "      <td>United States</td>\n",
       "      <td>California</td>\n",
       "      <td>Parker Dam</td>\n",
       "      <td>92267</td>\n",
       "      <td>34.273872, -114.192901</td>\n",
       "      <td>34.273872</td>\n",
       "      <td>-114.192901</td>\n",
       "      <td>Female</td>\n",
       "      <td>...</td>\n",
       "      <td>Month-to-month</td>\n",
       "      <td>Yes</td>\n",
       "      <td>Electronic check</td>\n",
       "      <td>103.50</td>\n",
       "      <td>6479.4</td>\n",
       "      <td>No</td>\n",
       "      <td>0</td>\n",
       "      <td>53</td>\n",
       "      <td>5187</td>\n",
       "      <td>NaN</td>\n",
       "    </tr>\n",
       "    <tr>\n",
       "      <th>7032</th>\n",
       "      <td>2235-DWLJU</td>\n",
       "      <td>1</td>\n",
       "      <td>United States</td>\n",
       "      <td>California</td>\n",
       "      <td>Thousand Palms</td>\n",
       "      <td>92276</td>\n",
       "      <td>33.849263, -116.382778</td>\n",
       "      <td>33.849263</td>\n",
       "      <td>-116.382778</td>\n",
       "      <td>Female</td>\n",
       "      <td>...</td>\n",
       "      <td>Month-to-month</td>\n",
       "      <td>Yes</td>\n",
       "      <td>Electronic check</td>\n",
       "      <td>44.40</td>\n",
       "      <td>263.05</td>\n",
       "      <td>No</td>\n",
       "      <td>0</td>\n",
       "      <td>71</td>\n",
       "      <td>4611</td>\n",
       "      <td>NaN</td>\n",
       "    </tr>\n",
       "    <tr>\n",
       "      <th>7034</th>\n",
       "      <td>3605-JISKB</td>\n",
       "      <td>1</td>\n",
       "      <td>United States</td>\n",
       "      <td>California</td>\n",
       "      <td>Twentynine Palms</td>\n",
       "      <td>92278</td>\n",
       "      <td>34.457829, -116.139589</td>\n",
       "      <td>34.457829</td>\n",
       "      <td>-116.139589</td>\n",
       "      <td>Male</td>\n",
       "      <td>...</td>\n",
       "      <td>One year</td>\n",
       "      <td>No</td>\n",
       "      <td>Credit card (automatic)</td>\n",
       "      <td>60.00</td>\n",
       "      <td>3316.1</td>\n",
       "      <td>No</td>\n",
       "      <td>0</td>\n",
       "      <td>71</td>\n",
       "      <td>4212</td>\n",
       "      <td>NaN</td>\n",
       "    </tr>\n",
       "  </tbody>\n",
       "</table>\n",
       "<p>1142 rows × 33 columns</p>\n",
       "</div>"
      ],
      "text/plain": [
       "      CustomerID  Count        Country       State              City  \\\n",
       "6     8779-QRDMV      1  United States  California       Los Angeles   \n",
       "16    7495-OOKFY      1  United States  California       Los Angeles   \n",
       "17    1658-BYGOY      1  United States  California       Los Angeles   \n",
       "23    4598-XLKNJ      1  United States  California         Inglewood   \n",
       "26    4846-WHAFZ      1  United States  California          Whittier   \n",
       "...          ...    ...            ...         ...               ...   \n",
       "7017  2274-XUATA      1  United States  California              Earp   \n",
       "7021  0666-UXTJO      1  United States  California    Morongo Valley   \n",
       "7027  1035-IPQPU      1  United States  California        Parker Dam   \n",
       "7032  2235-DWLJU      1  United States  California    Thousand Palms   \n",
       "7034  3605-JISKB      1  United States  California  Twentynine Palms   \n",
       "\n",
       "      Zip Code                Lat Long   Latitude   Longitude  Gender  ...  \\\n",
       "6        90022   34.02381, -118.156582  34.023810 -118.156582    Male  ...   \n",
       "16       90063  34.044271, -118.185237  34.044271 -118.185237  Female  ...   \n",
       "17       90065  34.108833, -118.229715  34.108833 -118.229715    Male  ...   \n",
       "23       90303  33.936291, -118.332639  33.936291 -118.332639  Female  ...   \n",
       "26       90602  33.972119, -118.020188  33.972119 -118.020188  Female  ...   \n",
       "...        ...                     ...        ...         ...     ...  ...   \n",
       "7017     92242   34.137742, -114.36514  34.137742 -114.365140    Male  ...   \n",
       "7021     92256  34.097863, -116.594561  34.097863 -116.594561    Male  ...   \n",
       "7027     92267  34.273872, -114.192901  34.273872 -114.192901  Female  ...   \n",
       "7032     92276  33.849263, -116.382778  33.849263 -116.382778  Female  ...   \n",
       "7034     92278  34.457829, -116.139589  34.457829 -116.139589    Male  ...   \n",
       "\n",
       "            Contract Paperless Billing             Payment Method  \\\n",
       "6     Month-to-month               Yes           Electronic check   \n",
       "16    Month-to-month               Yes    Credit card (automatic)   \n",
       "17    Month-to-month               Yes           Electronic check   \n",
       "23    Month-to-month               Yes           Electronic check   \n",
       "26    Month-to-month               Yes           Electronic check   \n",
       "...              ...               ...                        ...   \n",
       "7017        Two year               Yes  Bank transfer (automatic)   \n",
       "7021  Month-to-month               Yes    Credit card (automatic)   \n",
       "7027  Month-to-month               Yes           Electronic check   \n",
       "7032  Month-to-month               Yes           Electronic check   \n",
       "7034        One year                No    Credit card (automatic)   \n",
       "\n",
       "      Monthly Charges Total Charges Churn Label Churn Value Churn Score  CLTV  \\\n",
       "6               39.65         39.65         Yes           1         100  5433   \n",
       "16              80.65         633.3         Yes           1          69  5302   \n",
       "17              95.45       1752.55         Yes           1          81  3179   \n",
       "23              98.50        2514.5         Yes           1          88  5337   \n",
       "26              76.50       2868.15         Yes           1          67  2793   \n",
       "...               ...           ...         ...         ...         ...   ...   \n",
       "7017            63.10       4685.55          No           0          56  4933   \n",
       "7021            85.20       2874.45          No           0          27  5393   \n",
       "7027           103.50        6479.4          No           0          53  5187   \n",
       "7032            44.40        263.05          No           0          71  4611   \n",
       "7034            60.00        3316.1          No           0          71  4212   \n",
       "\n",
       "                      Churn Reason  \n",
       "6     Competitor offered more data  \n",
       "16    Competitor made better offer  \n",
       "17    Competitor made better offer  \n",
       "23       Limited range of services  \n",
       "26              Extra data charges  \n",
       "...                            ...  \n",
       "7017                           NaN  \n",
       "7021                           NaN  \n",
       "7027                           NaN  \n",
       "7032                           NaN  \n",
       "7034                           NaN  \n",
       "\n",
       "[1142 rows x 33 columns]"
      ]
     },
     "execution_count": 42,
     "metadata": {},
     "output_type": "execute_result"
    }
   ],
   "source": [
    "data_senior"
   ]
  },
  {
   "cell_type": "code",
   "execution_count": 43,
   "id": "8d618647",
   "metadata": {},
   "outputs": [
    {
     "data": {
      "text/plain": [
       "Churn Value\n",
       "0    666\n",
       "1    476\n",
       "Name: count, dtype: int64"
      ]
     },
     "execution_count": 43,
     "metadata": {},
     "output_type": "execute_result"
    }
   ],
   "source": [
    "data_senior['Churn Value'].value_counts()"
   ]
  },
  {
   "cell_type": "code",
   "execution_count": null,
   "id": "1172cea8",
   "metadata": {},
   "outputs": [],
   "source": []
  },
  {
   "cell_type": "code",
   "execution_count": null,
   "id": "0ae62d29",
   "metadata": {},
   "outputs": [],
   "source": []
  },
  {
   "cell_type": "code",
   "execution_count": 44,
   "id": "0b324fd1",
   "metadata": {},
   "outputs": [
    {
     "data": {
      "text/plain": [
       "{'CustomerID': ('Number of Unique Values: 7043', dtype('O')),\n",
       " 'Count': array([1], dtype=int64),\n",
       " 'Country': array(['United States'], dtype=object),\n",
       " 'State': array(['California'], dtype=object),\n",
       " 'City': ('Number of Unique Values: 1129', dtype('O')),\n",
       " 'Zip Code': ('Number of Unique Values: 1652', dtype('int64')),\n",
       " 'Lat Long': ('Number of Unique Values: 1652', dtype('O')),\n",
       " 'Latitude': ('Number of Unique Values: 1652', dtype('float64')),\n",
       " 'Longitude': ('Number of Unique Values: 1651', dtype('float64')),\n",
       " 'Gender': array(['Male', 'Female'], dtype=object),\n",
       " 'Senior Citizen': array(['No', 'Yes'], dtype=object),\n",
       " 'Partner': array(['No', 'Yes'], dtype=object),\n",
       " 'Dependents': array(['No', 'Yes'], dtype=object),\n",
       " 'Tenure Months': ('Number of Unique Values: 73', dtype('int64')),\n",
       " 'Phone Service': array(['Yes', 'No'], dtype=object),\n",
       " 'Multiple Lines': array(['No', 'Yes', 'No phone service'], dtype=object),\n",
       " 'Internet Service': array(['DSL', 'Fiber optic', 'No'], dtype=object),\n",
       " 'Online Security': array(['Yes', 'No', 'No internet service'], dtype=object),\n",
       " 'Online Backup': array(['Yes', 'No', 'No internet service'], dtype=object),\n",
       " 'Device Protection': array(['No', 'Yes', 'No internet service'], dtype=object),\n",
       " 'Tech Support': array(['No', 'Yes', 'No internet service'], dtype=object),\n",
       " 'Streaming TV': array(['No', 'Yes', 'No internet service'], dtype=object),\n",
       " 'Streaming Movies': array(['No', 'Yes', 'No internet service'], dtype=object),\n",
       " 'Contract': array(['Month-to-month', 'Two year', 'One year'], dtype=object),\n",
       " 'Paperless Billing': array(['Yes', 'No'], dtype=object),\n",
       " 'Payment Method': array(['Mailed check', 'Electronic check', 'Bank transfer (automatic)',\n",
       "        'Credit card (automatic)'], dtype=object),\n",
       " 'Monthly Charges': ('Number of Unique Values: 1585', dtype('float64')),\n",
       " 'Total Charges': ('Number of Unique Values: 6531', dtype('O')),\n",
       " 'Churn Label': array(['Yes', 'No'], dtype=object),\n",
       " 'Churn Value': array([1, 0], dtype=int64),\n",
       " 'Churn Score': ('Number of Unique Values: 85', dtype('int64')),\n",
       " 'CLTV': ('Number of Unique Values: 3438', dtype('int64')),\n",
       " 'Churn Reason': ('Number of Unique Values: 21', dtype('O'))}"
      ]
     },
     "execution_count": 44,
     "metadata": {},
     "output_type": "execute_result"
    }
   ],
   "source": [
    "unique_values"
   ]
  },
  {
   "cell_type": "code",
   "execution_count": 45,
   "id": "7640bbd8",
   "metadata": {},
   "outputs": [
    {
     "data": {
      "text/plain": [
       "\"{'CustomerID': ('Number of Unique Values: 7043', dtype('O')), 'Count': array([1], dtype=int64), 'Country': array(['United States'], dtype=object), 'State': array(['California'], dtype=object), 'City': ('Number of Unique Values: 1129', dtype('O')), 'Zip Code': ('Number of Unique Values: 1652', dtype('int64')), 'Lat Long': ('Number of Unique Values: 1652', dtype('O')), 'Latitude': ('Number of Unique Values: 1652', dtype('float64')), 'Longitude': ('Number of Unique Values: 1651', dtype('float64')), 'Gender': array(['Male', 'Female'], dtype=object), 'Senior Citizen': array(['No', 'Yes'], dtype=object), 'Partner': array(['No', 'Yes'], dtype=object), 'Dependents': array(['No', 'Yes'], dtype=object), 'Tenure Months': ('Number of Unique Values: 73', dtype('int64')), 'Phone Service': array(['Yes', 'No'], dtype=object), 'Multiple Lines': array(['No', 'Yes', 'No phone service'], dtype=object), 'Internet Service': array(['DSL', 'Fiber optic', 'No'], dtype=object), 'Online Security': array(['Yes', 'No', 'No internet service'], dtype=object), 'Online Backup': array(['Yes', 'No', 'No internet service'], dtype=object), 'Device Protection': array(['No', 'Yes', 'No internet service'], dtype=object), 'Tech Support': array(['No', 'Yes', 'No internet service'], dtype=object), 'Streaming TV': array(['No', 'Yes', 'No internet service'], dtype=object), 'Streaming Movies': array(['No', 'Yes', 'No internet service'], dtype=object), 'Contract': array(['Month-to-month', 'Two year', 'One year'], dtype=object), 'Paperless Billing': array(['Yes', 'No'], dtype=object), 'Payment Method': array(['Mailed check', 'Electronic check', 'Bank transfer (automatic)',\\n       'Credit card (automatic)'], dtype=object), 'Monthly Charges': ('Number of Unique Values: 1585', dtype('float64')), 'Total Charges': ('Number of Unique Values: 6531', dtype('O')), 'Churn Label': array(['Yes', 'No'], dtype=object), 'Churn Value': array([1, 0], dtype=int64), 'Churn Score': ('Number of Unique Values: 85', dtype('int64')), 'CLTV': ('Number of Unique Values: 3438', dtype('int64')), 'Churn Reason': ('Number of Unique Values: 21', dtype('O'))}\""
      ]
     },
     "execution_count": 45,
     "metadata": {},
     "output_type": "execute_result"
    }
   ],
   "source": [
    "unique_values.__str__()"
   ]
  },
  {
   "cell_type": "code",
   "execution_count": 46,
   "id": "ec0b405f",
   "metadata": {},
   "outputs": [
    {
     "name": "stdout",
     "output_type": "stream",
     "text": [
      "CustomerID,Count,Country,State,City,Zip Code,Lat Long,Latitude,Longitude,Gender,Senior Citizen,Partner,Dependents,Tenure Months,Phone Service,Multiple Lines,Internet Service,Online Security,Online Backup,Device Protection,Tech Support,Streaming TV,Streaming Movies,Contract,Paperless Billing,Payment Method,Monthly Charges,Total Charges,Churn Label,Churn Value,Churn Score,CLTV,Churn Reason\r\n",
      "\"('Number of Unique Values: 7043', dtype('O'))\",[1],['United States'],['California'],\"('Number of Unique Values: 1129', dtype('O'))\",\"('Number of Unique Values: 1652', dtype('int64'))\",\"('Number of Unique Values: 1652', dtype('O'))\",\"('Number of Unique Values: 1652', dtype('float64'))\",\"('Number of Unique Values: 1651', dtype('float64'))\",['Male' 'Female'],['No' 'Yes'],['No' 'Yes'],['No' 'Yes'],\"('Number of Unique Values: 73', dtype('int64'))\",['Yes' 'No'],['No' 'Yes' 'No phone service'],['DSL' 'Fiber optic' 'No'],['Yes' 'No' 'No internet service'],['Yes' 'No' 'No internet service'],['No' 'Yes' 'No internet service'],['No' 'Yes' 'No internet service'],['No' 'Yes' 'No internet service'],['No' 'Yes' 'No internet service'],['Month-to-month' 'Two year' 'One year'],['Yes' 'No'],\"['Mailed check' 'Electronic check' 'Bank transfer (automatic)'\n",
      " 'Credit card (automatic)']\",\"('Number of Unique Values: 1585', dtype('float64'))\",\"('Number of Unique Values: 6531', dtype('O'))\",['Yes' 'No'],[1 0],\"('Number of Unique Values: 85', dtype('int64'))\",\"('Number of Unique Values: 3438', dtype('int64'))\",\"('Number of Unique Values: 21', dtype('O'))\"\r\n"
     ]
    },
    {
     "data": {
      "text/plain": [
       "1147"
      ]
     },
     "execution_count": 46,
     "metadata": {},
     "output_type": "execute_result"
    }
   ],
   "source": [
    "writer = csv.writer(sys.stdout)\n",
    "\n",
    "# Write the header (keys of the dictionary)\n",
    "writer.writerow(unique_values.keys())\n",
    "\n",
    "# Write the data (values of the dictionary)\n",
    "writer.writerow(unique_values.values())"
   ]
  },
  {
   "cell_type": "code",
   "execution_count": 47,
   "id": "7364a843",
   "metadata": {},
   "outputs": [
    {
     "ename": "NameError",
     "evalue": "name 'unique_values2' is not defined",
     "output_type": "error",
     "traceback": [
      "\u001b[1;31m---------------------------------------------------------------------------\u001b[0m",
      "\u001b[1;31mNameError\u001b[0m                                 Traceback (most recent call last)",
      "Cell \u001b[1;32mIn[47], line 1\u001b[0m\n\u001b[1;32m----> 1\u001b[0m unique_values_list \u001b[38;5;241m=\u001b[39m \u001b[38;5;28mlist\u001b[39m(unique_values2\u001b[38;5;241m.\u001b[39mitems())\n\u001b[0;32m      3\u001b[0m unique_columns \u001b[38;5;241m=\u001b[39m pd\u001b[38;5;241m.\u001b[39mDataFrame(unique_values_list, columns\u001b[38;5;241m=\u001b[39m[\u001b[38;5;124m'\u001b[39m\u001b[38;5;124mColumn Name\u001b[39m\u001b[38;5;124m'\u001b[39m, \u001b[38;5;124m'\u001b[39m\u001b[38;5;124mUnique Values\u001b[39m\u001b[38;5;124m'\u001b[39m])\n",
      "\u001b[1;31mNameError\u001b[0m: name 'unique_values2' is not defined"
     ]
    }
   ],
   "source": [
    "unique_values_list = list(unique_values2.items())\n",
    "\n",
    "unique_columns = pd.DataFrame(unique_values_list, columns=['Column Name', 'Unique Values'])"
   ]
  },
  {
   "cell_type": "code",
   "execution_count": null,
   "id": "a74ceebb",
   "metadata": {},
   "outputs": [],
   "source": [
    "unique_columns"
   ]
  },
  {
   "cell_type": "code",
   "execution_count": null,
   "id": "a3f36ecb",
   "metadata": {},
   "outputs": [],
   "source": [
    "unique_columns.to_csv('data/Unique Columns.csv')"
   ]
  },
  {
   "cell_type": "code",
   "execution_count": null,
   "id": "cd58d74a",
   "metadata": {},
   "outputs": [],
   "source": []
  },
  {
   "cell_type": "code",
   "execution_count": 49,
   "id": "a26253e7",
   "metadata": {},
   "outputs": [],
   "source": [
    "def returnUnique2(data, column):\n",
    "    if len(data[column].unique()) < 10: return (f'Unique Values: {data[column].unique()}', data[column].dtype)\n",
    "    return (f'Number of Unique Values: {len(data[column].unique())}', data[column].dtype)"
   ]
  },
  {
   "cell_type": "code",
   "execution_count": 50,
   "id": "506a2b34",
   "metadata": {},
   "outputs": [],
   "source": [
    "unique_values2 = {column: returnUnique2(data, column) for column in data.columns}"
   ]
  },
  {
   "cell_type": "code",
   "execution_count": null,
   "id": "04afa2c5",
   "metadata": {},
   "outputs": [],
   "source": []
  },
  {
   "cell_type": "code",
   "execution_count": null,
   "id": "439affd2",
   "metadata": {},
   "outputs": [],
   "source": []
  },
  {
   "cell_type": "code",
   "execution_count": 51,
   "id": "46d0df51",
   "metadata": {},
   "outputs": [
    {
     "ename": "NameError",
     "evalue": "name 'unique_columns' is not defined",
     "output_type": "error",
     "traceback": [
      "\u001b[1;31m---------------------------------------------------------------------------\u001b[0m",
      "\u001b[1;31mNameError\u001b[0m                                 Traceback (most recent call last)",
      "Cell \u001b[1;32mIn[51], line 4\u001b[0m\n\u001b[0;32m      1\u001b[0m writer \u001b[38;5;241m=\u001b[39m csv\u001b[38;5;241m.\u001b[39mwriter(sys\u001b[38;5;241m.\u001b[39mstdout)\n\u001b[0;32m      3\u001b[0m \u001b[38;5;66;03m# Write the header (keys of the dictionary)\u001b[39;00m\n\u001b[1;32m----> 4\u001b[0m writer\u001b[38;5;241m.\u001b[39mwriterow(unique_columns\u001b[38;5;241m.\u001b[39mkeys())\n\u001b[0;32m      6\u001b[0m \u001b[38;5;66;03m# Write the data (values of the dictionary)\u001b[39;00m\n\u001b[0;32m      7\u001b[0m writer\u001b[38;5;241m.\u001b[39mwriterow(unique_columns\u001b[38;5;241m.\u001b[39mvalues())\n",
      "\u001b[1;31mNameError\u001b[0m: name 'unique_columns' is not defined"
     ]
    }
   ],
   "source": [
    "writer = csv.writer(sys.stdout)\n",
    "\n",
    "# Write the header (keys of the dictionary)\n",
    "writer.writerow(unique_columns.keys())\n",
    "\n",
    "# Write the data (values of the dictionary)\n",
    "writer.writerow(unique_columns.values())"
   ]
  },
  {
   "cell_type": "code",
   "execution_count": 52,
   "id": "ba2a0dc6",
   "metadata": {},
   "outputs": [
    {
     "data": {
      "text/plain": [
       "33"
      ]
     },
     "execution_count": 52,
     "metadata": {},
     "output_type": "execute_result"
    }
   ],
   "source": [
    "len(data.columns)"
   ]
  },
  {
   "cell_type": "code",
   "execution_count": null,
   "id": "79fd68f2",
   "metadata": {},
   "outputs": [],
   "source": []
  },
  {
   "cell_type": "code",
   "execution_count": null,
   "id": "e309a769",
   "metadata": {},
   "outputs": [],
   "source": []
  },
  {
   "cell_type": "code",
   "execution_count": null,
   "id": "31170e85",
   "metadata": {},
   "outputs": [],
   "source": []
  }
 ],
 "metadata": {
  "kernelspec": {
   "display_name": "Python [conda env:data557]",
   "language": "python",
   "name": "conda-env-data557-py"
  },
  "language_info": {
   "codemirror_mode": {
    "name": "ipython",
    "version": 3
   },
   "file_extension": ".py",
   "mimetype": "text/x-python",
   "name": "python",
   "nbconvert_exporter": "python",
   "pygments_lexer": "ipython3",
   "version": "3.12.1"
  }
 },
 "nbformat": 4,
 "nbformat_minor": 5
}
